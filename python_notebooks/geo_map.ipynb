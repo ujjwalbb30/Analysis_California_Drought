{
  "cells": [
    {
      "cell_type": "markdown",
      "metadata": {
        "id": "view-in-github",
        "colab_type": "text"
      },
      "source": [
        "<a href=\"https://colab.research.google.com/github/ujjwalbb30/DATA_601_California_Drought_Analysis_Prediction/blob/main/python_notebooks/geo_map.ipynb\" target=\"_parent\"><img src=\"https://colab.research.google.com/assets/colab-badge.svg\" alt=\"Open In Colab\"/></a>"
      ]
    },
    {
      "cell_type": "code",
      "execution_count": null,
      "metadata": {
        "id": "0YdDEHDZcRZc"
      },
      "outputs": [],
      "source": [
        "import pandas as pd\n",
        "import numpy as np"
      ]
    },
    {
      "cell_type": "code",
      "execution_count": null,
      "metadata": {
        "id": "GUWXCSxlcRZg"
      },
      "outputs": [],
      "source": [
        "cal_90d_agg = pd.read_csv('drought dataset/ninety_days_aggregated_data_ca_drought.csv')\n",
        "cal_90d_agg = cal_90d_agg.drop(columns=['Unnamed: 0'])"
      ]
    },
    {
      "cell_type": "code",
      "execution_count": null,
      "metadata": {
        "id": "WtlLwSsQcRZh",
        "outputId": "2a9a8328-7b84-4c69-9f08-6efa199088a9"
      },
      "outputs": [
        {
          "name": "stdout",
          "output_type": "stream",
          "text": [
            "[6001. 6003. 6005. 6007. 6009. 6011. 6013. 6015. 6017. 6019. 6021. 6023.\n",
            " 6025. 6027. 6029. 6031. 6033. 6035. 6037. 6039. 6041. 6043. 6045. 6047.\n",
            " 6049. 6051. 6053. 6055. 6057. 6059. 6061. 6063. 6065. 6067. 6069. 6071.\n",
            " 6073. 6075. 6077. 6079. 6081. 6083. 6085. 6087. 6089. 6091. 6093. 6095.\n",
            " 6097. 6099. 6101. 6103. 6105. 6107. 6109. 6111. 6113. 6115.]\n",
            "58\n"
          ]
        }
      ],
      "source": [
        "unique_fips = cal_90d_agg['fips'].unique()\n",
        "print(unique_fips)\n",
        "print(len(unique_fips))"
      ]
    },
    {
      "cell_type": "code",
      "execution_count": null,
      "metadata": {
        "id": "CFEy1MXxcRZj",
        "outputId": "c6174385-a435-4716-81be-c6c8cd1e4c6b"
      },
      "outputs": [
        {
          "name": "stdout",
          "output_type": "stream",
          "text": [
            "[6001 6003 6005 6007 6009 6011 6013 6015 6017 6019 6021 6023 6025 6027\n",
            " 6029 6031 6033 6035 6037 6039 6041 6043 6045 6047 6049 6051 6053 6055\n",
            " 6057 6059 6061 6063 6065 6067 6069 6071 6073 6075 6077 6079 6081 6083\n",
            " 6085 6087 6089 6091 6093 6095 6097 6099 6101 6103 6105 6107 6109 6111\n",
            " 6113 6115]\n"
          ]
        }
      ],
      "source": [
        "ca_fips = unique_fips.astype(int)\n",
        "print(ca_fips)"
      ]
    },
    {
      "cell_type": "code",
      "execution_count": null,
      "metadata": {
        "id": "aM5PBkc8cRZj",
        "outputId": "1512f517-9347-4828-f16e-bac1b492fe25"
      },
      "outputs": [
        {
          "data": {
            "text/html": [
              "<div>\n",
              "<style scoped>\n",
              "    .dataframe tbody tr th:only-of-type {\n",
              "        vertical-align: middle;\n",
              "    }\n",
              "\n",
              "    .dataframe tbody tr th {\n",
              "        vertical-align: top;\n",
              "    }\n",
              "\n",
              "    .dataframe thead th {\n",
              "        text-align: right;\n",
              "    }\n",
              "</style>\n",
              "<table border=\"1\" class=\"dataframe\">\n",
              "  <thead>\n",
              "    <tr style=\"text-align: right;\">\n",
              "      <th></th>\n",
              "      <th>fips</th>\n",
              "      <th>PRECTOT</th>\n",
              "      <th>PS</th>\n",
              "      <th>QV2M</th>\n",
              "      <th>T2M</th>\n",
              "      <th>T2MDEW</th>\n",
              "      <th>T2MWET</th>\n",
              "      <th>T2M_MAX</th>\n",
              "      <th>T2M_MIN</th>\n",
              "      <th>T2M_RANGE</th>\n",
              "      <th>TS</th>\n",
              "      <th>WS10M</th>\n",
              "      <th>WS10M_MAX</th>\n",
              "      <th>WS10M_MIN</th>\n",
              "      <th>WS10M_RANGE</th>\n",
              "      <th>WS50M</th>\n",
              "      <th>WS50M_MAX</th>\n",
              "      <th>WS50M_MIN</th>\n",
              "      <th>WS50M_RANGE</th>\n",
              "      <th>score</th>\n",
              "    </tr>\n",
              "  </thead>\n",
              "  <tbody>\n",
              "    <tr>\n",
              "      <th>0</th>\n",
              "      <td>6001.0</td>\n",
              "      <td>0.196000</td>\n",
              "      <td>100.487000</td>\n",
              "      <td>5.158000</td>\n",
              "      <td>7.692000</td>\n",
              "      <td>3.782000</td>\n",
              "      <td>3.810000</td>\n",
              "      <td>13.969000</td>\n",
              "      <td>3.687000</td>\n",
              "      <td>10.283000</td>\n",
              "      <td>7.392000</td>\n",
              "      <td>2.666000</td>\n",
              "      <td>4.207000</td>\n",
              "      <td>1.488000</td>\n",
              "      <td>2.719000</td>\n",
              "      <td>4.001000</td>\n",
              "      <td>5.938000</td>\n",
              "      <td>2.173000</td>\n",
              "      <td>3.766000</td>\n",
              "      <td>0.6079</td>\n",
              "    </tr>\n",
              "    <tr>\n",
              "      <th>1</th>\n",
              "      <td>6001.0</td>\n",
              "      <td>1.709412</td>\n",
              "      <td>100.257059</td>\n",
              "      <td>5.701765</td>\n",
              "      <td>8.592941</td>\n",
              "      <td>5.245294</td>\n",
              "      <td>5.262941</td>\n",
              "      <td>14.011176</td>\n",
              "      <td>4.871765</td>\n",
              "      <td>9.138824</td>\n",
              "      <td>8.114706</td>\n",
              "      <td>2.854706</td>\n",
              "      <td>4.770588</td>\n",
              "      <td>1.411765</td>\n",
              "      <td>3.357647</td>\n",
              "      <td>4.334118</td>\n",
              "      <td>6.690000</td>\n",
              "      <td>2.225294</td>\n",
              "      <td>4.465294</td>\n",
              "      <td>0.5036</td>\n",
              "    </tr>\n",
              "    <tr>\n",
              "      <th>2</th>\n",
              "      <td>6001.0</td>\n",
              "      <td>5.068333</td>\n",
              "      <td>100.105833</td>\n",
              "      <td>6.274583</td>\n",
              "      <td>9.290833</td>\n",
              "      <td>6.589167</td>\n",
              "      <td>6.601667</td>\n",
              "      <td>14.182917</td>\n",
              "      <td>5.894167</td>\n",
              "      <td>8.288750</td>\n",
              "      <td>8.776250</td>\n",
              "      <td>2.808750</td>\n",
              "      <td>4.680000</td>\n",
              "      <td>1.409583</td>\n",
              "      <td>3.270417</td>\n",
              "      <td>4.319583</td>\n",
              "      <td>6.540833</td>\n",
              "      <td>2.277500</td>\n",
              "      <td>4.263333</td>\n",
              "      <td>0.0000</td>\n",
              "    </tr>\n",
              "    <tr>\n",
              "      <th>3</th>\n",
              "      <td>6001.0</td>\n",
              "      <td>4.312581</td>\n",
              "      <td>100.076129</td>\n",
              "      <td>6.227097</td>\n",
              "      <td>9.242903</td>\n",
              "      <td>6.543226</td>\n",
              "      <td>6.553871</td>\n",
              "      <td>14.189677</td>\n",
              "      <td>5.745484</td>\n",
              "      <td>8.443871</td>\n",
              "      <td>8.753548</td>\n",
              "      <td>2.783871</td>\n",
              "      <td>4.532903</td>\n",
              "      <td>1.407419</td>\n",
              "      <td>3.124839</td>\n",
              "      <td>4.286129</td>\n",
              "      <td>6.458065</td>\n",
              "      <td>2.277419</td>\n",
              "      <td>4.180968</td>\n",
              "      <td>0.0000</td>\n",
              "    </tr>\n",
              "    <tr>\n",
              "      <th>4</th>\n",
              "      <td>6001.0</td>\n",
              "      <td>3.762632</td>\n",
              "      <td>100.067105</td>\n",
              "      <td>6.358947</td>\n",
              "      <td>9.557368</td>\n",
              "      <td>6.895263</td>\n",
              "      <td>6.903947</td>\n",
              "      <td>14.776316</td>\n",
              "      <td>5.984211</td>\n",
              "      <td>8.791579</td>\n",
              "      <td>8.990000</td>\n",
              "      <td>2.743158</td>\n",
              "      <td>4.506579</td>\n",
              "      <td>1.361316</td>\n",
              "      <td>3.144474</td>\n",
              "      <td>4.222368</td>\n",
              "      <td>6.416842</td>\n",
              "      <td>2.210263</td>\n",
              "      <td>4.207105</td>\n",
              "      <td>0.0000</td>\n",
              "    </tr>\n",
              "  </tbody>\n",
              "</table>\n",
              "</div>"
            ],
            "text/plain": [
              "     fips   PRECTOT          PS      QV2M       T2M    T2MDEW    T2MWET  \\\n",
              "0  6001.0  0.196000  100.487000  5.158000  7.692000  3.782000  3.810000   \n",
              "1  6001.0  1.709412  100.257059  5.701765  8.592941  5.245294  5.262941   \n",
              "2  6001.0  5.068333  100.105833  6.274583  9.290833  6.589167  6.601667   \n",
              "3  6001.0  4.312581  100.076129  6.227097  9.242903  6.543226  6.553871   \n",
              "4  6001.0  3.762632  100.067105  6.358947  9.557368  6.895263  6.903947   \n",
              "\n",
              "     T2M_MAX   T2M_MIN  T2M_RANGE        TS     WS10M  WS10M_MAX  WS10M_MIN  \\\n",
              "0  13.969000  3.687000  10.283000  7.392000  2.666000   4.207000   1.488000   \n",
              "1  14.011176  4.871765   9.138824  8.114706  2.854706   4.770588   1.411765   \n",
              "2  14.182917  5.894167   8.288750  8.776250  2.808750   4.680000   1.409583   \n",
              "3  14.189677  5.745484   8.443871  8.753548  2.783871   4.532903   1.407419   \n",
              "4  14.776316  5.984211   8.791579  8.990000  2.743158   4.506579   1.361316   \n",
              "\n",
              "   WS10M_RANGE     WS50M  WS50M_MAX  WS50M_MIN  WS50M_RANGE   score  \n",
              "0     2.719000  4.001000   5.938000   2.173000     3.766000  0.6079  \n",
              "1     3.357647  4.334118   6.690000   2.225294     4.465294  0.5036  \n",
              "2     3.270417  4.319583   6.540833   2.277500     4.263333  0.0000  \n",
              "3     3.124839  4.286129   6.458065   2.277419     4.180968  0.0000  \n",
              "4     3.144474  4.222368   6.416842   2.210263     4.207105  0.0000  "
            ]
          },
          "execution_count": 5,
          "metadata": {},
          "output_type": "execute_result"
        }
      ],
      "source": [
        "cal_90d_agg.head()"
      ]
    },
    {
      "cell_type": "code",
      "execution_count": null,
      "metadata": {
        "id": "VVMZzHJ8cRZk",
        "outputId": "ddd454ac-78fc-427e-ff46-51cac8266b0b"
      },
      "outputs": [
        {
          "data": {
            "text/html": [
              "<div>\n",
              "<style scoped>\n",
              "    .dataframe tbody tr th:only-of-type {\n",
              "        vertical-align: middle;\n",
              "    }\n",
              "\n",
              "    .dataframe tbody tr th {\n",
              "        vertical-align: top;\n",
              "    }\n",
              "\n",
              "    .dataframe thead th {\n",
              "        text-align: right;\n",
              "    }\n",
              "</style>\n",
              "<table border=\"1\" class=\"dataframe\">\n",
              "  <thead>\n",
              "    <tr style=\"text-align: right;\">\n",
              "      <th></th>\n",
              "      <th>PRECTOT</th>\n",
              "      <th>PS</th>\n",
              "      <th>QV2M</th>\n",
              "      <th>T2M</th>\n",
              "      <th>T2MDEW</th>\n",
              "      <th>T2MWET</th>\n",
              "      <th>T2M_MAX</th>\n",
              "      <th>T2M_MIN</th>\n",
              "      <th>T2M_RANGE</th>\n",
              "      <th>TS</th>\n",
              "      <th>WS10M</th>\n",
              "      <th>WS10M_MAX</th>\n",
              "      <th>WS10M_MIN</th>\n",
              "      <th>WS10M_RANGE</th>\n",
              "      <th>WS50M</th>\n",
              "      <th>WS50M_MAX</th>\n",
              "      <th>WS50M_MIN</th>\n",
              "      <th>WS50M_RANGE</th>\n",
              "    </tr>\n",
              "  </thead>\n",
              "  <tbody>\n",
              "    <tr>\n",
              "      <th>0</th>\n",
              "      <td>0.196000</td>\n",
              "      <td>100.487000</td>\n",
              "      <td>5.158000</td>\n",
              "      <td>7.692000</td>\n",
              "      <td>3.782000</td>\n",
              "      <td>3.810000</td>\n",
              "      <td>13.969000</td>\n",
              "      <td>3.687000</td>\n",
              "      <td>10.283000</td>\n",
              "      <td>7.392000</td>\n",
              "      <td>2.666000</td>\n",
              "      <td>4.207000</td>\n",
              "      <td>1.488000</td>\n",
              "      <td>2.719000</td>\n",
              "      <td>4.001000</td>\n",
              "      <td>5.938000</td>\n",
              "      <td>2.173000</td>\n",
              "      <td>3.766000</td>\n",
              "    </tr>\n",
              "    <tr>\n",
              "      <th>1</th>\n",
              "      <td>1.709412</td>\n",
              "      <td>100.257059</td>\n",
              "      <td>5.701765</td>\n",
              "      <td>8.592941</td>\n",
              "      <td>5.245294</td>\n",
              "      <td>5.262941</td>\n",
              "      <td>14.011176</td>\n",
              "      <td>4.871765</td>\n",
              "      <td>9.138824</td>\n",
              "      <td>8.114706</td>\n",
              "      <td>2.854706</td>\n",
              "      <td>4.770588</td>\n",
              "      <td>1.411765</td>\n",
              "      <td>3.357647</td>\n",
              "      <td>4.334118</td>\n",
              "      <td>6.690000</td>\n",
              "      <td>2.225294</td>\n",
              "      <td>4.465294</td>\n",
              "    </tr>\n",
              "    <tr>\n",
              "      <th>2</th>\n",
              "      <td>5.068333</td>\n",
              "      <td>100.105833</td>\n",
              "      <td>6.274583</td>\n",
              "      <td>9.290833</td>\n",
              "      <td>6.589167</td>\n",
              "      <td>6.601667</td>\n",
              "      <td>14.182917</td>\n",
              "      <td>5.894167</td>\n",
              "      <td>8.288750</td>\n",
              "      <td>8.776250</td>\n",
              "      <td>2.808750</td>\n",
              "      <td>4.680000</td>\n",
              "      <td>1.409583</td>\n",
              "      <td>3.270417</td>\n",
              "      <td>4.319583</td>\n",
              "      <td>6.540833</td>\n",
              "      <td>2.277500</td>\n",
              "      <td>4.263333</td>\n",
              "    </tr>\n",
              "    <tr>\n",
              "      <th>3</th>\n",
              "      <td>4.312581</td>\n",
              "      <td>100.076129</td>\n",
              "      <td>6.227097</td>\n",
              "      <td>9.242903</td>\n",
              "      <td>6.543226</td>\n",
              "      <td>6.553871</td>\n",
              "      <td>14.189677</td>\n",
              "      <td>5.745484</td>\n",
              "      <td>8.443871</td>\n",
              "      <td>8.753548</td>\n",
              "      <td>2.783871</td>\n",
              "      <td>4.532903</td>\n",
              "      <td>1.407419</td>\n",
              "      <td>3.124839</td>\n",
              "      <td>4.286129</td>\n",
              "      <td>6.458065</td>\n",
              "      <td>2.277419</td>\n",
              "      <td>4.180968</td>\n",
              "    </tr>\n",
              "    <tr>\n",
              "      <th>4</th>\n",
              "      <td>3.762632</td>\n",
              "      <td>100.067105</td>\n",
              "      <td>6.358947</td>\n",
              "      <td>9.557368</td>\n",
              "      <td>6.895263</td>\n",
              "      <td>6.903947</td>\n",
              "      <td>14.776316</td>\n",
              "      <td>5.984211</td>\n",
              "      <td>8.791579</td>\n",
              "      <td>8.990000</td>\n",
              "      <td>2.743158</td>\n",
              "      <td>4.506579</td>\n",
              "      <td>1.361316</td>\n",
              "      <td>3.144474</td>\n",
              "      <td>4.222368</td>\n",
              "      <td>6.416842</td>\n",
              "      <td>2.210263</td>\n",
              "      <td>4.207105</td>\n",
              "    </tr>\n",
              "  </tbody>\n",
              "</table>\n",
              "</div>"
            ],
            "text/plain": [
              "    PRECTOT          PS      QV2M       T2M    T2MDEW    T2MWET    T2M_MAX  \\\n",
              "0  0.196000  100.487000  5.158000  7.692000  3.782000  3.810000  13.969000   \n",
              "1  1.709412  100.257059  5.701765  8.592941  5.245294  5.262941  14.011176   \n",
              "2  5.068333  100.105833  6.274583  9.290833  6.589167  6.601667  14.182917   \n",
              "3  4.312581  100.076129  6.227097  9.242903  6.543226  6.553871  14.189677   \n",
              "4  3.762632  100.067105  6.358947  9.557368  6.895263  6.903947  14.776316   \n",
              "\n",
              "    T2M_MIN  T2M_RANGE        TS     WS10M  WS10M_MAX  WS10M_MIN  WS10M_RANGE  \\\n",
              "0  3.687000  10.283000  7.392000  2.666000   4.207000   1.488000     2.719000   \n",
              "1  4.871765   9.138824  8.114706  2.854706   4.770588   1.411765     3.357647   \n",
              "2  5.894167   8.288750  8.776250  2.808750   4.680000   1.409583     3.270417   \n",
              "3  5.745484   8.443871  8.753548  2.783871   4.532903   1.407419     3.124839   \n",
              "4  5.984211   8.791579  8.990000  2.743158   4.506579   1.361316     3.144474   \n",
              "\n",
              "      WS50M  WS50M_MAX  WS50M_MIN  WS50M_RANGE  \n",
              "0  4.001000   5.938000   2.173000     3.766000  \n",
              "1  4.334118   6.690000   2.225294     4.465294  \n",
              "2  4.319583   6.540833   2.277500     4.263333  \n",
              "3  4.286129   6.458065   2.277419     4.180968  \n",
              "4  4.222368   6.416842   2.210263     4.207105  "
            ]
          },
          "execution_count": 6,
          "metadata": {},
          "output_type": "execute_result"
        }
      ],
      "source": [
        "X = cal_90d_agg.drop(columns = ['fips','score'])\n",
        "X.head()"
      ]
    },
    {
      "cell_type": "code",
      "execution_count": null,
      "metadata": {
        "id": "-913-AUCcRZl",
        "outputId": "bfe690aa-bd14-449b-8816-9e581a392c22"
      },
      "outputs": [
        {
          "data": {
            "text/plain": [
              "0    1.0\n",
              "1    1.0\n",
              "2    0.0\n",
              "3    0.0\n",
              "4    0.0\n",
              "Name: score, dtype: float64"
            ]
          },
          "execution_count": 7,
          "metadata": {},
          "output_type": "execute_result"
        }
      ],
      "source": [
        "y, y_f, y_c = cal_90d_agg['score'].round(), cal_90d_agg['score'].apply(np.floor), cal_90d_agg['score'].apply(np.ceil)\n",
        "y.head()"
      ]
    },
    {
      "cell_type": "code",
      "execution_count": null,
      "metadata": {
        "id": "sAfk55c0cRZm",
        "outputId": "29ada59f-404e-4fc0-884a-e4c78914d366"
      },
      "outputs": [
        {
          "name": "stdout",
          "output_type": "stream",
          "text": [
            "0.0    27785\n",
            "1.0    10371\n",
            "2.0     9985\n",
            "3.0     7722\n",
            "4.0     3911\n",
            "5.0     3794\n",
            "Name: score, dtype: int64\n",
            "0.0    31026\n",
            "1.0    10637\n",
            "2.0     9723\n",
            "3.0     6167\n",
            "4.0     3808\n",
            "5.0     2207\n",
            "Name: score, dtype: int64\n",
            "0.0    23215\n",
            "1.0    11261\n",
            "2.0    10427\n",
            "3.0     9533\n",
            "5.0     4798\n",
            "4.0     4334\n",
            "Name: score, dtype: int64\n"
          ]
        }
      ],
      "source": [
        "print(y.value_counts())\n",
        "print(y_f.value_counts())\n",
        "print(y_c.value_counts())"
      ]
    },
    {
      "cell_type": "code",
      "execution_count": null,
      "metadata": {
        "id": "WHdAjag1cRZn",
        "outputId": "47767bad-02db-49d5-8176-581f35551cc3"
      },
      "outputs": [
        {
          "name": "stdout",
          "output_type": "stream",
          "text": [
            "   PDSI_0.0  PDSI_1.0  PDSI_2.0  PDSI_3.0  PDSI_4.0  PDSI_5.0\n",
            "0         0         1         0         0         0         0\n",
            "1         0         1         0         0         0         0\n",
            "2         1         0         0         0         0         0\n",
            "3         1         0         0         0         0         0\n",
            "4         1         0         0         0         0         0\n",
            "0    35783\n",
            "1    27785\n",
            "Name: PDSI_0.0, dtype: int64\n"
          ]
        }
      ],
      "source": [
        "y_df = pd.get_dummies(y,prefix='PDSI')\n",
        "print(y_df.head())\n",
        "print(y_df['PDSI_0.0'].value_counts())"
      ]
    },
    {
      "cell_type": "markdown",
      "metadata": {
        "id": "g0u8-6dscRZo"
      },
      "source": [
        "https://sailajakarra.medium.com/ensemble-scikit-learn-and-keras-be93206c54c4\n",
        "\n",
        "https://machinelearningmastery.com/calculate-feature-importance-with-python/\n",
        "\n",
        "https://machinelearningmastery.com/feature-selection-with-real-and-categorical-data/\n",
        "\n",
        "https://machinelearningmastery.com/how-to-use-statistics-to-identify-outliers-in-data/\n",
        "\n",
        "https://towardsdatascience.com/level-up-your-visualizations-make-interactive-maps-with-python-and-bokeh-7a8c1da911fd\n",
        "\n",
        "https://plotly.com/python/county-choropleth/#deprecation-warning\n",
        "\n",
        "https://levelup.gitconnected.com/using-python-for-geographical-plotting-d9328fb8cfab"
      ]
    },
    {
      "cell_type": "code",
      "execution_count": null,
      "metadata": {
        "id": "5SzrCnx5cRZr",
        "outputId": "730bb3bf-70c6-4ad8-8f14-eaac7a464671"
      },
      "outputs": [
        {
          "name": "stdout",
          "output_type": "stream",
          "text": [
            "       FIPS        Name State\n",
            "0      1001     Autauga    AL\n",
            "1      1003     Baldwin    AL\n",
            "2      1005     Barbour    AL\n",
            "3      1007        Bibb    AL\n",
            "4      1009      Blount    AL\n",
            "...     ...         ...   ...\n",
            "3227  72151     Yabucoa    PR\n",
            "3228  72153       Yauco    PR\n",
            "3229  78010   St. Croix    VI\n",
            "3230  78020    St. John    VI\n",
            "3231  78030  St. Thomas    VI\n",
            "\n",
            "[3232 rows x 3 columns]\n"
          ]
        }
      ],
      "source": [
        "fips_ni = pd.read_excel('drought dataset/fips.xlsx')\n",
        "print(fips_ni)"
      ]
    },
    {
      "cell_type": "code",
      "execution_count": null,
      "metadata": {
        "id": "ik9QxzJtcRZs",
        "outputId": "30510515-f88e-4b53-d986-03dcbae84fd4"
      },
      "outputs": [
        {
          "name": "stdout",
          "output_type": "stream",
          "text": [
            "     FIPS             Name State\n",
            "184  6001          Alameda    CA\n",
            "185  6003           Alpine    CA\n",
            "186  6005           Amador    CA\n",
            "187  6007            Butte    CA\n",
            "188  6009        Calaveras    CA\n",
            "189  6011           Colusa    CA\n",
            "190  6013     Contra Costa    CA\n",
            "191  6015        Del Norte    CA\n",
            "192  6017        El Dorado    CA\n",
            "193  6019           Fresno    CA\n",
            "194  6021            Glenn    CA\n",
            "195  6023         Humboldt    CA\n",
            "196  6025         Imperial    CA\n",
            "197  6027             Inyo    CA\n",
            "198  6029             Kern    CA\n",
            "199  6031            Kings    CA\n",
            "200  6033             Lake    CA\n",
            "201  6035           Lassen    CA\n",
            "202  6037      Los Angeles    CA\n",
            "203  6039           Madera    CA\n",
            "204  6041            Marin    CA\n",
            "205  6043         Mariposa    CA\n",
            "206  6045        Mendocino    CA\n",
            "207  6047           Merced    CA\n",
            "208  6049            Modoc    CA\n",
            "209  6051             Mono    CA\n",
            "210  6053         Monterey    CA\n",
            "211  6055             Napa    CA\n",
            "212  6057           Nevada    CA\n",
            "213  6059           Orange    CA\n",
            "214  6061           Placer    CA\n",
            "215  6063           Plumas    CA\n",
            "216  6065        Riverside    CA\n",
            "217  6067       Sacramento    CA\n",
            "218  6069       San Benito    CA\n",
            "219  6071   San Bernardino    CA\n",
            "220  6073        San Diego    CA\n",
            "221  6075    San Francisco    CA\n",
            "222  6077      San Joaquin    CA\n",
            "223  6079  San Luis Obispo    CA\n",
            "224  6081        San Mateo    CA\n",
            "225  6083    Santa Barbara    CA\n",
            "226  6085      Santa Clara    CA\n",
            "227  6087       Santa Cruz    CA\n",
            "228  6089           Shasta    CA\n",
            "229  6091           Sierra    CA\n",
            "230  6093         Siskiyou    CA\n",
            "231  6095           Solano    CA\n",
            "232  6097           Sonoma    CA\n",
            "233  6099       Stanislaus    CA\n",
            "234  6101           Sutter    CA\n",
            "235  6103           Tehama    CA\n",
            "236  6105          Trinity    CA\n",
            "237  6107           Tulare    CA\n",
            "238  6109         Tuolumne    CA\n",
            "239  6111          Ventura    CA\n",
            "240  6113             Yolo    CA\n",
            "241  6115             Yuba    CA\n",
            "(58, 3)\n"
          ]
        }
      ],
      "source": [
        "fips_n1 = fips_ni[fips_ni.FIPS.isin(ca_fips)][['FIPS','Name','State']]\n",
        "print(fips_n1)\n",
        "print(fips_n1.shape)"
      ]
    },
    {
      "cell_type": "code",
      "execution_count": null,
      "metadata": {
        "id": "Xd29LpaLcRZt"
      },
      "outputs": [],
      "source": [
        "soil_data = pd.read_csv('drought dataset/soil_data.csv')"
      ]
    },
    {
      "cell_type": "code",
      "execution_count": null,
      "metadata": {
        "id": "D3_kV5yxcRZt",
        "outputId": "6fd828a3-2484-43e9-d4a6-ceb8f24ab803"
      },
      "outputs": [
        {
          "name": "stdout",
          "output_type": "stream",
          "text": [
            "   fips        lat        lon  elevation  slope1  slope2  slope3  slope4  \\\n",
            "0  1001  32.536382 -86.644490         63  0.0419  0.2788  0.2984  0.2497   \n",
            "1  1005  31.870670 -85.405456        146  0.0158  0.1868  0.5441  0.2424   \n",
            "2  1003  30.659218 -87.746067         52  0.0746  0.4370  0.4415  0.0469   \n",
            "3  1007  33.015893 -87.127148         93  0.0144  0.1617  0.3714  0.3493   \n",
            "4  1009  33.977448 -86.567246        198  0.0050  0.0872  0.2799  0.3576   \n",
            "\n",
            "   slope5  slope6  ...  CULTRF_LAND  CULTIR_LAND  CULT_LAND  SQ1  SQ2  SQ3  \\\n",
            "0  0.1142  0.0170  ...    56.293411     1.014811  57.308224    1    1    1   \n",
            "1  0.0106  0.0003  ...    72.578804     1.828159  74.406960    3    2    1   \n",
            "2  0.0000  0.0000  ...    59.843639     2.996914  62.840553    3    2    1   \n",
            "3  0.0898  0.0134  ...     1.916593     0.008330   1.924924    3    2    1   \n",
            "4  0.1477  0.1037  ...     1.891909     0.027488   1.919397    3    2    1   \n",
            "\n",
            "   SQ4  SQ5  SQ6  SQ7  \n",
            "0    1    1    1    2  \n",
            "1    1    1    1    1  \n",
            "2    2    1    1    1  \n",
            "3    1    1    1    1  \n",
            "4    1    1    1    1  \n",
            "\n",
            "[5 rows x 32 columns]\n"
          ]
        }
      ],
      "source": [
        "print(soil_data.head())"
      ]
    },
    {
      "cell_type": "code",
      "execution_count": null,
      "metadata": {
        "id": "-IKBDSLncRZu",
        "outputId": "d34184a0-7e46-4b1d-d7a9-a23e81f43f41"
      },
      "outputs": [
        {
          "name": "stdout",
          "output_type": "stream",
          "text": [
            "     fips        lat         lon  elevation  slope1  slope2  slope3  slope4  \\\n",
            "157  6001  37.648081 -121.913304        146  0.0224  0.1172  0.1629   0.193   \n",
            "\n",
            "     slope5  slope6  ...  CULTRF_LAND  CULTIR_LAND  CULT_LAND  SQ1  SQ2  SQ3  \\\n",
            "157  0.1547  0.2397  ...     4.510372     2.302448    6.81282    1    1    1   \n",
            "\n",
            "     SQ4  SQ5  SQ6  SQ7  \n",
            "157    1    1    1    1  \n",
            "\n",
            "[1 rows x 32 columns]\n"
          ]
        }
      ],
      "source": [
        "print(soil_data[soil_data['fips']==6001])"
      ]
    },
    {
      "cell_type": "code",
      "execution_count": null,
      "metadata": {
        "id": "jX3onJzKcRZv",
        "outputId": "da059f08-2756-4a5d-c58d-66975ba8c893"
      },
      "outputs": [
        {
          "name": "stdout",
          "output_type": "stream",
          "text": [
            "['fips', 'lat', 'lon', 'elevation', 'slope1', 'slope2', 'slope3', 'slope4', 'slope5', 'slope6', 'slope7', 'slope8', 'aspectN', 'aspectE', 'aspectS', 'aspectW', 'aspectUnknown', 'WAT_LAND', 'NVG_LAND', 'URB_LAND', 'GRS_LAND', 'FOR_LAND', 'CULTRF_LAND', 'CULTIR_LAND', 'CULT_LAND', 'SQ1', 'SQ2', 'SQ3', 'SQ4', 'SQ5', 'SQ6', 'SQ7']\n"
          ]
        }
      ],
      "source": [
        "soil_data_cols = list(soil_data.columns)\n",
        "print(list(soil_data_cols))"
      ]
    },
    {
      "cell_type": "code",
      "execution_count": null,
      "metadata": {
        "id": "VULsxXTXcRZw",
        "outputId": "660d3cf3-90f5-443f-d263-06cba4618892"
      },
      "outputs": [
        {
          "name": "stdout",
          "output_type": "stream",
          "text": [
            "['fips', 'lat', 'lon', 'elevation', 'slope1', 'slope2', 'slope3', 'slope4', 'slope5', 'slope6', 'slope7', 'slope8', 'aspectN', 'aspectE', 'aspectS', 'aspectW', 'aspectUnknown', 'WAT_LAND', 'NVG_LAND', 'URB_LAND', 'GRS_LAND', 'FOR_LAND', 'CULTRF_LAND', 'CULTIR_LAND', 'CULT_LAND', 'SQ1', 'SQ2', 'SQ3', 'SQ4', 'SQ5', 'SQ6', 'SQ7']\n"
          ]
        }
      ],
      "source": [
        "print(list(soil_data[soil_data['fips']==6001]))"
      ]
    },
    {
      "cell_type": "code",
      "execution_count": null,
      "metadata": {
        "id": "iAQfKfIzcRZw",
        "outputId": "e2812133-715e-4811-edc8-e8dc5965b07b"
      },
      "outputs": [
        {
          "name": "stdout",
          "output_type": "stream",
          "text": [
            "     fips        lat         lon  elevation\n",
            "157  6001  37.648081 -121.913304        146\n",
            "158  6003  38.617610 -119.798999       2630\n",
            "159  6005  38.443550 -120.653856        719\n",
            "160  6007  39.665959 -121.601919        373\n",
            "161  6009  38.187844 -120.555115        499\n",
            "162  6011  39.177739 -122.237563         40\n",
            "163  6013  37.919479 -121.951543        395\n",
            "164  6015  41.749903 -123.980998        493\n",
            "165  6017  38.785532 -120.534398       1442\n",
            "166  6019  36.761006 -119.655019        106\n",
            "167  6021  39.602546 -122.401700        140\n",
            "168  6023  40.706673 -123.925818        628\n",
            "169  6025  33.040816 -115.355395          7\n",
            "170  6027  36.561977 -117.403927       1259\n",
            "171  6029  35.346629 -118.729506        407\n",
            "172  6031  36.072478 -119.815530         56\n",
            "173  6033  39.094802 -122.746757        546\n",
            "174  6035  40.721089 -120.629931       1954\n",
            "175  6037  34.196398 -118.261862        197\n",
            "176  6039  37.210039 -119.749852        633\n",
            "177  6041  38.051817 -122.745974        164\n",
            "178  6043  37.570034 -119.912860       1079\n",
            "179  6045  39.432388 -123.442881        550\n",
            "180  6047  37.194806 -120.722802         30\n",
            "181  6049  41.592919 -120.718370       1534\n",
            "182  6051  37.915836 -118.875167       2480\n",
            "183  6053  36.240107 -121.315573        393\n",
            "184  6055  38.507351 -122.325995        444\n",
            "185  6057  39.295191 -120.773446       1514\n",
            "186  6059  33.675687 -117.777207        124\n",
            "187  6061  39.062032 -120.722718        903\n",
            "188  6063  39.995170 -120.829516       1728\n",
            "189  6065  33.729828 -116.002239        718\n",
            "190  6067  38.450011 -121.340441         18\n",
            "191  6069  36.610702 -121.085296        818\n",
            "192  6071  34.857220 -116.181197        467\n",
            "193  6073  33.023604 -116.776117        704\n",
            "194  6075  37.727239 -123.032229          0\n",
            "195  6077  37.935034 -121.272237         10\n",
            "196  6079  35.385227 -120.447540        640\n",
            "197  6081  37.414664 -122.371542        387\n",
            "198  6083  34.537378 -120.038485        150\n",
            "199  6085  37.220777 -121.690622        376\n",
            "200  6087  37.012488 -122.007205         31\n",
            "201  6089  40.760522 -122.043550        484\n",
            "202  6091  39.576925 -120.521993       2239\n",
            "203  6093  41.587986 -122.533287        825\n",
            "204  6095  38.267226 -121.939594         15\n",
            "205  6097  38.532574 -122.945194         52\n",
            "206  6099  37.562384 -121.002656         23\n",
            "207  6101  39.035257 -121.702758         10\n",
            "208  6103  40.126156 -122.232276         87\n",
            "209  6105  40.647724 -123.114404       1005\n",
            "210  6107  36.230453 -118.780542       1451\n",
            "211  6109  38.021451 -119.964708       1570\n",
            "212  6111  34.358742 -119.133143         67\n",
            "213  6113  38.679268 -121.903178         30\n",
            "214  6115  39.270026 -121.344280        260\n",
            "(58, 4)\n"
          ]
        }
      ],
      "source": [
        "# fips_data_l = []\n",
        "# for fips in ca_fips:\n",
        "#     data = soil_data[soil_data['fips']==fips]\n",
        "#     fips_data_l.append(data)\n",
        "# fips_df = pd.DataFrame(fips_data_l,columns=soil_data_cols)\n",
        "# print(fips_df)\n",
        "fips_df = soil_data[soil_data.fips.isin(ca_fips)][['fips','lat','lon','elevation']]\n",
        "print(fips_df)\n",
        "print(fips_df.shape)"
      ]
    },
    {
      "cell_type": "code",
      "execution_count": null,
      "metadata": {
        "id": "9rk6peFZcRZx",
        "outputId": "436da180-4db6-4e45-a680-cff6837033f8"
      },
      "outputs": [
        {
          "name": "stdout",
          "output_type": "stream",
          "text": [
            "     fips        lat         lon  elevation             Name State\n",
            "157  6001  37.648081 -121.913304        146          Alameda    CA\n",
            "158  6003  38.617610 -119.798999       2630           Alpine    CA\n",
            "159  6005  38.443550 -120.653856        719           Amador    CA\n",
            "160  6007  39.665959 -121.601919        373            Butte    CA\n",
            "161  6009  38.187844 -120.555115        499        Calaveras    CA\n",
            "162  6011  39.177739 -122.237563         40           Colusa    CA\n",
            "163  6013  37.919479 -121.951543        395     Contra Costa    CA\n",
            "164  6015  41.749903 -123.980998        493        Del Norte    CA\n",
            "165  6017  38.785532 -120.534398       1442        El Dorado    CA\n",
            "166  6019  36.761006 -119.655019        106           Fresno    CA\n",
            "167  6021  39.602546 -122.401700        140            Glenn    CA\n",
            "168  6023  40.706673 -123.925818        628         Humboldt    CA\n",
            "169  6025  33.040816 -115.355395          7         Imperial    CA\n",
            "170  6027  36.561977 -117.403927       1259             Inyo    CA\n",
            "171  6029  35.346629 -118.729506        407             Kern    CA\n",
            "172  6031  36.072478 -119.815530         56            Kings    CA\n",
            "173  6033  39.094802 -122.746757        546             Lake    CA\n",
            "174  6035  40.721089 -120.629931       1954           Lassen    CA\n",
            "175  6037  34.196398 -118.261862        197      Los Angeles    CA\n",
            "176  6039  37.210039 -119.749852        633           Madera    CA\n",
            "177  6041  38.051817 -122.745974        164            Marin    CA\n",
            "178  6043  37.570034 -119.912860       1079         Mariposa    CA\n",
            "179  6045  39.432388 -123.442881        550        Mendocino    CA\n",
            "180  6047  37.194806 -120.722802         30           Merced    CA\n",
            "181  6049  41.592919 -120.718370       1534            Modoc    CA\n",
            "182  6051  37.915836 -118.875167       2480             Mono    CA\n",
            "183  6053  36.240107 -121.315573        393         Monterey    CA\n",
            "184  6055  38.507351 -122.325995        444             Napa    CA\n",
            "185  6057  39.295191 -120.773446       1514           Nevada    CA\n",
            "186  6059  33.675687 -117.777207        124           Orange    CA\n",
            "187  6061  39.062032 -120.722718        903           Placer    CA\n",
            "188  6063  39.995170 -120.829516       1728           Plumas    CA\n",
            "189  6065  33.729828 -116.002239        718        Riverside    CA\n",
            "190  6067  38.450011 -121.340441         18       Sacramento    CA\n",
            "191  6069  36.610702 -121.085296        818       San Benito    CA\n",
            "192  6071  34.857220 -116.181197        467   San Bernardino    CA\n",
            "193  6073  33.023604 -116.776117        704        San Diego    CA\n",
            "194  6075  37.727239 -123.032229          0    San Francisco    CA\n",
            "195  6077  37.935034 -121.272237         10      San Joaquin    CA\n",
            "196  6079  35.385227 -120.447540        640  San Luis Obispo    CA\n",
            "197  6081  37.414664 -122.371542        387        San Mateo    CA\n",
            "198  6083  34.537378 -120.038485        150    Santa Barbara    CA\n",
            "199  6085  37.220777 -121.690622        376      Santa Clara    CA\n",
            "200  6087  37.012488 -122.007205         31       Santa Cruz    CA\n",
            "201  6089  40.760522 -122.043550        484           Shasta    CA\n",
            "202  6091  39.576925 -120.521993       2239           Sierra    CA\n",
            "203  6093  41.587986 -122.533287        825         Siskiyou    CA\n",
            "204  6095  38.267226 -121.939594         15           Solano    CA\n",
            "205  6097  38.532574 -122.945194         52           Sonoma    CA\n",
            "206  6099  37.562384 -121.002656         23       Stanislaus    CA\n",
            "207  6101  39.035257 -121.702758         10           Sutter    CA\n",
            "208  6103  40.126156 -122.232276         87           Tehama    CA\n",
            "209  6105  40.647724 -123.114404       1005          Trinity    CA\n",
            "210  6107  36.230453 -118.780542       1451           Tulare    CA\n",
            "211  6109  38.021451 -119.964708       1570         Tuolumne    CA\n",
            "212  6111  34.358742 -119.133143         67          Ventura    CA\n",
            "213  6113  38.679268 -121.903178         30             Yolo    CA\n",
            "214  6115  39.270026 -121.344280        260             Yuba    CA\n",
            "(58, 6)\n"
          ]
        }
      ],
      "source": [
        "fips_df['Name'], fips_df['State'] = list(fips_n1['Name']), list(fips_n1['State'])\n",
        "print(fips_df)\n",
        "print(fips_df.shape)"
      ]
    },
    {
      "cell_type": "code",
      "execution_count": null,
      "metadata": {
        "id": "uar8hhFXcRZy"
      },
      "outputs": [],
      "source": [
        "import plotly as py\n",
        "from plotly.offline import download_plotlyjs,init_notebook_mode,plot,iplot"
      ]
    },
    {
      "cell_type": "code",
      "execution_count": null,
      "metadata": {
        "id": "Tf4TgoogcRZy",
        "outputId": "fd5f79be-464e-4402-b891-5d11226c88c7"
      },
      "outputs": [
        {
          "data": {
            "text/html": [
              "        <script type=\"text/javascript\">\n",
              "        window.PlotlyConfig = {MathJaxConfig: 'local'};\n",
              "        if (window.MathJax) {MathJax.Hub.Config({SVG: {font: \"STIX-Web\"}});}\n",
              "        if (typeof require !== 'undefined') {\n",
              "        require.undef(\"plotly\");\n",
              "        requirejs.config({\n",
              "            paths: {\n",
              "                'plotly': ['https://cdn.plot.ly/plotly-latest.min']\n",
              "            }\n",
              "        });\n",
              "        require(['plotly'], function(Plotly) {\n",
              "            window._Plotly = Plotly;\n",
              "        });\n",
              "        }\n",
              "        </script>\n",
              "        "
            ]
          },
          "metadata": {},
          "output_type": "display_data"
        }
      ],
      "source": [
        "init_notebook_mode(connected=True)"
      ]
    },
    {
      "cell_type": "code",
      "execution_count": null,
      "metadata": {
        "scrolled": false,
        "id": "wwFHO2AacRZz",
        "outputId": "813471b6-ce12-42f0-c5cc-0eca045b1ac5"
      },
      "outputs": [
        {
          "data": {
            "application/vnd.plotly.v1+json": {
              "config": {
                "plotlyServerURL": "https://plot.ly"
              },
              "data": [
                {
                  "customdata": [
                    [
                      6001,
                      "Alameda",
                      146
                    ],
                    [
                      6003,
                      "Alpine",
                      2630
                    ],
                    [
                      6005,
                      "Amador",
                      719
                    ],
                    [
                      6007,
                      "Butte",
                      373
                    ],
                    [
                      6009,
                      "Calaveras",
                      499
                    ],
                    [
                      6011,
                      "Colusa",
                      40
                    ],
                    [
                      6013,
                      "Contra Costa",
                      395
                    ],
                    [
                      6015,
                      "Del Norte",
                      493
                    ],
                    [
                      6017,
                      "El Dorado",
                      1442
                    ],
                    [
                      6019,
                      "Fresno",
                      106
                    ],
                    [
                      6021,
                      "Glenn",
                      140
                    ],
                    [
                      6023,
                      "Humboldt",
                      628
                    ],
                    [
                      6025,
                      "Imperial",
                      7
                    ],
                    [
                      6027,
                      "Inyo",
                      1259
                    ],
                    [
                      6029,
                      "Kern",
                      407
                    ],
                    [
                      6031,
                      "Kings",
                      56
                    ],
                    [
                      6033,
                      "Lake",
                      546
                    ],
                    [
                      6035,
                      "Lassen",
                      1954
                    ],
                    [
                      6037,
                      "Los Angeles",
                      197
                    ],
                    [
                      6039,
                      "Madera",
                      633
                    ],
                    [
                      6041,
                      "Marin",
                      164
                    ],
                    [
                      6043,
                      "Mariposa",
                      1079
                    ],
                    [
                      6045,
                      "Mendocino",
                      550
                    ],
                    [
                      6047,
                      "Merced",
                      30
                    ],
                    [
                      6049,
                      "Modoc",
                      1534
                    ],
                    [
                      6051,
                      "Mono",
                      2480
                    ],
                    [
                      6053,
                      "Monterey",
                      393
                    ],
                    [
                      6055,
                      "Napa",
                      444
                    ],
                    [
                      6057,
                      "Nevada",
                      1514
                    ],
                    [
                      6059,
                      "Orange",
                      124
                    ],
                    [
                      6061,
                      "Placer",
                      903
                    ],
                    [
                      6063,
                      "Plumas",
                      1728
                    ],
                    [
                      6065,
                      "Riverside",
                      718
                    ],
                    [
                      6067,
                      "Sacramento",
                      18
                    ],
                    [
                      6069,
                      "San Benito",
                      818
                    ],
                    [
                      6071,
                      "San Bernardino",
                      467
                    ],
                    [
                      6073,
                      "San Diego",
                      704
                    ],
                    [
                      6075,
                      "San Francisco",
                      0
                    ],
                    [
                      6077,
                      "San Joaquin",
                      10
                    ],
                    [
                      6079,
                      "San Luis Obispo",
                      640
                    ],
                    [
                      6081,
                      "San Mateo",
                      387
                    ],
                    [
                      6083,
                      "Santa Barbara",
                      150
                    ],
                    [
                      6085,
                      "Santa Clara",
                      376
                    ],
                    [
                      6087,
                      "Santa Cruz",
                      31
                    ],
                    [
                      6089,
                      "Shasta",
                      484
                    ],
                    [
                      6091,
                      "Sierra",
                      2239
                    ],
                    [
                      6093,
                      "Siskiyou",
                      825
                    ],
                    [
                      6095,
                      "Solano",
                      15
                    ],
                    [
                      6097,
                      "Sonoma",
                      52
                    ],
                    [
                      6099,
                      "Stanislaus",
                      23
                    ],
                    [
                      6101,
                      "Sutter",
                      10
                    ],
                    [
                      6103,
                      "Tehama",
                      87
                    ],
                    [
                      6105,
                      "Trinity",
                      1005
                    ],
                    [
                      6107,
                      "Tulare",
                      1451
                    ],
                    [
                      6109,
                      "Tuolumne",
                      1570
                    ],
                    [
                      6111,
                      "Ventura",
                      67
                    ],
                    [
                      6113,
                      "Yolo",
                      30
                    ],
                    [
                      6115,
                      "Yuba",
                      260
                    ]
                  ],
                  "geo": "geo",
                  "hovertemplate": "lat=%{lat}<br>lon=%{lon}<br>fips=%{customdata[0]}<br>Name=%{customdata[1]}<br>elevation=%{customdata[2]}<extra></extra>",
                  "lat": [
                    37.648081,
                    38.61761,
                    38.44355,
                    39.665959,
                    38.187844,
                    39.177739,
                    37.919478999999995,
                    41.749903,
                    38.785532,
                    36.761006,
                    39.602546000000004,
                    40.706672999999995,
                    33.040816,
                    36.561977,
                    35.346629,
                    36.072478000000004,
                    39.094802,
                    40.721089,
                    34.196397999999995,
                    37.210039,
                    38.051817,
                    37.570034,
                    39.432388,
                    37.194806,
                    41.592919,
                    37.915836,
                    36.240107,
                    38.507351,
                    39.295190999999996,
                    33.675686999999996,
                    39.062032,
                    39.99517,
                    33.729828000000005,
                    38.450010999999996,
                    36.610702,
                    34.85722,
                    33.023604,
                    37.727239000000004,
                    37.935034,
                    35.385227,
                    37.414664,
                    34.537378000000004,
                    37.220777000000005,
                    37.012488,
                    40.760521999999995,
                    39.576925,
                    41.587986,
                    38.267226,
                    38.532574,
                    37.562384,
                    39.035257,
                    40.126156,
                    40.647724,
                    36.230453000000004,
                    38.021451,
                    34.358742,
                    38.679268,
                    39.270026
                  ],
                  "legendgroup": "",
                  "lon": [
                    -121.91330400000001,
                    -119.798999,
                    -120.653856,
                    -121.601919,
                    -120.55511499999999,
                    -122.237563,
                    -121.95154299999999,
                    -123.980998,
                    -120.534398,
                    -119.655019,
                    -122.4017,
                    -123.92581799999999,
                    -115.355395,
                    -117.403927,
                    -118.729506,
                    -119.81553000000001,
                    -122.746757,
                    -120.629931,
                    -118.26186200000001,
                    -119.749852,
                    -122.745974,
                    -119.91286000000001,
                    -123.442881,
                    -120.722802,
                    -120.71837,
                    -118.87516699999999,
                    -121.315573,
                    -122.32599499999999,
                    -120.77344599999999,
                    -117.777207,
                    -120.722718,
                    -120.829516,
                    -116.00223899999999,
                    -121.340441,
                    -121.085296,
                    -116.181197,
                    -116.776117,
                    -123.032229,
                    -121.27223700000002,
                    -120.44753999999999,
                    -122.37154199999999,
                    -120.03848500000001,
                    -121.69062199999999,
                    -122.007205,
                    -122.04355,
                    -120.521993,
                    -122.53328700000002,
                    -121.939594,
                    -122.945194,
                    -121.002656,
                    -121.702758,
                    -122.232276,
                    -123.11440400000001,
                    -118.780542,
                    -119.964708,
                    -119.13314299999999,
                    -121.903178,
                    -121.34428
                  ],
                  "marker": {
                    "color": "#636efa",
                    "symbol": "circle"
                  },
                  "mode": "markers",
                  "name": "",
                  "showlegend": false,
                  "type": "scattergeo"
                }
              ],
              "layout": {
                "geo": {
                  "center": {},
                  "domain": {
                    "x": [
                      0,
                      1
                    ],
                    "y": [
                      0,
                      1
                    ]
                  },
                  "scope": "usa"
                },
                "legend": {
                  "tracegroupgap": 0
                },
                "margin": {
                  "t": 60
                },
                "template": {
                  "data": {
                    "bar": [
                      {
                        "error_x": {
                          "color": "#2a3f5f"
                        },
                        "error_y": {
                          "color": "#2a3f5f"
                        },
                        "marker": {
                          "line": {
                            "color": "#E5ECF6",
                            "width": 0.5
                          }
                        },
                        "type": "bar"
                      }
                    ],
                    "barpolar": [
                      {
                        "marker": {
                          "line": {
                            "color": "#E5ECF6",
                            "width": 0.5
                          }
                        },
                        "type": "barpolar"
                      }
                    ],
                    "carpet": [
                      {
                        "aaxis": {
                          "endlinecolor": "#2a3f5f",
                          "gridcolor": "white",
                          "linecolor": "white",
                          "minorgridcolor": "white",
                          "startlinecolor": "#2a3f5f"
                        },
                        "baxis": {
                          "endlinecolor": "#2a3f5f",
                          "gridcolor": "white",
                          "linecolor": "white",
                          "minorgridcolor": "white",
                          "startlinecolor": "#2a3f5f"
                        },
                        "type": "carpet"
                      }
                    ],
                    "choropleth": [
                      {
                        "colorbar": {
                          "outlinewidth": 0,
                          "ticks": ""
                        },
                        "type": "choropleth"
                      }
                    ],
                    "contour": [
                      {
                        "colorbar": {
                          "outlinewidth": 0,
                          "ticks": ""
                        },
                        "colorscale": [
                          [
                            0,
                            "#0d0887"
                          ],
                          [
                            0.1111111111111111,
                            "#46039f"
                          ],
                          [
                            0.2222222222222222,
                            "#7201a8"
                          ],
                          [
                            0.3333333333333333,
                            "#9c179e"
                          ],
                          [
                            0.4444444444444444,
                            "#bd3786"
                          ],
                          [
                            0.5555555555555556,
                            "#d8576b"
                          ],
                          [
                            0.6666666666666666,
                            "#ed7953"
                          ],
                          [
                            0.7777777777777778,
                            "#fb9f3a"
                          ],
                          [
                            0.8888888888888888,
                            "#fdca26"
                          ],
                          [
                            1,
                            "#f0f921"
                          ]
                        ],
                        "type": "contour"
                      }
                    ],
                    "contourcarpet": [
                      {
                        "colorbar": {
                          "outlinewidth": 0,
                          "ticks": ""
                        },
                        "type": "contourcarpet"
                      }
                    ],
                    "heatmap": [
                      {
                        "colorbar": {
                          "outlinewidth": 0,
                          "ticks": ""
                        },
                        "colorscale": [
                          [
                            0,
                            "#0d0887"
                          ],
                          [
                            0.1111111111111111,
                            "#46039f"
                          ],
                          [
                            0.2222222222222222,
                            "#7201a8"
                          ],
                          [
                            0.3333333333333333,
                            "#9c179e"
                          ],
                          [
                            0.4444444444444444,
                            "#bd3786"
                          ],
                          [
                            0.5555555555555556,
                            "#d8576b"
                          ],
                          [
                            0.6666666666666666,
                            "#ed7953"
                          ],
                          [
                            0.7777777777777778,
                            "#fb9f3a"
                          ],
                          [
                            0.8888888888888888,
                            "#fdca26"
                          ],
                          [
                            1,
                            "#f0f921"
                          ]
                        ],
                        "type": "heatmap"
                      }
                    ],
                    "heatmapgl": [
                      {
                        "colorbar": {
                          "outlinewidth": 0,
                          "ticks": ""
                        },
                        "colorscale": [
                          [
                            0,
                            "#0d0887"
                          ],
                          [
                            0.1111111111111111,
                            "#46039f"
                          ],
                          [
                            0.2222222222222222,
                            "#7201a8"
                          ],
                          [
                            0.3333333333333333,
                            "#9c179e"
                          ],
                          [
                            0.4444444444444444,
                            "#bd3786"
                          ],
                          [
                            0.5555555555555556,
                            "#d8576b"
                          ],
                          [
                            0.6666666666666666,
                            "#ed7953"
                          ],
                          [
                            0.7777777777777778,
                            "#fb9f3a"
                          ],
                          [
                            0.8888888888888888,
                            "#fdca26"
                          ],
                          [
                            1,
                            "#f0f921"
                          ]
                        ],
                        "type": "heatmapgl"
                      }
                    ],
                    "histogram": [
                      {
                        "marker": {
                          "colorbar": {
                            "outlinewidth": 0,
                            "ticks": ""
                          }
                        },
                        "type": "histogram"
                      }
                    ],
                    "histogram2d": [
                      {
                        "colorbar": {
                          "outlinewidth": 0,
                          "ticks": ""
                        },
                        "colorscale": [
                          [
                            0,
                            "#0d0887"
                          ],
                          [
                            0.1111111111111111,
                            "#46039f"
                          ],
                          [
                            0.2222222222222222,
                            "#7201a8"
                          ],
                          [
                            0.3333333333333333,
                            "#9c179e"
                          ],
                          [
                            0.4444444444444444,
                            "#bd3786"
                          ],
                          [
                            0.5555555555555556,
                            "#d8576b"
                          ],
                          [
                            0.6666666666666666,
                            "#ed7953"
                          ],
                          [
                            0.7777777777777778,
                            "#fb9f3a"
                          ],
                          [
                            0.8888888888888888,
                            "#fdca26"
                          ],
                          [
                            1,
                            "#f0f921"
                          ]
                        ],
                        "type": "histogram2d"
                      }
                    ],
                    "histogram2dcontour": [
                      {
                        "colorbar": {
                          "outlinewidth": 0,
                          "ticks": ""
                        },
                        "colorscale": [
                          [
                            0,
                            "#0d0887"
                          ],
                          [
                            0.1111111111111111,
                            "#46039f"
                          ],
                          [
                            0.2222222222222222,
                            "#7201a8"
                          ],
                          [
                            0.3333333333333333,
                            "#9c179e"
                          ],
                          [
                            0.4444444444444444,
                            "#bd3786"
                          ],
                          [
                            0.5555555555555556,
                            "#d8576b"
                          ],
                          [
                            0.6666666666666666,
                            "#ed7953"
                          ],
                          [
                            0.7777777777777778,
                            "#fb9f3a"
                          ],
                          [
                            0.8888888888888888,
                            "#fdca26"
                          ],
                          [
                            1,
                            "#f0f921"
                          ]
                        ],
                        "type": "histogram2dcontour"
                      }
                    ],
                    "mesh3d": [
                      {
                        "colorbar": {
                          "outlinewidth": 0,
                          "ticks": ""
                        },
                        "type": "mesh3d"
                      }
                    ],
                    "parcoords": [
                      {
                        "line": {
                          "colorbar": {
                            "outlinewidth": 0,
                            "ticks": ""
                          }
                        },
                        "type": "parcoords"
                      }
                    ],
                    "pie": [
                      {
                        "automargin": true,
                        "type": "pie"
                      }
                    ],
                    "scatter": [
                      {
                        "marker": {
                          "colorbar": {
                            "outlinewidth": 0,
                            "ticks": ""
                          }
                        },
                        "type": "scatter"
                      }
                    ],
                    "scatter3d": [
                      {
                        "line": {
                          "colorbar": {
                            "outlinewidth": 0,
                            "ticks": ""
                          }
                        },
                        "marker": {
                          "colorbar": {
                            "outlinewidth": 0,
                            "ticks": ""
                          }
                        },
                        "type": "scatter3d"
                      }
                    ],
                    "scattercarpet": [
                      {
                        "marker": {
                          "colorbar": {
                            "outlinewidth": 0,
                            "ticks": ""
                          }
                        },
                        "type": "scattercarpet"
                      }
                    ],
                    "scattergeo": [
                      {
                        "marker": {
                          "colorbar": {
                            "outlinewidth": 0,
                            "ticks": ""
                          }
                        },
                        "type": "scattergeo"
                      }
                    ],
                    "scattergl": [
                      {
                        "marker": {
                          "colorbar": {
                            "outlinewidth": 0,
                            "ticks": ""
                          }
                        },
                        "type": "scattergl"
                      }
                    ],
                    "scattermapbox": [
                      {
                        "marker": {
                          "colorbar": {
                            "outlinewidth": 0,
                            "ticks": ""
                          }
                        },
                        "type": "scattermapbox"
                      }
                    ],
                    "scatterpolar": [
                      {
                        "marker": {
                          "colorbar": {
                            "outlinewidth": 0,
                            "ticks": ""
                          }
                        },
                        "type": "scatterpolar"
                      }
                    ],
                    "scatterpolargl": [
                      {
                        "marker": {
                          "colorbar": {
                            "outlinewidth": 0,
                            "ticks": ""
                          }
                        },
                        "type": "scatterpolargl"
                      }
                    ],
                    "scatterternary": [
                      {
                        "marker": {
                          "colorbar": {
                            "outlinewidth": 0,
                            "ticks": ""
                          }
                        },
                        "type": "scatterternary"
                      }
                    ],
                    "surface": [
                      {
                        "colorbar": {
                          "outlinewidth": 0,
                          "ticks": ""
                        },
                        "colorscale": [
                          [
                            0,
                            "#0d0887"
                          ],
                          [
                            0.1111111111111111,
                            "#46039f"
                          ],
                          [
                            0.2222222222222222,
                            "#7201a8"
                          ],
                          [
                            0.3333333333333333,
                            "#9c179e"
                          ],
                          [
                            0.4444444444444444,
                            "#bd3786"
                          ],
                          [
                            0.5555555555555556,
                            "#d8576b"
                          ],
                          [
                            0.6666666666666666,
                            "#ed7953"
                          ],
                          [
                            0.7777777777777778,
                            "#fb9f3a"
                          ],
                          [
                            0.8888888888888888,
                            "#fdca26"
                          ],
                          [
                            1,
                            "#f0f921"
                          ]
                        ],
                        "type": "surface"
                      }
                    ],
                    "table": [
                      {
                        "cells": {
                          "fill": {
                            "color": "#EBF0F8"
                          },
                          "line": {
                            "color": "white"
                          }
                        },
                        "header": {
                          "fill": {
                            "color": "#C8D4E3"
                          },
                          "line": {
                            "color": "white"
                          }
                        },
                        "type": "table"
                      }
                    ]
                  },
                  "layout": {
                    "annotationdefaults": {
                      "arrowcolor": "#2a3f5f",
                      "arrowhead": 0,
                      "arrowwidth": 1
                    },
                    "autotypenumbers": "strict",
                    "coloraxis": {
                      "colorbar": {
                        "outlinewidth": 0,
                        "ticks": ""
                      }
                    },
                    "colorscale": {
                      "diverging": [
                        [
                          0,
                          "#8e0152"
                        ],
                        [
                          0.1,
                          "#c51b7d"
                        ],
                        [
                          0.2,
                          "#de77ae"
                        ],
                        [
                          0.3,
                          "#f1b6da"
                        ],
                        [
                          0.4,
                          "#fde0ef"
                        ],
                        [
                          0.5,
                          "#f7f7f7"
                        ],
                        [
                          0.6,
                          "#e6f5d0"
                        ],
                        [
                          0.7,
                          "#b8e186"
                        ],
                        [
                          0.8,
                          "#7fbc41"
                        ],
                        [
                          0.9,
                          "#4d9221"
                        ],
                        [
                          1,
                          "#276419"
                        ]
                      ],
                      "sequential": [
                        [
                          0,
                          "#0d0887"
                        ],
                        [
                          0.1111111111111111,
                          "#46039f"
                        ],
                        [
                          0.2222222222222222,
                          "#7201a8"
                        ],
                        [
                          0.3333333333333333,
                          "#9c179e"
                        ],
                        [
                          0.4444444444444444,
                          "#bd3786"
                        ],
                        [
                          0.5555555555555556,
                          "#d8576b"
                        ],
                        [
                          0.6666666666666666,
                          "#ed7953"
                        ],
                        [
                          0.7777777777777778,
                          "#fb9f3a"
                        ],
                        [
                          0.8888888888888888,
                          "#fdca26"
                        ],
                        [
                          1,
                          "#f0f921"
                        ]
                      ],
                      "sequentialminus": [
                        [
                          0,
                          "#0d0887"
                        ],
                        [
                          0.1111111111111111,
                          "#46039f"
                        ],
                        [
                          0.2222222222222222,
                          "#7201a8"
                        ],
                        [
                          0.3333333333333333,
                          "#9c179e"
                        ],
                        [
                          0.4444444444444444,
                          "#bd3786"
                        ],
                        [
                          0.5555555555555556,
                          "#d8576b"
                        ],
                        [
                          0.6666666666666666,
                          "#ed7953"
                        ],
                        [
                          0.7777777777777778,
                          "#fb9f3a"
                        ],
                        [
                          0.8888888888888888,
                          "#fdca26"
                        ],
                        [
                          1,
                          "#f0f921"
                        ]
                      ]
                    },
                    "colorway": [
                      "#636efa",
                      "#EF553B",
                      "#00cc96",
                      "#ab63fa",
                      "#FFA15A",
                      "#19d3f3",
                      "#FF6692",
                      "#B6E880",
                      "#FF97FF",
                      "#FECB52"
                    ],
                    "font": {
                      "color": "#2a3f5f"
                    },
                    "geo": {
                      "bgcolor": "white",
                      "lakecolor": "white",
                      "landcolor": "#E5ECF6",
                      "showlakes": true,
                      "showland": true,
                      "subunitcolor": "white"
                    },
                    "hoverlabel": {
                      "align": "left"
                    },
                    "hovermode": "closest",
                    "mapbox": {
                      "style": "light"
                    },
                    "paper_bgcolor": "white",
                    "plot_bgcolor": "#E5ECF6",
                    "polar": {
                      "angularaxis": {
                        "gridcolor": "white",
                        "linecolor": "white",
                        "ticks": ""
                      },
                      "bgcolor": "#E5ECF6",
                      "radialaxis": {
                        "gridcolor": "white",
                        "linecolor": "white",
                        "ticks": ""
                      }
                    },
                    "scene": {
                      "xaxis": {
                        "backgroundcolor": "#E5ECF6",
                        "gridcolor": "white",
                        "gridwidth": 2,
                        "linecolor": "white",
                        "showbackground": true,
                        "ticks": "",
                        "zerolinecolor": "white"
                      },
                      "yaxis": {
                        "backgroundcolor": "#E5ECF6",
                        "gridcolor": "white",
                        "gridwidth": 2,
                        "linecolor": "white",
                        "showbackground": true,
                        "ticks": "",
                        "zerolinecolor": "white"
                      },
                      "zaxis": {
                        "backgroundcolor": "#E5ECF6",
                        "gridcolor": "white",
                        "gridwidth": 2,
                        "linecolor": "white",
                        "showbackground": true,
                        "ticks": "",
                        "zerolinecolor": "white"
                      }
                    },
                    "shapedefaults": {
                      "line": {
                        "color": "#2a3f5f"
                      }
                    },
                    "ternary": {
                      "aaxis": {
                        "gridcolor": "white",
                        "linecolor": "white",
                        "ticks": ""
                      },
                      "baxis": {
                        "gridcolor": "white",
                        "linecolor": "white",
                        "ticks": ""
                      },
                      "bgcolor": "#E5ECF6",
                      "caxis": {
                        "gridcolor": "white",
                        "linecolor": "white",
                        "ticks": ""
                      }
                    },
                    "title": {
                      "x": 0.05
                    },
                    "xaxis": {
                      "automargin": true,
                      "gridcolor": "white",
                      "linecolor": "white",
                      "ticks": "",
                      "title": {
                        "standoff": 15
                      },
                      "zerolinecolor": "white",
                      "zerolinewidth": 2
                    },
                    "yaxis": {
                      "automargin": true,
                      "gridcolor": "white",
                      "linecolor": "white",
                      "ticks": "",
                      "title": {
                        "standoff": 15
                      },
                      "zerolinecolor": "white",
                      "zerolinewidth": 2
                    }
                  }
                }
              }
            },
            "text/html": [
              "<div>                            <div id=\"c2d91a44-9f5f-4cf6-8ae2-2b0a7703a44b\" class=\"plotly-graph-div\" style=\"height:525px; width:100%;\"></div>            <script type=\"text/javascript\">                require([\"plotly\"], function(Plotly) {                    window.PLOTLYENV=window.PLOTLYENV || {};                                    if (document.getElementById(\"c2d91a44-9f5f-4cf6-8ae2-2b0a7703a44b\")) {                    Plotly.newPlot(                        \"c2d91a44-9f5f-4cf6-8ae2-2b0a7703a44b\",                        [{\"customdata\": [[6001, \"Alameda\", 146], [6003, \"Alpine\", 2630], [6005, \"Amador\", 719], [6007, \"Butte\", 373], [6009, \"Calaveras\", 499], [6011, \"Colusa\", 40], [6013, \"Contra Costa\", 395], [6015, \"Del Norte\", 493], [6017, \"El Dorado\", 1442], [6019, \"Fresno\", 106], [6021, \"Glenn\", 140], [6023, \"Humboldt\", 628], [6025, \"Imperial\", 7], [6027, \"Inyo\", 1259], [6029, \"Kern\", 407], [6031, \"Kings\", 56], [6033, \"Lake\", 546], [6035, \"Lassen\", 1954], [6037, \"Los Angeles\", 197], [6039, \"Madera\", 633], [6041, \"Marin\", 164], [6043, \"Mariposa\", 1079], [6045, \"Mendocino\", 550], [6047, \"Merced\", 30], [6049, \"Modoc\", 1534], [6051, \"Mono\", 2480], [6053, \"Monterey\", 393], [6055, \"Napa\", 444], [6057, \"Nevada\", 1514], [6059, \"Orange\", 124], [6061, \"Placer\", 903], [6063, \"Plumas\", 1728], [6065, \"Riverside\", 718], [6067, \"Sacramento\", 18], [6069, \"San Benito\", 818], [6071, \"San Bernardino\", 467], [6073, \"San Diego\", 704], [6075, \"San Francisco\", 0], [6077, \"San Joaquin\", 10], [6079, \"San Luis Obispo\", 640], [6081, \"San Mateo\", 387], [6083, \"Santa Barbara\", 150], [6085, \"Santa Clara\", 376], [6087, \"Santa Cruz\", 31], [6089, \"Shasta\", 484], [6091, \"Sierra\", 2239], [6093, \"Siskiyou\", 825], [6095, \"Solano\", 15], [6097, \"Sonoma\", 52], [6099, \"Stanislaus\", 23], [6101, \"Sutter\", 10], [6103, \"Tehama\", 87], [6105, \"Trinity\", 1005], [6107, \"Tulare\", 1451], [6109, \"Tuolumne\", 1570], [6111, \"Ventura\", 67], [6113, \"Yolo\", 30], [6115, \"Yuba\", 260]], \"geo\": \"geo\", \"hovertemplate\": \"lat=%{lat}<br>lon=%{lon}<br>fips=%{customdata[0]}<br>Name=%{customdata[1]}<br>elevation=%{customdata[2]}<extra></extra>\", \"lat\": [37.648081, 38.61761, 38.44355, 39.665959, 38.187844, 39.177739, 37.919478999999995, 41.749903, 38.785532, 36.761006, 39.602546000000004, 40.706672999999995, 33.040816, 36.561977, 35.346629, 36.072478000000004, 39.094802, 40.721089, 34.196397999999995, 37.210039, 38.051817, 37.570034, 39.432388, 37.194806, 41.592919, 37.915836, 36.240107, 38.507351, 39.295190999999996, 33.675686999999996, 39.062032, 39.99517, 33.729828000000005, 38.450010999999996, 36.610702, 34.85722, 33.023604, 37.727239000000004, 37.935034, 35.385227, 37.414664, 34.537378000000004, 37.220777000000005, 37.012488, 40.760521999999995, 39.576925, 41.587986, 38.267226, 38.532574, 37.562384, 39.035257, 40.126156, 40.647724, 36.230453000000004, 38.021451, 34.358742, 38.679268, 39.270026], \"legendgroup\": \"\", \"lon\": [-121.91330400000001, -119.798999, -120.653856, -121.601919, -120.55511499999999, -122.237563, -121.95154299999999, -123.980998, -120.534398, -119.655019, -122.4017, -123.92581799999999, -115.355395, -117.403927, -118.729506, -119.81553000000001, -122.746757, -120.629931, -118.26186200000001, -119.749852, -122.745974, -119.91286000000001, -123.442881, -120.722802, -120.71837, -118.87516699999999, -121.315573, -122.32599499999999, -120.77344599999999, -117.777207, -120.722718, -120.829516, -116.00223899999999, -121.340441, -121.085296, -116.181197, -116.776117, -123.032229, -121.27223700000002, -120.44753999999999, -122.37154199999999, -120.03848500000001, -121.69062199999999, -122.007205, -122.04355, -120.521993, -122.53328700000002, -121.939594, -122.945194, -121.002656, -121.702758, -122.232276, -123.11440400000001, -118.780542, -119.964708, -119.13314299999999, -121.903178, -121.34428], \"marker\": {\"color\": \"#636efa\", \"symbol\": \"circle\"}, \"mode\": \"markers\", \"name\": \"\", \"showlegend\": false, \"type\": \"scattergeo\"}],                        {\"geo\": {\"center\": {}, \"domain\": {\"x\": [0.0, 1.0], \"y\": [0.0, 1.0]}, \"scope\": \"usa\"}, \"legend\": {\"tracegroupgap\": 0}, \"margin\": {\"t\": 60}, \"template\": {\"data\": {\"bar\": [{\"error_x\": {\"color\": \"#2a3f5f\"}, \"error_y\": {\"color\": \"#2a3f5f\"}, \"marker\": {\"line\": {\"color\": \"#E5ECF6\", \"width\": 0.5}}, \"type\": \"bar\"}], \"barpolar\": [{\"marker\": {\"line\": {\"color\": \"#E5ECF6\", \"width\": 0.5}}, \"type\": \"barpolar\"}], \"carpet\": [{\"aaxis\": {\"endlinecolor\": \"#2a3f5f\", \"gridcolor\": \"white\", \"linecolor\": \"white\", \"minorgridcolor\": \"white\", \"startlinecolor\": \"#2a3f5f\"}, \"baxis\": {\"endlinecolor\": \"#2a3f5f\", \"gridcolor\": \"white\", \"linecolor\": \"white\", \"minorgridcolor\": \"white\", \"startlinecolor\": \"#2a3f5f\"}, \"type\": \"carpet\"}], \"choropleth\": [{\"colorbar\": {\"outlinewidth\": 0, \"ticks\": \"\"}, \"type\": \"choropleth\"}], \"contour\": [{\"colorbar\": {\"outlinewidth\": 0, \"ticks\": \"\"}, \"colorscale\": [[0.0, \"#0d0887\"], [0.1111111111111111, \"#46039f\"], [0.2222222222222222, \"#7201a8\"], [0.3333333333333333, \"#9c179e\"], [0.4444444444444444, \"#bd3786\"], [0.5555555555555556, \"#d8576b\"], [0.6666666666666666, \"#ed7953\"], [0.7777777777777778, \"#fb9f3a\"], [0.8888888888888888, \"#fdca26\"], [1.0, \"#f0f921\"]], \"type\": \"contour\"}], \"contourcarpet\": [{\"colorbar\": {\"outlinewidth\": 0, \"ticks\": \"\"}, \"type\": \"contourcarpet\"}], \"heatmap\": [{\"colorbar\": {\"outlinewidth\": 0, \"ticks\": \"\"}, \"colorscale\": [[0.0, \"#0d0887\"], [0.1111111111111111, \"#46039f\"], [0.2222222222222222, \"#7201a8\"], [0.3333333333333333, \"#9c179e\"], [0.4444444444444444, \"#bd3786\"], [0.5555555555555556, \"#d8576b\"], [0.6666666666666666, \"#ed7953\"], [0.7777777777777778, \"#fb9f3a\"], [0.8888888888888888, \"#fdca26\"], [1.0, \"#f0f921\"]], \"type\": \"heatmap\"}], \"heatmapgl\": [{\"colorbar\": {\"outlinewidth\": 0, \"ticks\": \"\"}, \"colorscale\": [[0.0, \"#0d0887\"], [0.1111111111111111, \"#46039f\"], [0.2222222222222222, \"#7201a8\"], [0.3333333333333333, \"#9c179e\"], [0.4444444444444444, \"#bd3786\"], [0.5555555555555556, \"#d8576b\"], [0.6666666666666666, \"#ed7953\"], [0.7777777777777778, \"#fb9f3a\"], [0.8888888888888888, \"#fdca26\"], [1.0, \"#f0f921\"]], \"type\": \"heatmapgl\"}], \"histogram\": [{\"marker\": {\"colorbar\": {\"outlinewidth\": 0, \"ticks\": \"\"}}, \"type\": \"histogram\"}], \"histogram2d\": [{\"colorbar\": {\"outlinewidth\": 0, \"ticks\": \"\"}, \"colorscale\": [[0.0, \"#0d0887\"], [0.1111111111111111, \"#46039f\"], [0.2222222222222222, \"#7201a8\"], [0.3333333333333333, \"#9c179e\"], [0.4444444444444444, \"#bd3786\"], [0.5555555555555556, \"#d8576b\"], [0.6666666666666666, \"#ed7953\"], [0.7777777777777778, \"#fb9f3a\"], [0.8888888888888888, \"#fdca26\"], [1.0, \"#f0f921\"]], \"type\": \"histogram2d\"}], \"histogram2dcontour\": [{\"colorbar\": {\"outlinewidth\": 0, \"ticks\": \"\"}, \"colorscale\": [[0.0, \"#0d0887\"], [0.1111111111111111, \"#46039f\"], [0.2222222222222222, \"#7201a8\"], [0.3333333333333333, \"#9c179e\"], [0.4444444444444444, \"#bd3786\"], [0.5555555555555556, \"#d8576b\"], [0.6666666666666666, \"#ed7953\"], [0.7777777777777778, \"#fb9f3a\"], [0.8888888888888888, \"#fdca26\"], [1.0, \"#f0f921\"]], \"type\": \"histogram2dcontour\"}], \"mesh3d\": [{\"colorbar\": {\"outlinewidth\": 0, \"ticks\": \"\"}, \"type\": \"mesh3d\"}], \"parcoords\": [{\"line\": {\"colorbar\": {\"outlinewidth\": 0, \"ticks\": \"\"}}, \"type\": \"parcoords\"}], \"pie\": [{\"automargin\": true, \"type\": \"pie\"}], \"scatter\": [{\"marker\": {\"colorbar\": {\"outlinewidth\": 0, \"ticks\": \"\"}}, \"type\": \"scatter\"}], \"scatter3d\": [{\"line\": {\"colorbar\": {\"outlinewidth\": 0, \"ticks\": \"\"}}, \"marker\": {\"colorbar\": {\"outlinewidth\": 0, \"ticks\": \"\"}}, \"type\": \"scatter3d\"}], \"scattercarpet\": [{\"marker\": {\"colorbar\": {\"outlinewidth\": 0, \"ticks\": \"\"}}, \"type\": \"scattercarpet\"}], \"scattergeo\": [{\"marker\": {\"colorbar\": {\"outlinewidth\": 0, \"ticks\": \"\"}}, \"type\": \"scattergeo\"}], \"scattergl\": [{\"marker\": {\"colorbar\": {\"outlinewidth\": 0, \"ticks\": \"\"}}, \"type\": \"scattergl\"}], \"scattermapbox\": [{\"marker\": {\"colorbar\": {\"outlinewidth\": 0, \"ticks\": \"\"}}, \"type\": \"scattermapbox\"}], \"scatterpolar\": [{\"marker\": {\"colorbar\": {\"outlinewidth\": 0, \"ticks\": \"\"}}, \"type\": \"scatterpolar\"}], \"scatterpolargl\": [{\"marker\": {\"colorbar\": {\"outlinewidth\": 0, \"ticks\": \"\"}}, \"type\": \"scatterpolargl\"}], \"scatterternary\": [{\"marker\": {\"colorbar\": {\"outlinewidth\": 0, \"ticks\": \"\"}}, \"type\": \"scatterternary\"}], \"surface\": [{\"colorbar\": {\"outlinewidth\": 0, \"ticks\": \"\"}, \"colorscale\": [[0.0, \"#0d0887\"], [0.1111111111111111, \"#46039f\"], [0.2222222222222222, \"#7201a8\"], [0.3333333333333333, \"#9c179e\"], [0.4444444444444444, \"#bd3786\"], [0.5555555555555556, \"#d8576b\"], [0.6666666666666666, \"#ed7953\"], [0.7777777777777778, \"#fb9f3a\"], [0.8888888888888888, \"#fdca26\"], [1.0, \"#f0f921\"]], \"type\": \"surface\"}], \"table\": [{\"cells\": {\"fill\": {\"color\": \"#EBF0F8\"}, \"line\": {\"color\": \"white\"}}, \"header\": {\"fill\": {\"color\": \"#C8D4E3\"}, \"line\": {\"color\": \"white\"}}, \"type\": \"table\"}]}, \"layout\": {\"annotationdefaults\": {\"arrowcolor\": \"#2a3f5f\", \"arrowhead\": 0, \"arrowwidth\": 1}, \"autotypenumbers\": \"strict\", \"coloraxis\": {\"colorbar\": {\"outlinewidth\": 0, \"ticks\": \"\"}}, \"colorscale\": {\"diverging\": [[0, \"#8e0152\"], [0.1, \"#c51b7d\"], [0.2, \"#de77ae\"], [0.3, \"#f1b6da\"], [0.4, \"#fde0ef\"], [0.5, \"#f7f7f7\"], [0.6, \"#e6f5d0\"], [0.7, \"#b8e186\"], [0.8, \"#7fbc41\"], [0.9, \"#4d9221\"], [1, \"#276419\"]], \"sequential\": [[0.0, \"#0d0887\"], [0.1111111111111111, \"#46039f\"], [0.2222222222222222, \"#7201a8\"], [0.3333333333333333, \"#9c179e\"], [0.4444444444444444, \"#bd3786\"], [0.5555555555555556, \"#d8576b\"], [0.6666666666666666, \"#ed7953\"], [0.7777777777777778, \"#fb9f3a\"], [0.8888888888888888, \"#fdca26\"], [1.0, \"#f0f921\"]], \"sequentialminus\": [[0.0, \"#0d0887\"], [0.1111111111111111, \"#46039f\"], [0.2222222222222222, \"#7201a8\"], [0.3333333333333333, \"#9c179e\"], [0.4444444444444444, \"#bd3786\"], [0.5555555555555556, \"#d8576b\"], [0.6666666666666666, \"#ed7953\"], [0.7777777777777778, \"#fb9f3a\"], [0.8888888888888888, \"#fdca26\"], [1.0, \"#f0f921\"]]}, \"colorway\": [\"#636efa\", \"#EF553B\", \"#00cc96\", \"#ab63fa\", \"#FFA15A\", \"#19d3f3\", \"#FF6692\", \"#B6E880\", \"#FF97FF\", \"#FECB52\"], \"font\": {\"color\": \"#2a3f5f\"}, \"geo\": {\"bgcolor\": \"white\", \"lakecolor\": \"white\", \"landcolor\": \"#E5ECF6\", \"showlakes\": true, \"showland\": true, \"subunitcolor\": \"white\"}, \"hoverlabel\": {\"align\": \"left\"}, \"hovermode\": \"closest\", \"mapbox\": {\"style\": \"light\"}, \"paper_bgcolor\": \"white\", \"plot_bgcolor\": \"#E5ECF6\", \"polar\": {\"angularaxis\": {\"gridcolor\": \"white\", \"linecolor\": \"white\", \"ticks\": \"\"}, \"bgcolor\": \"#E5ECF6\", \"radialaxis\": {\"gridcolor\": \"white\", \"linecolor\": \"white\", \"ticks\": \"\"}}, \"scene\": {\"xaxis\": {\"backgroundcolor\": \"#E5ECF6\", \"gridcolor\": \"white\", \"gridwidth\": 2, \"linecolor\": \"white\", \"showbackground\": true, \"ticks\": \"\", \"zerolinecolor\": \"white\"}, \"yaxis\": {\"backgroundcolor\": \"#E5ECF6\", \"gridcolor\": \"white\", \"gridwidth\": 2, \"linecolor\": \"white\", \"showbackground\": true, \"ticks\": \"\", \"zerolinecolor\": \"white\"}, \"zaxis\": {\"backgroundcolor\": \"#E5ECF6\", \"gridcolor\": \"white\", \"gridwidth\": 2, \"linecolor\": \"white\", \"showbackground\": true, \"ticks\": \"\", \"zerolinecolor\": \"white\"}}, \"shapedefaults\": {\"line\": {\"color\": \"#2a3f5f\"}}, \"ternary\": {\"aaxis\": {\"gridcolor\": \"white\", \"linecolor\": \"white\", \"ticks\": \"\"}, \"baxis\": {\"gridcolor\": \"white\", \"linecolor\": \"white\", \"ticks\": \"\"}, \"bgcolor\": \"#E5ECF6\", \"caxis\": {\"gridcolor\": \"white\", \"linecolor\": \"white\", \"ticks\": \"\"}}, \"title\": {\"x\": 0.05}, \"xaxis\": {\"automargin\": true, \"gridcolor\": \"white\", \"linecolor\": \"white\", \"ticks\": \"\", \"title\": {\"standoff\": 15}, \"zerolinecolor\": \"white\", \"zerolinewidth\": 2}, \"yaxis\": {\"automargin\": true, \"gridcolor\": \"white\", \"linecolor\": \"white\", \"ticks\": \"\", \"title\": {\"standoff\": 15}, \"zerolinecolor\": \"white\", \"zerolinewidth\": 2}}}},                        {\"responsive\": true}                    ).then(function(){\n",
              "                            \n",
              "var gd = document.getElementById('c2d91a44-9f5f-4cf6-8ae2-2b0a7703a44b');\n",
              "var x = new MutationObserver(function (mutations, observer) {{\n",
              "        var display = window.getComputedStyle(gd).display;\n",
              "        if (!display || display === 'none') {{\n",
              "            console.log([gd, 'removed!']);\n",
              "            Plotly.purge(gd);\n",
              "            observer.disconnect();\n",
              "        }}\n",
              "}});\n",
              "\n",
              "// Listen for the removal of the full notebook cells\n",
              "var notebookContainer = gd.closest('#notebook-container');\n",
              "if (notebookContainer) {{\n",
              "    x.observe(notebookContainer, {childList: true});\n",
              "}}\n",
              "\n",
              "// Listen for the clearing of the current output cell\n",
              "var outputEl = gd.closest('.output');\n",
              "if (outputEl) {{\n",
              "    x.observe(outputEl, {childList: true});\n",
              "}}\n",
              "\n",
              "                        })                };                });            </script>        </div>"
            ]
          },
          "metadata": {},
          "output_type": "display_data"
        }
      ],
      "source": [
        "import plotly.express as px\n",
        "# df = px.data.gapminder().query(\"year==2007\")\n",
        "# fig = px.scatter_geo(fips_df, lat = \"lat\" , lon = \"lon\", locations=\"Name\",scope = 'usa', color ='fips',size = np.arange(1,59), locationmode='ISO-3', symbol = 'Name')\n",
        "fig = px.scatter_geo(fips_df, lat = \"lat\" , lon = \"lon\", scope = 'usa',hover_data = ['fips','Name','elevation'])\n",
        "fig.show()"
      ]
    },
    {
      "cell_type": "code",
      "execution_count": null,
      "metadata": {
        "id": "_TGVUmt6cRZ0"
      },
      "outputs": [],
      "source": [
        "# df = px.data.gapminder().query(\"year == 2007\")\n",
        "# fig = px.scatter_geo(df, locations=\"iso_alpha\",\n",
        "#                      color=\"continent\", # which column to use to set the color of markers\n",
        "#                      hover_name=\"country\", # column added to hover information\n",
        "#                      size=\"pop\", # size of markers\n",
        "#                      projection=\"natural earth\")\n",
        "# fig.show()\n",
        "# print(df)"
      ]
    },
    {
      "cell_type": "code",
      "execution_count": null,
      "metadata": {
        "id": "Bfv6HindcRZ1"
      },
      "outputs": [],
      "source": [
        "# import plotly.figure_factory as ff\n",
        "# #df_sample_r = df_sample[df_sample['STNAME'] == 'California']\n",
        "\n",
        "# values = cal_90d_agg['score'].tolist()\n",
        "# fips = cal_90d_agg['fips'].tolist()\n",
        "\n",
        "# colorscale = [\n",
        "#     'rgb(193, 193, 193)',\n",
        "#     'rgb(239,239,239)',\n",
        "#     'rgb(195, 196, 222)',\n",
        "#     'rgb(144,148,194)',\n",
        "#     'rgb(101,104,168)',\n",
        "#     'rgb(65, 53, 132)'\n",
        "# ]\n",
        "\n",
        "# fig = ff.create_choropleth(\n",
        "#     fips=fips, values=values, scope=['CA', 'AZ', 'Nevada', 'Oregon', ' Idaho'],\n",
        "#     binning_endpoints=[14348, 63983, 134827, 426762, 2081313], colorscale=colorscale,\n",
        "#     county_outline={'color': 'rgb(255,255,255)', 'width': 0.5}, round_legend_values=True,\n",
        "#     legend_title='Population by County', title='California and Nearby States'\n",
        "# )\n",
        "# fig.layout.template = None\n",
        "# fig.show()"
      ]
    },
    {
      "cell_type": "code",
      "execution_count": null,
      "metadata": {
        "id": "6nPcNO7McRZ2",
        "outputId": "e92ac928-e748-44a9-bc1c-bb551a360a4e"
      },
      "outputs": [
        {
          "name": "stdout",
          "output_type": "stream",
          "text": [
            "   fips        date  PRECTOT      PS  QV2M   T2M  T2MDEW  T2MWET  T2M_MAX  \\\n",
            "0  6001  2000-01-01     0.12   99.77  5.97  7.89    6.28    6.28    10.21   \n",
            "1  6001  2000-01-02     0.00  100.53  4.46  6.04    2.01    2.04    12.50   \n",
            "2  6001  2000-01-03     0.10  100.92  4.85  7.73    3.39    3.40    15.06   \n",
            "3  6001  2000-01-04     0.27  100.90  6.11  8.36    6.77    6.77    14.18   \n",
            "4  6001  2000-01-05     0.00  100.52  4.13  7.32    0.75    0.81    14.78   \n",
            "\n",
            "   T2M_MIN  ...    TS  WS10M  WS10M_MAX  WS10M_MIN  WS10M_RANGE  WS50M  \\\n",
            "0     5.88  ...  7.72   3.01       5.03       0.46         4.57   4.55   \n",
            "1     0.92  ...  6.06   3.13       4.61       2.00         2.61   4.82   \n",
            "2     3.06  ...  7.67   2.42       3.43       1.36         2.07   3.39   \n",
            "3     5.66  ...  8.24   1.92       2.84       1.15         1.69   2.96   \n",
            "4     2.24  ...  7.13   4.56       7.48       2.70         4.79   6.94   \n",
            "\n",
            "   WS50M_MAX  WS50M_MIN  WS50M_RANGE   score  \n",
            "0       8.58       0.76         7.82     NaN  \n",
            "1       6.20       2.71         3.49     NaN  \n",
            "2       4.74       2.15         2.59     NaN  \n",
            "3       5.17       1.30         3.87  0.6079  \n",
            "4       9.41       4.66         4.75     NaN  \n",
            "\n",
            "[5 rows x 21 columns]\n"
          ]
        }
      ],
      "source": [
        "score_df1 = pd.read_csv('drought dataset/full_dataset_CA_sorted.csv')\n",
        "score_df1 = score_df1.drop(columns=['Unnamed: 0'])\n",
        "print(score_df1.head())"
      ]
    },
    {
      "cell_type": "code",
      "execution_count": null,
      "metadata": {
        "id": "QaEftVhtcRZ3",
        "outputId": "55cf3aaf-49e7-4f6f-965e-4b8a4265d77a"
      },
      "outputs": [
        {
          "name": "stdout",
          "output_type": "stream",
          "text": [
            "   fips        date   score\n",
            "0  6001  2000-01-01     NaN\n",
            "1  6001  2000-01-02     NaN\n",
            "2  6001  2000-01-03     NaN\n",
            "3  6001  2000-01-04  0.6079\n",
            "4  6001  2000-01-05     NaN\n",
            "<class 'pandas.core.frame.DataFrame'>\n",
            "RangeIndex: 444918 entries, 0 to 444917\n",
            "Data columns (total 3 columns):\n",
            " #   Column  Non-Null Count   Dtype  \n",
            "---  ------  --------------   -----  \n",
            " 0   fips    444918 non-null  int64  \n",
            " 1   date    444918 non-null  object \n",
            " 2   score   63568 non-null   float64\n",
            "dtypes: float64(1), int64(1), object(1)\n",
            "memory usage: 10.2+ MB\n",
            "None\n"
          ]
        }
      ],
      "source": [
        "score_df2 = score_df1[['fips','date','score']]\n",
        "print(score_df2.head())\n",
        "print(score_df2.info())"
      ]
    },
    {
      "cell_type": "code",
      "execution_count": null,
      "metadata": {
        "id": "_dgb_B9scRZ3",
        "outputId": "f0331058-a5ca-4d71-b31a-4d7a9ab2da66"
      },
      "outputs": [
        {
          "name": "stderr",
          "output_type": "stream",
          "text": [
            "<ipython-input-24-46c598fd219f>:1: SettingWithCopyWarning:\n",
            "\n",
            "\n",
            "A value is trying to be set on a copy of a slice from a DataFrame.\n",
            "Try using .loc[row_indexer,col_indexer] = value instead\n",
            "\n",
            "See the caveats in the documentation: https://pandas.pydata.org/pandas-docs/stable/user_guide/indexing.html#returning-a-view-versus-a-copy\n",
            "\n"
          ]
        }
      ],
      "source": [
        "score_df2['date'] = pd.to_datetime(score_df2['date'])"
      ]
    },
    {
      "cell_type": "code",
      "execution_count": null,
      "metadata": {
        "id": "YUXuaxR7cRZ3",
        "outputId": "7782ee6e-5704-4961-ac31-640a9b4079b1"
      },
      "outputs": [
        {
          "name": "stdout",
          "output_type": "stream",
          "text": [
            "   fips       date   score\n",
            "0  6001 2000-01-01     NaN\n",
            "1  6001 2000-01-02     NaN\n",
            "2  6001 2000-01-03     NaN\n",
            "3  6001 2000-01-04  0.6079\n",
            "4  6001 2000-01-05     NaN\n",
            "<class 'pandas.core.frame.DataFrame'>\n",
            "RangeIndex: 444918 entries, 0 to 444917\n",
            "Data columns (total 3 columns):\n",
            " #   Column  Non-Null Count   Dtype         \n",
            "---  ------  --------------   -----         \n",
            " 0   fips    444918 non-null  int64         \n",
            " 1   date    444918 non-null  datetime64[ns]\n",
            " 2   score   63568 non-null   float64       \n",
            "dtypes: datetime64[ns](1), float64(1), int64(1)\n",
            "memory usage: 10.2 MB\n",
            "None\n"
          ]
        }
      ],
      "source": [
        "print(score_df2.head())\n",
        "print(score_df2.info())"
      ]
    },
    {
      "cell_type": "code",
      "execution_count": null,
      "metadata": {
        "id": "xCYDGZDYcRZ5",
        "outputId": "0b2e47ba-117b-467e-f439-ccbffc5b4ff9"
      },
      "outputs": [
        {
          "name": "stdout",
          "output_type": "stream",
          "text": [
            "    fips       date  score\n",
            "3   6001 2000-01-04    1.0\n",
            "10  6001 2000-01-11    1.0\n",
            "17  6001 2000-01-18    0.0\n",
            "24  6001 2000-01-25    0.0\n",
            "31  6001 2000-02-01    0.0\n",
            "<class 'pandas.core.frame.DataFrame'>\n",
            "Int64Index: 63568 entries, 3 to 444915\n",
            "Data columns (total 3 columns):\n",
            " #   Column  Non-Null Count  Dtype         \n",
            "---  ------  --------------  -----         \n",
            " 0   fips    63568 non-null  int64         \n",
            " 1   date    63568 non-null  datetime64[ns]\n",
            " 2   score   63568 non-null  float64       \n",
            "dtypes: datetime64[ns](1), float64(1), int64(1)\n",
            "memory usage: 1.9 MB\n",
            "None\n"
          ]
        },
        {
          "name": "stderr",
          "output_type": "stream",
          "text": [
            "<ipython-input-26-5403136478ed>:2: SettingWithCopyWarning:\n",
            "\n",
            "\n",
            "A value is trying to be set on a copy of a slice from a DataFrame.\n",
            "Try using .loc[row_indexer,col_indexer] = value instead\n",
            "\n",
            "See the caveats in the documentation: https://pandas.pydata.org/pandas-docs/stable/user_guide/indexing.html#returning-a-view-versus-a-copy\n",
            "\n"
          ]
        }
      ],
      "source": [
        "score_df3 = score_df2.dropna()\n",
        "score_df3['score'] = score_df2.score.round()\n",
        "# score_df3['score'] = score_df2['score'].astype('int64')\n",
        "print(score_df3.head())\n",
        "print(score_df3.info())"
      ]
    },
    {
      "cell_type": "code",
      "execution_count": null,
      "metadata": {
        "id": "k9tGTtb8cRZ5",
        "outputId": "8619c3ce-ba49-438d-815b-ec8a9925cfa3"
      },
      "outputs": [
        {
          "name": "stdout",
          "output_type": "stream",
          "text": [
            "    fips       date  score  year\n",
            "3   6001 2000-01-04    1.0  2000\n",
            "10  6001 2000-01-11    1.0  2000\n",
            "17  6001 2000-01-18    0.0  2000\n",
            "24  6001 2000-01-25    0.0  2000\n",
            "31  6001 2000-02-01    0.0  2000\n"
          ]
        },
        {
          "name": "stderr",
          "output_type": "stream",
          "text": [
            "<ipython-input-27-47b082fd5eb2>:1: SettingWithCopyWarning:\n",
            "\n",
            "\n",
            "A value is trying to be set on a copy of a slice from a DataFrame.\n",
            "Try using .loc[row_indexer,col_indexer] = value instead\n",
            "\n",
            "See the caveats in the documentation: https://pandas.pydata.org/pandas-docs/stable/user_guide/indexing.html#returning-a-view-versus-a-copy\n",
            "\n"
          ]
        }
      ],
      "source": [
        "score_df3['year'] = score_df3.date.dt.year\n",
        "print(score_df3.head())"
      ]
    },
    {
      "cell_type": "code",
      "execution_count": null,
      "metadata": {
        "id": "PneG4EizcRZ5",
        "outputId": "439f89bd-3dce-45e4-f70e-2aabb31a4156"
      },
      "outputs": [
        {
          "name": "stdout",
          "output_type": "stream",
          "text": [
            "    fips       date  score  year\n",
            "3   6001 2000-01-04    1.0  2000\n",
            "10  6001 2000-01-11    1.0  2000\n",
            "17  6001 2000-01-18    0.0  2000\n",
            "24  6001 2000-01-25    0.0  2000\n",
            "31  6001 2000-02-01    0.0  2000\n",
            "        fips       date  score  year\n",
            "442332  6115 2013-12-03    3.0  2013\n",
            "442339  6115 2013-12-10    3.0  2013\n",
            "442346  6115 2013-12-17    3.0  2013\n",
            "442353  6115 2013-12-24    3.0  2013\n",
            "442360  6115 2013-12-31    3.0  2013\n",
            "      fips       date  score  year\n",
            "5120  6001 2014-01-07    3.0  2014\n",
            "5127  6001 2014-01-14    4.0  2014\n",
            "5134  6001 2014-01-21    4.0  2014\n",
            "5141  6001 2014-01-28    4.0  2014\n",
            "5148  6001 2014-02-04    4.0  2014\n",
            "        fips       date  score  year\n",
            "444887  6115 2020-12-01    3.0  2020\n",
            "444894  6115 2020-12-08    3.0  2020\n",
            "444901  6115 2020-12-15    3.0  2020\n",
            "444908  6115 2020-12-22    3.0  2020\n",
            "444915  6115 2020-12-29    3.0  2020\n"
          ]
        }
      ],
      "source": [
        "df1 = score_df3[score_df3.year<=2013]\n",
        "df2 = score_df3[score_df3.year>=2014]\n",
        "print(df1.head())\n",
        "print(df1.tail())\n",
        "print(df2.head())\n",
        "print(df2.tail())"
      ]
    },
    {
      "cell_type": "code",
      "execution_count": null,
      "metadata": {
        "scrolled": true,
        "id": "0RkZuL8lcRZ6",
        "outputId": "3bc5ff3c-6735-4e34-c278-65a330b180d9"
      },
      "outputs": [
        {
          "name": "stdout",
          "output_type": "stream",
          "text": [
            "[0.0    421\n",
            "1.0    105\n",
            "2.0    117\n",
            "3.0     88\n",
            "Name: score, dtype: int64, 0.0    299\n",
            "1.0    172\n",
            "2.0    149\n",
            "3.0     96\n",
            "4.0     15\n",
            "Name: score, dtype: int64, 0.0    368\n",
            "1.0    156\n",
            "2.0    132\n",
            "3.0     68\n",
            "4.0      7\n",
            "Name: score, dtype: int64, 0.0    383\n",
            "1.0    124\n",
            "2.0    120\n",
            "3.0     96\n",
            "4.0      8\n",
            "Name: score, dtype: int64, 0.0    367\n",
            "1.0    153\n",
            "2.0    137\n",
            "3.0     67\n",
            "4.0      7\n",
            "Name: score, dtype: int64, 0.0    388\n",
            "1.0    112\n",
            "2.0    138\n",
            "3.0     87\n",
            "4.0      6\n",
            "Name: score, dtype: int64, 0.0    407\n",
            "1.0    104\n",
            "2.0    127\n",
            "3.0     93\n",
            "Name: score, dtype: int64, 0.0    563\n",
            "1.0     80\n",
            "2.0     30\n",
            "3.0     36\n",
            "4.0     22\n",
            "Name: score, dtype: int64, 0.0    376\n",
            "1.0    173\n",
            "2.0     95\n",
            "3.0     73\n",
            "4.0     14\n",
            "Name: score, dtype: int64, 0.0    309\n",
            "1.0    167\n",
            "2.0    101\n",
            "3.0    147\n",
            "4.0      7\n",
            "Name: score, dtype: int64, 0.0    389\n",
            "1.0    115\n",
            "2.0    124\n",
            "3.0     96\n",
            "4.0      7\n",
            "Name: score, dtype: int64, 0.0    528\n",
            "1.0     84\n",
            "2.0     70\n",
            "3.0     49\n",
            "Name: score, dtype: int64, 0.0    207\n",
            "1.0    167\n",
            "2.0    213\n",
            "3.0     75\n",
            "4.0     69\n",
            "Name: score, dtype: int64, 0.0    279\n",
            "1.0     99\n",
            "2.0    127\n",
            "3.0    212\n",
            "4.0     14\n",
            "Name: score, dtype: int64, 0.0    340\n",
            "1.0     89\n",
            "2.0    102\n",
            "3.0    179\n",
            "4.0     21\n",
            "Name: score, dtype: int64, 0.0    332\n",
            "1.0    129\n",
            "2.0     99\n",
            "3.0    150\n",
            "4.0     21\n",
            "Name: score, dtype: int64, 0.0    429\n",
            "1.0    114\n",
            "2.0    110\n",
            "3.0     73\n",
            "4.0      5\n",
            "Name: score, dtype: int64, 0.0    237\n",
            "1.0    103\n",
            "2.0    204\n",
            "3.0    150\n",
            "4.0     37\n",
            "Name: score, dtype: int64, 0.0    343\n",
            "1.0    140\n",
            "2.0    109\n",
            "3.0     96\n",
            "4.0     43\n",
            "Name: score, dtype: int64, 0.0    340\n",
            "1.0    130\n",
            "2.0    185\n",
            "3.0     69\n",
            "4.0      7\n",
            "Name: score, dtype: int64, 0.0    436\n",
            "1.0    121\n",
            "2.0    127\n",
            "3.0     47\n",
            "Name: score, dtype: int64, 0.0    353\n",
            "1.0    142\n",
            "2.0    147\n",
            "3.0     82\n",
            "4.0      7\n",
            "Name: score, dtype: int64, 0.0    469\n",
            "1.0    100\n",
            "2.0     81\n",
            "3.0     77\n",
            "4.0      4\n",
            "Name: score, dtype: int64, 0.0    362\n",
            "1.0    114\n",
            "2.0    151\n",
            "3.0     97\n",
            "4.0      7\n",
            "Name: score, dtype: int64, 0.0    218\n",
            "1.0     90\n",
            "2.0    270\n",
            "3.0    129\n",
            "4.0     24\n",
            "Name: score, dtype: int64, 0.0    234\n",
            "1.0    170\n",
            "2.0    182\n",
            "3.0    145\n",
            "Name: score, dtype: int64, 0.0    399\n",
            "1.0    131\n",
            "2.0    122\n",
            "3.0     79\n",
            "Name: score, dtype: int64, 0.0    415\n",
            "1.0    125\n",
            "2.0    113\n",
            "3.0     75\n",
            "4.0      3\n",
            "Name: score, dtype: int64, 0.0    381\n",
            "1.0    133\n",
            "2.0    133\n",
            "3.0     64\n",
            "4.0     20\n",
            "Name: score, dtype: int64, 0.0    340\n",
            "1.0    148\n",
            "2.0    105\n",
            "3.0    100\n",
            "4.0     38\n",
            "Name: score, dtype: int64, 0.0    375\n",
            "1.0    138\n",
            "2.0    129\n",
            "3.0     69\n",
            "4.0     20\n",
            "Name: score, dtype: int64, 0.0    305\n",
            "1.0    162\n",
            "2.0    159\n",
            "3.0     82\n",
            "4.0     23\n",
            "Name: score, dtype: int64, 0.0    216\n",
            "1.0    151\n",
            "2.0    242\n",
            "3.0     60\n",
            "4.0     62\n",
            "Name: score, dtype: int64, 0.0    386\n",
            "1.0    122\n",
            "2.0    130\n",
            "3.0     86\n",
            "4.0      7\n",
            "Name: score, dtype: int64, 0.0    366\n",
            "1.0    127\n",
            "2.0    125\n",
            "3.0    113\n",
            "Name: score, dtype: int64, 0.0    280\n",
            "1.0     79\n",
            "2.0    212\n",
            "3.0     87\n",
            "4.0     73\n",
            "Name: score, dtype: int64, 0.0    369\n",
            "1.0    122\n",
            "2.0    102\n",
            "3.0     96\n",
            "4.0     42\n",
            "Name: score, dtype: int64, 0.0    435\n",
            "1.0    114\n",
            "2.0    148\n",
            "3.0     34\n",
            "Name: score, dtype: int64, 0.0    374\n",
            "1.0    133\n",
            "2.0    130\n",
            "3.0     87\n",
            "4.0      7\n",
            "Name: score, dtype: int64, 0.0    377\n",
            "1.0    114\n",
            "2.0    124\n",
            "3.0     62\n",
            "4.0     54\n",
            "Name: score, dtype: int64, 0.0    446\n",
            "1.0     98\n",
            "2.0    133\n",
            "3.0     54\n",
            "Name: score, dtype: int64, 0.0    391\n",
            "1.0    118\n",
            "2.0    108\n",
            "3.0     60\n",
            "4.0     54\n",
            "Name: score, dtype: int64, 0.0    412\n",
            "1.0    122\n",
            "2.0    109\n",
            "3.0     88\n",
            "Name: score, dtype: int64, 0.0    422\n",
            "1.0    118\n",
            "2.0    127\n",
            "3.0     64\n",
            "Name: score, dtype: int64, 0.0    367\n",
            "1.0    170\n",
            "2.0    114\n",
            "3.0     61\n",
            "4.0     19\n",
            "Name: score, dtype: int64, 0.0    288\n",
            "1.0    173\n",
            "2.0    162\n",
            "3.0     80\n",
            "4.0     28\n",
            "Name: score, dtype: int64, 0.0    384\n",
            "1.0    175\n",
            "2.0    107\n",
            "3.0     44\n",
            "4.0     21\n",
            "Name: score, dtype: int64, 0.0    408\n",
            "1.0    114\n",
            "2.0    120\n",
            "3.0     89\n",
            "Name: score, dtype: int64, 0.0    431\n",
            "1.0    117\n",
            "2.0    106\n",
            "3.0     77\n",
            "Name: score, dtype: int64, 0.0    362\n",
            "1.0    138\n",
            "2.0    135\n",
            "3.0     89\n",
            "4.0      7\n",
            "Name: score, dtype: int64, 0.0    389\n",
            "1.0    107\n",
            "2.0    130\n",
            "3.0     99\n",
            "4.0      6\n",
            "Name: score, dtype: int64, 0.0    381\n",
            "1.0    142\n",
            "2.0     90\n",
            "3.0    111\n",
            "4.0      7\n",
            "Name: score, dtype: int64, 0.0    469\n",
            "1.0    111\n",
            "2.0     77\n",
            "3.0     74\n",
            "Name: score, dtype: int64, 0.0    309\n",
            "1.0    127\n",
            "2.0    135\n",
            "3.0    153\n",
            "4.0      7\n",
            "Name: score, dtype: int64, 0.0    367\n",
            "1.0    178\n",
            "2.0     92\n",
            "3.0     87\n",
            "4.0      7\n",
            "Name: score, dtype: int64, 0.0    372\n",
            "1.0    133\n",
            "2.0    112\n",
            "3.0     76\n",
            "4.0     38\n",
            "Name: score, dtype: int64, 0.0    398\n",
            "1.0    111\n",
            "2.0    129\n",
            "3.0     87\n",
            "4.0      6\n",
            "Name: score, dtype: int64, 0.0    391\n",
            "1.0    104\n",
            "2.0    133\n",
            "3.0     97\n",
            "4.0      6\n",
            "Name: score, dtype: int64]\n",
            "[0.0    117\n",
            "1.0     44\n",
            "2.0     30\n",
            "3.0     61\n",
            "4.0     71\n",
            "5.0     42\n",
            "Name: score, dtype: int64, 0.0    118\n",
            "1.0     41\n",
            "2.0     45\n",
            "3.0     39\n",
            "4.0     37\n",
            "5.0     85\n",
            "Name: score, dtype: int64, 0.0    137\n",
            "1.0     35\n",
            "2.0     32\n",
            "3.0     40\n",
            "4.0     33\n",
            "5.0     88\n",
            "Name: score, dtype: int64, 0.0    119\n",
            "1.0     43\n",
            "2.0     42\n",
            "3.0     29\n",
            "4.0     51\n",
            "5.0     81\n",
            "Name: score, dtype: int64, 0.0    131\n",
            "1.0     40\n",
            "2.0     33\n",
            "3.0      6\n",
            "4.0     65\n",
            "5.0     90\n",
            "Name: score, dtype: int64, 0.0    104\n",
            "1.0     37\n",
            "2.0     64\n",
            "3.0     28\n",
            "4.0    112\n",
            "5.0     20\n",
            "Name: score, dtype: int64, 0.0    104\n",
            "1.0     56\n",
            "2.0     11\n",
            "3.0     81\n",
            "4.0     79\n",
            "5.0     34\n",
            "Name: score, dtype: int64, 0.0    155\n",
            "1.0     56\n",
            "2.0     50\n",
            "3.0    102\n",
            "4.0      2\n",
            "Name: score, dtype: int64, 0.0    135\n",
            "1.0     33\n",
            "2.0     70\n",
            "3.0     14\n",
            "4.0     32\n",
            "5.0     81\n",
            "Name: score, dtype: int64, 0.0     89\n",
            "1.0     57\n",
            "2.0     50\n",
            "3.0     11\n",
            "4.0      8\n",
            "5.0    150\n",
            "Name: score, dtype: int64, 0.0    103\n",
            "1.0     29\n",
            "2.0     72\n",
            "3.0     29\n",
            "4.0    112\n",
            "5.0     20\n",
            "Name: score, dtype: int64, 0.0    149\n",
            "1.0     55\n",
            "2.0     20\n",
            "3.0     87\n",
            "4.0     34\n",
            "5.0     20\n",
            "Name: score, dtype: int64, 0.0     48\n",
            "1.0     46\n",
            "2.0    103\n",
            "3.0    136\n",
            "4.0     32\n",
            "Name: score, dtype: int64, 0.0     90\n",
            "1.0     89\n",
            "2.0     21\n",
            "3.0     44\n",
            "4.0    121\n",
            "Name: score, dtype: int64, 0.0    116\n",
            "1.0     26\n",
            "2.0     57\n",
            "3.0      7\n",
            "4.0      8\n",
            "5.0    151\n",
            "Name: score, dtype: int64, 0.0     86\n",
            "1.0     53\n",
            "2.0     60\n",
            "3.0      7\n",
            "4.0      5\n",
            "5.0    154\n",
            "Name: score, dtype: int64, 0.0    110\n",
            "1.0     29\n",
            "2.0     74\n",
            "3.0     34\n",
            "4.0     98\n",
            "5.0     20\n",
            "Name: score, dtype: int64, 0.0    142\n",
            "1.0     42\n",
            "2.0     38\n",
            "3.0     30\n",
            "4.0     35\n",
            "5.0     78\n",
            "Name: score, dtype: int64, 0.0     80\n",
            "1.0     15\n",
            "2.0     59\n",
            "3.0     53\n",
            "4.0     26\n",
            "5.0    132\n",
            "Name: score, dtype: int64, 0.0     95\n",
            "1.0     51\n",
            "2.0     48\n",
            "3.0     13\n",
            "4.0     46\n",
            "5.0    112\n",
            "Name: score, dtype: int64, 0.0    128\n",
            "1.0     72\n",
            "2.0     19\n",
            "3.0     99\n",
            "4.0     47\n",
            "Name: score, dtype: int64, 0.0    114\n",
            "1.0     35\n",
            "2.0     54\n",
            "3.0      5\n",
            "4.0     45\n",
            "5.0    112\n",
            "Name: score, dtype: int64, 0.0    126\n",
            "1.0     69\n",
            "2.0     23\n",
            "3.0     91\n",
            "4.0     36\n",
            "5.0     20\n",
            "Name: score, dtype: int64, 0.0     94\n",
            "1.0     54\n",
            "2.0     52\n",
            "3.0      7\n",
            "4.0     42\n",
            "5.0    116\n",
            "Name: score, dtype: int64, 0.0    117\n",
            "1.0     68\n",
            "2.0     47\n",
            "3.0     19\n",
            "4.0    100\n",
            "5.0     14\n",
            "Name: score, dtype: int64, 0.0    133\n",
            "1.0     33\n",
            "2.0     37\n",
            "3.0      6\n",
            "4.0     92\n",
            "5.0     64\n",
            "Name: score, dtype: int64, 0.0    132\n",
            "1.0     57\n",
            "2.0     17\n",
            "3.0      3\n",
            "4.0    102\n",
            "5.0     54\n",
            "Name: score, dtype: int64, 0.0    112\n",
            "1.0     79\n",
            "2.0     23\n",
            "3.0     33\n",
            "4.0     98\n",
            "5.0     20\n",
            "Name: score, dtype: int64, 0.0    122\n",
            "1.0     54\n",
            "2.0     47\n",
            "3.0     34\n",
            "4.0     33\n",
            "5.0     75\n",
            "Name: score, dtype: int64, 0.0     55\n",
            "1.0     45\n",
            "2.0     55\n",
            "3.0     52\n",
            "4.0     28\n",
            "5.0    130\n",
            "Name: score, dtype: int64, 0.0    135\n",
            "1.0     39\n",
            "2.0     64\n",
            "3.0     16\n",
            "4.0     36\n",
            "5.0     75\n",
            "Name: score, dtype: int64, 0.0    139\n",
            "1.0     29\n",
            "2.0     55\n",
            "3.0     24\n",
            "4.0     51\n",
            "5.0     67\n",
            "Name: score, dtype: int64, 0.0     68\n",
            "1.0     74\n",
            "2.0     38\n",
            "3.0    185\n",
            "Name: score, dtype: int64, 0.0    136\n",
            "1.0     24\n",
            "2.0     11\n",
            "3.0     71\n",
            "4.0     39\n",
            "5.0     84\n",
            "Name: score, dtype: int64, 0.0     49\n",
            "1.0    139\n",
            "2.0     15\n",
            "3.0      4\n",
            "4.0      4\n",
            "5.0    154\n",
            "Name: score, dtype: int64, 0.0    113\n",
            "1.0     22\n",
            "2.0     76\n",
            "3.0    151\n",
            "4.0      3\n",
            "Name: score, dtype: int64, 0.0     60\n",
            "1.0     86\n",
            "2.0     25\n",
            "3.0     43\n",
            "4.0    151\n",
            "Name: score, dtype: int64, 0.0    124\n",
            "1.0     80\n",
            "2.0     10\n",
            "3.0     99\n",
            "4.0     18\n",
            "5.0     34\n",
            "Name: score, dtype: int64, 0.0    129\n",
            "1.0     29\n",
            "2.0     33\n",
            "3.0     17\n",
            "4.0     61\n",
            "5.0     96\n",
            "Name: score, dtype: int64, 0.0     79\n",
            "1.0     64\n",
            "2.0     55\n",
            "3.0      8\n",
            "4.0      6\n",
            "5.0    153\n",
            "Name: score, dtype: int64, 0.0    122\n",
            "1.0     75\n",
            "2.0     40\n",
            "3.0     22\n",
            "4.0     64\n",
            "5.0     42\n",
            "Name: score, dtype: int64, 0.0     80\n",
            "1.0     14\n",
            "2.0     56\n",
            "3.0     56\n",
            "4.0      8\n",
            "5.0    151\n",
            "Name: score, dtype: int64, 0.0    113\n",
            "1.0     60\n",
            "2.0     38\n",
            "3.0     41\n",
            "4.0     71\n",
            "5.0     42\n",
            "Name: score, dtype: int64, 0.0    121\n",
            "1.0     95\n",
            "2.0     35\n",
            "3.0      8\n",
            "4.0     64\n",
            "5.0     42\n",
            "Name: score, dtype: int64, 0.0    131\n",
            "1.0     58\n",
            "2.0     43\n",
            "3.0     19\n",
            "4.0     94\n",
            "5.0     20\n",
            "Name: score, dtype: int64, 0.0    137\n",
            "1.0     31\n",
            "2.0     54\n",
            "3.0     28\n",
            "4.0     54\n",
            "5.0     61\n",
            "Name: score, dtype: int64, 0.0    114\n",
            "1.0     64\n",
            "2.0     28\n",
            "3.0    103\n",
            "4.0     56\n",
            "Name: score, dtype: int64, 0.0    104\n",
            "1.0     56\n",
            "2.0     14\n",
            "3.0     64\n",
            "4.0    107\n",
            "5.0     20\n",
            "Name: score, dtype: int64, 0.0    128\n",
            "1.0     72\n",
            "2.0     19\n",
            "3.0     94\n",
            "4.0     32\n",
            "5.0     20\n",
            "Name: score, dtype: int64, 0.0    96\n",
            "1.0    54\n",
            "2.0    50\n",
            "3.0     8\n",
            "4.0    61\n",
            "5.0    96\n",
            "Name: score, dtype: int64, 0.0    116\n",
            "1.0     39\n",
            "2.0     50\n",
            "3.0     28\n",
            "4.0     48\n",
            "5.0     84\n",
            "Name: score, dtype: int64, 0.0    106\n",
            "1.0     55\n",
            "2.0     43\n",
            "3.0     34\n",
            "4.0    107\n",
            "5.0     20\n",
            "Name: score, dtype: int64, 0.0    127\n",
            "1.0     40\n",
            "2.0     51\n",
            "3.0     76\n",
            "4.0     51\n",
            "5.0     20\n",
            "Name: score, dtype: int64, 0.0     96\n",
            "1.0     74\n",
            "2.0     24\n",
            "3.0     12\n",
            "4.0      9\n",
            "5.0    150\n",
            "Name: score, dtype: int64, 0.0    114\n",
            "1.0     49\n",
            "2.0     40\n",
            "3.0      5\n",
            "4.0     61\n",
            "5.0     96\n",
            "Name: score, dtype: int64, 0.0     79\n",
            "1.0     15\n",
            "2.0     55\n",
            "3.0     48\n",
            "4.0     32\n",
            "5.0    136\n",
            "Name: score, dtype: int64, 0.0    106\n",
            "1.0     50\n",
            "2.0     18\n",
            "3.0     55\n",
            "4.0     52\n",
            "5.0     84\n",
            "Name: score, dtype: int64, 0.0    120\n",
            "1.0     33\n",
            "2.0     52\n",
            "3.0     42\n",
            "4.0     34\n",
            "5.0     84\n",
            "Name: score, dtype: int64]\n"
          ]
        }
      ],
      "source": [
        "count1=[]\n",
        "count2=[]\n",
        "for fips in ca_fips:\n",
        "    x1=df1[df1['fips']==fips].score.value_counts().sort_index()\n",
        "    x2=df2[df2['fips']==fips].score.value_counts().sort_index()\n",
        "#     print(x)\n",
        "    count1.append(x1)\n",
        "    count2.append(x2)\n",
        "#print(count)\n",
        "# print(count[0])\n",
        "print(count1)\n",
        "print(count2)"
      ]
    },
    {
      "cell_type": "code",
      "execution_count": null,
      "metadata": {
        "scrolled": false,
        "id": "8xmHF8EwcRZ7",
        "outputId": "32021947-3b5b-467d-dada-130505bac730"
      },
      "outputs": [
        {
          "name": "stdout",
          "output_type": "stream",
          "text": [
            "        0.0    1.0    2.0    3.0   4.0\n",
            "6001  421.0  105.0  117.0   88.0   NaN\n",
            "6003  299.0  172.0  149.0   96.0  15.0\n",
            "6005  368.0  156.0  132.0   68.0   7.0\n",
            "6007  383.0  124.0  120.0   96.0   8.0\n",
            "6009  367.0  153.0  137.0   67.0   7.0\n",
            "6011  388.0  112.0  138.0   87.0   6.0\n",
            "6013  407.0  104.0  127.0   93.0   NaN\n",
            "6015  563.0   80.0   30.0   36.0  22.0\n",
            "6017  376.0  173.0   95.0   73.0  14.0\n",
            "6019  309.0  167.0  101.0  147.0   7.0\n",
            "6021  389.0  115.0  124.0   96.0   7.0\n",
            "6023  528.0   84.0   70.0   49.0   NaN\n",
            "6025  207.0  167.0  213.0   75.0  69.0\n",
            "6027  279.0   99.0  127.0  212.0  14.0\n",
            "6029  340.0   89.0  102.0  179.0  21.0\n",
            "6031  332.0  129.0   99.0  150.0  21.0\n",
            "6033  429.0  114.0  110.0   73.0   5.0\n",
            "6035  237.0  103.0  204.0  150.0  37.0\n",
            "6037  343.0  140.0  109.0   96.0  43.0\n",
            "6039  340.0  130.0  185.0   69.0   7.0\n",
            "6041  436.0  121.0  127.0   47.0   NaN\n",
            "6043  353.0  142.0  147.0   82.0   7.0\n",
            "6045  469.0  100.0   81.0   77.0   4.0\n",
            "6047  362.0  114.0  151.0   97.0   7.0\n",
            "6049  218.0   90.0  270.0  129.0  24.0\n",
            "6051  234.0  170.0  182.0  145.0   NaN\n",
            "6053  399.0  131.0  122.0   79.0   NaN\n",
            "6055  415.0  125.0  113.0   75.0   3.0\n",
            "6057  381.0  133.0  133.0   64.0  20.0\n",
            "6059  340.0  148.0  105.0  100.0  38.0\n",
            "6061  375.0  138.0  129.0   69.0  20.0\n",
            "6063  305.0  162.0  159.0   82.0  23.0\n",
            "6065  216.0  151.0  242.0   60.0  62.0\n",
            "6067  386.0  122.0  130.0   86.0   7.0\n",
            "6069  366.0  127.0  125.0  113.0   NaN\n",
            "6071  280.0   79.0  212.0   87.0  73.0\n",
            "6073  369.0  122.0  102.0   96.0  42.0\n",
            "6075  435.0  114.0  148.0   34.0   NaN\n",
            "6077  374.0  133.0  130.0   87.0   7.0\n",
            "6079  377.0  114.0  124.0   62.0  54.0\n",
            "6081  446.0   98.0  133.0   54.0   NaN\n",
            "6083  391.0  118.0  108.0   60.0  54.0\n",
            "6085  412.0  122.0  109.0   88.0   NaN\n",
            "6087  422.0  118.0  127.0   64.0   NaN\n",
            "6089  367.0  170.0  114.0   61.0  19.0\n",
            "6091  288.0  173.0  162.0   80.0  28.0\n",
            "6093  384.0  175.0  107.0   44.0  21.0\n",
            "6095  408.0  114.0  120.0   89.0   NaN\n",
            "6097  431.0  117.0  106.0   77.0   NaN\n",
            "6099  362.0  138.0  135.0   89.0   7.0\n",
            "6101  389.0  107.0  130.0   99.0   6.0\n",
            "6103  381.0  142.0   90.0  111.0   7.0\n",
            "6105  469.0  111.0   77.0   74.0   NaN\n",
            "6107  309.0  127.0  135.0  153.0   7.0\n",
            "6109  367.0  178.0   92.0   87.0   7.0\n",
            "6111  372.0  133.0  112.0   76.0  38.0\n",
            "6113  398.0  111.0  129.0   87.0   6.0\n",
            "6115  391.0  104.0  133.0   97.0   6.0\n"
          ]
        }
      ],
      "source": [
        "final_df1=pd.DataFrame(count1,index=ca_fips)\n",
        "print(final_df1)"
      ]
    },
    {
      "cell_type": "code",
      "execution_count": null,
      "metadata": {
        "id": "iNEGn122cRZ7",
        "outputId": "d47c7a6a-ef3b-4d7a-ddc0-5b86b54d6507"
      },
      "outputs": [
        {
          "name": "stdout",
          "output_type": "stream",
          "text": [
            "      2000_2013_0  2000_2013_1  2000_2013_2  2000_2013_3  2000_2013_4  \\\n",
            "6001        421.0        105.0        117.0         88.0          NaN   \n",
            "6003        299.0        172.0        149.0         96.0         15.0   \n",
            "6005        368.0        156.0        132.0         68.0          7.0   \n",
            "6007        383.0        124.0        120.0         96.0          8.0   \n",
            "6009        367.0        153.0        137.0         67.0          7.0   \n",
            "6011        388.0        112.0        138.0         87.0          6.0   \n",
            "6013        407.0        104.0        127.0         93.0          NaN   \n",
            "6015        563.0         80.0         30.0         36.0         22.0   \n",
            "6017        376.0        173.0         95.0         73.0         14.0   \n",
            "6019        309.0        167.0        101.0        147.0          7.0   \n",
            "6021        389.0        115.0        124.0         96.0          7.0   \n",
            "6023        528.0         84.0         70.0         49.0          NaN   \n",
            "6025        207.0        167.0        213.0         75.0         69.0   \n",
            "6027        279.0         99.0        127.0        212.0         14.0   \n",
            "6029        340.0         89.0        102.0        179.0         21.0   \n",
            "6031        332.0        129.0         99.0        150.0         21.0   \n",
            "6033        429.0        114.0        110.0         73.0          5.0   \n",
            "6035        237.0        103.0        204.0        150.0         37.0   \n",
            "6037        343.0        140.0        109.0         96.0         43.0   \n",
            "6039        340.0        130.0        185.0         69.0          7.0   \n",
            "6041        436.0        121.0        127.0         47.0          NaN   \n",
            "6043        353.0        142.0        147.0         82.0          7.0   \n",
            "6045        469.0        100.0         81.0         77.0          4.0   \n",
            "6047        362.0        114.0        151.0         97.0          7.0   \n",
            "6049        218.0         90.0        270.0        129.0         24.0   \n",
            "6051        234.0        170.0        182.0        145.0          NaN   \n",
            "6053        399.0        131.0        122.0         79.0          NaN   \n",
            "6055        415.0        125.0        113.0         75.0          3.0   \n",
            "6057        381.0        133.0        133.0         64.0         20.0   \n",
            "6059        340.0        148.0        105.0        100.0         38.0   \n",
            "6061        375.0        138.0        129.0         69.0         20.0   \n",
            "6063        305.0        162.0        159.0         82.0         23.0   \n",
            "6065        216.0        151.0        242.0         60.0         62.0   \n",
            "6067        386.0        122.0        130.0         86.0          7.0   \n",
            "6069        366.0        127.0        125.0        113.0          NaN   \n",
            "6071        280.0         79.0        212.0         87.0         73.0   \n",
            "6073        369.0        122.0        102.0         96.0         42.0   \n",
            "6075        435.0        114.0        148.0         34.0          NaN   \n",
            "6077        374.0        133.0        130.0         87.0          7.0   \n",
            "6079        377.0        114.0        124.0         62.0         54.0   \n",
            "6081        446.0         98.0        133.0         54.0          NaN   \n",
            "6083        391.0        118.0        108.0         60.0         54.0   \n",
            "6085        412.0        122.0        109.0         88.0          NaN   \n",
            "6087        422.0        118.0        127.0         64.0          NaN   \n",
            "6089        367.0        170.0        114.0         61.0         19.0   \n",
            "6091        288.0        173.0        162.0         80.0         28.0   \n",
            "6093        384.0        175.0        107.0         44.0         21.0   \n",
            "6095        408.0        114.0        120.0         89.0          NaN   \n",
            "6097        431.0        117.0        106.0         77.0          NaN   \n",
            "6099        362.0        138.0        135.0         89.0          7.0   \n",
            "6101        389.0        107.0        130.0         99.0          6.0   \n",
            "6103        381.0        142.0         90.0        111.0          7.0   \n",
            "6105        469.0        111.0         77.0         74.0          NaN   \n",
            "6107        309.0        127.0        135.0        153.0          7.0   \n",
            "6109        367.0        178.0         92.0         87.0          7.0   \n",
            "6111        372.0        133.0        112.0         76.0         38.0   \n",
            "6113        398.0        111.0        129.0         87.0          6.0   \n",
            "6115        391.0        104.0        133.0         97.0          6.0   \n",
            "\n",
            "      2000_2013_5  \n",
            "6001          0.0  \n",
            "6003          0.0  \n",
            "6005          0.0  \n",
            "6007          0.0  \n",
            "6009          0.0  \n",
            "6011          0.0  \n",
            "6013          0.0  \n",
            "6015          0.0  \n",
            "6017          0.0  \n",
            "6019          0.0  \n",
            "6021          0.0  \n",
            "6023          0.0  \n",
            "6025          0.0  \n",
            "6027          0.0  \n",
            "6029          0.0  \n",
            "6031          0.0  \n",
            "6033          0.0  \n",
            "6035          0.0  \n",
            "6037          0.0  \n",
            "6039          0.0  \n",
            "6041          0.0  \n",
            "6043          0.0  \n",
            "6045          0.0  \n",
            "6047          0.0  \n",
            "6049          0.0  \n",
            "6051          0.0  \n",
            "6053          0.0  \n",
            "6055          0.0  \n",
            "6057          0.0  \n",
            "6059          0.0  \n",
            "6061          0.0  \n",
            "6063          0.0  \n",
            "6065          0.0  \n",
            "6067          0.0  \n",
            "6069          0.0  \n",
            "6071          0.0  \n",
            "6073          0.0  \n",
            "6075          0.0  \n",
            "6077          0.0  \n",
            "6079          0.0  \n",
            "6081          0.0  \n",
            "6083          0.0  \n",
            "6085          0.0  \n",
            "6087          0.0  \n",
            "6089          0.0  \n",
            "6091          0.0  \n",
            "6093          0.0  \n",
            "6095          0.0  \n",
            "6097          0.0  \n",
            "6099          0.0  \n",
            "6101          0.0  \n",
            "6103          0.0  \n",
            "6105          0.0  \n",
            "6107          0.0  \n",
            "6109          0.0  \n",
            "6111          0.0  \n",
            "6113          0.0  \n",
            "6115          0.0  \n"
          ]
        }
      ],
      "source": [
        "tdf1 = np.zeros((58,1))\n",
        "tdf2 = pd.DataFrame(tdf1,index=ca_fips)\n",
        "final_df1['5.0'] = tdf2[0]\n",
        "ss_cols1 = ['2000_2013_0','2000_2013_1','2000_2013_2','2000_2013_3','2000_2013_4','2000_2013_5']\n",
        "final_df1.columns = ss_cols1\n",
        "print(final_df1)"
      ]
    },
    {
      "cell_type": "code",
      "execution_count": null,
      "metadata": {
        "id": "LNLfXbJTcRZ8",
        "outputId": "c8271889-0458-4a5f-bd17-7e12a5b891dc"
      },
      "outputs": [
        {
          "name": "stdout",
          "output_type": "stream",
          "text": [
            "      2000_2013_0  2000_2013_1  2000_2013_2  2000_2013_3  2000_2013_4  \\\n",
            "6001        421.0        105.0        117.0         88.0          0.0   \n",
            "6003        299.0        172.0        149.0         96.0         15.0   \n",
            "6005        368.0        156.0        132.0         68.0          7.0   \n",
            "6007        383.0        124.0        120.0         96.0          8.0   \n",
            "6009        367.0        153.0        137.0         67.0          7.0   \n",
            "6011        388.0        112.0        138.0         87.0          6.0   \n",
            "6013        407.0        104.0        127.0         93.0          0.0   \n",
            "6015        563.0         80.0         30.0         36.0         22.0   \n",
            "6017        376.0        173.0         95.0         73.0         14.0   \n",
            "6019        309.0        167.0        101.0        147.0          7.0   \n",
            "6021        389.0        115.0        124.0         96.0          7.0   \n",
            "6023        528.0         84.0         70.0         49.0          0.0   \n",
            "6025        207.0        167.0        213.0         75.0         69.0   \n",
            "6027        279.0         99.0        127.0        212.0         14.0   \n",
            "6029        340.0         89.0        102.0        179.0         21.0   \n",
            "6031        332.0        129.0         99.0        150.0         21.0   \n",
            "6033        429.0        114.0        110.0         73.0          5.0   \n",
            "6035        237.0        103.0        204.0        150.0         37.0   \n",
            "6037        343.0        140.0        109.0         96.0         43.0   \n",
            "6039        340.0        130.0        185.0         69.0          7.0   \n",
            "6041        436.0        121.0        127.0         47.0          0.0   \n",
            "6043        353.0        142.0        147.0         82.0          7.0   \n",
            "6045        469.0        100.0         81.0         77.0          4.0   \n",
            "6047        362.0        114.0        151.0         97.0          7.0   \n",
            "6049        218.0         90.0        270.0        129.0         24.0   \n",
            "6051        234.0        170.0        182.0        145.0          0.0   \n",
            "6053        399.0        131.0        122.0         79.0          0.0   \n",
            "6055        415.0        125.0        113.0         75.0          3.0   \n",
            "6057        381.0        133.0        133.0         64.0         20.0   \n",
            "6059        340.0        148.0        105.0        100.0         38.0   \n",
            "6061        375.0        138.0        129.0         69.0         20.0   \n",
            "6063        305.0        162.0        159.0         82.0         23.0   \n",
            "6065        216.0        151.0        242.0         60.0         62.0   \n",
            "6067        386.0        122.0        130.0         86.0          7.0   \n",
            "6069        366.0        127.0        125.0        113.0          0.0   \n",
            "6071        280.0         79.0        212.0         87.0         73.0   \n",
            "6073        369.0        122.0        102.0         96.0         42.0   \n",
            "6075        435.0        114.0        148.0         34.0          0.0   \n",
            "6077        374.0        133.0        130.0         87.0          7.0   \n",
            "6079        377.0        114.0        124.0         62.0         54.0   \n",
            "6081        446.0         98.0        133.0         54.0          0.0   \n",
            "6083        391.0        118.0        108.0         60.0         54.0   \n",
            "6085        412.0        122.0        109.0         88.0          0.0   \n",
            "6087        422.0        118.0        127.0         64.0          0.0   \n",
            "6089        367.0        170.0        114.0         61.0         19.0   \n",
            "6091        288.0        173.0        162.0         80.0         28.0   \n",
            "6093        384.0        175.0        107.0         44.0         21.0   \n",
            "6095        408.0        114.0        120.0         89.0          0.0   \n",
            "6097        431.0        117.0        106.0         77.0          0.0   \n",
            "6099        362.0        138.0        135.0         89.0          7.0   \n",
            "6101        389.0        107.0        130.0         99.0          6.0   \n",
            "6103        381.0        142.0         90.0        111.0          7.0   \n",
            "6105        469.0        111.0         77.0         74.0          0.0   \n",
            "6107        309.0        127.0        135.0        153.0          7.0   \n",
            "6109        367.0        178.0         92.0         87.0          7.0   \n",
            "6111        372.0        133.0        112.0         76.0         38.0   \n",
            "6113        398.0        111.0        129.0         87.0          6.0   \n",
            "6115        391.0        104.0        133.0         97.0          6.0   \n",
            "\n",
            "      2000_2013_5  \n",
            "6001          0.0  \n",
            "6003          0.0  \n",
            "6005          0.0  \n",
            "6007          0.0  \n",
            "6009          0.0  \n",
            "6011          0.0  \n",
            "6013          0.0  \n",
            "6015          0.0  \n",
            "6017          0.0  \n",
            "6019          0.0  \n",
            "6021          0.0  \n",
            "6023          0.0  \n",
            "6025          0.0  \n",
            "6027          0.0  \n",
            "6029          0.0  \n",
            "6031          0.0  \n",
            "6033          0.0  \n",
            "6035          0.0  \n",
            "6037          0.0  \n",
            "6039          0.0  \n",
            "6041          0.0  \n",
            "6043          0.0  \n",
            "6045          0.0  \n",
            "6047          0.0  \n",
            "6049          0.0  \n",
            "6051          0.0  \n",
            "6053          0.0  \n",
            "6055          0.0  \n",
            "6057          0.0  \n",
            "6059          0.0  \n",
            "6061          0.0  \n",
            "6063          0.0  \n",
            "6065          0.0  \n",
            "6067          0.0  \n",
            "6069          0.0  \n",
            "6071          0.0  \n",
            "6073          0.0  \n",
            "6075          0.0  \n",
            "6077          0.0  \n",
            "6079          0.0  \n",
            "6081          0.0  \n",
            "6083          0.0  \n",
            "6085          0.0  \n",
            "6087          0.0  \n",
            "6089          0.0  \n",
            "6091          0.0  \n",
            "6093          0.0  \n",
            "6095          0.0  \n",
            "6097          0.0  \n",
            "6099          0.0  \n",
            "6101          0.0  \n",
            "6103          0.0  \n",
            "6105          0.0  \n",
            "6107          0.0  \n",
            "6109          0.0  \n",
            "6111          0.0  \n",
            "6113          0.0  \n",
            "6115          0.0  \n"
          ]
        }
      ],
      "source": [
        "final_df1 = final_df1.fillna(0.0)\n",
        "print(final_df1)"
      ]
    },
    {
      "cell_type": "code",
      "execution_count": null,
      "metadata": {
        "id": "8B5e119HcRZ9",
        "outputId": "2beca75c-9d9d-4b15-f75d-73d6d36f7579"
      },
      "outputs": [
        {
          "name": "stdout",
          "output_type": "stream",
          "text": [
            "      2000_2013_0  2000_2013_1  2000_2013_2  2000_2013_3  2000_2013_4  \\\n",
            "6001     0.575923     0.143639     0.160055     0.120383     0.000000   \n",
            "6003     0.409029     0.235294     0.203830     0.131327     0.020520   \n",
            "6005     0.503420     0.213406     0.180575     0.093023     0.009576   \n",
            "6007     0.523940     0.169631     0.164159     0.131327     0.010944   \n",
            "6009     0.502052     0.209302     0.187415     0.091655     0.009576   \n",
            "6011     0.530780     0.153215     0.188782     0.119015     0.008208   \n",
            "6013     0.556772     0.142271     0.173735     0.127223     0.000000   \n",
            "6015     0.770178     0.109439     0.041040     0.049248     0.030096   \n",
            "6017     0.514364     0.236662     0.129959     0.099863     0.019152   \n",
            "6019     0.422709     0.228454     0.138167     0.201094     0.009576   \n",
            "6021     0.532148     0.157319     0.169631     0.131327     0.009576   \n",
            "6023     0.722298     0.114911     0.095759     0.067031     0.000000   \n",
            "6025     0.283174     0.228454     0.291382     0.102599     0.094391   \n",
            "6027     0.381669     0.135431     0.173735     0.290014     0.019152   \n",
            "6029     0.465116     0.121751     0.139535     0.244870     0.028728   \n",
            "6031     0.454172     0.176471     0.135431     0.205198     0.028728   \n",
            "6033     0.586867     0.155951     0.150479     0.099863     0.006840   \n",
            "6035     0.324213     0.140903     0.279070     0.205198     0.050616   \n",
            "6037     0.469220     0.191518     0.149111     0.131327     0.058824   \n",
            "6039     0.465116     0.177839     0.253078     0.094391     0.009576   \n",
            "6041     0.596443     0.165527     0.173735     0.064295     0.000000   \n",
            "6043     0.482900     0.194254     0.201094     0.112175     0.009576   \n",
            "6045     0.641587     0.136799     0.110807     0.105335     0.005472   \n",
            "6047     0.495212     0.155951     0.206566     0.132695     0.009576   \n",
            "6049     0.298222     0.123119     0.369357     0.176471     0.032832   \n",
            "6051     0.320109     0.232558     0.248974     0.198358     0.000000   \n",
            "6053     0.545828     0.179207     0.166895     0.108071     0.000000   \n",
            "6055     0.567715     0.170999     0.154583     0.102599     0.004104   \n",
            "6057     0.521204     0.181943     0.181943     0.087551     0.027360   \n",
            "6059     0.465116     0.202462     0.143639     0.136799     0.051984   \n",
            "6061     0.512996     0.188782     0.176471     0.094391     0.027360   \n",
            "6063     0.417237     0.221614     0.217510     0.112175     0.031464   \n",
            "6065     0.295486     0.206566     0.331053     0.082079     0.084815   \n",
            "6067     0.528044     0.166895     0.177839     0.117647     0.009576   \n",
            "6069     0.500684     0.173735     0.170999     0.154583     0.000000   \n",
            "6071     0.383037     0.108071     0.290014     0.119015     0.099863   \n",
            "6073     0.504788     0.166895     0.139535     0.131327     0.057456   \n",
            "6075     0.595075     0.155951     0.202462     0.046512     0.000000   \n",
            "6077     0.511628     0.181943     0.177839     0.119015     0.009576   \n",
            "6079     0.515732     0.155951     0.169631     0.084815     0.073871   \n",
            "6081     0.610123     0.134063     0.181943     0.073871     0.000000   \n",
            "6083     0.534884     0.161423     0.147743     0.082079     0.073871   \n",
            "6085     0.563611     0.166895     0.149111     0.120383     0.000000   \n",
            "6087     0.577291     0.161423     0.173735     0.087551     0.000000   \n",
            "6089     0.502052     0.232558     0.155951     0.083447     0.025992   \n",
            "6091     0.393981     0.236662     0.221614     0.109439     0.038304   \n",
            "6093     0.525308     0.239398     0.146375     0.060192     0.028728   \n",
            "6095     0.558140     0.155951     0.164159     0.121751     0.000000   \n",
            "6097     0.589603     0.160055     0.145007     0.105335     0.000000   \n",
            "6099     0.495212     0.188782     0.184679     0.121751     0.009576   \n",
            "6101     0.532148     0.146375     0.177839     0.135431     0.008208   \n",
            "6103     0.521204     0.194254     0.123119     0.151847     0.009576   \n",
            "6105     0.641587     0.151847     0.105335     0.101231     0.000000   \n",
            "6107     0.422709     0.173735     0.184679     0.209302     0.009576   \n",
            "6109     0.502052     0.243502     0.125855     0.119015     0.009576   \n",
            "6111     0.508892     0.181943     0.153215     0.103967     0.051984   \n",
            "6113     0.544460     0.151847     0.176471     0.119015     0.008208   \n",
            "6115     0.534884     0.142271     0.181943     0.132695     0.008208   \n",
            "\n",
            "      2000_2013_5  \n",
            "6001          0.0  \n",
            "6003          0.0  \n",
            "6005          0.0  \n",
            "6007          0.0  \n",
            "6009          0.0  \n",
            "6011          0.0  \n",
            "6013          0.0  \n",
            "6015          0.0  \n",
            "6017          0.0  \n",
            "6019          0.0  \n",
            "6021          0.0  \n",
            "6023          0.0  \n",
            "6025          0.0  \n",
            "6027          0.0  \n",
            "6029          0.0  \n",
            "6031          0.0  \n",
            "6033          0.0  \n",
            "6035          0.0  \n",
            "6037          0.0  \n",
            "6039          0.0  \n",
            "6041          0.0  \n",
            "6043          0.0  \n",
            "6045          0.0  \n",
            "6047          0.0  \n",
            "6049          0.0  \n",
            "6051          0.0  \n",
            "6053          0.0  \n",
            "6055          0.0  \n",
            "6057          0.0  \n",
            "6059          0.0  \n",
            "6061          0.0  \n",
            "6063          0.0  \n",
            "6065          0.0  \n",
            "6067          0.0  \n",
            "6069          0.0  \n",
            "6071          0.0  \n",
            "6073          0.0  \n",
            "6075          0.0  \n",
            "6077          0.0  \n",
            "6079          0.0  \n",
            "6081          0.0  \n",
            "6083          0.0  \n",
            "6085          0.0  \n",
            "6087          0.0  \n",
            "6089          0.0  \n",
            "6091          0.0  \n",
            "6093          0.0  \n",
            "6095          0.0  \n",
            "6097          0.0  \n",
            "6099          0.0  \n",
            "6101          0.0  \n",
            "6103          0.0  \n",
            "6105          0.0  \n",
            "6107          0.0  \n",
            "6109          0.0  \n",
            "6111          0.0  \n",
            "6113          0.0  \n",
            "6115          0.0  \n"
          ]
        }
      ],
      "source": [
        "final_df1_pct = final_df1/731.0\n",
        "print(final_df1_pct)"
      ]
    },
    {
      "cell_type": "code",
      "execution_count": null,
      "metadata": {
        "id": "w3SyLiEzcRZ9",
        "outputId": "614adc81-7386-4f65-ab27-00fcbf1c3645"
      },
      "outputs": [
        {
          "name": "stdout",
          "output_type": "stream",
          "text": [
            "      2014_2020_0  2014_2020_1  2014_2020_2  2014_2020_3  2014_2020_4  \\\n",
            "6001        117.0         44.0         30.0         61.0         71.0   \n",
            "6003        118.0         41.0         45.0         39.0         37.0   \n",
            "6005        137.0         35.0         32.0         40.0         33.0   \n",
            "6007        119.0         43.0         42.0         29.0         51.0   \n",
            "6009        131.0         40.0         33.0          6.0         65.0   \n",
            "6011        104.0         37.0         64.0         28.0        112.0   \n",
            "6013        104.0         56.0         11.0         81.0         79.0   \n",
            "6015        155.0         56.0         50.0        102.0          2.0   \n",
            "6017        135.0         33.0         70.0         14.0         32.0   \n",
            "6019         89.0         57.0         50.0         11.0          8.0   \n",
            "6021        103.0         29.0         72.0         29.0        112.0   \n",
            "6023        149.0         55.0         20.0         87.0         34.0   \n",
            "6025         48.0         46.0        103.0        136.0         32.0   \n",
            "6027         90.0         89.0         21.0         44.0        121.0   \n",
            "6029        116.0         26.0         57.0          7.0          8.0   \n",
            "6031         86.0         53.0         60.0          7.0          5.0   \n",
            "6033        110.0         29.0         74.0         34.0         98.0   \n",
            "6035        142.0         42.0         38.0         30.0         35.0   \n",
            "6037         80.0         15.0         59.0         53.0         26.0   \n",
            "6039         95.0         51.0         48.0         13.0         46.0   \n",
            "6041        128.0         72.0         19.0         99.0         47.0   \n",
            "6043        114.0         35.0         54.0          5.0         45.0   \n",
            "6045        126.0         69.0         23.0         91.0         36.0   \n",
            "6047         94.0         54.0         52.0          7.0         42.0   \n",
            "6049        117.0         68.0         47.0         19.0        100.0   \n",
            "6051        133.0         33.0         37.0          6.0         92.0   \n",
            "6053        132.0         57.0         17.0          3.0        102.0   \n",
            "6055        112.0         79.0         23.0         33.0         98.0   \n",
            "6057        122.0         54.0         47.0         34.0         33.0   \n",
            "6059         55.0         45.0         55.0         52.0         28.0   \n",
            "6061        135.0         39.0         64.0         16.0         36.0   \n",
            "6063        139.0         29.0         55.0         24.0         51.0   \n",
            "6065         68.0         74.0         38.0        185.0          NaN   \n",
            "6067        136.0         24.0         11.0         71.0         39.0   \n",
            "6069         49.0        139.0         15.0          4.0          4.0   \n",
            "6071        113.0         22.0         76.0        151.0          3.0   \n",
            "6073         60.0         86.0         25.0         43.0        151.0   \n",
            "6075        124.0         80.0         10.0         99.0         18.0   \n",
            "6077        129.0         29.0         33.0         17.0         61.0   \n",
            "6079         79.0         64.0         55.0          8.0          6.0   \n",
            "6081        122.0         75.0         40.0         22.0         64.0   \n",
            "6083         80.0         14.0         56.0         56.0          8.0   \n",
            "6085        113.0         60.0         38.0         41.0         71.0   \n",
            "6087        121.0         95.0         35.0          8.0         64.0   \n",
            "6089        131.0         58.0         43.0         19.0         94.0   \n",
            "6091        137.0         31.0         54.0         28.0         54.0   \n",
            "6093        114.0         64.0         28.0        103.0         56.0   \n",
            "6095        104.0         56.0         14.0         64.0        107.0   \n",
            "6097        128.0         72.0         19.0         94.0         32.0   \n",
            "6099         96.0         54.0         50.0          8.0         61.0   \n",
            "6101        116.0         39.0         50.0         28.0         48.0   \n",
            "6103        106.0         55.0         43.0         34.0        107.0   \n",
            "6105        127.0         40.0         51.0         76.0         51.0   \n",
            "6107         96.0         74.0         24.0         12.0          9.0   \n",
            "6109        114.0         49.0         40.0          5.0         61.0   \n",
            "6111         79.0         15.0         55.0         48.0         32.0   \n",
            "6113        106.0         50.0         18.0         55.0         52.0   \n",
            "6115        120.0         33.0         52.0         42.0         34.0   \n",
            "\n",
            "      2014_2020_5  \n",
            "6001         42.0  \n",
            "6003         85.0  \n",
            "6005         88.0  \n",
            "6007         81.0  \n",
            "6009         90.0  \n",
            "6011         20.0  \n",
            "6013         34.0  \n",
            "6015          NaN  \n",
            "6017         81.0  \n",
            "6019        150.0  \n",
            "6021         20.0  \n",
            "6023         20.0  \n",
            "6025          NaN  \n",
            "6027          NaN  \n",
            "6029        151.0  \n",
            "6031        154.0  \n",
            "6033         20.0  \n",
            "6035         78.0  \n",
            "6037        132.0  \n",
            "6039        112.0  \n",
            "6041          NaN  \n",
            "6043        112.0  \n",
            "6045         20.0  \n",
            "6047        116.0  \n",
            "6049         14.0  \n",
            "6051         64.0  \n",
            "6053         54.0  \n",
            "6055         20.0  \n",
            "6057         75.0  \n",
            "6059        130.0  \n",
            "6061         75.0  \n",
            "6063         67.0  \n",
            "6065          NaN  \n",
            "6067         84.0  \n",
            "6069        154.0  \n",
            "6071          NaN  \n",
            "6073          NaN  \n",
            "6075         34.0  \n",
            "6077         96.0  \n",
            "6079        153.0  \n",
            "6081         42.0  \n",
            "6083        151.0  \n",
            "6085         42.0  \n",
            "6087         42.0  \n",
            "6089         20.0  \n",
            "6091         61.0  \n",
            "6093          NaN  \n",
            "6095         20.0  \n",
            "6097         20.0  \n",
            "6099         96.0  \n",
            "6101         84.0  \n",
            "6103         20.0  \n",
            "6105         20.0  \n",
            "6107        150.0  \n",
            "6109         96.0  \n",
            "6111        136.0  \n",
            "6113         84.0  \n",
            "6115         84.0  \n"
          ]
        }
      ],
      "source": [
        "final_df2=pd.DataFrame(count2,index=ca_fips)\n",
        "final_df2.columns = ['2014_2020_0','2014_2020_1','2014_2020_2','2014_2020_3','2014_2020_4','2014_2020_5']\n",
        "print(final_df2)"
      ]
    },
    {
      "cell_type": "code",
      "execution_count": null,
      "metadata": {
        "id": "hJKx19qLcRZ-",
        "outputId": "23ca86de-6c75-4f1d-f3ce-368d17f51b0e"
      },
      "outputs": [
        {
          "name": "stdout",
          "output_type": "stream",
          "text": [
            "      2014_2020_0  2014_2020_1  2014_2020_2  2014_2020_3  2014_2020_4  \\\n",
            "6001        117.0         44.0         30.0         61.0         71.0   \n",
            "6003        118.0         41.0         45.0         39.0         37.0   \n",
            "6005        137.0         35.0         32.0         40.0         33.0   \n",
            "6007        119.0         43.0         42.0         29.0         51.0   \n",
            "6009        131.0         40.0         33.0          6.0         65.0   \n",
            "6011        104.0         37.0         64.0         28.0        112.0   \n",
            "6013        104.0         56.0         11.0         81.0         79.0   \n",
            "6015        155.0         56.0         50.0        102.0          2.0   \n",
            "6017        135.0         33.0         70.0         14.0         32.0   \n",
            "6019         89.0         57.0         50.0         11.0          8.0   \n",
            "6021        103.0         29.0         72.0         29.0        112.0   \n",
            "6023        149.0         55.0         20.0         87.0         34.0   \n",
            "6025         48.0         46.0        103.0        136.0         32.0   \n",
            "6027         90.0         89.0         21.0         44.0        121.0   \n",
            "6029        116.0         26.0         57.0          7.0          8.0   \n",
            "6031         86.0         53.0         60.0          7.0          5.0   \n",
            "6033        110.0         29.0         74.0         34.0         98.0   \n",
            "6035        142.0         42.0         38.0         30.0         35.0   \n",
            "6037         80.0         15.0         59.0         53.0         26.0   \n",
            "6039         95.0         51.0         48.0         13.0         46.0   \n",
            "6041        128.0         72.0         19.0         99.0         47.0   \n",
            "6043        114.0         35.0         54.0          5.0         45.0   \n",
            "6045        126.0         69.0         23.0         91.0         36.0   \n",
            "6047         94.0         54.0         52.0          7.0         42.0   \n",
            "6049        117.0         68.0         47.0         19.0        100.0   \n",
            "6051        133.0         33.0         37.0          6.0         92.0   \n",
            "6053        132.0         57.0         17.0          3.0        102.0   \n",
            "6055        112.0         79.0         23.0         33.0         98.0   \n",
            "6057        122.0         54.0         47.0         34.0         33.0   \n",
            "6059         55.0         45.0         55.0         52.0         28.0   \n",
            "6061        135.0         39.0         64.0         16.0         36.0   \n",
            "6063        139.0         29.0         55.0         24.0         51.0   \n",
            "6065         68.0         74.0         38.0        185.0          0.0   \n",
            "6067        136.0         24.0         11.0         71.0         39.0   \n",
            "6069         49.0        139.0         15.0          4.0          4.0   \n",
            "6071        113.0         22.0         76.0        151.0          3.0   \n",
            "6073         60.0         86.0         25.0         43.0        151.0   \n",
            "6075        124.0         80.0         10.0         99.0         18.0   \n",
            "6077        129.0         29.0         33.0         17.0         61.0   \n",
            "6079         79.0         64.0         55.0          8.0          6.0   \n",
            "6081        122.0         75.0         40.0         22.0         64.0   \n",
            "6083         80.0         14.0         56.0         56.0          8.0   \n",
            "6085        113.0         60.0         38.0         41.0         71.0   \n",
            "6087        121.0         95.0         35.0          8.0         64.0   \n",
            "6089        131.0         58.0         43.0         19.0         94.0   \n",
            "6091        137.0         31.0         54.0         28.0         54.0   \n",
            "6093        114.0         64.0         28.0        103.0         56.0   \n",
            "6095        104.0         56.0         14.0         64.0        107.0   \n",
            "6097        128.0         72.0         19.0         94.0         32.0   \n",
            "6099         96.0         54.0         50.0          8.0         61.0   \n",
            "6101        116.0         39.0         50.0         28.0         48.0   \n",
            "6103        106.0         55.0         43.0         34.0        107.0   \n",
            "6105        127.0         40.0         51.0         76.0         51.0   \n",
            "6107         96.0         74.0         24.0         12.0          9.0   \n",
            "6109        114.0         49.0         40.0          5.0         61.0   \n",
            "6111         79.0         15.0         55.0         48.0         32.0   \n",
            "6113        106.0         50.0         18.0         55.0         52.0   \n",
            "6115        120.0         33.0         52.0         42.0         34.0   \n",
            "\n",
            "      2014_2020_5  \n",
            "6001         42.0  \n",
            "6003         85.0  \n",
            "6005         88.0  \n",
            "6007         81.0  \n",
            "6009         90.0  \n",
            "6011         20.0  \n",
            "6013         34.0  \n",
            "6015          0.0  \n",
            "6017         81.0  \n",
            "6019        150.0  \n",
            "6021         20.0  \n",
            "6023         20.0  \n",
            "6025          0.0  \n",
            "6027          0.0  \n",
            "6029        151.0  \n",
            "6031        154.0  \n",
            "6033         20.0  \n",
            "6035         78.0  \n",
            "6037        132.0  \n",
            "6039        112.0  \n",
            "6041          0.0  \n",
            "6043        112.0  \n",
            "6045         20.0  \n",
            "6047        116.0  \n",
            "6049         14.0  \n",
            "6051         64.0  \n",
            "6053         54.0  \n",
            "6055         20.0  \n",
            "6057         75.0  \n",
            "6059        130.0  \n",
            "6061         75.0  \n",
            "6063         67.0  \n",
            "6065          0.0  \n",
            "6067         84.0  \n",
            "6069        154.0  \n",
            "6071          0.0  \n",
            "6073          0.0  \n",
            "6075         34.0  \n",
            "6077         96.0  \n",
            "6079        153.0  \n",
            "6081         42.0  \n",
            "6083        151.0  \n",
            "6085         42.0  \n",
            "6087         42.0  \n",
            "6089         20.0  \n",
            "6091         61.0  \n",
            "6093          0.0  \n",
            "6095         20.0  \n",
            "6097         20.0  \n",
            "6099         96.0  \n",
            "6101         84.0  \n",
            "6103         20.0  \n",
            "6105         20.0  \n",
            "6107        150.0  \n",
            "6109         96.0  \n",
            "6111        136.0  \n",
            "6113         84.0  \n",
            "6115         84.0  \n"
          ]
        }
      ],
      "source": [
        "final_df2 = final_df2.fillna(0.0)\n",
        "print(final_df2)"
      ]
    },
    {
      "cell_type": "code",
      "execution_count": null,
      "metadata": {
        "id": "VzWfwJ6bcRZ-",
        "outputId": "eb3f653a-c0d0-4595-a559-6b08016fe3f1"
      },
      "outputs": [
        {
          "name": "stdout",
          "output_type": "stream",
          "text": [
            "      2014_2020_0  2014_2020_1  2014_2020_2  2014_2020_3  2014_2020_4  \\\n",
            "6001     0.320548     0.120548     0.082192     0.167123     0.194521   \n",
            "6003     0.323288     0.112329     0.123288     0.106849     0.101370   \n",
            "6005     0.375342     0.095890     0.087671     0.109589     0.090411   \n",
            "6007     0.326027     0.117808     0.115068     0.079452     0.139726   \n",
            "6009     0.358904     0.109589     0.090411     0.016438     0.178082   \n",
            "6011     0.284932     0.101370     0.175342     0.076712     0.306849   \n",
            "6013     0.284932     0.153425     0.030137     0.221918     0.216438   \n",
            "6015     0.424658     0.153425     0.136986     0.279452     0.005479   \n",
            "6017     0.369863     0.090411     0.191781     0.038356     0.087671   \n",
            "6019     0.243836     0.156164     0.136986     0.030137     0.021918   \n",
            "6021     0.282192     0.079452     0.197260     0.079452     0.306849   \n",
            "6023     0.408219     0.150685     0.054795     0.238356     0.093151   \n",
            "6025     0.131507     0.126027     0.282192     0.372603     0.087671   \n",
            "6027     0.246575     0.243836     0.057534     0.120548     0.331507   \n",
            "6029     0.317808     0.071233     0.156164     0.019178     0.021918   \n",
            "6031     0.235616     0.145205     0.164384     0.019178     0.013699   \n",
            "6033     0.301370     0.079452     0.202740     0.093151     0.268493   \n",
            "6035     0.389041     0.115068     0.104110     0.082192     0.095890   \n",
            "6037     0.219178     0.041096     0.161644     0.145205     0.071233   \n",
            "6039     0.260274     0.139726     0.131507     0.035616     0.126027   \n",
            "6041     0.350685     0.197260     0.052055     0.271233     0.128767   \n",
            "6043     0.312329     0.095890     0.147945     0.013699     0.123288   \n",
            "6045     0.345205     0.189041     0.063014     0.249315     0.098630   \n",
            "6047     0.257534     0.147945     0.142466     0.019178     0.115068   \n",
            "6049     0.320548     0.186301     0.128767     0.052055     0.273973   \n",
            "6051     0.364384     0.090411     0.101370     0.016438     0.252055   \n",
            "6053     0.361644     0.156164     0.046575     0.008219     0.279452   \n",
            "6055     0.306849     0.216438     0.063014     0.090411     0.268493   \n",
            "6057     0.334247     0.147945     0.128767     0.093151     0.090411   \n",
            "6059     0.150685     0.123288     0.150685     0.142466     0.076712   \n",
            "6061     0.369863     0.106849     0.175342     0.043836     0.098630   \n",
            "6063     0.380822     0.079452     0.150685     0.065753     0.139726   \n",
            "6065     0.186301     0.202740     0.104110     0.506849     0.000000   \n",
            "6067     0.372603     0.065753     0.030137     0.194521     0.106849   \n",
            "6069     0.134247     0.380822     0.041096     0.010959     0.010959   \n",
            "6071     0.309589     0.060274     0.208219     0.413699     0.008219   \n",
            "6073     0.164384     0.235616     0.068493     0.117808     0.413699   \n",
            "6075     0.339726     0.219178     0.027397     0.271233     0.049315   \n",
            "6077     0.353425     0.079452     0.090411     0.046575     0.167123   \n",
            "6079     0.216438     0.175342     0.150685     0.021918     0.016438   \n",
            "6081     0.334247     0.205479     0.109589     0.060274     0.175342   \n",
            "6083     0.219178     0.038356     0.153425     0.153425     0.021918   \n",
            "6085     0.309589     0.164384     0.104110     0.112329     0.194521   \n",
            "6087     0.331507     0.260274     0.095890     0.021918     0.175342   \n",
            "6089     0.358904     0.158904     0.117808     0.052055     0.257534   \n",
            "6091     0.375342     0.084932     0.147945     0.076712     0.147945   \n",
            "6093     0.312329     0.175342     0.076712     0.282192     0.153425   \n",
            "6095     0.284932     0.153425     0.038356     0.175342     0.293151   \n",
            "6097     0.350685     0.197260     0.052055     0.257534     0.087671   \n",
            "6099     0.263014     0.147945     0.136986     0.021918     0.167123   \n",
            "6101     0.317808     0.106849     0.136986     0.076712     0.131507   \n",
            "6103     0.290411     0.150685     0.117808     0.093151     0.293151   \n",
            "6105     0.347945     0.109589     0.139726     0.208219     0.139726   \n",
            "6107     0.263014     0.202740     0.065753     0.032877     0.024658   \n",
            "6109     0.312329     0.134247     0.109589     0.013699     0.167123   \n",
            "6111     0.216438     0.041096     0.150685     0.131507     0.087671   \n",
            "6113     0.290411     0.136986     0.049315     0.150685     0.142466   \n",
            "6115     0.328767     0.090411     0.142466     0.115068     0.093151   \n",
            "\n",
            "      2014_2020_5  \n",
            "6001     0.115068  \n",
            "6003     0.232877  \n",
            "6005     0.241096  \n",
            "6007     0.221918  \n",
            "6009     0.246575  \n",
            "6011     0.054795  \n",
            "6013     0.093151  \n",
            "6015     0.000000  \n",
            "6017     0.221918  \n",
            "6019     0.410959  \n",
            "6021     0.054795  \n",
            "6023     0.054795  \n",
            "6025     0.000000  \n",
            "6027     0.000000  \n",
            "6029     0.413699  \n",
            "6031     0.421918  \n",
            "6033     0.054795  \n",
            "6035     0.213699  \n",
            "6037     0.361644  \n",
            "6039     0.306849  \n",
            "6041     0.000000  \n",
            "6043     0.306849  \n",
            "6045     0.054795  \n",
            "6047     0.317808  \n",
            "6049     0.038356  \n",
            "6051     0.175342  \n",
            "6053     0.147945  \n",
            "6055     0.054795  \n",
            "6057     0.205479  \n",
            "6059     0.356164  \n",
            "6061     0.205479  \n",
            "6063     0.183562  \n",
            "6065     0.000000  \n",
            "6067     0.230137  \n",
            "6069     0.421918  \n",
            "6071     0.000000  \n",
            "6073     0.000000  \n",
            "6075     0.093151  \n",
            "6077     0.263014  \n",
            "6079     0.419178  \n",
            "6081     0.115068  \n",
            "6083     0.413699  \n",
            "6085     0.115068  \n",
            "6087     0.115068  \n",
            "6089     0.054795  \n",
            "6091     0.167123  \n",
            "6093     0.000000  \n",
            "6095     0.054795  \n",
            "6097     0.054795  \n",
            "6099     0.263014  \n",
            "6101     0.230137  \n",
            "6103     0.054795  \n",
            "6105     0.054795  \n",
            "6107     0.410959  \n",
            "6109     0.263014  \n",
            "6111     0.372603  \n",
            "6113     0.230137  \n",
            "6115     0.230137  \n"
          ]
        }
      ],
      "source": [
        "final_df2_pct = final_df2/365.0\n",
        "print(final_df2_pct)"
      ]
    },
    {
      "cell_type": "code",
      "execution_count": null,
      "metadata": {
        "id": "7j9JzJWlcRZ_"
      },
      "outputs": [],
      "source": [
        "final_df = pd.concat([final_df1_pct,final_df2_pct],axis=1)"
      ]
    },
    {
      "cell_type": "code",
      "execution_count": null,
      "metadata": {
        "id": "9UYZ7qtDcRaA",
        "outputId": "c27dfec3-eec6-4a29-aa1c-5187af1eac2b"
      },
      "outputs": [
        {
          "name": "stdout",
          "output_type": "stream",
          "text": [
            "      2000_2013_0  2000_2013_1  2000_2013_2  2000_2013_3  2000_2013_4  \\\n",
            "6001     0.575923     0.143639     0.160055     0.120383     0.000000   \n",
            "6003     0.409029     0.235294     0.203830     0.131327     0.020520   \n",
            "6005     0.503420     0.213406     0.180575     0.093023     0.009576   \n",
            "6007     0.523940     0.169631     0.164159     0.131327     0.010944   \n",
            "6009     0.502052     0.209302     0.187415     0.091655     0.009576   \n",
            "6011     0.530780     0.153215     0.188782     0.119015     0.008208   \n",
            "6013     0.556772     0.142271     0.173735     0.127223     0.000000   \n",
            "6015     0.770178     0.109439     0.041040     0.049248     0.030096   \n",
            "6017     0.514364     0.236662     0.129959     0.099863     0.019152   \n",
            "6019     0.422709     0.228454     0.138167     0.201094     0.009576   \n",
            "6021     0.532148     0.157319     0.169631     0.131327     0.009576   \n",
            "6023     0.722298     0.114911     0.095759     0.067031     0.000000   \n",
            "6025     0.283174     0.228454     0.291382     0.102599     0.094391   \n",
            "6027     0.381669     0.135431     0.173735     0.290014     0.019152   \n",
            "6029     0.465116     0.121751     0.139535     0.244870     0.028728   \n",
            "6031     0.454172     0.176471     0.135431     0.205198     0.028728   \n",
            "6033     0.586867     0.155951     0.150479     0.099863     0.006840   \n",
            "6035     0.324213     0.140903     0.279070     0.205198     0.050616   \n",
            "6037     0.469220     0.191518     0.149111     0.131327     0.058824   \n",
            "6039     0.465116     0.177839     0.253078     0.094391     0.009576   \n",
            "6041     0.596443     0.165527     0.173735     0.064295     0.000000   \n",
            "6043     0.482900     0.194254     0.201094     0.112175     0.009576   \n",
            "6045     0.641587     0.136799     0.110807     0.105335     0.005472   \n",
            "6047     0.495212     0.155951     0.206566     0.132695     0.009576   \n",
            "6049     0.298222     0.123119     0.369357     0.176471     0.032832   \n",
            "6051     0.320109     0.232558     0.248974     0.198358     0.000000   \n",
            "6053     0.545828     0.179207     0.166895     0.108071     0.000000   \n",
            "6055     0.567715     0.170999     0.154583     0.102599     0.004104   \n",
            "6057     0.521204     0.181943     0.181943     0.087551     0.027360   \n",
            "6059     0.465116     0.202462     0.143639     0.136799     0.051984   \n",
            "6061     0.512996     0.188782     0.176471     0.094391     0.027360   \n",
            "6063     0.417237     0.221614     0.217510     0.112175     0.031464   \n",
            "6065     0.295486     0.206566     0.331053     0.082079     0.084815   \n",
            "6067     0.528044     0.166895     0.177839     0.117647     0.009576   \n",
            "6069     0.500684     0.173735     0.170999     0.154583     0.000000   \n",
            "6071     0.383037     0.108071     0.290014     0.119015     0.099863   \n",
            "6073     0.504788     0.166895     0.139535     0.131327     0.057456   \n",
            "6075     0.595075     0.155951     0.202462     0.046512     0.000000   \n",
            "6077     0.511628     0.181943     0.177839     0.119015     0.009576   \n",
            "6079     0.515732     0.155951     0.169631     0.084815     0.073871   \n",
            "6081     0.610123     0.134063     0.181943     0.073871     0.000000   \n",
            "6083     0.534884     0.161423     0.147743     0.082079     0.073871   \n",
            "6085     0.563611     0.166895     0.149111     0.120383     0.000000   \n",
            "6087     0.577291     0.161423     0.173735     0.087551     0.000000   \n",
            "6089     0.502052     0.232558     0.155951     0.083447     0.025992   \n",
            "6091     0.393981     0.236662     0.221614     0.109439     0.038304   \n",
            "6093     0.525308     0.239398     0.146375     0.060192     0.028728   \n",
            "6095     0.558140     0.155951     0.164159     0.121751     0.000000   \n",
            "6097     0.589603     0.160055     0.145007     0.105335     0.000000   \n",
            "6099     0.495212     0.188782     0.184679     0.121751     0.009576   \n",
            "6101     0.532148     0.146375     0.177839     0.135431     0.008208   \n",
            "6103     0.521204     0.194254     0.123119     0.151847     0.009576   \n",
            "6105     0.641587     0.151847     0.105335     0.101231     0.000000   \n",
            "6107     0.422709     0.173735     0.184679     0.209302     0.009576   \n",
            "6109     0.502052     0.243502     0.125855     0.119015     0.009576   \n",
            "6111     0.508892     0.181943     0.153215     0.103967     0.051984   \n",
            "6113     0.544460     0.151847     0.176471     0.119015     0.008208   \n",
            "6115     0.534884     0.142271     0.181943     0.132695     0.008208   \n",
            "\n",
            "      2000_2013_5  2014_2020_0  2014_2020_1  2014_2020_2  2014_2020_3  \\\n",
            "6001          0.0     0.320548     0.120548     0.082192     0.167123   \n",
            "6003          0.0     0.323288     0.112329     0.123288     0.106849   \n",
            "6005          0.0     0.375342     0.095890     0.087671     0.109589   \n",
            "6007          0.0     0.326027     0.117808     0.115068     0.079452   \n",
            "6009          0.0     0.358904     0.109589     0.090411     0.016438   \n",
            "6011          0.0     0.284932     0.101370     0.175342     0.076712   \n",
            "6013          0.0     0.284932     0.153425     0.030137     0.221918   \n",
            "6015          0.0     0.424658     0.153425     0.136986     0.279452   \n",
            "6017          0.0     0.369863     0.090411     0.191781     0.038356   \n",
            "6019          0.0     0.243836     0.156164     0.136986     0.030137   \n",
            "6021          0.0     0.282192     0.079452     0.197260     0.079452   \n",
            "6023          0.0     0.408219     0.150685     0.054795     0.238356   \n",
            "6025          0.0     0.131507     0.126027     0.282192     0.372603   \n",
            "6027          0.0     0.246575     0.243836     0.057534     0.120548   \n",
            "6029          0.0     0.317808     0.071233     0.156164     0.019178   \n",
            "6031          0.0     0.235616     0.145205     0.164384     0.019178   \n",
            "6033          0.0     0.301370     0.079452     0.202740     0.093151   \n",
            "6035          0.0     0.389041     0.115068     0.104110     0.082192   \n",
            "6037          0.0     0.219178     0.041096     0.161644     0.145205   \n",
            "6039          0.0     0.260274     0.139726     0.131507     0.035616   \n",
            "6041          0.0     0.350685     0.197260     0.052055     0.271233   \n",
            "6043          0.0     0.312329     0.095890     0.147945     0.013699   \n",
            "6045          0.0     0.345205     0.189041     0.063014     0.249315   \n",
            "6047          0.0     0.257534     0.147945     0.142466     0.019178   \n",
            "6049          0.0     0.320548     0.186301     0.128767     0.052055   \n",
            "6051          0.0     0.364384     0.090411     0.101370     0.016438   \n",
            "6053          0.0     0.361644     0.156164     0.046575     0.008219   \n",
            "6055          0.0     0.306849     0.216438     0.063014     0.090411   \n",
            "6057          0.0     0.334247     0.147945     0.128767     0.093151   \n",
            "6059          0.0     0.150685     0.123288     0.150685     0.142466   \n",
            "6061          0.0     0.369863     0.106849     0.175342     0.043836   \n",
            "6063          0.0     0.380822     0.079452     0.150685     0.065753   \n",
            "6065          0.0     0.186301     0.202740     0.104110     0.506849   \n",
            "6067          0.0     0.372603     0.065753     0.030137     0.194521   \n",
            "6069          0.0     0.134247     0.380822     0.041096     0.010959   \n",
            "6071          0.0     0.309589     0.060274     0.208219     0.413699   \n",
            "6073          0.0     0.164384     0.235616     0.068493     0.117808   \n",
            "6075          0.0     0.339726     0.219178     0.027397     0.271233   \n",
            "6077          0.0     0.353425     0.079452     0.090411     0.046575   \n",
            "6079          0.0     0.216438     0.175342     0.150685     0.021918   \n",
            "6081          0.0     0.334247     0.205479     0.109589     0.060274   \n",
            "6083          0.0     0.219178     0.038356     0.153425     0.153425   \n",
            "6085          0.0     0.309589     0.164384     0.104110     0.112329   \n",
            "6087          0.0     0.331507     0.260274     0.095890     0.021918   \n",
            "6089          0.0     0.358904     0.158904     0.117808     0.052055   \n",
            "6091          0.0     0.375342     0.084932     0.147945     0.076712   \n",
            "6093          0.0     0.312329     0.175342     0.076712     0.282192   \n",
            "6095          0.0     0.284932     0.153425     0.038356     0.175342   \n",
            "6097          0.0     0.350685     0.197260     0.052055     0.257534   \n",
            "6099          0.0     0.263014     0.147945     0.136986     0.021918   \n",
            "6101          0.0     0.317808     0.106849     0.136986     0.076712   \n",
            "6103          0.0     0.290411     0.150685     0.117808     0.093151   \n",
            "6105          0.0     0.347945     0.109589     0.139726     0.208219   \n",
            "6107          0.0     0.263014     0.202740     0.065753     0.032877   \n",
            "6109          0.0     0.312329     0.134247     0.109589     0.013699   \n",
            "6111          0.0     0.216438     0.041096     0.150685     0.131507   \n",
            "6113          0.0     0.290411     0.136986     0.049315     0.150685   \n",
            "6115          0.0     0.328767     0.090411     0.142466     0.115068   \n",
            "\n",
            "      2014_2020_4  2014_2020_5  \n",
            "6001     0.194521     0.115068  \n",
            "6003     0.101370     0.232877  \n",
            "6005     0.090411     0.241096  \n",
            "6007     0.139726     0.221918  \n",
            "6009     0.178082     0.246575  \n",
            "6011     0.306849     0.054795  \n",
            "6013     0.216438     0.093151  \n",
            "6015     0.005479     0.000000  \n",
            "6017     0.087671     0.221918  \n",
            "6019     0.021918     0.410959  \n",
            "6021     0.306849     0.054795  \n",
            "6023     0.093151     0.054795  \n",
            "6025     0.087671     0.000000  \n",
            "6027     0.331507     0.000000  \n",
            "6029     0.021918     0.413699  \n",
            "6031     0.013699     0.421918  \n",
            "6033     0.268493     0.054795  \n",
            "6035     0.095890     0.213699  \n",
            "6037     0.071233     0.361644  \n",
            "6039     0.126027     0.306849  \n",
            "6041     0.128767     0.000000  \n",
            "6043     0.123288     0.306849  \n",
            "6045     0.098630     0.054795  \n",
            "6047     0.115068     0.317808  \n",
            "6049     0.273973     0.038356  \n",
            "6051     0.252055     0.175342  \n",
            "6053     0.279452     0.147945  \n",
            "6055     0.268493     0.054795  \n",
            "6057     0.090411     0.205479  \n",
            "6059     0.076712     0.356164  \n",
            "6061     0.098630     0.205479  \n",
            "6063     0.139726     0.183562  \n",
            "6065     0.000000     0.000000  \n",
            "6067     0.106849     0.230137  \n",
            "6069     0.010959     0.421918  \n",
            "6071     0.008219     0.000000  \n",
            "6073     0.413699     0.000000  \n",
            "6075     0.049315     0.093151  \n",
            "6077     0.167123     0.263014  \n",
            "6079     0.016438     0.419178  \n",
            "6081     0.175342     0.115068  \n",
            "6083     0.021918     0.413699  \n",
            "6085     0.194521     0.115068  \n",
            "6087     0.175342     0.115068  \n",
            "6089     0.257534     0.054795  \n",
            "6091     0.147945     0.167123  \n",
            "6093     0.153425     0.000000  \n",
            "6095     0.293151     0.054795  \n",
            "6097     0.087671     0.054795  \n",
            "6099     0.167123     0.263014  \n",
            "6101     0.131507     0.230137  \n",
            "6103     0.293151     0.054795  \n",
            "6105     0.139726     0.054795  \n",
            "6107     0.024658     0.410959  \n",
            "6109     0.167123     0.263014  \n",
            "6111     0.087671     0.372603  \n",
            "6113     0.142466     0.230137  \n",
            "6115     0.093151     0.230137  \n"
          ]
        }
      ],
      "source": [
        "print(final_df)"
      ]
    },
    {
      "cell_type": "code",
      "execution_count": null,
      "metadata": {
        "id": "FbjrLCurcRaA",
        "outputId": "9eb72f9f-0e5c-4948-d2d1-5badc2f33c3e"
      },
      "outputs": [
        {
          "name": "stdout",
          "output_type": "stream",
          "text": [
            "      2000_2013_0  2000_2013_1  2000_2013_2  2000_2013_3  2000_2013_4  \\\n",
            "6001     0.575923     0.143639     0.160055     0.120383     0.000000   \n",
            "6003     0.409029     0.235294     0.203830     0.131327     0.020520   \n",
            "6005     0.503420     0.213406     0.180575     0.093023     0.009576   \n",
            "6007     0.523940     0.169631     0.164159     0.131327     0.010944   \n",
            "6009     0.502052     0.209302     0.187415     0.091655     0.009576   \n",
            "6011     0.530780     0.153215     0.188782     0.119015     0.008208   \n",
            "6013     0.556772     0.142271     0.173735     0.127223     0.000000   \n",
            "6015     0.770178     0.109439     0.041040     0.049248     0.030096   \n",
            "6017     0.514364     0.236662     0.129959     0.099863     0.019152   \n",
            "6019     0.422709     0.228454     0.138167     0.201094     0.009576   \n",
            "6021     0.532148     0.157319     0.169631     0.131327     0.009576   \n",
            "6023     0.722298     0.114911     0.095759     0.067031     0.000000   \n",
            "6025     0.283174     0.228454     0.291382     0.102599     0.094391   \n",
            "6027     0.381669     0.135431     0.173735     0.290014     0.019152   \n",
            "6029     0.465116     0.121751     0.139535     0.244870     0.028728   \n",
            "6031     0.454172     0.176471     0.135431     0.205198     0.028728   \n",
            "6033     0.586867     0.155951     0.150479     0.099863     0.006840   \n",
            "6035     0.324213     0.140903     0.279070     0.205198     0.050616   \n",
            "6037     0.469220     0.191518     0.149111     0.131327     0.058824   \n",
            "6039     0.465116     0.177839     0.253078     0.094391     0.009576   \n",
            "6041     0.596443     0.165527     0.173735     0.064295     0.000000   \n",
            "6043     0.482900     0.194254     0.201094     0.112175     0.009576   \n",
            "6045     0.641587     0.136799     0.110807     0.105335     0.005472   \n",
            "6047     0.495212     0.155951     0.206566     0.132695     0.009576   \n",
            "6049     0.298222     0.123119     0.369357     0.176471     0.032832   \n",
            "6051     0.320109     0.232558     0.248974     0.198358     0.000000   \n",
            "6053     0.545828     0.179207     0.166895     0.108071     0.000000   \n",
            "6055     0.567715     0.170999     0.154583     0.102599     0.004104   \n",
            "6057     0.521204     0.181943     0.181943     0.087551     0.027360   \n",
            "6059     0.465116     0.202462     0.143639     0.136799     0.051984   \n",
            "6061     0.512996     0.188782     0.176471     0.094391     0.027360   \n",
            "6063     0.417237     0.221614     0.217510     0.112175     0.031464   \n",
            "6065     0.295486     0.206566     0.331053     0.082079     0.084815   \n",
            "6067     0.528044     0.166895     0.177839     0.117647     0.009576   \n",
            "6069     0.500684     0.173735     0.170999     0.154583     0.000000   \n",
            "6071     0.383037     0.108071     0.290014     0.119015     0.099863   \n",
            "6073     0.504788     0.166895     0.139535     0.131327     0.057456   \n",
            "6075     0.595075     0.155951     0.202462     0.046512     0.000000   \n",
            "6077     0.511628     0.181943     0.177839     0.119015     0.009576   \n",
            "6079     0.515732     0.155951     0.169631     0.084815     0.073871   \n",
            "6081     0.610123     0.134063     0.181943     0.073871     0.000000   \n",
            "6083     0.534884     0.161423     0.147743     0.082079     0.073871   \n",
            "6085     0.563611     0.166895     0.149111     0.120383     0.000000   \n",
            "6087     0.577291     0.161423     0.173735     0.087551     0.000000   \n",
            "6089     0.502052     0.232558     0.155951     0.083447     0.025992   \n",
            "6091     0.393981     0.236662     0.221614     0.109439     0.038304   \n",
            "6093     0.525308     0.239398     0.146375     0.060192     0.028728   \n",
            "6095     0.558140     0.155951     0.164159     0.121751     0.000000   \n",
            "6097     0.589603     0.160055     0.145007     0.105335     0.000000   \n",
            "6099     0.495212     0.188782     0.184679     0.121751     0.009576   \n",
            "6101     0.532148     0.146375     0.177839     0.135431     0.008208   \n",
            "6103     0.521204     0.194254     0.123119     0.151847     0.009576   \n",
            "6105     0.641587     0.151847     0.105335     0.101231     0.000000   \n",
            "6107     0.422709     0.173735     0.184679     0.209302     0.009576   \n",
            "6109     0.502052     0.243502     0.125855     0.119015     0.009576   \n",
            "6111     0.508892     0.181943     0.153215     0.103967     0.051984   \n",
            "6113     0.544460     0.151847     0.176471     0.119015     0.008208   \n",
            "6115     0.534884     0.142271     0.181943     0.132695     0.008208   \n",
            "\n",
            "      2000_2013_5  2014_2020_0  2014_2020_1  2014_2020_2  2014_2020_3  \\\n",
            "6001          0.0     0.320548     0.120548     0.082192     0.167123   \n",
            "6003          0.0     0.323288     0.112329     0.123288     0.106849   \n",
            "6005          0.0     0.375342     0.095890     0.087671     0.109589   \n",
            "6007          0.0     0.326027     0.117808     0.115068     0.079452   \n",
            "6009          0.0     0.358904     0.109589     0.090411     0.016438   \n",
            "6011          0.0     0.284932     0.101370     0.175342     0.076712   \n",
            "6013          0.0     0.284932     0.153425     0.030137     0.221918   \n",
            "6015          0.0     0.424658     0.153425     0.136986     0.279452   \n",
            "6017          0.0     0.369863     0.090411     0.191781     0.038356   \n",
            "6019          0.0     0.243836     0.156164     0.136986     0.030137   \n",
            "6021          0.0     0.282192     0.079452     0.197260     0.079452   \n",
            "6023          0.0     0.408219     0.150685     0.054795     0.238356   \n",
            "6025          0.0     0.131507     0.126027     0.282192     0.372603   \n",
            "6027          0.0     0.246575     0.243836     0.057534     0.120548   \n",
            "6029          0.0     0.317808     0.071233     0.156164     0.019178   \n",
            "6031          0.0     0.235616     0.145205     0.164384     0.019178   \n",
            "6033          0.0     0.301370     0.079452     0.202740     0.093151   \n",
            "6035          0.0     0.389041     0.115068     0.104110     0.082192   \n",
            "6037          0.0     0.219178     0.041096     0.161644     0.145205   \n",
            "6039          0.0     0.260274     0.139726     0.131507     0.035616   \n",
            "6041          0.0     0.350685     0.197260     0.052055     0.271233   \n",
            "6043          0.0     0.312329     0.095890     0.147945     0.013699   \n",
            "6045          0.0     0.345205     0.189041     0.063014     0.249315   \n",
            "6047          0.0     0.257534     0.147945     0.142466     0.019178   \n",
            "6049          0.0     0.320548     0.186301     0.128767     0.052055   \n",
            "6051          0.0     0.364384     0.090411     0.101370     0.016438   \n",
            "6053          0.0     0.361644     0.156164     0.046575     0.008219   \n",
            "6055          0.0     0.306849     0.216438     0.063014     0.090411   \n",
            "6057          0.0     0.334247     0.147945     0.128767     0.093151   \n",
            "6059          0.0     0.150685     0.123288     0.150685     0.142466   \n",
            "6061          0.0     0.369863     0.106849     0.175342     0.043836   \n",
            "6063          0.0     0.380822     0.079452     0.150685     0.065753   \n",
            "6065          0.0     0.186301     0.202740     0.104110     0.506849   \n",
            "6067          0.0     0.372603     0.065753     0.030137     0.194521   \n",
            "6069          0.0     0.134247     0.380822     0.041096     0.010959   \n",
            "6071          0.0     0.309589     0.060274     0.208219     0.413699   \n",
            "6073          0.0     0.164384     0.235616     0.068493     0.117808   \n",
            "6075          0.0     0.339726     0.219178     0.027397     0.271233   \n",
            "6077          0.0     0.353425     0.079452     0.090411     0.046575   \n",
            "6079          0.0     0.216438     0.175342     0.150685     0.021918   \n",
            "6081          0.0     0.334247     0.205479     0.109589     0.060274   \n",
            "6083          0.0     0.219178     0.038356     0.153425     0.153425   \n",
            "6085          0.0     0.309589     0.164384     0.104110     0.112329   \n",
            "6087          0.0     0.331507     0.260274     0.095890     0.021918   \n",
            "6089          0.0     0.358904     0.158904     0.117808     0.052055   \n",
            "6091          0.0     0.375342     0.084932     0.147945     0.076712   \n",
            "6093          0.0     0.312329     0.175342     0.076712     0.282192   \n",
            "6095          0.0     0.284932     0.153425     0.038356     0.175342   \n",
            "6097          0.0     0.350685     0.197260     0.052055     0.257534   \n",
            "6099          0.0     0.263014     0.147945     0.136986     0.021918   \n",
            "6101          0.0     0.317808     0.106849     0.136986     0.076712   \n",
            "6103          0.0     0.290411     0.150685     0.117808     0.093151   \n",
            "6105          0.0     0.347945     0.109589     0.139726     0.208219   \n",
            "6107          0.0     0.263014     0.202740     0.065753     0.032877   \n",
            "6109          0.0     0.312329     0.134247     0.109589     0.013699   \n",
            "6111          0.0     0.216438     0.041096     0.150685     0.131507   \n",
            "6113          0.0     0.290411     0.136986     0.049315     0.150685   \n",
            "6115          0.0     0.328767     0.090411     0.142466     0.115068   \n",
            "\n",
            "      2014_2020_4  2014_2020_5  pct_ch_0  pct_ch_1  pct_ch_2  pct_ch_3  \\\n",
            "6001     0.194521     0.115068 -0.255375 -0.023091 -0.077863  0.046740   \n",
            "6003     0.101370     0.232877 -0.085741 -0.122965 -0.080543 -0.024478   \n",
            "6005     0.090411     0.241096 -0.128078 -0.117516 -0.092903  0.016566   \n",
            "6007     0.139726     0.221918 -0.197912 -0.051822 -0.049090 -0.051875   \n",
            "6009     0.178082     0.246575 -0.143148 -0.099713 -0.097004 -0.075217   \n",
            "6011     0.306849     0.054795 -0.245848 -0.051845 -0.013440 -0.042303   \n",
            "6013     0.216438     0.093151 -0.271840  0.011154 -0.143598  0.094695   \n",
            "6015     0.005479     0.000000 -0.345520  0.043986  0.095947  0.230204   \n",
            "6017     0.087671     0.221918 -0.144501 -0.146251  0.061822 -0.061507   \n",
            "6019     0.021918     0.410959 -0.178873 -0.072290 -0.001181 -0.170957   \n",
            "6021     0.306849     0.054795 -0.249956 -0.077867  0.027630 -0.051875   \n",
            "6023     0.093151     0.054795 -0.314079  0.035774 -0.040965  0.171325   \n",
            "6025     0.087671     0.000000 -0.151667 -0.102427 -0.009190  0.270004   \n",
            "6027     0.331507     0.000000 -0.135094  0.108405 -0.116200 -0.169466   \n",
            "6029     0.021918     0.413699 -0.147308 -0.050518  0.016629 -0.225692   \n",
            "6031     0.013699     0.421918 -0.218556 -0.031265  0.028953 -0.186020   \n",
            "6033     0.268493     0.054795 -0.285497 -0.076499  0.052261 -0.006713   \n",
            "6035     0.095890     0.213699  0.064828 -0.025834 -0.174960 -0.123007   \n",
            "6037     0.071233     0.361644 -0.250042 -0.150423  0.012533  0.013879   \n",
            "6039     0.126027     0.306849 -0.204842 -0.038113 -0.121571 -0.058775   \n",
            "6041     0.128767     0.000000 -0.245758  0.031734 -0.121680  0.206937   \n",
            "6043     0.123288     0.306849 -0.170571 -0.098364 -0.053149 -0.098476   \n",
            "6045     0.098630     0.054795 -0.296381  0.052242 -0.047793  0.143980   \n",
            "6047     0.115068     0.317808 -0.237678 -0.008006 -0.064101 -0.113517   \n",
            "6049     0.273973     0.038356  0.022326  0.063182 -0.240590 -0.124416   \n",
            "6051     0.252055     0.175342  0.044274 -0.142147 -0.147604 -0.181920   \n",
            "6053     0.279452     0.147945 -0.184184 -0.023042 -0.120319 -0.099852   \n",
            "6055     0.268493     0.054795 -0.260866  0.045440 -0.091569 -0.012188   \n",
            "6057     0.090411     0.205479 -0.186957 -0.033997 -0.053175  0.005599   \n",
            "6059     0.076712     0.356164 -0.314431 -0.079175  0.007046  0.005667   \n",
            "6061     0.098630     0.205479 -0.143133 -0.081933 -0.001128 -0.050556   \n",
            "6063     0.139726     0.183562 -0.036415 -0.142162 -0.066825 -0.046422   \n",
            "6065     0.000000     0.000000 -0.109184 -0.003827 -0.226944  0.424770   \n",
            "6067     0.106849     0.230137 -0.155441 -0.101141 -0.147702  0.076873   \n",
            "6069     0.010959     0.421918 -0.366437  0.207087 -0.129903 -0.143624   \n",
            "6071     0.008219     0.000000 -0.073448 -0.047797 -0.081795  0.294684   \n",
            "6073     0.413699     0.000000 -0.340404  0.068722 -0.071042 -0.013519   \n",
            "6075     0.049315     0.093151 -0.255349  0.063227 -0.175065  0.224721   \n",
            "6077     0.167123     0.263014 -0.158203 -0.102490 -0.087428 -0.072440   \n",
            "6079     0.016438     0.419178 -0.299294  0.019392 -0.018946 -0.062898   \n",
            "6081     0.175342     0.115068 -0.275877  0.071417 -0.072354 -0.013597   \n",
            "6083     0.021918     0.413699 -0.315706 -0.123067  0.005682  0.071345   \n",
            "6085     0.194521     0.115068 -0.254022 -0.002511 -0.045001 -0.008054   \n",
            "6087     0.175342     0.115068 -0.245785  0.098851 -0.077844 -0.065633   \n",
            "6089     0.257534     0.054795 -0.143148 -0.073654 -0.038143 -0.031393   \n",
            "6091     0.147945     0.167123 -0.018638 -0.151731 -0.073669 -0.032727   \n",
            "6093     0.153425     0.000000 -0.212979 -0.064056 -0.069663  0.222000   \n",
            "6095     0.293151     0.054795 -0.273208 -0.002526 -0.125803  0.053591   \n",
            "6097     0.087671     0.054795 -0.238918  0.037206 -0.092952  0.152199   \n",
            "6099     0.167123     0.263014 -0.232198 -0.040837 -0.047692 -0.099833   \n",
            "6101     0.131507     0.230137 -0.214340 -0.039526 -0.040852 -0.058719   \n",
            "6103     0.293151     0.054795 -0.230793 -0.043570 -0.005311 -0.058696   \n",
            "6105     0.139726     0.054795 -0.293642 -0.042258  0.034391  0.106988   \n",
            "6107     0.024658     0.410959 -0.159695  0.029005 -0.118925 -0.176426   \n",
            "6109     0.167123     0.263014 -0.189723 -0.109255 -0.016266 -0.105316   \n",
            "6111     0.087671     0.372603 -0.292454 -0.140847 -0.002530  0.027540   \n",
            "6113     0.142466     0.230137 -0.254049 -0.014860 -0.127156  0.031670   \n",
            "6115     0.093151     0.230137 -0.206117 -0.051860 -0.039477 -0.017626   \n",
            "\n",
            "      pct_ch_4  pct_ch_5  \n",
            "6001  0.194521  0.115068  \n",
            "6003  0.080850  0.232877  \n",
            "6005  0.080835  0.241096  \n",
            "6007  0.128782  0.221918  \n",
            "6009  0.168506  0.246575  \n",
            "6011  0.298641  0.054795  \n",
            "6013  0.216438  0.093151  \n",
            "6015 -0.024616  0.000000  \n",
            "6017  0.068519  0.221918  \n",
            "6019  0.012342  0.410959  \n",
            "6021  0.297273  0.054795  \n",
            "6023  0.093151  0.054795  \n",
            "6025 -0.006720  0.000000  \n",
            "6027  0.312355  0.000000  \n",
            "6029 -0.006810  0.413699  \n",
            "6031 -0.015029  0.421918  \n",
            "6033  0.261653  0.054795  \n",
            "6035  0.045275  0.213699  \n",
            "6037  0.012409  0.361644  \n",
            "6039  0.116451  0.306849  \n",
            "6041  0.128767  0.000000  \n",
            "6043  0.113712  0.306849  \n",
            "6045  0.093158  0.054795  \n",
            "6047  0.105493  0.317808  \n",
            "6049  0.241141  0.038356  \n",
            "6051  0.252055  0.175342  \n",
            "6053  0.279452  0.147945  \n",
            "6055  0.264389  0.054795  \n",
            "6057  0.063051  0.205479  \n",
            "6059  0.024729  0.356164  \n",
            "6061  0.071270  0.205479  \n",
            "6063  0.108262  0.183562  \n",
            "6065 -0.084815  0.000000  \n",
            "6067  0.097273  0.230137  \n",
            "6069  0.010959  0.421918  \n",
            "6071 -0.091644  0.000000  \n",
            "6073  0.356243  0.000000  \n",
            "6075  0.049315  0.093151  \n",
            "6077  0.157547  0.263014  \n",
            "6079 -0.057433  0.419178  \n",
            "6081  0.175342  0.115068  \n",
            "6083 -0.051954  0.413699  \n",
            "6085  0.194521  0.115068  \n",
            "6087  0.175342  0.115068  \n",
            "6089  0.231542  0.054795  \n",
            "6091  0.109642  0.167123  \n",
            "6093  0.124697  0.000000  \n",
            "6095  0.293151  0.054795  \n",
            "6097  0.087671  0.054795  \n",
            "6099  0.157547  0.263014  \n",
            "6101  0.123299  0.230137  \n",
            "6103  0.283575  0.054795  \n",
            "6105  0.139726  0.054795  \n",
            "6107  0.015082  0.410959  \n",
            "6109  0.157547  0.263014  \n",
            "6111  0.035688  0.372603  \n",
            "6113  0.134258  0.230137  \n",
            "6115  0.084943  0.230137  \n"
          ]
        }
      ],
      "source": [
        "final_df['pct_ch_0'] = final_df['2014_2020_0']-final_df['2000_2013_0']\n",
        "final_df['pct_ch_1'] = final_df['2014_2020_1']-final_df['2000_2013_1']\n",
        "final_df['pct_ch_2'] = final_df['2014_2020_2']-final_df['2000_2013_2']\n",
        "final_df['pct_ch_3'] = final_df['2014_2020_3']-final_df['2000_2013_3']\n",
        "final_df['pct_ch_4'] = final_df['2014_2020_4']-final_df['2000_2013_4']\n",
        "final_df['pct_ch_5'] = final_df['2014_2020_5']-final_df['2000_2013_5']\n",
        "print(final_df)"
      ]
    },
    {
      "cell_type": "code",
      "execution_count": null,
      "metadata": {
        "id": "qKWGQtlMcRaB",
        "outputId": "969f6a88-b5e7-4b86-869c-c5e7a8d9aee2"
      },
      "outputs": [
        {
          "name": "stdout",
          "output_type": "stream",
          "text": [
            "    fips        lat         lon  elevation             Name State\n",
            "0   6001  37.648081 -121.913304        146          Alameda    CA\n",
            "1   6003  38.617610 -119.798999       2630           Alpine    CA\n",
            "2   6005  38.443550 -120.653856        719           Amador    CA\n",
            "3   6007  39.665959 -121.601919        373            Butte    CA\n",
            "4   6009  38.187844 -120.555115        499        Calaveras    CA\n",
            "5   6011  39.177739 -122.237563         40           Colusa    CA\n",
            "6   6013  37.919479 -121.951543        395     Contra Costa    CA\n",
            "7   6015  41.749903 -123.980998        493        Del Norte    CA\n",
            "8   6017  38.785532 -120.534398       1442        El Dorado    CA\n",
            "9   6019  36.761006 -119.655019        106           Fresno    CA\n",
            "10  6021  39.602546 -122.401700        140            Glenn    CA\n",
            "11  6023  40.706673 -123.925818        628         Humboldt    CA\n",
            "12  6025  33.040816 -115.355395          7         Imperial    CA\n",
            "13  6027  36.561977 -117.403927       1259             Inyo    CA\n",
            "14  6029  35.346629 -118.729506        407             Kern    CA\n",
            "15  6031  36.072478 -119.815530         56            Kings    CA\n",
            "16  6033  39.094802 -122.746757        546             Lake    CA\n",
            "17  6035  40.721089 -120.629931       1954           Lassen    CA\n",
            "18  6037  34.196398 -118.261862        197      Los Angeles    CA\n",
            "19  6039  37.210039 -119.749852        633           Madera    CA\n",
            "20  6041  38.051817 -122.745974        164            Marin    CA\n",
            "21  6043  37.570034 -119.912860       1079         Mariposa    CA\n",
            "22  6045  39.432388 -123.442881        550        Mendocino    CA\n",
            "23  6047  37.194806 -120.722802         30           Merced    CA\n",
            "24  6049  41.592919 -120.718370       1534            Modoc    CA\n",
            "25  6051  37.915836 -118.875167       2480             Mono    CA\n",
            "26  6053  36.240107 -121.315573        393         Monterey    CA\n",
            "27  6055  38.507351 -122.325995        444             Napa    CA\n",
            "28  6057  39.295191 -120.773446       1514           Nevada    CA\n",
            "29  6059  33.675687 -117.777207        124           Orange    CA\n",
            "30  6061  39.062032 -120.722718        903           Placer    CA\n",
            "31  6063  39.995170 -120.829516       1728           Plumas    CA\n",
            "32  6065  33.729828 -116.002239        718        Riverside    CA\n",
            "33  6067  38.450011 -121.340441         18       Sacramento    CA\n",
            "34  6069  36.610702 -121.085296        818       San Benito    CA\n",
            "35  6071  34.857220 -116.181197        467   San Bernardino    CA\n",
            "36  6073  33.023604 -116.776117        704        San Diego    CA\n",
            "37  6075  37.727239 -123.032229          0    San Francisco    CA\n",
            "38  6077  37.935034 -121.272237         10      San Joaquin    CA\n",
            "39  6079  35.385227 -120.447540        640  San Luis Obispo    CA\n",
            "40  6081  37.414664 -122.371542        387        San Mateo    CA\n",
            "41  6083  34.537378 -120.038485        150    Santa Barbara    CA\n",
            "42  6085  37.220777 -121.690622        376      Santa Clara    CA\n",
            "43  6087  37.012488 -122.007205         31       Santa Cruz    CA\n",
            "44  6089  40.760522 -122.043550        484           Shasta    CA\n",
            "45  6091  39.576925 -120.521993       2239           Sierra    CA\n",
            "46  6093  41.587986 -122.533287        825         Siskiyou    CA\n",
            "47  6095  38.267226 -121.939594         15           Solano    CA\n",
            "48  6097  38.532574 -122.945194         52           Sonoma    CA\n",
            "49  6099  37.562384 -121.002656         23       Stanislaus    CA\n",
            "50  6101  39.035257 -121.702758         10           Sutter    CA\n",
            "51  6103  40.126156 -122.232276         87           Tehama    CA\n",
            "52  6105  40.647724 -123.114404       1005          Trinity    CA\n",
            "53  6107  36.230453 -118.780542       1451           Tulare    CA\n",
            "54  6109  38.021451 -119.964708       1570         Tuolumne    CA\n",
            "55  6111  34.358742 -119.133143         67          Ventura    CA\n",
            "56  6113  38.679268 -121.903178         30             Yolo    CA\n",
            "57  6115  39.270026 -121.344280        260             Yuba    CA\n",
            "    index  2000_2013_0  2000_2013_1  2000_2013_2  2000_2013_3  2000_2013_4  \\\n",
            "0    6001     0.575923     0.143639     0.160055     0.120383     0.000000   \n",
            "1    6003     0.409029     0.235294     0.203830     0.131327     0.020520   \n",
            "2    6005     0.503420     0.213406     0.180575     0.093023     0.009576   \n",
            "3    6007     0.523940     0.169631     0.164159     0.131327     0.010944   \n",
            "4    6009     0.502052     0.209302     0.187415     0.091655     0.009576   \n",
            "5    6011     0.530780     0.153215     0.188782     0.119015     0.008208   \n",
            "6    6013     0.556772     0.142271     0.173735     0.127223     0.000000   \n",
            "7    6015     0.770178     0.109439     0.041040     0.049248     0.030096   \n",
            "8    6017     0.514364     0.236662     0.129959     0.099863     0.019152   \n",
            "9    6019     0.422709     0.228454     0.138167     0.201094     0.009576   \n",
            "10   6021     0.532148     0.157319     0.169631     0.131327     0.009576   \n",
            "11   6023     0.722298     0.114911     0.095759     0.067031     0.000000   \n",
            "12   6025     0.283174     0.228454     0.291382     0.102599     0.094391   \n",
            "13   6027     0.381669     0.135431     0.173735     0.290014     0.019152   \n",
            "14   6029     0.465116     0.121751     0.139535     0.244870     0.028728   \n",
            "15   6031     0.454172     0.176471     0.135431     0.205198     0.028728   \n",
            "16   6033     0.586867     0.155951     0.150479     0.099863     0.006840   \n",
            "17   6035     0.324213     0.140903     0.279070     0.205198     0.050616   \n",
            "18   6037     0.469220     0.191518     0.149111     0.131327     0.058824   \n",
            "19   6039     0.465116     0.177839     0.253078     0.094391     0.009576   \n",
            "20   6041     0.596443     0.165527     0.173735     0.064295     0.000000   \n",
            "21   6043     0.482900     0.194254     0.201094     0.112175     0.009576   \n",
            "22   6045     0.641587     0.136799     0.110807     0.105335     0.005472   \n",
            "23   6047     0.495212     0.155951     0.206566     0.132695     0.009576   \n",
            "24   6049     0.298222     0.123119     0.369357     0.176471     0.032832   \n",
            "25   6051     0.320109     0.232558     0.248974     0.198358     0.000000   \n",
            "26   6053     0.545828     0.179207     0.166895     0.108071     0.000000   \n",
            "27   6055     0.567715     0.170999     0.154583     0.102599     0.004104   \n",
            "28   6057     0.521204     0.181943     0.181943     0.087551     0.027360   \n",
            "29   6059     0.465116     0.202462     0.143639     0.136799     0.051984   \n",
            "30   6061     0.512996     0.188782     0.176471     0.094391     0.027360   \n",
            "31   6063     0.417237     0.221614     0.217510     0.112175     0.031464   \n",
            "32   6065     0.295486     0.206566     0.331053     0.082079     0.084815   \n",
            "33   6067     0.528044     0.166895     0.177839     0.117647     0.009576   \n",
            "34   6069     0.500684     0.173735     0.170999     0.154583     0.000000   \n",
            "35   6071     0.383037     0.108071     0.290014     0.119015     0.099863   \n",
            "36   6073     0.504788     0.166895     0.139535     0.131327     0.057456   \n",
            "37   6075     0.595075     0.155951     0.202462     0.046512     0.000000   \n",
            "38   6077     0.511628     0.181943     0.177839     0.119015     0.009576   \n",
            "39   6079     0.515732     0.155951     0.169631     0.084815     0.073871   \n",
            "40   6081     0.610123     0.134063     0.181943     0.073871     0.000000   \n",
            "41   6083     0.534884     0.161423     0.147743     0.082079     0.073871   \n",
            "42   6085     0.563611     0.166895     0.149111     0.120383     0.000000   \n",
            "43   6087     0.577291     0.161423     0.173735     0.087551     0.000000   \n",
            "44   6089     0.502052     0.232558     0.155951     0.083447     0.025992   \n",
            "45   6091     0.393981     0.236662     0.221614     0.109439     0.038304   \n",
            "46   6093     0.525308     0.239398     0.146375     0.060192     0.028728   \n",
            "47   6095     0.558140     0.155951     0.164159     0.121751     0.000000   \n",
            "48   6097     0.589603     0.160055     0.145007     0.105335     0.000000   \n",
            "49   6099     0.495212     0.188782     0.184679     0.121751     0.009576   \n",
            "50   6101     0.532148     0.146375     0.177839     0.135431     0.008208   \n",
            "51   6103     0.521204     0.194254     0.123119     0.151847     0.009576   \n",
            "52   6105     0.641587     0.151847     0.105335     0.101231     0.000000   \n",
            "53   6107     0.422709     0.173735     0.184679     0.209302     0.009576   \n",
            "54   6109     0.502052     0.243502     0.125855     0.119015     0.009576   \n",
            "55   6111     0.508892     0.181943     0.153215     0.103967     0.051984   \n",
            "56   6113     0.544460     0.151847     0.176471     0.119015     0.008208   \n",
            "57   6115     0.534884     0.142271     0.181943     0.132695     0.008208   \n",
            "\n",
            "    2000_2013_5  2014_2020_0  2014_2020_1  2014_2020_2  2014_2020_3  \\\n",
            "0           0.0     0.320548     0.120548     0.082192     0.167123   \n",
            "1           0.0     0.323288     0.112329     0.123288     0.106849   \n",
            "2           0.0     0.375342     0.095890     0.087671     0.109589   \n",
            "3           0.0     0.326027     0.117808     0.115068     0.079452   \n",
            "4           0.0     0.358904     0.109589     0.090411     0.016438   \n",
            "5           0.0     0.284932     0.101370     0.175342     0.076712   \n",
            "6           0.0     0.284932     0.153425     0.030137     0.221918   \n",
            "7           0.0     0.424658     0.153425     0.136986     0.279452   \n",
            "8           0.0     0.369863     0.090411     0.191781     0.038356   \n",
            "9           0.0     0.243836     0.156164     0.136986     0.030137   \n",
            "10          0.0     0.282192     0.079452     0.197260     0.079452   \n",
            "11          0.0     0.408219     0.150685     0.054795     0.238356   \n",
            "12          0.0     0.131507     0.126027     0.282192     0.372603   \n",
            "13          0.0     0.246575     0.243836     0.057534     0.120548   \n",
            "14          0.0     0.317808     0.071233     0.156164     0.019178   \n",
            "15          0.0     0.235616     0.145205     0.164384     0.019178   \n",
            "16          0.0     0.301370     0.079452     0.202740     0.093151   \n",
            "17          0.0     0.389041     0.115068     0.104110     0.082192   \n",
            "18          0.0     0.219178     0.041096     0.161644     0.145205   \n",
            "19          0.0     0.260274     0.139726     0.131507     0.035616   \n",
            "20          0.0     0.350685     0.197260     0.052055     0.271233   \n",
            "21          0.0     0.312329     0.095890     0.147945     0.013699   \n",
            "22          0.0     0.345205     0.189041     0.063014     0.249315   \n",
            "23          0.0     0.257534     0.147945     0.142466     0.019178   \n",
            "24          0.0     0.320548     0.186301     0.128767     0.052055   \n",
            "25          0.0     0.364384     0.090411     0.101370     0.016438   \n",
            "26          0.0     0.361644     0.156164     0.046575     0.008219   \n",
            "27          0.0     0.306849     0.216438     0.063014     0.090411   \n",
            "28          0.0     0.334247     0.147945     0.128767     0.093151   \n",
            "29          0.0     0.150685     0.123288     0.150685     0.142466   \n",
            "30          0.0     0.369863     0.106849     0.175342     0.043836   \n",
            "31          0.0     0.380822     0.079452     0.150685     0.065753   \n",
            "32          0.0     0.186301     0.202740     0.104110     0.506849   \n",
            "33          0.0     0.372603     0.065753     0.030137     0.194521   \n",
            "34          0.0     0.134247     0.380822     0.041096     0.010959   \n",
            "35          0.0     0.309589     0.060274     0.208219     0.413699   \n",
            "36          0.0     0.164384     0.235616     0.068493     0.117808   \n",
            "37          0.0     0.339726     0.219178     0.027397     0.271233   \n",
            "38          0.0     0.353425     0.079452     0.090411     0.046575   \n",
            "39          0.0     0.216438     0.175342     0.150685     0.021918   \n",
            "40          0.0     0.334247     0.205479     0.109589     0.060274   \n",
            "41          0.0     0.219178     0.038356     0.153425     0.153425   \n",
            "42          0.0     0.309589     0.164384     0.104110     0.112329   \n",
            "43          0.0     0.331507     0.260274     0.095890     0.021918   \n",
            "44          0.0     0.358904     0.158904     0.117808     0.052055   \n",
            "45          0.0     0.375342     0.084932     0.147945     0.076712   \n",
            "46          0.0     0.312329     0.175342     0.076712     0.282192   \n",
            "47          0.0     0.284932     0.153425     0.038356     0.175342   \n",
            "48          0.0     0.350685     0.197260     0.052055     0.257534   \n",
            "49          0.0     0.263014     0.147945     0.136986     0.021918   \n",
            "50          0.0     0.317808     0.106849     0.136986     0.076712   \n",
            "51          0.0     0.290411     0.150685     0.117808     0.093151   \n",
            "52          0.0     0.347945     0.109589     0.139726     0.208219   \n",
            "53          0.0     0.263014     0.202740     0.065753     0.032877   \n",
            "54          0.0     0.312329     0.134247     0.109589     0.013699   \n",
            "55          0.0     0.216438     0.041096     0.150685     0.131507   \n",
            "56          0.0     0.290411     0.136986     0.049315     0.150685   \n",
            "57          0.0     0.328767     0.090411     0.142466     0.115068   \n",
            "\n",
            "    2014_2020_4  2014_2020_5  pct_ch_0  pct_ch_1  pct_ch_2  pct_ch_3  \\\n",
            "0      0.194521     0.115068 -0.255375 -0.023091 -0.077863  0.046740   \n",
            "1      0.101370     0.232877 -0.085741 -0.122965 -0.080543 -0.024478   \n",
            "2      0.090411     0.241096 -0.128078 -0.117516 -0.092903  0.016566   \n",
            "3      0.139726     0.221918 -0.197912 -0.051822 -0.049090 -0.051875   \n",
            "4      0.178082     0.246575 -0.143148 -0.099713 -0.097004 -0.075217   \n",
            "5      0.306849     0.054795 -0.245848 -0.051845 -0.013440 -0.042303   \n",
            "6      0.216438     0.093151 -0.271840  0.011154 -0.143598  0.094695   \n",
            "7      0.005479     0.000000 -0.345520  0.043986  0.095947  0.230204   \n",
            "8      0.087671     0.221918 -0.144501 -0.146251  0.061822 -0.061507   \n",
            "9      0.021918     0.410959 -0.178873 -0.072290 -0.001181 -0.170957   \n",
            "10     0.306849     0.054795 -0.249956 -0.077867  0.027630 -0.051875   \n",
            "11     0.093151     0.054795 -0.314079  0.035774 -0.040965  0.171325   \n",
            "12     0.087671     0.000000 -0.151667 -0.102427 -0.009190  0.270004   \n",
            "13     0.331507     0.000000 -0.135094  0.108405 -0.116200 -0.169466   \n",
            "14     0.021918     0.413699 -0.147308 -0.050518  0.016629 -0.225692   \n",
            "15     0.013699     0.421918 -0.218556 -0.031265  0.028953 -0.186020   \n",
            "16     0.268493     0.054795 -0.285497 -0.076499  0.052261 -0.006713   \n",
            "17     0.095890     0.213699  0.064828 -0.025834 -0.174960 -0.123007   \n",
            "18     0.071233     0.361644 -0.250042 -0.150423  0.012533  0.013879   \n",
            "19     0.126027     0.306849 -0.204842 -0.038113 -0.121571 -0.058775   \n",
            "20     0.128767     0.000000 -0.245758  0.031734 -0.121680  0.206937   \n",
            "21     0.123288     0.306849 -0.170571 -0.098364 -0.053149 -0.098476   \n",
            "22     0.098630     0.054795 -0.296381  0.052242 -0.047793  0.143980   \n",
            "23     0.115068     0.317808 -0.237678 -0.008006 -0.064101 -0.113517   \n",
            "24     0.273973     0.038356  0.022326  0.063182 -0.240590 -0.124416   \n",
            "25     0.252055     0.175342  0.044274 -0.142147 -0.147604 -0.181920   \n",
            "26     0.279452     0.147945 -0.184184 -0.023042 -0.120319 -0.099852   \n",
            "27     0.268493     0.054795 -0.260866  0.045440 -0.091569 -0.012188   \n",
            "28     0.090411     0.205479 -0.186957 -0.033997 -0.053175  0.005599   \n",
            "29     0.076712     0.356164 -0.314431 -0.079175  0.007046  0.005667   \n",
            "30     0.098630     0.205479 -0.143133 -0.081933 -0.001128 -0.050556   \n",
            "31     0.139726     0.183562 -0.036415 -0.142162 -0.066825 -0.046422   \n",
            "32     0.000000     0.000000 -0.109184 -0.003827 -0.226944  0.424770   \n",
            "33     0.106849     0.230137 -0.155441 -0.101141 -0.147702  0.076873   \n",
            "34     0.010959     0.421918 -0.366437  0.207087 -0.129903 -0.143624   \n",
            "35     0.008219     0.000000 -0.073448 -0.047797 -0.081795  0.294684   \n",
            "36     0.413699     0.000000 -0.340404  0.068722 -0.071042 -0.013519   \n",
            "37     0.049315     0.093151 -0.255349  0.063227 -0.175065  0.224721   \n",
            "38     0.167123     0.263014 -0.158203 -0.102490 -0.087428 -0.072440   \n",
            "39     0.016438     0.419178 -0.299294  0.019392 -0.018946 -0.062898   \n",
            "40     0.175342     0.115068 -0.275877  0.071417 -0.072354 -0.013597   \n",
            "41     0.021918     0.413699 -0.315706 -0.123067  0.005682  0.071345   \n",
            "42     0.194521     0.115068 -0.254022 -0.002511 -0.045001 -0.008054   \n",
            "43     0.175342     0.115068 -0.245785  0.098851 -0.077844 -0.065633   \n",
            "44     0.257534     0.054795 -0.143148 -0.073654 -0.038143 -0.031393   \n",
            "45     0.147945     0.167123 -0.018638 -0.151731 -0.073669 -0.032727   \n",
            "46     0.153425     0.000000 -0.212979 -0.064056 -0.069663  0.222000   \n",
            "47     0.293151     0.054795 -0.273208 -0.002526 -0.125803  0.053591   \n",
            "48     0.087671     0.054795 -0.238918  0.037206 -0.092952  0.152199   \n",
            "49     0.167123     0.263014 -0.232198 -0.040837 -0.047692 -0.099833   \n",
            "50     0.131507     0.230137 -0.214340 -0.039526 -0.040852 -0.058719   \n",
            "51     0.293151     0.054795 -0.230793 -0.043570 -0.005311 -0.058696   \n",
            "52     0.139726     0.054795 -0.293642 -0.042258  0.034391  0.106988   \n",
            "53     0.024658     0.410959 -0.159695  0.029005 -0.118925 -0.176426   \n",
            "54     0.167123     0.263014 -0.189723 -0.109255 -0.016266 -0.105316   \n",
            "55     0.087671     0.372603 -0.292454 -0.140847 -0.002530  0.027540   \n",
            "56     0.142466     0.230137 -0.254049 -0.014860 -0.127156  0.031670   \n",
            "57     0.093151     0.230137 -0.206117 -0.051860 -0.039477 -0.017626   \n",
            "\n",
            "    pct_ch_4  pct_ch_5  \n",
            "0   0.194521  0.115068  \n",
            "1   0.080850  0.232877  \n",
            "2   0.080835  0.241096  \n",
            "3   0.128782  0.221918  \n",
            "4   0.168506  0.246575  \n",
            "5   0.298641  0.054795  \n",
            "6   0.216438  0.093151  \n",
            "7  -0.024616  0.000000  \n",
            "8   0.068519  0.221918  \n",
            "9   0.012342  0.410959  \n",
            "10  0.297273  0.054795  \n",
            "11  0.093151  0.054795  \n",
            "12 -0.006720  0.000000  \n",
            "13  0.312355  0.000000  \n",
            "14 -0.006810  0.413699  \n",
            "15 -0.015029  0.421918  \n",
            "16  0.261653  0.054795  \n",
            "17  0.045275  0.213699  \n",
            "18  0.012409  0.361644  \n",
            "19  0.116451  0.306849  \n",
            "20  0.128767  0.000000  \n",
            "21  0.113712  0.306849  \n",
            "22  0.093158  0.054795  \n",
            "23  0.105493  0.317808  \n",
            "24  0.241141  0.038356  \n",
            "25  0.252055  0.175342  \n",
            "26  0.279452  0.147945  \n",
            "27  0.264389  0.054795  \n",
            "28  0.063051  0.205479  \n",
            "29  0.024729  0.356164  \n",
            "30  0.071270  0.205479  \n",
            "31  0.108262  0.183562  \n",
            "32 -0.084815  0.000000  \n",
            "33  0.097273  0.230137  \n",
            "34  0.010959  0.421918  \n",
            "35 -0.091644  0.000000  \n",
            "36  0.356243  0.000000  \n",
            "37  0.049315  0.093151  \n",
            "38  0.157547  0.263014  \n",
            "39 -0.057433  0.419178  \n",
            "40  0.175342  0.115068  \n",
            "41 -0.051954  0.413699  \n",
            "42  0.194521  0.115068  \n",
            "43  0.175342  0.115068  \n",
            "44  0.231542  0.054795  \n",
            "45  0.109642  0.167123  \n",
            "46  0.124697  0.000000  \n",
            "47  0.293151  0.054795  \n",
            "48  0.087671  0.054795  \n",
            "49  0.157547  0.263014  \n",
            "50  0.123299  0.230137  \n",
            "51  0.283575  0.054795  \n",
            "52  0.139726  0.054795  \n",
            "53  0.015082  0.410959  \n",
            "54  0.157547  0.263014  \n",
            "55  0.035688  0.372603  \n",
            "56  0.134258  0.230137  \n",
            "57  0.084943  0.230137  \n"
          ]
        }
      ],
      "source": [
        "final_df_fips = fips_df.reset_index(drop=True)\n",
        "print(final_df_fips)\n",
        "final_df_fips_vals = final_df.reset_index()\n",
        "print(final_df_fips_vals)"
      ]
    },
    {
      "cell_type": "code",
      "execution_count": null,
      "metadata": {
        "id": "xayLnitscRaB",
        "outputId": "ee90c6bd-b8d3-41cf-cda4-f9af4e2759e8"
      },
      "outputs": [
        {
          "name": "stdout",
          "output_type": "stream",
          "text": [
            "    fips        lat         lon  elevation             Name State  pct_ch_0  \\\n",
            "0   6001  37.648081 -121.913304        146          Alameda    CA -0.255375   \n",
            "1   6003  38.617610 -119.798999       2630           Alpine    CA -0.085741   \n",
            "2   6005  38.443550 -120.653856        719           Amador    CA -0.128078   \n",
            "3   6007  39.665959 -121.601919        373            Butte    CA -0.197912   \n",
            "4   6009  38.187844 -120.555115        499        Calaveras    CA -0.143148   \n",
            "5   6011  39.177739 -122.237563         40           Colusa    CA -0.245848   \n",
            "6   6013  37.919479 -121.951543        395     Contra Costa    CA -0.271840   \n",
            "7   6015  41.749903 -123.980998        493        Del Norte    CA -0.345520   \n",
            "8   6017  38.785532 -120.534398       1442        El Dorado    CA -0.144501   \n",
            "9   6019  36.761006 -119.655019        106           Fresno    CA -0.178873   \n",
            "10  6021  39.602546 -122.401700        140            Glenn    CA -0.249956   \n",
            "11  6023  40.706673 -123.925818        628         Humboldt    CA -0.314079   \n",
            "12  6025  33.040816 -115.355395          7         Imperial    CA -0.151667   \n",
            "13  6027  36.561977 -117.403927       1259             Inyo    CA -0.135094   \n",
            "14  6029  35.346629 -118.729506        407             Kern    CA -0.147308   \n",
            "15  6031  36.072478 -119.815530         56            Kings    CA -0.218556   \n",
            "16  6033  39.094802 -122.746757        546             Lake    CA -0.285497   \n",
            "17  6035  40.721089 -120.629931       1954           Lassen    CA  0.064828   \n",
            "18  6037  34.196398 -118.261862        197      Los Angeles    CA -0.250042   \n",
            "19  6039  37.210039 -119.749852        633           Madera    CA -0.204842   \n",
            "20  6041  38.051817 -122.745974        164            Marin    CA -0.245758   \n",
            "21  6043  37.570034 -119.912860       1079         Mariposa    CA -0.170571   \n",
            "22  6045  39.432388 -123.442881        550        Mendocino    CA -0.296381   \n",
            "23  6047  37.194806 -120.722802         30           Merced    CA -0.237678   \n",
            "24  6049  41.592919 -120.718370       1534            Modoc    CA  0.022326   \n",
            "25  6051  37.915836 -118.875167       2480             Mono    CA  0.044274   \n",
            "26  6053  36.240107 -121.315573        393         Monterey    CA -0.184184   \n",
            "27  6055  38.507351 -122.325995        444             Napa    CA -0.260866   \n",
            "28  6057  39.295191 -120.773446       1514           Nevada    CA -0.186957   \n",
            "29  6059  33.675687 -117.777207        124           Orange    CA -0.314431   \n",
            "30  6061  39.062032 -120.722718        903           Placer    CA -0.143133   \n",
            "31  6063  39.995170 -120.829516       1728           Plumas    CA -0.036415   \n",
            "32  6065  33.729828 -116.002239        718        Riverside    CA -0.109184   \n",
            "33  6067  38.450011 -121.340441         18       Sacramento    CA -0.155441   \n",
            "34  6069  36.610702 -121.085296        818       San Benito    CA -0.366437   \n",
            "35  6071  34.857220 -116.181197        467   San Bernardino    CA -0.073448   \n",
            "36  6073  33.023604 -116.776117        704        San Diego    CA -0.340404   \n",
            "37  6075  37.727239 -123.032229          0    San Francisco    CA -0.255349   \n",
            "38  6077  37.935034 -121.272237         10      San Joaquin    CA -0.158203   \n",
            "39  6079  35.385227 -120.447540        640  San Luis Obispo    CA -0.299294   \n",
            "40  6081  37.414664 -122.371542        387        San Mateo    CA -0.275877   \n",
            "41  6083  34.537378 -120.038485        150    Santa Barbara    CA -0.315706   \n",
            "42  6085  37.220777 -121.690622        376      Santa Clara    CA -0.254022   \n",
            "43  6087  37.012488 -122.007205         31       Santa Cruz    CA -0.245785   \n",
            "44  6089  40.760522 -122.043550        484           Shasta    CA -0.143148   \n",
            "45  6091  39.576925 -120.521993       2239           Sierra    CA -0.018638   \n",
            "46  6093  41.587986 -122.533287        825         Siskiyou    CA -0.212979   \n",
            "47  6095  38.267226 -121.939594         15           Solano    CA -0.273208   \n",
            "48  6097  38.532574 -122.945194         52           Sonoma    CA -0.238918   \n",
            "49  6099  37.562384 -121.002656         23       Stanislaus    CA -0.232198   \n",
            "50  6101  39.035257 -121.702758         10           Sutter    CA -0.214340   \n",
            "51  6103  40.126156 -122.232276         87           Tehama    CA -0.230793   \n",
            "52  6105  40.647724 -123.114404       1005          Trinity    CA -0.293642   \n",
            "53  6107  36.230453 -118.780542       1451           Tulare    CA -0.159695   \n",
            "54  6109  38.021451 -119.964708       1570         Tuolumne    CA -0.189723   \n",
            "55  6111  34.358742 -119.133143         67          Ventura    CA -0.292454   \n",
            "56  6113  38.679268 -121.903178         30             Yolo    CA -0.254049   \n",
            "57  6115  39.270026 -121.344280        260             Yuba    CA -0.206117   \n",
            "\n",
            "    pct_ch_1  pct_ch_2  pct_ch_3  pct_ch_4  pct_ch_5  \n",
            "0  -0.023091 -0.077863  0.046740  0.194521  0.115068  \n",
            "1  -0.122965 -0.080543 -0.024478  0.080850  0.232877  \n",
            "2  -0.117516 -0.092903  0.016566  0.080835  0.241096  \n",
            "3  -0.051822 -0.049090 -0.051875  0.128782  0.221918  \n",
            "4  -0.099713 -0.097004 -0.075217  0.168506  0.246575  \n",
            "5  -0.051845 -0.013440 -0.042303  0.298641  0.054795  \n",
            "6   0.011154 -0.143598  0.094695  0.216438  0.093151  \n",
            "7   0.043986  0.095947  0.230204 -0.024616  0.000000  \n",
            "8  -0.146251  0.061822 -0.061507  0.068519  0.221918  \n",
            "9  -0.072290 -0.001181 -0.170957  0.012342  0.410959  \n",
            "10 -0.077867  0.027630 -0.051875  0.297273  0.054795  \n",
            "11  0.035774 -0.040965  0.171325  0.093151  0.054795  \n",
            "12 -0.102427 -0.009190  0.270004 -0.006720  0.000000  \n",
            "13  0.108405 -0.116200 -0.169466  0.312355  0.000000  \n",
            "14 -0.050518  0.016629 -0.225692 -0.006810  0.413699  \n",
            "15 -0.031265  0.028953 -0.186020 -0.015029  0.421918  \n",
            "16 -0.076499  0.052261 -0.006713  0.261653  0.054795  \n",
            "17 -0.025834 -0.174960 -0.123007  0.045275  0.213699  \n",
            "18 -0.150423  0.012533  0.013879  0.012409  0.361644  \n",
            "19 -0.038113 -0.121571 -0.058775  0.116451  0.306849  \n",
            "20  0.031734 -0.121680  0.206937  0.128767  0.000000  \n",
            "21 -0.098364 -0.053149 -0.098476  0.113712  0.306849  \n",
            "22  0.052242 -0.047793  0.143980  0.093158  0.054795  \n",
            "23 -0.008006 -0.064101 -0.113517  0.105493  0.317808  \n",
            "24  0.063182 -0.240590 -0.124416  0.241141  0.038356  \n",
            "25 -0.142147 -0.147604 -0.181920  0.252055  0.175342  \n",
            "26 -0.023042 -0.120319 -0.099852  0.279452  0.147945  \n",
            "27  0.045440 -0.091569 -0.012188  0.264389  0.054795  \n",
            "28 -0.033997 -0.053175  0.005599  0.063051  0.205479  \n",
            "29 -0.079175  0.007046  0.005667  0.024729  0.356164  \n",
            "30 -0.081933 -0.001128 -0.050556  0.071270  0.205479  \n",
            "31 -0.142162 -0.066825 -0.046422  0.108262  0.183562  \n",
            "32 -0.003827 -0.226944  0.424770 -0.084815  0.000000  \n",
            "33 -0.101141 -0.147702  0.076873  0.097273  0.230137  \n",
            "34  0.207087 -0.129903 -0.143624  0.010959  0.421918  \n",
            "35 -0.047797 -0.081795  0.294684 -0.091644  0.000000  \n",
            "36  0.068722 -0.071042 -0.013519  0.356243  0.000000  \n",
            "37  0.063227 -0.175065  0.224721  0.049315  0.093151  \n",
            "38 -0.102490 -0.087428 -0.072440  0.157547  0.263014  \n",
            "39  0.019392 -0.018946 -0.062898 -0.057433  0.419178  \n",
            "40  0.071417 -0.072354 -0.013597  0.175342  0.115068  \n",
            "41 -0.123067  0.005682  0.071345 -0.051954  0.413699  \n",
            "42 -0.002511 -0.045001 -0.008054  0.194521  0.115068  \n",
            "43  0.098851 -0.077844 -0.065633  0.175342  0.115068  \n",
            "44 -0.073654 -0.038143 -0.031393  0.231542  0.054795  \n",
            "45 -0.151731 -0.073669 -0.032727  0.109642  0.167123  \n",
            "46 -0.064056 -0.069663  0.222000  0.124697  0.000000  \n",
            "47 -0.002526 -0.125803  0.053591  0.293151  0.054795  \n",
            "48  0.037206 -0.092952  0.152199  0.087671  0.054795  \n",
            "49 -0.040837 -0.047692 -0.099833  0.157547  0.263014  \n",
            "50 -0.039526 -0.040852 -0.058719  0.123299  0.230137  \n",
            "51 -0.043570 -0.005311 -0.058696  0.283575  0.054795  \n",
            "52 -0.042258  0.034391  0.106988  0.139726  0.054795  \n",
            "53  0.029005 -0.118925 -0.176426  0.015082  0.410959  \n",
            "54 -0.109255 -0.016266 -0.105316  0.157547  0.263014  \n",
            "55 -0.140847 -0.002530  0.027540  0.035688  0.372603  \n",
            "56 -0.014860 -0.127156  0.031670  0.134258  0.230137  \n",
            "57 -0.051860 -0.039477 -0.017626  0.084943  0.230137  \n"
          ]
        }
      ],
      "source": [
        "final_df_fips['pct_ch_0'] = final_df_fips_vals['pct_ch_0'] \n",
        "final_df_fips['pct_ch_1'] = final_df_fips_vals['pct_ch_1']\n",
        "final_df_fips['pct_ch_2'] = final_df_fips_vals['pct_ch_2']\n",
        "final_df_fips['pct_ch_3'] = final_df_fips_vals['pct_ch_3']\n",
        "final_df_fips['pct_ch_4'] = final_df_fips_vals['pct_ch_4']\n",
        "final_df_fips['pct_ch_5'] = final_df_fips_vals['pct_ch_5']\n",
        "print(final_df_fips)"
      ]
    },
    {
      "cell_type": "code",
      "execution_count": null,
      "metadata": {
        "id": "yXXD4HEycRaC",
        "outputId": "db914128-967f-4634-e2e1-2382738b412d"
      },
      "outputs": [
        {
          "name": "stdout",
          "output_type": "stream",
          "text": [
            "    fips        lat         lon  elevation             Name State  pct_ch_0  \\\n",
            "0   6001  37.648081 -121.913304        146          Alameda    CA -0.255375   \n",
            "1   6003  38.617610 -119.798999       2630           Alpine    CA -0.085741   \n",
            "2   6005  38.443550 -120.653856        719           Amador    CA -0.128078   \n",
            "3   6007  39.665959 -121.601919        373            Butte    CA -0.197912   \n",
            "4   6009  38.187844 -120.555115        499        Calaveras    CA -0.143148   \n",
            "5   6011  39.177739 -122.237563         40           Colusa    CA -0.245848   \n",
            "6   6013  37.919479 -121.951543        395     Contra Costa    CA -0.271840   \n",
            "7   6015  41.749903 -123.980998        493        Del Norte    CA -0.345520   \n",
            "8   6017  38.785532 -120.534398       1442        El Dorado    CA -0.144501   \n",
            "9   6019  36.761006 -119.655019        106           Fresno    CA -0.178873   \n",
            "10  6021  39.602546 -122.401700        140            Glenn    CA -0.249956   \n",
            "11  6023  40.706673 -123.925818        628         Humboldt    CA -0.314079   \n",
            "12  6025  33.040816 -115.355395          7         Imperial    CA -0.151667   \n",
            "13  6027  36.561977 -117.403927       1259             Inyo    CA -0.135094   \n",
            "14  6029  35.346629 -118.729506        407             Kern    CA -0.147308   \n",
            "15  6031  36.072478 -119.815530         56            Kings    CA -0.218556   \n",
            "16  6033  39.094802 -122.746757        546             Lake    CA -0.285497   \n",
            "17  6035  40.721089 -120.629931       1954           Lassen    CA  0.064828   \n",
            "18  6037  34.196398 -118.261862        197      Los Angeles    CA -0.250042   \n",
            "19  6039  37.210039 -119.749852        633           Madera    CA -0.204842   \n",
            "20  6041  38.051817 -122.745974        164            Marin    CA -0.245758   \n",
            "21  6043  37.570034 -119.912860       1079         Mariposa    CA -0.170571   \n",
            "22  6045  39.432388 -123.442881        550        Mendocino    CA -0.296381   \n",
            "23  6047  37.194806 -120.722802         30           Merced    CA -0.237678   \n",
            "24  6049  41.592919 -120.718370       1534            Modoc    CA  0.022326   \n",
            "25  6051  37.915836 -118.875167       2480             Mono    CA  0.044274   \n",
            "26  6053  36.240107 -121.315573        393         Monterey    CA -0.184184   \n",
            "27  6055  38.507351 -122.325995        444             Napa    CA -0.260866   \n",
            "28  6057  39.295191 -120.773446       1514           Nevada    CA -0.186957   \n",
            "29  6059  33.675687 -117.777207        124           Orange    CA -0.314431   \n",
            "30  6061  39.062032 -120.722718        903           Placer    CA -0.143133   \n",
            "31  6063  39.995170 -120.829516       1728           Plumas    CA -0.036415   \n",
            "32  6065  33.729828 -116.002239        718        Riverside    CA -0.109184   \n",
            "33  6067  38.450011 -121.340441         18       Sacramento    CA -0.155441   \n",
            "34  6069  36.610702 -121.085296        818       San Benito    CA -0.366437   \n",
            "35  6071  34.857220 -116.181197        467   San Bernardino    CA -0.073448   \n",
            "36  6073  33.023604 -116.776117        704        San Diego    CA -0.340404   \n",
            "37  6075  37.727239 -123.032229          0    San Francisco    CA -0.255349   \n",
            "38  6077  37.935034 -121.272237         10      San Joaquin    CA -0.158203   \n",
            "39  6079  35.385227 -120.447540        640  San Luis Obispo    CA -0.299294   \n",
            "40  6081  37.414664 -122.371542        387        San Mateo    CA -0.275877   \n",
            "41  6083  34.537378 -120.038485        150    Santa Barbara    CA -0.315706   \n",
            "42  6085  37.220777 -121.690622        376      Santa Clara    CA -0.254022   \n",
            "43  6087  37.012488 -122.007205         31       Santa Cruz    CA -0.245785   \n",
            "44  6089  40.760522 -122.043550        484           Shasta    CA -0.143148   \n",
            "45  6091  39.576925 -120.521993       2239           Sierra    CA -0.018638   \n",
            "46  6093  41.587986 -122.533287        825         Siskiyou    CA -0.212979   \n",
            "47  6095  38.267226 -121.939594         15           Solano    CA -0.273208   \n",
            "48  6097  38.532574 -122.945194         52           Sonoma    CA -0.238918   \n",
            "49  6099  37.562384 -121.002656         23       Stanislaus    CA -0.232198   \n",
            "50  6101  39.035257 -121.702758         10           Sutter    CA -0.214340   \n",
            "51  6103  40.126156 -122.232276         87           Tehama    CA -0.230793   \n",
            "52  6105  40.647724 -123.114404       1005          Trinity    CA -0.293642   \n",
            "53  6107  36.230453 -118.780542       1451           Tulare    CA -0.159695   \n",
            "54  6109  38.021451 -119.964708       1570         Tuolumne    CA -0.189723   \n",
            "55  6111  34.358742 -119.133143         67          Ventura    CA -0.292454   \n",
            "56  6113  38.679268 -121.903178         30             Yolo    CA -0.254049   \n",
            "57  6115  39.270026 -121.344280        260             Yuba    CA -0.206117   \n",
            "\n",
            "    pct_ch_1  pct_ch_2  pct_ch_3  pct_ch_4  pct_ch_5    size_0    size_1  \\\n",
            "0  -0.023091 -0.077863  0.046740  0.194521  0.115068  0.255375  0.023091   \n",
            "1  -0.122965 -0.080543 -0.024478  0.080850  0.232877  0.085741  0.122965   \n",
            "2  -0.117516 -0.092903  0.016566  0.080835  0.241096  0.128078  0.117516   \n",
            "3  -0.051822 -0.049090 -0.051875  0.128782  0.221918  0.197912  0.051822   \n",
            "4  -0.099713 -0.097004 -0.075217  0.168506  0.246575  0.143148  0.099713   \n",
            "5  -0.051845 -0.013440 -0.042303  0.298641  0.054795  0.245848  0.051845   \n",
            "6   0.011154 -0.143598  0.094695  0.216438  0.093151  0.271840  0.011154   \n",
            "7   0.043986  0.095947  0.230204 -0.024616  0.000000  0.345520  0.043986   \n",
            "8  -0.146251  0.061822 -0.061507  0.068519  0.221918  0.144501  0.146251   \n",
            "9  -0.072290 -0.001181 -0.170957  0.012342  0.410959  0.178873  0.072290   \n",
            "10 -0.077867  0.027630 -0.051875  0.297273  0.054795  0.249956  0.077867   \n",
            "11  0.035774 -0.040965  0.171325  0.093151  0.054795  0.314079  0.035774   \n",
            "12 -0.102427 -0.009190  0.270004 -0.006720  0.000000  0.151667  0.102427   \n",
            "13  0.108405 -0.116200 -0.169466  0.312355  0.000000  0.135094  0.108405   \n",
            "14 -0.050518  0.016629 -0.225692 -0.006810  0.413699  0.147308  0.050518   \n",
            "15 -0.031265  0.028953 -0.186020 -0.015029  0.421918  0.218556  0.031265   \n",
            "16 -0.076499  0.052261 -0.006713  0.261653  0.054795  0.285497  0.076499   \n",
            "17 -0.025834 -0.174960 -0.123007  0.045275  0.213699  0.064828  0.025834   \n",
            "18 -0.150423  0.012533  0.013879  0.012409  0.361644  0.250042  0.150423   \n",
            "19 -0.038113 -0.121571 -0.058775  0.116451  0.306849  0.204842  0.038113   \n",
            "20  0.031734 -0.121680  0.206937  0.128767  0.000000  0.245758  0.031734   \n",
            "21 -0.098364 -0.053149 -0.098476  0.113712  0.306849  0.170571  0.098364   \n",
            "22  0.052242 -0.047793  0.143980  0.093158  0.054795  0.296381  0.052242   \n",
            "23 -0.008006 -0.064101 -0.113517  0.105493  0.317808  0.237678  0.008006   \n",
            "24  0.063182 -0.240590 -0.124416  0.241141  0.038356  0.022326  0.063182   \n",
            "25 -0.142147 -0.147604 -0.181920  0.252055  0.175342  0.044274  0.142147   \n",
            "26 -0.023042 -0.120319 -0.099852  0.279452  0.147945  0.184184  0.023042   \n",
            "27  0.045440 -0.091569 -0.012188  0.264389  0.054795  0.260866  0.045440   \n",
            "28 -0.033997 -0.053175  0.005599  0.063051  0.205479  0.186957  0.033997   \n",
            "29 -0.079175  0.007046  0.005667  0.024729  0.356164  0.314431  0.079175   \n",
            "30 -0.081933 -0.001128 -0.050556  0.071270  0.205479  0.143133  0.081933   \n",
            "31 -0.142162 -0.066825 -0.046422  0.108262  0.183562  0.036415  0.142162   \n",
            "32 -0.003827 -0.226944  0.424770 -0.084815  0.000000  0.109184  0.003827   \n",
            "33 -0.101141 -0.147702  0.076873  0.097273  0.230137  0.155441  0.101141   \n",
            "34  0.207087 -0.129903 -0.143624  0.010959  0.421918  0.366437  0.207087   \n",
            "35 -0.047797 -0.081795  0.294684 -0.091644  0.000000  0.073448  0.047797   \n",
            "36  0.068722 -0.071042 -0.013519  0.356243  0.000000  0.340404  0.068722   \n",
            "37  0.063227 -0.175065  0.224721  0.049315  0.093151  0.255349  0.063227   \n",
            "38 -0.102490 -0.087428 -0.072440  0.157547  0.263014  0.158203  0.102490   \n",
            "39  0.019392 -0.018946 -0.062898 -0.057433  0.419178  0.299294  0.019392   \n",
            "40  0.071417 -0.072354 -0.013597  0.175342  0.115068  0.275877  0.071417   \n",
            "41 -0.123067  0.005682  0.071345 -0.051954  0.413699  0.315706  0.123067   \n",
            "42 -0.002511 -0.045001 -0.008054  0.194521  0.115068  0.254022  0.002511   \n",
            "43  0.098851 -0.077844 -0.065633  0.175342  0.115068  0.245785  0.098851   \n",
            "44 -0.073654 -0.038143 -0.031393  0.231542  0.054795  0.143148  0.073654   \n",
            "45 -0.151731 -0.073669 -0.032727  0.109642  0.167123  0.018638  0.151731   \n",
            "46 -0.064056 -0.069663  0.222000  0.124697  0.000000  0.212979  0.064056   \n",
            "47 -0.002526 -0.125803  0.053591  0.293151  0.054795  0.273208  0.002526   \n",
            "48  0.037206 -0.092952  0.152199  0.087671  0.054795  0.238918  0.037206   \n",
            "49 -0.040837 -0.047692 -0.099833  0.157547  0.263014  0.232198  0.040837   \n",
            "50 -0.039526 -0.040852 -0.058719  0.123299  0.230137  0.214340  0.039526   \n",
            "51 -0.043570 -0.005311 -0.058696  0.283575  0.054795  0.230793  0.043570   \n",
            "52 -0.042258  0.034391  0.106988  0.139726  0.054795  0.293642  0.042258   \n",
            "53  0.029005 -0.118925 -0.176426  0.015082  0.410959  0.159695  0.029005   \n",
            "54 -0.109255 -0.016266 -0.105316  0.157547  0.263014  0.189723  0.109255   \n",
            "55 -0.140847 -0.002530  0.027540  0.035688  0.372603  0.292454  0.140847   \n",
            "56 -0.014860 -0.127156  0.031670  0.134258  0.230137  0.254049  0.014860   \n",
            "57 -0.051860 -0.039477 -0.017626  0.084943  0.230137  0.206117  0.051860   \n",
            "\n",
            "      size_2    size_3    size_4    size_5  \n",
            "0   0.077863  0.046740  0.194521  0.115068  \n",
            "1   0.080543  0.024478  0.080850  0.232877  \n",
            "2   0.092903  0.016566  0.080835  0.241096  \n",
            "3   0.049090  0.051875  0.128782  0.221918  \n",
            "4   0.097004  0.075217  0.168506  0.246575  \n",
            "5   0.013440  0.042303  0.298641  0.054795  \n",
            "6   0.143598  0.094695  0.216438  0.093151  \n",
            "7   0.095947  0.230204  0.024616  0.000000  \n",
            "8   0.061822  0.061507  0.068519  0.221918  \n",
            "9   0.001181  0.170957  0.012342  0.410959  \n",
            "10  0.027630  0.051875  0.297273  0.054795  \n",
            "11  0.040965  0.171325  0.093151  0.054795  \n",
            "12  0.009190  0.270004  0.006720  0.000000  \n",
            "13  0.116200  0.169466  0.312355  0.000000  \n",
            "14  0.016629  0.225692  0.006810  0.413699  \n",
            "15  0.028953  0.186020  0.015029  0.421918  \n",
            "16  0.052261  0.006713  0.261653  0.054795  \n",
            "17  0.174960  0.123007  0.045275  0.213699  \n",
            "18  0.012533  0.013879  0.012409  0.361644  \n",
            "19  0.121571  0.058775  0.116451  0.306849  \n",
            "20  0.121680  0.206937  0.128767  0.000000  \n",
            "21  0.053149  0.098476  0.113712  0.306849  \n",
            "22  0.047793  0.143980  0.093158  0.054795  \n",
            "23  0.064101  0.113517  0.105493  0.317808  \n",
            "24  0.240590  0.124416  0.241141  0.038356  \n",
            "25  0.147604  0.181920  0.252055  0.175342  \n",
            "26  0.120319  0.099852  0.279452  0.147945  \n",
            "27  0.091569  0.012188  0.264389  0.054795  \n",
            "28  0.053175  0.005599  0.063051  0.205479  \n",
            "29  0.007046  0.005667  0.024729  0.356164  \n",
            "30  0.001128  0.050556  0.071270  0.205479  \n",
            "31  0.066825  0.046422  0.108262  0.183562  \n",
            "32  0.226944  0.424770  0.084815  0.000000  \n",
            "33  0.147702  0.076873  0.097273  0.230137  \n",
            "34  0.129903  0.143624  0.010959  0.421918  \n",
            "35  0.081795  0.294684  0.091644  0.000000  \n",
            "36  0.071042  0.013519  0.356243  0.000000  \n",
            "37  0.175065  0.224721  0.049315  0.093151  \n",
            "38  0.087428  0.072440  0.157547  0.263014  \n",
            "39  0.018946  0.062898  0.057433  0.419178  \n",
            "40  0.072354  0.013597  0.175342  0.115068  \n",
            "41  0.005682  0.071345  0.051954  0.413699  \n",
            "42  0.045001  0.008054  0.194521  0.115068  \n",
            "43  0.077844  0.065633  0.175342  0.115068  \n",
            "44  0.038143  0.031393  0.231542  0.054795  \n",
            "45  0.073669  0.032727  0.109642  0.167123  \n",
            "46  0.069663  0.222000  0.124697  0.000000  \n",
            "47  0.125803  0.053591  0.293151  0.054795  \n",
            "48  0.092952  0.152199  0.087671  0.054795  \n",
            "49  0.047692  0.099833  0.157547  0.263014  \n",
            "50  0.040852  0.058719  0.123299  0.230137  \n",
            "51  0.005311  0.058696  0.283575  0.054795  \n",
            "52  0.034391  0.106988  0.139726  0.054795  \n",
            "53  0.118925  0.176426  0.015082  0.410959  \n",
            "54  0.016266  0.105316  0.157547  0.263014  \n",
            "55  0.002530  0.027540  0.035688  0.372603  \n",
            "56  0.127156  0.031670  0.134258  0.230137  \n",
            "57  0.039477  0.017626  0.084943  0.230137  \n"
          ]
        }
      ],
      "source": [
        "final_df_fips['size_0'] = final_df_fips['pct_ch_0'].abs()\n",
        "final_df_fips['size_1'] = final_df_fips['pct_ch_1'].abs()\n",
        "final_df_fips['size_2'] = final_df_fips['pct_ch_2'].abs()\n",
        "final_df_fips['size_3'] = final_df_fips['pct_ch_3'].abs()\n",
        "final_df_fips['size_4'] = final_df_fips['pct_ch_4'].abs()\n",
        "final_df_fips['size_5'] = final_df_fips['pct_ch_5'].abs()\n",
        "print(final_df_fips)"
      ]
    },
    {
      "cell_type": "code",
      "execution_count": null,
      "metadata": {
        "id": "9SNKVe1EcRaD"
      },
      "outputs": [],
      "source": [
        "def count_val(list_):\n",
        "    neg_count = len(list(filter(lambda x: (x < 0), list_)))\n",
        "    pos_count = len(list(filter(lambda x: (x >= 0), list_)))\n",
        "    return (pos_count, neg_count)"
      ]
    },
    {
      "cell_type": "code",
      "execution_count": null,
      "metadata": {
        "id": "TphNClHNcRaD",
        "outputId": "4ee1fe81-0396-4f61-82dd-685fcd576dea"
      },
      "outputs": [
        {
          "name": "stdout",
          "output_type": "stream",
          "text": [
            "(3, 55)\n",
            "(16, 42)\n",
            "(10, 48)\n",
            "(22, 36)\n",
            "(50, 8)\n",
            "(58, 0)\n"
          ]
        }
      ],
      "source": [
        "list0 = list(final_df_fips['pct_ch_0'])\n",
        "list1 = list(final_df_fips['pct_ch_1'])\n",
        "list2 = list(final_df_fips['pct_ch_2'])\n",
        "list3 = list(final_df_fips['pct_ch_3'])\n",
        "list4 = list(final_df_fips['pct_ch_4'])\n",
        "list5 = list(final_df_fips['pct_ch_5'])\n",
        "print(count_val(list0))\n",
        "print(count_val(list1))\n",
        "print(count_val(list2))\n",
        "print(count_val(list3))\n",
        "print(count_val(list4))\n",
        "print(count_val(list5))"
      ]
    },
    {
      "cell_type": "code",
      "execution_count": null,
      "metadata": {
        "id": "S4eS8GNMcRaE"
      },
      "outputs": [],
      "source": [
        "import plotly as py\n",
        "from plotly.offline import download_plotlyjs,init_notebook_mode,plot,iplot"
      ]
    },
    {
      "cell_type": "code",
      "execution_count": null,
      "metadata": {
        "id": "IaiFjUwLcRaF",
        "outputId": "a7e628d1-b30a-4173-f23a-0a14000e8da9"
      },
      "outputs": [
        {
          "data": {
            "text/html": [
              "        <script type=\"text/javascript\">\n",
              "        window.PlotlyConfig = {MathJaxConfig: 'local'};\n",
              "        if (window.MathJax) {MathJax.Hub.Config({SVG: {font: \"STIX-Web\"}});}\n",
              "        if (typeof require !== 'undefined') {\n",
              "        require.undef(\"plotly\");\n",
              "        requirejs.config({\n",
              "            paths: {\n",
              "                'plotly': ['https://cdn.plot.ly/plotly-latest.min']\n",
              "            }\n",
              "        });\n",
              "        require(['plotly'], function(Plotly) {\n",
              "            window._Plotly = Plotly;\n",
              "        });\n",
              "        }\n",
              "        </script>\n",
              "        "
            ]
          },
          "metadata": {},
          "output_type": "display_data"
        }
      ],
      "source": [
        "init_notebook_mode(connected=True)"
      ]
    },
    {
      "cell_type": "code",
      "execution_count": null,
      "metadata": {
        "id": "Cojc6PxIcRaF"
      },
      "outputs": [],
      "source": [
        "import plotly.express as px"
      ]
    },
    {
      "cell_type": "code",
      "execution_count": null,
      "metadata": {
        "id": "Fbfo8yBhcRaG",
        "outputId": "a72d20dd-f8a8-4ac0-82a4-1c9f0760b932"
      },
      "outputs": [
        {
          "data": {
            "text/plain": [
              "Templates configuration\n",
              "-----------------------\n",
              "    Default template: 'plotly'\n",
              "    Available templates:\n",
              "        ['ggplot2', 'seaborn', 'simple_white', 'plotly',\n",
              "         'plotly_white', 'plotly_dark', 'presentation', 'xgridoff',\n",
              "         'ygridoff', 'gridon', 'none']"
            ]
          },
          "execution_count": 46,
          "metadata": {},
          "output_type": "execute_result"
        }
      ],
      "source": [
        "import plotly.io as pio\n",
        "pio.templates"
      ]
    },
    {
      "cell_type": "code",
      "execution_count": null,
      "metadata": {
        "id": "L0CMUTDdcRaH",
        "outputId": "fad41aaa-3610-4ae0-f028-657ed14a35c0"
      },
      "outputs": [
        {
          "name": "stdout",
          "output_type": "stream",
          "text": [
            "37.83800610344828 \n",
            " -120.74952093103452\n",
            "42.749903 \n",
            " -114.355395\n",
            "31.023604 \n",
            " -125.980998\n"
          ]
        }
      ],
      "source": [
        "lat1 = final_df_fips['lat'].mean()\n",
        "lon1 = final_df_fips['lon'].mean()\n",
        "print(lat1,'\\n',lon1)\n",
        "latr1 = final_df_fips['lat'].max()+1\n",
        "lonr1 = final_df_fips['lon'].max()+1\n",
        "print(latr1,'\\n',lonr1)\n",
        "latr2 = final_df_fips['lat'].min()-2\n",
        "lonr2 = final_df_fips['lon'].min()-2\n",
        "print(latr2,'\\n',lonr2)"
      ]
    },
    {
      "cell_type": "code",
      "execution_count": null,
      "metadata": {
        "scrolled": false,
        "id": "VRDtivbRcRaH",
        "outputId": "9f93ba90-6847-484f-f748-0a815c1b62f1"
      },
      "outputs": [
        {
          "data": {
            "application/vnd.plotly.v1+json": {
              "config": {
                "plotlyServerURL": "https://plot.ly"
              },
              "data": [
                {
                  "customdata": [
                    [
                      6001,
                      "CA",
                      -0.2553754474073796
                    ],
                    [
                      6003,
                      "CA",
                      -0.08574105653730113
                    ],
                    [
                      6005,
                      "CA",
                      -0.1280775068867942
                    ],
                    [
                      6007,
                      "CA",
                      -0.19791241122125813
                    ],
                    [
                      6009,
                      "CA",
                      -0.14314787399509016
                    ],
                    [
                      6011,
                      "CA",
                      -0.2458482469126549
                    ],
                    [
                      6013,
                      "CA",
                      -0.27184003897831827
                    ],
                    [
                      6015,
                      "CA",
                      -0.34552030433071607
                    ],
                    [
                      6017,
                      "CA",
                      -0.14450087139028917
                    ],
                    [
                      6019,
                      "CA",
                      -0.17887300189269717
                    ],
                    [
                      6021,
                      "CA",
                      -0.24995596199613962
                    ],
                    [
                      6023,
                      "CA",
                      -0.3140790435320353
                    ],
                    [
                      6025,
                      "CA",
                      -0.15166688529505465
                    ],
                    [
                      6027,
                      "CA",
                      -0.1350936041826734
                    ],
                    [
                      6029,
                      "CA",
                      -0.14730805989168522
                    ],
                    [
                      6031,
                      "CA",
                      -0.21855592826490264
                    ],
                    [
                      6033,
                      "CA",
                      -0.28549744204786087
                    ],
                    [
                      6035,
                      "CA",
                      0.06482768959766133
                    ],
                    [
                      6037,
                      "CA",
                      -0.2500421640462493
                    ],
                    [
                      6039,
                      "CA",
                      -0.20484230646702772
                    ],
                    [
                      6041,
                      "CA",
                      -0.2457582969473231
                    ],
                    [
                      6043,
                      "CA",
                      -0.17057136967561792
                    ],
                    [
                      6045,
                      "CA",
                      -0.2963813878530067
                    ],
                    [
                      6047,
                      "CA",
                      -0.23767779172835113
                    ],
                    [
                      6049,
                      "CA",
                      0.02232633097839326
                    ],
                    [
                      6051,
                      "CA",
                      0.04427412251934859
                    ],
                    [
                      6053,
                      "CA",
                      -0.18418379776249455
                    ],
                    [
                      6055,
                      "CA",
                      -0.2608661432078406
                    ],
                    [
                      6057,
                      "CA",
                      -0.18695725502689126
                    ],
                    [
                      6059,
                      "CA",
                      -0.31443134756291813
                    ],
                    [
                      6061,
                      "CA",
                      -0.14313288233420157
                    ],
                    [
                      6063,
                      "CA",
                      -0.03641474429848396
                    ],
                    [
                      6065,
                      "CA",
                      -0.10918426625189737
                    ],
                    [
                      6067,
                      "CA",
                      -0.15544103592376735
                    ],
                    [
                      6069,
                      "CA",
                      -0.36643741918557804
                    ],
                    [
                      6071,
                      "CA",
                      -0.07344789460862394
                    ],
                    [
                      6073,
                      "CA",
                      -0.34040440005247086
                    ],
                    [
                      6075,
                      "CA",
                      -0.25534921200082455
                    ],
                    [
                      6077,
                      "CA",
                      -0.15820324944249764
                    ],
                    [
                      6079,
                      "CA",
                      -0.2992935179806233
                    ],
                    [
                      6081,
                      "CA",
                      -0.27587654367258213
                    ],
                    [
                      6083,
                      "CA",
                      -0.3157056387384517
                    ],
                    [
                      6085,
                      "CA",
                      -0.25402245001218077
                    ],
                    [
                      6087,
                      "CA",
                      -0.24578453235387815
                    ],
                    [
                      6089,
                      "CA",
                      -0.14314787399509016
                    ],
                    [
                      6091,
                      "CA",
                      -0.0186383823997901
                    ],
                    [
                      6093,
                      "CA",
                      -0.21297903041433203
                    ],
                    [
                      6095,
                      "CA",
                      -0.27320802803440586
                    ],
                    [
                      6097,
                      "CA",
                      -0.23891835166688524
                    ],
                    [
                      6099,
                      "CA",
                      -0.23219833967355663
                    ],
                    [
                      6101,
                      "CA",
                      -0.21433952363997522
                    ],
                    [
                      6103,
                      "CA",
                      -0.23079287146524746
                    ],
                    [
                      6105,
                      "CA",
                      -0.29364166182560947
                    ],
                    [
                      6107,
                      "CA",
                      -0.15969491970091637
                    ],
                    [
                      6109,
                      "CA",
                      -0.1897232164608436
                    ],
                    [
                      6111,
                      "CA",
                      -0.29245357270018557
                    ],
                    [
                      6113,
                      "CA",
                      -0.2540486854187359
                    ],
                    [
                      6115,
                      "CA",
                      -0.2061165976425613
                    ]
                  ],
                  "geo": "geo",
                  "hovertemplate": "<b>%{hovertext}</b><br><br>size_0=%{marker.size}<br>lat=%{lat}<br>lon=%{lon}<br>fips=%{customdata[0]}<br>State=%{customdata[1]}<br>pct_ch_0=%{marker.color}<extra></extra>",
                  "hovertext": [
                    "Alameda",
                    "Alpine",
                    "Amador",
                    "Butte",
                    "Calaveras",
                    "Colusa",
                    "Contra Costa",
                    "Del Norte",
                    "El Dorado",
                    "Fresno",
                    "Glenn",
                    "Humboldt",
                    "Imperial",
                    "Inyo",
                    "Kern",
                    "Kings",
                    "Lake",
                    "Lassen",
                    "Los Angeles",
                    "Madera",
                    "Marin",
                    "Mariposa",
                    "Mendocino",
                    "Merced",
                    "Modoc",
                    "Mono",
                    "Monterey",
                    "Napa",
                    "Nevada",
                    "Orange",
                    "Placer",
                    "Plumas",
                    "Riverside",
                    "Sacramento",
                    "San Benito",
                    "San Bernardino",
                    "San Diego",
                    "San Francisco",
                    "San Joaquin",
                    "San Luis Obispo",
                    "San Mateo",
                    "Santa Barbara",
                    "Santa Clara",
                    "Santa Cruz",
                    "Shasta",
                    "Sierra",
                    "Siskiyou",
                    "Solano",
                    "Sonoma",
                    "Stanislaus",
                    "Sutter",
                    "Tehama",
                    "Trinity",
                    "Tulare",
                    "Tuolumne",
                    "Ventura",
                    "Yolo",
                    "Yuba"
                  ],
                  "lat": [
                    37.648081,
                    38.61761,
                    38.44355,
                    39.665959,
                    38.187844,
                    39.177739,
                    37.919478999999995,
                    41.749903,
                    38.785532,
                    36.761006,
                    39.602546000000004,
                    40.706672999999995,
                    33.040816,
                    36.561977,
                    35.346629,
                    36.072478000000004,
                    39.094802,
                    40.721089,
                    34.196397999999995,
                    37.210039,
                    38.051817,
                    37.570034,
                    39.432388,
                    37.194806,
                    41.592919,
                    37.915836,
                    36.240107,
                    38.507351,
                    39.295190999999996,
                    33.675686999999996,
                    39.062032,
                    39.99517,
                    33.729828000000005,
                    38.450010999999996,
                    36.610702,
                    34.85722,
                    33.023604,
                    37.727239000000004,
                    37.935034,
                    35.385227,
                    37.414664,
                    34.537378000000004,
                    37.220777000000005,
                    37.012488,
                    40.760521999999995,
                    39.576925,
                    41.587986,
                    38.267226,
                    38.532574,
                    37.562384,
                    39.035257,
                    40.126156,
                    40.647724,
                    36.230453000000004,
                    38.021451,
                    34.358742,
                    38.679268,
                    39.270026
                  ],
                  "legendgroup": "",
                  "lon": [
                    -121.91330400000001,
                    -119.798999,
                    -120.653856,
                    -121.601919,
                    -120.55511499999999,
                    -122.237563,
                    -121.95154299999999,
                    -123.980998,
                    -120.534398,
                    -119.655019,
                    -122.4017,
                    -123.92581799999999,
                    -115.355395,
                    -117.403927,
                    -118.729506,
                    -119.81553000000001,
                    -122.746757,
                    -120.629931,
                    -118.26186200000001,
                    -119.749852,
                    -122.745974,
                    -119.91286000000001,
                    -123.442881,
                    -120.722802,
                    -120.71837,
                    -118.87516699999999,
                    -121.315573,
                    -122.32599499999999,
                    -120.77344599999999,
                    -117.777207,
                    -120.722718,
                    -120.829516,
                    -116.00223899999999,
                    -121.340441,
                    -121.085296,
                    -116.181197,
                    -116.776117,
                    -123.032229,
                    -121.27223700000002,
                    -120.44753999999999,
                    -122.37154199999999,
                    -120.03848500000001,
                    -121.69062199999999,
                    -122.007205,
                    -122.04355,
                    -120.521993,
                    -122.53328700000002,
                    -121.939594,
                    -122.945194,
                    -121.002656,
                    -121.702758,
                    -122.232276,
                    -123.11440400000001,
                    -118.780542,
                    -119.964708,
                    -119.13314299999999,
                    -121.903178,
                    -121.34428
                  ],
                  "marker": {
                    "color": [
                      -0.2553754474073796,
                      -0.08574105653730113,
                      -0.1280775068867942,
                      -0.19791241122125813,
                      -0.14314787399509016,
                      -0.2458482469126549,
                      -0.27184003897831827,
                      -0.34552030433071607,
                      -0.14450087139028917,
                      -0.17887300189269717,
                      -0.24995596199613962,
                      -0.3140790435320353,
                      -0.15166688529505465,
                      -0.1350936041826734,
                      -0.14730805989168522,
                      -0.21855592826490264,
                      -0.28549744204786087,
                      0.06482768959766133,
                      -0.2500421640462493,
                      -0.20484230646702772,
                      -0.2457582969473231,
                      -0.17057136967561792,
                      -0.2963813878530067,
                      -0.23767779172835113,
                      0.02232633097839326,
                      0.04427412251934859,
                      -0.18418379776249455,
                      -0.2608661432078406,
                      -0.18695725502689126,
                      -0.31443134756291813,
                      -0.14313288233420157,
                      -0.03641474429848396,
                      -0.10918426625189737,
                      -0.15544103592376735,
                      -0.36643741918557804,
                      -0.07344789460862394,
                      -0.34040440005247086,
                      -0.25534921200082455,
                      -0.15820324944249764,
                      -0.2992935179806233,
                      -0.27587654367258213,
                      -0.3157056387384517,
                      -0.25402245001218077,
                      -0.24578453235387815,
                      -0.14314787399509016,
                      -0.0186383823997901,
                      -0.21297903041433203,
                      -0.27320802803440586,
                      -0.23891835166688524,
                      -0.23219833967355663,
                      -0.21433952363997522,
                      -0.23079287146524746,
                      -0.29364166182560947,
                      -0.15969491970091637,
                      -0.1897232164608436,
                      -0.29245357270018557,
                      -0.2540486854187359,
                      -0.2061165976425613
                    ],
                    "coloraxis": "coloraxis",
                    "opacity": 1,
                    "size": [
                      0.2553754474073796,
                      0.08574105653730113,
                      0.1280775068867942,
                      0.19791241122125813,
                      0.14314787399509016,
                      0.2458482469126549,
                      0.27184003897831827,
                      0.34552030433071607,
                      0.14450087139028917,
                      0.17887300189269717,
                      0.24995596199613962,
                      0.3140790435320353,
                      0.15166688529505465,
                      0.1350936041826734,
                      0.14730805989168522,
                      0.21855592826490264,
                      0.28549744204786087,
                      0.06482768959766133,
                      0.2500421640462493,
                      0.20484230646702772,
                      0.2457582969473231,
                      0.17057136967561792,
                      0.2963813878530067,
                      0.23767779172835113,
                      0.02232633097839326,
                      0.04427412251934859,
                      0.18418379776249455,
                      0.2608661432078406,
                      0.18695725502689126,
                      0.31443134756291813,
                      0.14313288233420157,
                      0.03641474429848396,
                      0.10918426625189737,
                      0.15544103592376735,
                      0.36643741918557804,
                      0.07344789460862394,
                      0.34040440005247086,
                      0.25534921200082455,
                      0.15820324944249764,
                      0.2992935179806233,
                      0.27587654367258213,
                      0.3157056387384517,
                      0.25402245001218077,
                      0.24578453235387815,
                      0.14314787399509016,
                      0.0186383823997901,
                      0.21297903041433203,
                      0.27320802803440586,
                      0.23891835166688524,
                      0.23219833967355663,
                      0.21433952363997522,
                      0.23079287146524746,
                      0.29364166182560947,
                      0.15969491970091637,
                      0.1897232164608436,
                      0.29245357270018557,
                      0.2540486854187359,
                      0.2061165976425613
                    ],
                    "sizemode": "area",
                    "sizeref": 0.0009160935479639451,
                    "symbol": "circle"
                  },
                  "mode": "markers",
                  "name": "",
                  "showlegend": false,
                  "type": "scattergeo"
                }
              ],
              "layout": {
                "coloraxis": {
                  "colorbar": {
                    "title": {
                      "text": "pct_ch_0"
                    }
                  },
                  "colorscale": [
                    [
                      0,
                      "rgb(3, 5, 18)"
                    ],
                    [
                      0.09090909090909091,
                      "rgb(25, 25, 51)"
                    ],
                    [
                      0.18181818181818182,
                      "rgb(44, 42, 87)"
                    ],
                    [
                      0.2727272727272727,
                      "rgb(58, 60, 125)"
                    ],
                    [
                      0.36363636363636365,
                      "rgb(62, 83, 160)"
                    ],
                    [
                      0.45454545454545453,
                      "rgb(62, 109, 178)"
                    ],
                    [
                      0.5454545454545454,
                      "rgb(72, 134, 187)"
                    ],
                    [
                      0.6363636363636364,
                      "rgb(89, 159, 196)"
                    ],
                    [
                      0.7272727272727273,
                      "rgb(114, 184, 205)"
                    ],
                    [
                      0.8181818181818182,
                      "rgb(149, 207, 216)"
                    ],
                    [
                      0.9090909090909091,
                      "rgb(192, 229, 232)"
                    ],
                    [
                      1,
                      "rgb(234, 252, 253)"
                    ]
                  ]
                },
                "geo": {
                  "center": {
                    "lat": 37.83800610344828,
                    "lon": -120.74952093103452
                  },
                  "domain": {
                    "x": [
                      0,
                      1
                    ],
                    "y": [
                      0,
                      1
                    ]
                  },
                  "landcolor": "thistle",
                  "lataxis": {
                    "range": [
                      42.749903,
                      31.023604
                    ]
                  },
                  "lonaxis": {
                    "range": [
                      -114.355395,
                      -125.980998
                    ]
                  },
                  "resolution": 50,
                  "scope": "usa",
                  "showland": true,
                  "showsubunits": true,
                  "subunitcolor": "black",
                  "subunitwidth": 1.5
                },
                "height": 1080,
                "legend": {
                  "itemsizing": "constant",
                  "tracegroupgap": 0
                },
                "margin": {
                  "t": 60
                },
                "template": {
                  "data": {
                    "bar": [
                      {
                        "error_x": {
                          "color": "#2a3f5f"
                        },
                        "error_y": {
                          "color": "#2a3f5f"
                        },
                        "marker": {
                          "line": {
                            "color": "#E5ECF6",
                            "width": 0.5
                          }
                        },
                        "type": "bar"
                      }
                    ],
                    "barpolar": [
                      {
                        "marker": {
                          "line": {
                            "color": "#E5ECF6",
                            "width": 0.5
                          }
                        },
                        "type": "barpolar"
                      }
                    ],
                    "carpet": [
                      {
                        "aaxis": {
                          "endlinecolor": "#2a3f5f",
                          "gridcolor": "white",
                          "linecolor": "white",
                          "minorgridcolor": "white",
                          "startlinecolor": "#2a3f5f"
                        },
                        "baxis": {
                          "endlinecolor": "#2a3f5f",
                          "gridcolor": "white",
                          "linecolor": "white",
                          "minorgridcolor": "white",
                          "startlinecolor": "#2a3f5f"
                        },
                        "type": "carpet"
                      }
                    ],
                    "choropleth": [
                      {
                        "colorbar": {
                          "outlinewidth": 0,
                          "ticks": ""
                        },
                        "type": "choropleth"
                      }
                    ],
                    "contour": [
                      {
                        "colorbar": {
                          "outlinewidth": 0,
                          "ticks": ""
                        },
                        "colorscale": [
                          [
                            0,
                            "#0d0887"
                          ],
                          [
                            0.1111111111111111,
                            "#46039f"
                          ],
                          [
                            0.2222222222222222,
                            "#7201a8"
                          ],
                          [
                            0.3333333333333333,
                            "#9c179e"
                          ],
                          [
                            0.4444444444444444,
                            "#bd3786"
                          ],
                          [
                            0.5555555555555556,
                            "#d8576b"
                          ],
                          [
                            0.6666666666666666,
                            "#ed7953"
                          ],
                          [
                            0.7777777777777778,
                            "#fb9f3a"
                          ],
                          [
                            0.8888888888888888,
                            "#fdca26"
                          ],
                          [
                            1,
                            "#f0f921"
                          ]
                        ],
                        "type": "contour"
                      }
                    ],
                    "contourcarpet": [
                      {
                        "colorbar": {
                          "outlinewidth": 0,
                          "ticks": ""
                        },
                        "type": "contourcarpet"
                      }
                    ],
                    "heatmap": [
                      {
                        "colorbar": {
                          "outlinewidth": 0,
                          "ticks": ""
                        },
                        "colorscale": [
                          [
                            0,
                            "#0d0887"
                          ],
                          [
                            0.1111111111111111,
                            "#46039f"
                          ],
                          [
                            0.2222222222222222,
                            "#7201a8"
                          ],
                          [
                            0.3333333333333333,
                            "#9c179e"
                          ],
                          [
                            0.4444444444444444,
                            "#bd3786"
                          ],
                          [
                            0.5555555555555556,
                            "#d8576b"
                          ],
                          [
                            0.6666666666666666,
                            "#ed7953"
                          ],
                          [
                            0.7777777777777778,
                            "#fb9f3a"
                          ],
                          [
                            0.8888888888888888,
                            "#fdca26"
                          ],
                          [
                            1,
                            "#f0f921"
                          ]
                        ],
                        "type": "heatmap"
                      }
                    ],
                    "heatmapgl": [
                      {
                        "colorbar": {
                          "outlinewidth": 0,
                          "ticks": ""
                        },
                        "colorscale": [
                          [
                            0,
                            "#0d0887"
                          ],
                          [
                            0.1111111111111111,
                            "#46039f"
                          ],
                          [
                            0.2222222222222222,
                            "#7201a8"
                          ],
                          [
                            0.3333333333333333,
                            "#9c179e"
                          ],
                          [
                            0.4444444444444444,
                            "#bd3786"
                          ],
                          [
                            0.5555555555555556,
                            "#d8576b"
                          ],
                          [
                            0.6666666666666666,
                            "#ed7953"
                          ],
                          [
                            0.7777777777777778,
                            "#fb9f3a"
                          ],
                          [
                            0.8888888888888888,
                            "#fdca26"
                          ],
                          [
                            1,
                            "#f0f921"
                          ]
                        ],
                        "type": "heatmapgl"
                      }
                    ],
                    "histogram": [
                      {
                        "marker": {
                          "colorbar": {
                            "outlinewidth": 0,
                            "ticks": ""
                          }
                        },
                        "type": "histogram"
                      }
                    ],
                    "histogram2d": [
                      {
                        "colorbar": {
                          "outlinewidth": 0,
                          "ticks": ""
                        },
                        "colorscale": [
                          [
                            0,
                            "#0d0887"
                          ],
                          [
                            0.1111111111111111,
                            "#46039f"
                          ],
                          [
                            0.2222222222222222,
                            "#7201a8"
                          ],
                          [
                            0.3333333333333333,
                            "#9c179e"
                          ],
                          [
                            0.4444444444444444,
                            "#bd3786"
                          ],
                          [
                            0.5555555555555556,
                            "#d8576b"
                          ],
                          [
                            0.6666666666666666,
                            "#ed7953"
                          ],
                          [
                            0.7777777777777778,
                            "#fb9f3a"
                          ],
                          [
                            0.8888888888888888,
                            "#fdca26"
                          ],
                          [
                            1,
                            "#f0f921"
                          ]
                        ],
                        "type": "histogram2d"
                      }
                    ],
                    "histogram2dcontour": [
                      {
                        "colorbar": {
                          "outlinewidth": 0,
                          "ticks": ""
                        },
                        "colorscale": [
                          [
                            0,
                            "#0d0887"
                          ],
                          [
                            0.1111111111111111,
                            "#46039f"
                          ],
                          [
                            0.2222222222222222,
                            "#7201a8"
                          ],
                          [
                            0.3333333333333333,
                            "#9c179e"
                          ],
                          [
                            0.4444444444444444,
                            "#bd3786"
                          ],
                          [
                            0.5555555555555556,
                            "#d8576b"
                          ],
                          [
                            0.6666666666666666,
                            "#ed7953"
                          ],
                          [
                            0.7777777777777778,
                            "#fb9f3a"
                          ],
                          [
                            0.8888888888888888,
                            "#fdca26"
                          ],
                          [
                            1,
                            "#f0f921"
                          ]
                        ],
                        "type": "histogram2dcontour"
                      }
                    ],
                    "mesh3d": [
                      {
                        "colorbar": {
                          "outlinewidth": 0,
                          "ticks": ""
                        },
                        "type": "mesh3d"
                      }
                    ],
                    "parcoords": [
                      {
                        "line": {
                          "colorbar": {
                            "outlinewidth": 0,
                            "ticks": ""
                          }
                        },
                        "type": "parcoords"
                      }
                    ],
                    "pie": [
                      {
                        "automargin": true,
                        "type": "pie"
                      }
                    ],
                    "scatter": [
                      {
                        "marker": {
                          "colorbar": {
                            "outlinewidth": 0,
                            "ticks": ""
                          }
                        },
                        "type": "scatter"
                      }
                    ],
                    "scatter3d": [
                      {
                        "line": {
                          "colorbar": {
                            "outlinewidth": 0,
                            "ticks": ""
                          }
                        },
                        "marker": {
                          "colorbar": {
                            "outlinewidth": 0,
                            "ticks": ""
                          }
                        },
                        "type": "scatter3d"
                      }
                    ],
                    "scattercarpet": [
                      {
                        "marker": {
                          "colorbar": {
                            "outlinewidth": 0,
                            "ticks": ""
                          }
                        },
                        "type": "scattercarpet"
                      }
                    ],
                    "scattergeo": [
                      {
                        "marker": {
                          "colorbar": {
                            "outlinewidth": 0,
                            "ticks": ""
                          }
                        },
                        "type": "scattergeo"
                      }
                    ],
                    "scattergl": [
                      {
                        "marker": {
                          "colorbar": {
                            "outlinewidth": 0,
                            "ticks": ""
                          }
                        },
                        "type": "scattergl"
                      }
                    ],
                    "scattermapbox": [
                      {
                        "marker": {
                          "colorbar": {
                            "outlinewidth": 0,
                            "ticks": ""
                          }
                        },
                        "type": "scattermapbox"
                      }
                    ],
                    "scatterpolar": [
                      {
                        "marker": {
                          "colorbar": {
                            "outlinewidth": 0,
                            "ticks": ""
                          }
                        },
                        "type": "scatterpolar"
                      }
                    ],
                    "scatterpolargl": [
                      {
                        "marker": {
                          "colorbar": {
                            "outlinewidth": 0,
                            "ticks": ""
                          }
                        },
                        "type": "scatterpolargl"
                      }
                    ],
                    "scatterternary": [
                      {
                        "marker": {
                          "colorbar": {
                            "outlinewidth": 0,
                            "ticks": ""
                          }
                        },
                        "type": "scatterternary"
                      }
                    ],
                    "surface": [
                      {
                        "colorbar": {
                          "outlinewidth": 0,
                          "ticks": ""
                        },
                        "colorscale": [
                          [
                            0,
                            "#0d0887"
                          ],
                          [
                            0.1111111111111111,
                            "#46039f"
                          ],
                          [
                            0.2222222222222222,
                            "#7201a8"
                          ],
                          [
                            0.3333333333333333,
                            "#9c179e"
                          ],
                          [
                            0.4444444444444444,
                            "#bd3786"
                          ],
                          [
                            0.5555555555555556,
                            "#d8576b"
                          ],
                          [
                            0.6666666666666666,
                            "#ed7953"
                          ],
                          [
                            0.7777777777777778,
                            "#fb9f3a"
                          ],
                          [
                            0.8888888888888888,
                            "#fdca26"
                          ],
                          [
                            1,
                            "#f0f921"
                          ]
                        ],
                        "type": "surface"
                      }
                    ],
                    "table": [
                      {
                        "cells": {
                          "fill": {
                            "color": "#EBF0F8"
                          },
                          "line": {
                            "color": "white"
                          }
                        },
                        "header": {
                          "fill": {
                            "color": "#C8D4E3"
                          },
                          "line": {
                            "color": "white"
                          }
                        },
                        "type": "table"
                      }
                    ]
                  },
                  "layout": {
                    "annotationdefaults": {
                      "arrowcolor": "#2a3f5f",
                      "arrowhead": 0,
                      "arrowwidth": 1
                    },
                    "autotypenumbers": "strict",
                    "coloraxis": {
                      "colorbar": {
                        "outlinewidth": 0,
                        "ticks": ""
                      }
                    },
                    "colorscale": {
                      "diverging": [
                        [
                          0,
                          "#8e0152"
                        ],
                        [
                          0.1,
                          "#c51b7d"
                        ],
                        [
                          0.2,
                          "#de77ae"
                        ],
                        [
                          0.3,
                          "#f1b6da"
                        ],
                        [
                          0.4,
                          "#fde0ef"
                        ],
                        [
                          0.5,
                          "#f7f7f7"
                        ],
                        [
                          0.6,
                          "#e6f5d0"
                        ],
                        [
                          0.7,
                          "#b8e186"
                        ],
                        [
                          0.8,
                          "#7fbc41"
                        ],
                        [
                          0.9,
                          "#4d9221"
                        ],
                        [
                          1,
                          "#276419"
                        ]
                      ],
                      "sequential": [
                        [
                          0,
                          "#0d0887"
                        ],
                        [
                          0.1111111111111111,
                          "#46039f"
                        ],
                        [
                          0.2222222222222222,
                          "#7201a8"
                        ],
                        [
                          0.3333333333333333,
                          "#9c179e"
                        ],
                        [
                          0.4444444444444444,
                          "#bd3786"
                        ],
                        [
                          0.5555555555555556,
                          "#d8576b"
                        ],
                        [
                          0.6666666666666666,
                          "#ed7953"
                        ],
                        [
                          0.7777777777777778,
                          "#fb9f3a"
                        ],
                        [
                          0.8888888888888888,
                          "#fdca26"
                        ],
                        [
                          1,
                          "#f0f921"
                        ]
                      ],
                      "sequentialminus": [
                        [
                          0,
                          "#0d0887"
                        ],
                        [
                          0.1111111111111111,
                          "#46039f"
                        ],
                        [
                          0.2222222222222222,
                          "#7201a8"
                        ],
                        [
                          0.3333333333333333,
                          "#9c179e"
                        ],
                        [
                          0.4444444444444444,
                          "#bd3786"
                        ],
                        [
                          0.5555555555555556,
                          "#d8576b"
                        ],
                        [
                          0.6666666666666666,
                          "#ed7953"
                        ],
                        [
                          0.7777777777777778,
                          "#fb9f3a"
                        ],
                        [
                          0.8888888888888888,
                          "#fdca26"
                        ],
                        [
                          1,
                          "#f0f921"
                        ]
                      ]
                    },
                    "colorway": [
                      "#636efa",
                      "#EF553B",
                      "#00cc96",
                      "#ab63fa",
                      "#FFA15A",
                      "#19d3f3",
                      "#FF6692",
                      "#B6E880",
                      "#FF97FF",
                      "#FECB52"
                    ],
                    "font": {
                      "color": "#2a3f5f"
                    },
                    "geo": {
                      "bgcolor": "white",
                      "lakecolor": "white",
                      "landcolor": "#E5ECF6",
                      "showlakes": true,
                      "showland": true,
                      "subunitcolor": "white"
                    },
                    "hoverlabel": {
                      "align": "left"
                    },
                    "hovermode": "closest",
                    "mapbox": {
                      "style": "light"
                    },
                    "paper_bgcolor": "white",
                    "plot_bgcolor": "#E5ECF6",
                    "polar": {
                      "angularaxis": {
                        "gridcolor": "white",
                        "linecolor": "white",
                        "ticks": ""
                      },
                      "bgcolor": "#E5ECF6",
                      "radialaxis": {
                        "gridcolor": "white",
                        "linecolor": "white",
                        "ticks": ""
                      }
                    },
                    "scene": {
                      "xaxis": {
                        "backgroundcolor": "#E5ECF6",
                        "gridcolor": "white",
                        "gridwidth": 2,
                        "linecolor": "white",
                        "showbackground": true,
                        "ticks": "",
                        "zerolinecolor": "white"
                      },
                      "yaxis": {
                        "backgroundcolor": "#E5ECF6",
                        "gridcolor": "white",
                        "gridwidth": 2,
                        "linecolor": "white",
                        "showbackground": true,
                        "ticks": "",
                        "zerolinecolor": "white"
                      },
                      "zaxis": {
                        "backgroundcolor": "#E5ECF6",
                        "gridcolor": "white",
                        "gridwidth": 2,
                        "linecolor": "white",
                        "showbackground": true,
                        "ticks": "",
                        "zerolinecolor": "white"
                      }
                    },
                    "shapedefaults": {
                      "line": {
                        "color": "#2a3f5f"
                      }
                    },
                    "ternary": {
                      "aaxis": {
                        "gridcolor": "white",
                        "linecolor": "white",
                        "ticks": ""
                      },
                      "baxis": {
                        "gridcolor": "white",
                        "linecolor": "white",
                        "ticks": ""
                      },
                      "bgcolor": "#E5ECF6",
                      "caxis": {
                        "gridcolor": "white",
                        "linecolor": "white",
                        "ticks": ""
                      }
                    },
                    "title": {
                      "x": 0.05
                    },
                    "xaxis": {
                      "automargin": true,
                      "gridcolor": "white",
                      "linecolor": "white",
                      "ticks": "",
                      "title": {
                        "standoff": 15
                      },
                      "zerolinecolor": "white",
                      "zerolinewidth": 2
                    },
                    "yaxis": {
                      "automargin": true,
                      "gridcolor": "white",
                      "linecolor": "white",
                      "ticks": "",
                      "title": {
                        "standoff": 15
                      },
                      "zerolinecolor": "white",
                      "zerolinewidth": 2
                    }
                  }
                },
                "width": 1080
              }
            },
            "text/html": [
              "<div>                            <div id=\"8e8cc114-0b5d-4e2c-9db7-0ab9281cc51b\" class=\"plotly-graph-div\" style=\"height:1080px; width:1080px;\"></div>            <script type=\"text/javascript\">                require([\"plotly\"], function(Plotly) {                    window.PLOTLYENV=window.PLOTLYENV || {};                                    if (document.getElementById(\"8e8cc114-0b5d-4e2c-9db7-0ab9281cc51b\")) {                    Plotly.newPlot(                        \"8e8cc114-0b5d-4e2c-9db7-0ab9281cc51b\",                        [{\"customdata\": [[6001, \"CA\", -0.2553754474073796], [6003, \"CA\", -0.08574105653730113], [6005, \"CA\", -0.1280775068867942], [6007, \"CA\", -0.19791241122125813], [6009, \"CA\", -0.14314787399509016], [6011, \"CA\", -0.2458482469126549], [6013, \"CA\", -0.27184003897831827], [6015, \"CA\", -0.34552030433071607], [6017, \"CA\", -0.14450087139028917], [6019, \"CA\", -0.17887300189269717], [6021, \"CA\", -0.24995596199613962], [6023, \"CA\", -0.3140790435320353], [6025, \"CA\", -0.15166688529505465], [6027, \"CA\", -0.1350936041826734], [6029, \"CA\", -0.14730805989168522], [6031, \"CA\", -0.21855592826490264], [6033, \"CA\", -0.28549744204786087], [6035, \"CA\", 0.06482768959766133], [6037, \"CA\", -0.2500421640462493], [6039, \"CA\", -0.20484230646702772], [6041, \"CA\", -0.2457582969473231], [6043, \"CA\", -0.17057136967561792], [6045, \"CA\", -0.2963813878530067], [6047, \"CA\", -0.23767779172835113], [6049, \"CA\", 0.02232633097839326], [6051, \"CA\", 0.04427412251934859], [6053, \"CA\", -0.18418379776249455], [6055, \"CA\", -0.2608661432078406], [6057, \"CA\", -0.18695725502689126], [6059, \"CA\", -0.31443134756291813], [6061, \"CA\", -0.14313288233420157], [6063, \"CA\", -0.03641474429848396], [6065, \"CA\", -0.10918426625189737], [6067, \"CA\", -0.15544103592376735], [6069, \"CA\", -0.36643741918557804], [6071, \"CA\", -0.07344789460862394], [6073, \"CA\", -0.34040440005247086], [6075, \"CA\", -0.25534921200082455], [6077, \"CA\", -0.15820324944249764], [6079, \"CA\", -0.2992935179806233], [6081, \"CA\", -0.27587654367258213], [6083, \"CA\", -0.3157056387384517], [6085, \"CA\", -0.25402245001218077], [6087, \"CA\", -0.24578453235387815], [6089, \"CA\", -0.14314787399509016], [6091, \"CA\", -0.0186383823997901], [6093, \"CA\", -0.21297903041433203], [6095, \"CA\", -0.27320802803440586], [6097, \"CA\", -0.23891835166688524], [6099, \"CA\", -0.23219833967355663], [6101, \"CA\", -0.21433952363997522], [6103, \"CA\", -0.23079287146524746], [6105, \"CA\", -0.29364166182560947], [6107, \"CA\", -0.15969491970091637], [6109, \"CA\", -0.1897232164608436], [6111, \"CA\", -0.29245357270018557], [6113, \"CA\", -0.2540486854187359], [6115, \"CA\", -0.2061165976425613]], \"geo\": \"geo\", \"hovertemplate\": \"<b>%{hovertext}</b><br><br>size_0=%{marker.size}<br>lat=%{lat}<br>lon=%{lon}<br>fips=%{customdata[0]}<br>State=%{customdata[1]}<br>pct_ch_0=%{marker.color}<extra></extra>\", \"hovertext\": [\"Alameda\", \"Alpine\", \"Amador\", \"Butte\", \"Calaveras\", \"Colusa\", \"Contra Costa\", \"Del Norte\", \"El Dorado\", \"Fresno\", \"Glenn\", \"Humboldt\", \"Imperial\", \"Inyo\", \"Kern\", \"Kings\", \"Lake\", \"Lassen\", \"Los Angeles\", \"Madera\", \"Marin\", \"Mariposa\", \"Mendocino\", \"Merced\", \"Modoc\", \"Mono\", \"Monterey\", \"Napa\", \"Nevada\", \"Orange\", \"Placer\", \"Plumas\", \"Riverside\", \"Sacramento\", \"San Benito\", \"San Bernardino\", \"San Diego\", \"San Francisco\", \"San Joaquin\", \"San Luis Obispo\", \"San Mateo\", \"Santa Barbara\", \"Santa Clara\", \"Santa Cruz\", \"Shasta\", \"Sierra\", \"Siskiyou\", \"Solano\", \"Sonoma\", \"Stanislaus\", \"Sutter\", \"Tehama\", \"Trinity\", \"Tulare\", \"Tuolumne\", \"Ventura\", \"Yolo\", \"Yuba\"], \"lat\": [37.648081, 38.61761, 38.44355, 39.665959, 38.187844, 39.177739, 37.919478999999995, 41.749903, 38.785532, 36.761006, 39.602546000000004, 40.706672999999995, 33.040816, 36.561977, 35.346629, 36.072478000000004, 39.094802, 40.721089, 34.196397999999995, 37.210039, 38.051817, 37.570034, 39.432388, 37.194806, 41.592919, 37.915836, 36.240107, 38.507351, 39.295190999999996, 33.675686999999996, 39.062032, 39.99517, 33.729828000000005, 38.450010999999996, 36.610702, 34.85722, 33.023604, 37.727239000000004, 37.935034, 35.385227, 37.414664, 34.537378000000004, 37.220777000000005, 37.012488, 40.760521999999995, 39.576925, 41.587986, 38.267226, 38.532574, 37.562384, 39.035257, 40.126156, 40.647724, 36.230453000000004, 38.021451, 34.358742, 38.679268, 39.270026], \"legendgroup\": \"\", \"lon\": [-121.91330400000001, -119.798999, -120.653856, -121.601919, -120.55511499999999, -122.237563, -121.95154299999999, -123.980998, -120.534398, -119.655019, -122.4017, -123.92581799999999, -115.355395, -117.403927, -118.729506, -119.81553000000001, -122.746757, -120.629931, -118.26186200000001, -119.749852, -122.745974, -119.91286000000001, -123.442881, -120.722802, -120.71837, -118.87516699999999, -121.315573, -122.32599499999999, -120.77344599999999, -117.777207, -120.722718, -120.829516, -116.00223899999999, -121.340441, -121.085296, -116.181197, -116.776117, -123.032229, -121.27223700000002, -120.44753999999999, -122.37154199999999, -120.03848500000001, -121.69062199999999, -122.007205, -122.04355, -120.521993, -122.53328700000002, -121.939594, -122.945194, -121.002656, -121.702758, -122.232276, -123.11440400000001, -118.780542, -119.964708, -119.13314299999999, -121.903178, -121.34428], \"marker\": {\"color\": [-0.2553754474073796, -0.08574105653730113, -0.1280775068867942, -0.19791241122125813, -0.14314787399509016, -0.2458482469126549, -0.27184003897831827, -0.34552030433071607, -0.14450087139028917, -0.17887300189269717, -0.24995596199613962, -0.3140790435320353, -0.15166688529505465, -0.1350936041826734, -0.14730805989168522, -0.21855592826490264, -0.28549744204786087, 0.06482768959766133, -0.2500421640462493, -0.20484230646702772, -0.2457582969473231, -0.17057136967561792, -0.2963813878530067, -0.23767779172835113, 0.02232633097839326, 0.04427412251934859, -0.18418379776249455, -0.2608661432078406, -0.18695725502689126, -0.31443134756291813, -0.14313288233420157, -0.03641474429848396, -0.10918426625189737, -0.15544103592376735, -0.36643741918557804, -0.07344789460862394, -0.34040440005247086, -0.25534921200082455, -0.15820324944249764, -0.2992935179806233, -0.27587654367258213, -0.3157056387384517, -0.25402245001218077, -0.24578453235387815, -0.14314787399509016, -0.0186383823997901, -0.21297903041433203, -0.27320802803440586, -0.23891835166688524, -0.23219833967355663, -0.21433952363997522, -0.23079287146524746, -0.29364166182560947, -0.15969491970091637, -0.1897232164608436, -0.29245357270018557, -0.2540486854187359, -0.2061165976425613], \"coloraxis\": \"coloraxis\", \"opacity\": 1, \"size\": [0.2553754474073796, 0.08574105653730113, 0.1280775068867942, 0.19791241122125813, 0.14314787399509016, 0.2458482469126549, 0.27184003897831827, 0.34552030433071607, 0.14450087139028917, 0.17887300189269717, 0.24995596199613962, 0.3140790435320353, 0.15166688529505465, 0.1350936041826734, 0.14730805989168522, 0.21855592826490264, 0.28549744204786087, 0.06482768959766133, 0.2500421640462493, 0.20484230646702772, 0.2457582969473231, 0.17057136967561792, 0.2963813878530067, 0.23767779172835113, 0.02232633097839326, 0.04427412251934859, 0.18418379776249455, 0.2608661432078406, 0.18695725502689126, 0.31443134756291813, 0.14313288233420157, 0.03641474429848396, 0.10918426625189737, 0.15544103592376735, 0.36643741918557804, 0.07344789460862394, 0.34040440005247086, 0.25534921200082455, 0.15820324944249764, 0.2992935179806233, 0.27587654367258213, 0.3157056387384517, 0.25402245001218077, 0.24578453235387815, 0.14314787399509016, 0.0186383823997901, 0.21297903041433203, 0.27320802803440586, 0.23891835166688524, 0.23219833967355663, 0.21433952363997522, 0.23079287146524746, 0.29364166182560947, 0.15969491970091637, 0.1897232164608436, 0.29245357270018557, 0.2540486854187359, 0.2061165976425613], \"sizemode\": \"area\", \"sizeref\": 0.0009160935479639451, \"symbol\": \"circle\"}, \"mode\": \"markers\", \"name\": \"\", \"showlegend\": false, \"type\": \"scattergeo\"}],                        {\"coloraxis\": {\"colorbar\": {\"title\": {\"text\": \"pct_ch_0\"}}, \"colorscale\": [[0.0, \"rgb(3, 5, 18)\"], [0.09090909090909091, \"rgb(25, 25, 51)\"], [0.18181818181818182, \"rgb(44, 42, 87)\"], [0.2727272727272727, \"rgb(58, 60, 125)\"], [0.36363636363636365, \"rgb(62, 83, 160)\"], [0.45454545454545453, \"rgb(62, 109, 178)\"], [0.5454545454545454, \"rgb(72, 134, 187)\"], [0.6363636363636364, \"rgb(89, 159, 196)\"], [0.7272727272727273, \"rgb(114, 184, 205)\"], [0.8181818181818182, \"rgb(149, 207, 216)\"], [0.9090909090909091, \"rgb(192, 229, 232)\"], [1.0, \"rgb(234, 252, 253)\"]]}, \"geo\": {\"center\": {\"lat\": 37.83800610344828, \"lon\": -120.74952093103452}, \"domain\": {\"x\": [0.0, 1.0], \"y\": [0.0, 1.0]}, \"landcolor\": \"thistle\", \"lataxis\": {\"range\": [42.749903, 31.023604]}, \"lonaxis\": {\"range\": [-114.355395, -125.980998]}, \"resolution\": 50, \"scope\": \"usa\", \"showland\": true, \"showsubunits\": true, \"subunitcolor\": \"black\", \"subunitwidth\": 1.5}, \"height\": 1080, \"legend\": {\"itemsizing\": \"constant\", \"tracegroupgap\": 0}, \"margin\": {\"t\": 60}, \"template\": {\"data\": {\"bar\": [{\"error_x\": {\"color\": \"#2a3f5f\"}, \"error_y\": {\"color\": \"#2a3f5f\"}, \"marker\": {\"line\": {\"color\": \"#E5ECF6\", \"width\": 0.5}}, \"type\": \"bar\"}], \"barpolar\": [{\"marker\": {\"line\": {\"color\": \"#E5ECF6\", \"width\": 0.5}}, \"type\": \"barpolar\"}], \"carpet\": [{\"aaxis\": {\"endlinecolor\": \"#2a3f5f\", \"gridcolor\": \"white\", \"linecolor\": \"white\", \"minorgridcolor\": \"white\", \"startlinecolor\": \"#2a3f5f\"}, \"baxis\": {\"endlinecolor\": \"#2a3f5f\", \"gridcolor\": \"white\", \"linecolor\": \"white\", \"minorgridcolor\": \"white\", \"startlinecolor\": \"#2a3f5f\"}, \"type\": \"carpet\"}], \"choropleth\": [{\"colorbar\": {\"outlinewidth\": 0, \"ticks\": \"\"}, \"type\": \"choropleth\"}], \"contour\": [{\"colorbar\": {\"outlinewidth\": 0, \"ticks\": \"\"}, \"colorscale\": [[0.0, \"#0d0887\"], [0.1111111111111111, \"#46039f\"], [0.2222222222222222, \"#7201a8\"], [0.3333333333333333, \"#9c179e\"], [0.4444444444444444, \"#bd3786\"], [0.5555555555555556, \"#d8576b\"], [0.6666666666666666, \"#ed7953\"], [0.7777777777777778, \"#fb9f3a\"], [0.8888888888888888, \"#fdca26\"], [1.0, \"#f0f921\"]], \"type\": \"contour\"}], \"contourcarpet\": [{\"colorbar\": {\"outlinewidth\": 0, \"ticks\": \"\"}, \"type\": \"contourcarpet\"}], \"heatmap\": [{\"colorbar\": {\"outlinewidth\": 0, \"ticks\": \"\"}, \"colorscale\": [[0.0, \"#0d0887\"], [0.1111111111111111, \"#46039f\"], [0.2222222222222222, \"#7201a8\"], [0.3333333333333333, \"#9c179e\"], [0.4444444444444444, \"#bd3786\"], [0.5555555555555556, \"#d8576b\"], [0.6666666666666666, \"#ed7953\"], [0.7777777777777778, \"#fb9f3a\"], [0.8888888888888888, \"#fdca26\"], [1.0, \"#f0f921\"]], \"type\": \"heatmap\"}], \"heatmapgl\": [{\"colorbar\": {\"outlinewidth\": 0, \"ticks\": \"\"}, \"colorscale\": [[0.0, \"#0d0887\"], [0.1111111111111111, \"#46039f\"], [0.2222222222222222, \"#7201a8\"], [0.3333333333333333, \"#9c179e\"], [0.4444444444444444, \"#bd3786\"], [0.5555555555555556, \"#d8576b\"], [0.6666666666666666, \"#ed7953\"], [0.7777777777777778, \"#fb9f3a\"], [0.8888888888888888, \"#fdca26\"], [1.0, \"#f0f921\"]], \"type\": \"heatmapgl\"}], \"histogram\": [{\"marker\": {\"colorbar\": {\"outlinewidth\": 0, \"ticks\": \"\"}}, \"type\": \"histogram\"}], \"histogram2d\": [{\"colorbar\": {\"outlinewidth\": 0, \"ticks\": \"\"}, \"colorscale\": [[0.0, \"#0d0887\"], [0.1111111111111111, \"#46039f\"], [0.2222222222222222, \"#7201a8\"], [0.3333333333333333, \"#9c179e\"], [0.4444444444444444, \"#bd3786\"], [0.5555555555555556, \"#d8576b\"], [0.6666666666666666, \"#ed7953\"], [0.7777777777777778, \"#fb9f3a\"], [0.8888888888888888, \"#fdca26\"], [1.0, \"#f0f921\"]], \"type\": \"histogram2d\"}], \"histogram2dcontour\": [{\"colorbar\": {\"outlinewidth\": 0, \"ticks\": \"\"}, \"colorscale\": [[0.0, \"#0d0887\"], [0.1111111111111111, \"#46039f\"], [0.2222222222222222, \"#7201a8\"], [0.3333333333333333, \"#9c179e\"], [0.4444444444444444, \"#bd3786\"], [0.5555555555555556, \"#d8576b\"], [0.6666666666666666, \"#ed7953\"], [0.7777777777777778, \"#fb9f3a\"], [0.8888888888888888, \"#fdca26\"], [1.0, \"#f0f921\"]], \"type\": \"histogram2dcontour\"}], \"mesh3d\": [{\"colorbar\": {\"outlinewidth\": 0, \"ticks\": \"\"}, \"type\": \"mesh3d\"}], \"parcoords\": [{\"line\": {\"colorbar\": {\"outlinewidth\": 0, \"ticks\": \"\"}}, \"type\": \"parcoords\"}], \"pie\": [{\"automargin\": true, \"type\": \"pie\"}], \"scatter\": [{\"marker\": {\"colorbar\": {\"outlinewidth\": 0, \"ticks\": \"\"}}, \"type\": \"scatter\"}], \"scatter3d\": [{\"line\": {\"colorbar\": {\"outlinewidth\": 0, \"ticks\": \"\"}}, \"marker\": {\"colorbar\": {\"outlinewidth\": 0, \"ticks\": \"\"}}, \"type\": \"scatter3d\"}], \"scattercarpet\": [{\"marker\": {\"colorbar\": {\"outlinewidth\": 0, \"ticks\": \"\"}}, \"type\": \"scattercarpet\"}], \"scattergeo\": [{\"marker\": {\"colorbar\": {\"outlinewidth\": 0, \"ticks\": \"\"}}, \"type\": \"scattergeo\"}], \"scattergl\": [{\"marker\": {\"colorbar\": {\"outlinewidth\": 0, \"ticks\": \"\"}}, \"type\": \"scattergl\"}], \"scattermapbox\": [{\"marker\": {\"colorbar\": {\"outlinewidth\": 0, \"ticks\": \"\"}}, \"type\": \"scattermapbox\"}], \"scatterpolar\": [{\"marker\": {\"colorbar\": {\"outlinewidth\": 0, \"ticks\": \"\"}}, \"type\": \"scatterpolar\"}], \"scatterpolargl\": [{\"marker\": {\"colorbar\": {\"outlinewidth\": 0, \"ticks\": \"\"}}, \"type\": \"scatterpolargl\"}], \"scatterternary\": [{\"marker\": {\"colorbar\": {\"outlinewidth\": 0, \"ticks\": \"\"}}, \"type\": \"scatterternary\"}], \"surface\": [{\"colorbar\": {\"outlinewidth\": 0, \"ticks\": \"\"}, \"colorscale\": [[0.0, \"#0d0887\"], [0.1111111111111111, \"#46039f\"], [0.2222222222222222, \"#7201a8\"], [0.3333333333333333, \"#9c179e\"], [0.4444444444444444, \"#bd3786\"], [0.5555555555555556, \"#d8576b\"], [0.6666666666666666, \"#ed7953\"], [0.7777777777777778, \"#fb9f3a\"], [0.8888888888888888, \"#fdca26\"], [1.0, \"#f0f921\"]], \"type\": \"surface\"}], \"table\": [{\"cells\": {\"fill\": {\"color\": \"#EBF0F8\"}, \"line\": {\"color\": \"white\"}}, \"header\": {\"fill\": {\"color\": \"#C8D4E3\"}, \"line\": {\"color\": \"white\"}}, \"type\": \"table\"}]}, \"layout\": {\"annotationdefaults\": {\"arrowcolor\": \"#2a3f5f\", \"arrowhead\": 0, \"arrowwidth\": 1}, \"autotypenumbers\": \"strict\", \"coloraxis\": {\"colorbar\": {\"outlinewidth\": 0, \"ticks\": \"\"}}, \"colorscale\": {\"diverging\": [[0, \"#8e0152\"], [0.1, \"#c51b7d\"], [0.2, \"#de77ae\"], [0.3, \"#f1b6da\"], [0.4, \"#fde0ef\"], [0.5, \"#f7f7f7\"], [0.6, \"#e6f5d0\"], [0.7, \"#b8e186\"], [0.8, \"#7fbc41\"], [0.9, \"#4d9221\"], [1, \"#276419\"]], \"sequential\": [[0.0, \"#0d0887\"], [0.1111111111111111, \"#46039f\"], [0.2222222222222222, \"#7201a8\"], [0.3333333333333333, \"#9c179e\"], [0.4444444444444444, \"#bd3786\"], [0.5555555555555556, \"#d8576b\"], [0.6666666666666666, \"#ed7953\"], [0.7777777777777778, \"#fb9f3a\"], [0.8888888888888888, \"#fdca26\"], [1.0, \"#f0f921\"]], \"sequentialminus\": [[0.0, \"#0d0887\"], [0.1111111111111111, \"#46039f\"], [0.2222222222222222, \"#7201a8\"], [0.3333333333333333, \"#9c179e\"], [0.4444444444444444, \"#bd3786\"], [0.5555555555555556, \"#d8576b\"], [0.6666666666666666, \"#ed7953\"], [0.7777777777777778, \"#fb9f3a\"], [0.8888888888888888, \"#fdca26\"], [1.0, \"#f0f921\"]]}, \"colorway\": [\"#636efa\", \"#EF553B\", \"#00cc96\", \"#ab63fa\", \"#FFA15A\", \"#19d3f3\", \"#FF6692\", \"#B6E880\", \"#FF97FF\", \"#FECB52\"], \"font\": {\"color\": \"#2a3f5f\"}, \"geo\": {\"bgcolor\": \"white\", \"lakecolor\": \"white\", \"landcolor\": \"#E5ECF6\", \"showlakes\": true, \"showland\": true, \"subunitcolor\": \"white\"}, \"hoverlabel\": {\"align\": \"left\"}, \"hovermode\": \"closest\", \"mapbox\": {\"style\": \"light\"}, \"paper_bgcolor\": \"white\", \"plot_bgcolor\": \"#E5ECF6\", \"polar\": {\"angularaxis\": {\"gridcolor\": \"white\", \"linecolor\": \"white\", \"ticks\": \"\"}, \"bgcolor\": \"#E5ECF6\", \"radialaxis\": {\"gridcolor\": \"white\", \"linecolor\": \"white\", \"ticks\": \"\"}}, \"scene\": {\"xaxis\": {\"backgroundcolor\": \"#E5ECF6\", \"gridcolor\": \"white\", \"gridwidth\": 2, \"linecolor\": \"white\", \"showbackground\": true, \"ticks\": \"\", \"zerolinecolor\": \"white\"}, \"yaxis\": {\"backgroundcolor\": \"#E5ECF6\", \"gridcolor\": \"white\", \"gridwidth\": 2, \"linecolor\": \"white\", \"showbackground\": true, \"ticks\": \"\", \"zerolinecolor\": \"white\"}, \"zaxis\": {\"backgroundcolor\": \"#E5ECF6\", \"gridcolor\": \"white\", \"gridwidth\": 2, \"linecolor\": \"white\", \"showbackground\": true, \"ticks\": \"\", \"zerolinecolor\": \"white\"}}, \"shapedefaults\": {\"line\": {\"color\": \"#2a3f5f\"}}, \"ternary\": {\"aaxis\": {\"gridcolor\": \"white\", \"linecolor\": \"white\", \"ticks\": \"\"}, \"baxis\": {\"gridcolor\": \"white\", \"linecolor\": \"white\", \"ticks\": \"\"}, \"bgcolor\": \"#E5ECF6\", \"caxis\": {\"gridcolor\": \"white\", \"linecolor\": \"white\", \"ticks\": \"\"}}, \"title\": {\"x\": 0.05}, \"xaxis\": {\"automargin\": true, \"gridcolor\": \"white\", \"linecolor\": \"white\", \"ticks\": \"\", \"title\": {\"standoff\": 15}, \"zerolinecolor\": \"white\", \"zerolinewidth\": 2}, \"yaxis\": {\"automargin\": true, \"gridcolor\": \"white\", \"linecolor\": \"white\", \"ticks\": \"\", \"title\": {\"standoff\": 15}, \"zerolinecolor\": \"white\", \"zerolinewidth\": 2}}}, \"width\": 1080},                        {\"responsive\": true}                    ).then(function(){\n",
              "                            \n",
              "var gd = document.getElementById('8e8cc114-0b5d-4e2c-9db7-0ab9281cc51b');\n",
              "var x = new MutationObserver(function (mutations, observer) {{\n",
              "        var display = window.getComputedStyle(gd).display;\n",
              "        if (!display || display === 'none') {{\n",
              "            console.log([gd, 'removed!']);\n",
              "            Plotly.purge(gd);\n",
              "            observer.disconnect();\n",
              "        }}\n",
              "}});\n",
              "\n",
              "// Listen for the removal of the full notebook cells\n",
              "var notebookContainer = gd.closest('#notebook-container');\n",
              "if (notebookContainer) {{\n",
              "    x.observe(notebookContainer, {childList: true});\n",
              "}}\n",
              "\n",
              "// Listen for the clearing of the current output cell\n",
              "var outputEl = gd.closest('.output');\n",
              "if (outputEl) {{\n",
              "    x.observe(outputEl, {childList: true});\n",
              "}}\n",
              "\n",
              "                        })                };                });            </script>        </div>"
            ]
          },
          "metadata": {},
          "output_type": "display_data"
        }
      ],
      "source": [
        "# plot 0\n",
        "fig = px.scatter_geo(final_df_fips, lat = \"lat\" , lon = \"lon\", scope = 'usa',center={'lat':lat1,'lon':lon1},hover_data = ['fips','State','pct_ch_0'],color='pct_ch_0',size='size_0',height=1080,width=1080,opacity = 1,hover_name='Name',color_continuous_scale = py.express.colors.sequential.ice)\n",
        "fig.update_geos(\n",
        "    resolution=50,\n",
        "    showland=True, landcolor=\"thistle\",\n",
        "    showsubunits=True, subunitcolor=\"black\", subunitwidth =1.5,\n",
        "    lonaxis_range=[lonr1,lonr2],lataxis_range=[latr1,latr2]\n",
        "    )\n",
        "fig.show()"
      ]
    },
    {
      "cell_type": "code",
      "execution_count": null,
      "metadata": {
        "id": "grTEX2IYcRaI",
        "outputId": "d0e9b04f-3128-4e61-bad0-29ab5bc66e22"
      },
      "outputs": [
        {
          "data": {
            "application/vnd.plotly.v1+json": {
              "config": {
                "plotlyServerURL": "https://plot.ly"
              },
              "data": [
                {
                  "customdata": [
                    [
                      6001,
                      "CA",
                      -0.023090905683713442
                    ],
                    [
                      6003,
                      "CA",
                      -0.12296535052377115
                    ],
                    [
                      6005,
                      "CA",
                      -0.1175158817907539
                    ],
                    [
                      6007,
                      "CA",
                      -0.051822423776774165
                    ],
                    [
                      6009,
                      "CA",
                      -0.09971328448550495
                    ],
                    [
                      6011,
                      "CA",
                      -0.05184491126810711
                    ],
                    [
                      6013,
                      "CA",
                      0.01115379570114125
                    ],
                    [
                      6015,
                      "CA",
                      0.04398553304724248
                    ],
                    [
                      6017,
                      "CA",
                      -0.1462511477990368
                    ],
                    [
                      6019,
                      "CA",
                      -0.07228978880497725
                    ],
                    [
                      6021,
                      "CA",
                      -0.07786668665554786
                    ],
                    [
                      6023,
                      "CA",
                      0.035773850795495
                    ],
                    [
                      6025,
                      "CA",
                      -0.1024267751063471
                    ],
                    [
                      6027,
                      "CA",
                      0.10840469988568857
                    ],
                    [
                      6029,
                      "CA",
                      -0.0505181492794633
                    ],
                    [
                      6031,
                      "CA",
                      -0.03126510878323935
                    ],
                    [
                      6033,
                      "CA",
                      -0.07649869759946029
                    ],
                    [
                      6035,
                      "CA",
                      -0.025834379626332865
                    ],
                    [
                      6037,
                      "CA",
                      -0.15042257744129828
                    ],
                    [
                      6039,
                      "CA",
                      -0.038112549894121384
                    ],
                    [
                      6041,
                      "CA",
                      0.031733598186009015
                    ],
                    [
                      6043,
                      "CA",
                      -0.09836403500552818
                    ],
                    [
                      6045,
                      "CA",
                      0.05224219028165583
                    ],
                    [
                      6047,
                      "CA",
                      -0.008005546914528788
                    ],
                    [
                      6049,
                      "CA",
                      0.0631823548151341
                    ],
                    [
                      6051,
                      "CA",
                      -0.14214718063077414
                    ],
                    [
                      6053,
                      "CA",
                      -0.0230421827858254
                    ],
                    [
                      6055,
                      "CA",
                      0.04543972415343964
                    ],
                    [
                      6057,
                      "CA",
                      -0.033997338980192277
                    ],
                    [
                      6059,
                      "CA",
                      -0.07917470906808088
                    ],
                    [
                      6061,
                      "CA",
                      -0.08193317467158892
                    ],
                    [
                      6063,
                      "CA",
                      -0.14216217229166275
                    ],
                    [
                      6065,
                      "CA",
                      -0.003826621441822997
                    ],
                    [
                      6067,
                      "CA",
                      -0.10114124018514702
                    ],
                    [
                      6069,
                      "CA",
                      0.20708730768510014
                    ],
                    [
                      6071,
                      "CA",
                      -0.04779716282817682
                    ],
                    [
                      6073,
                      "CA",
                      0.06872177351348313
                    ],
                    [
                      6075,
                      "CA",
                      0.06322732979779996
                    ],
                    [
                      6077,
                      "CA",
                      -0.10249048966512378
                    ],
                    [
                      6079,
                      "CA",
                      0.019391713359443813
                    ],
                    [
                      6081,
                      "CA",
                      0.07141652455821448
                    ],
                    [
                      6083,
                      "CA",
                      -0.1230665442347694
                    ],
                    [
                      6085,
                      "CA",
                      -0.002511103198845649
                    ],
                    [
                      6087,
                      "CA",
                      0.09885126398440866
                    ],
                    [
                      6089,
                      "CA",
                      -0.07365402994584261
                    ],
                    [
                      6091,
                      "CA",
                      -0.1517305998538313
                    ],
                    [
                      6093,
                      "CA",
                      -0.06405561906189683
                    ],
                    [
                      6095,
                      "CA",
                      -0.0025260948597342625
                    ],
                    [
                      6097,
                      "CA",
                      0.03720555441035922
                    ],
                    [
                      6099,
                      "CA",
                      -0.04083728426063002
                    ],
                    [
                      6101,
                      "CA",
                      -0.039525513932874845
                    ],
                    [
                      6103,
                      "CA",
                      -0.043569514457582975
                    ],
                    [
                      6105,
                      "CA",
                      -0.0422577441298278
                    ],
                    [
                      6107,
                      "CA",
                      0.029005115904278234
                    ],
                    [
                      6109,
                      "CA",
                      -0.10925547664111837
                    ],
                    [
                      6111,
                      "CA",
                      -0.14084665404868543
                    ],
                    [
                      6113,
                      "CA",
                      -0.0148604838558552
                    ],
                    [
                      6115,
                      "CA",
                      -0.05185990292899574
                    ]
                  ],
                  "geo": "geo",
                  "hovertemplate": "<b>%{hovertext}</b><br><br>size_1=%{marker.size}<br>lat=%{lat}<br>lon=%{lon}<br>fips=%{customdata[0]}<br>State=%{customdata[1]}<br>pct_ch_1=%{marker.color}<extra></extra>",
                  "hovertext": [
                    "Alameda",
                    "Alpine",
                    "Amador",
                    "Butte",
                    "Calaveras",
                    "Colusa",
                    "Contra Costa",
                    "Del Norte",
                    "El Dorado",
                    "Fresno",
                    "Glenn",
                    "Humboldt",
                    "Imperial",
                    "Inyo",
                    "Kern",
                    "Kings",
                    "Lake",
                    "Lassen",
                    "Los Angeles",
                    "Madera",
                    "Marin",
                    "Mariposa",
                    "Mendocino",
                    "Merced",
                    "Modoc",
                    "Mono",
                    "Monterey",
                    "Napa",
                    "Nevada",
                    "Orange",
                    "Placer",
                    "Plumas",
                    "Riverside",
                    "Sacramento",
                    "San Benito",
                    "San Bernardino",
                    "San Diego",
                    "San Francisco",
                    "San Joaquin",
                    "San Luis Obispo",
                    "San Mateo",
                    "Santa Barbara",
                    "Santa Clara",
                    "Santa Cruz",
                    "Shasta",
                    "Sierra",
                    "Siskiyou",
                    "Solano",
                    "Sonoma",
                    "Stanislaus",
                    "Sutter",
                    "Tehama",
                    "Trinity",
                    "Tulare",
                    "Tuolumne",
                    "Ventura",
                    "Yolo",
                    "Yuba"
                  ],
                  "lat": [
                    37.648081,
                    38.61761,
                    38.44355,
                    39.665959,
                    38.187844,
                    39.177739,
                    37.919478999999995,
                    41.749903,
                    38.785532,
                    36.761006,
                    39.602546000000004,
                    40.706672999999995,
                    33.040816,
                    36.561977,
                    35.346629,
                    36.072478000000004,
                    39.094802,
                    40.721089,
                    34.196397999999995,
                    37.210039,
                    38.051817,
                    37.570034,
                    39.432388,
                    37.194806,
                    41.592919,
                    37.915836,
                    36.240107,
                    38.507351,
                    39.295190999999996,
                    33.675686999999996,
                    39.062032,
                    39.99517,
                    33.729828000000005,
                    38.450010999999996,
                    36.610702,
                    34.85722,
                    33.023604,
                    37.727239000000004,
                    37.935034,
                    35.385227,
                    37.414664,
                    34.537378000000004,
                    37.220777000000005,
                    37.012488,
                    40.760521999999995,
                    39.576925,
                    41.587986,
                    38.267226,
                    38.532574,
                    37.562384,
                    39.035257,
                    40.126156,
                    40.647724,
                    36.230453000000004,
                    38.021451,
                    34.358742,
                    38.679268,
                    39.270026
                  ],
                  "legendgroup": "",
                  "lon": [
                    -121.91330400000001,
                    -119.798999,
                    -120.653856,
                    -121.601919,
                    -120.55511499999999,
                    -122.237563,
                    -121.95154299999999,
                    -123.980998,
                    -120.534398,
                    -119.655019,
                    -122.4017,
                    -123.92581799999999,
                    -115.355395,
                    -117.403927,
                    -118.729506,
                    -119.81553000000001,
                    -122.746757,
                    -120.629931,
                    -118.26186200000001,
                    -119.749852,
                    -122.745974,
                    -119.91286000000001,
                    -123.442881,
                    -120.722802,
                    -120.71837,
                    -118.87516699999999,
                    -121.315573,
                    -122.32599499999999,
                    -120.77344599999999,
                    -117.777207,
                    -120.722718,
                    -120.829516,
                    -116.00223899999999,
                    -121.340441,
                    -121.085296,
                    -116.181197,
                    -116.776117,
                    -123.032229,
                    -121.27223700000002,
                    -120.44753999999999,
                    -122.37154199999999,
                    -120.03848500000001,
                    -121.69062199999999,
                    -122.007205,
                    -122.04355,
                    -120.521993,
                    -122.53328700000002,
                    -121.939594,
                    -122.945194,
                    -121.002656,
                    -121.702758,
                    -122.232276,
                    -123.11440400000001,
                    -118.780542,
                    -119.964708,
                    -119.13314299999999,
                    -121.903178,
                    -121.34428
                  ],
                  "marker": {
                    "color": [
                      -0.023090905683713442,
                      -0.12296535052377115,
                      -0.1175158817907539,
                      -0.051822423776774165,
                      -0.09971328448550495,
                      -0.05184491126810711,
                      0.01115379570114125,
                      0.04398553304724248,
                      -0.1462511477990368,
                      -0.07228978880497725,
                      -0.07786668665554786,
                      0.035773850795495,
                      -0.1024267751063471,
                      0.10840469988568857,
                      -0.0505181492794633,
                      -0.03126510878323935,
                      -0.07649869759946029,
                      -0.025834379626332865,
                      -0.15042257744129828,
                      -0.038112549894121384,
                      0.031733598186009015,
                      -0.09836403500552818,
                      0.05224219028165583,
                      -0.008005546914528788,
                      0.0631823548151341,
                      -0.14214718063077414,
                      -0.0230421827858254,
                      0.04543972415343964,
                      -0.033997338980192277,
                      -0.07917470906808088,
                      -0.08193317467158892,
                      -0.14216217229166275,
                      -0.003826621441822997,
                      -0.10114124018514702,
                      0.20708730768510014,
                      -0.04779716282817682,
                      0.06872177351348313,
                      0.06322732979779996,
                      -0.10249048966512378,
                      0.019391713359443813,
                      0.07141652455821448,
                      -0.1230665442347694,
                      -0.002511103198845649,
                      0.09885126398440866,
                      -0.07365402994584261,
                      -0.1517305998538313,
                      -0.06405561906189683,
                      -0.0025260948597342625,
                      0.03720555441035922,
                      -0.04083728426063002,
                      -0.039525513932874845,
                      -0.043569514457582975,
                      -0.0422577441298278,
                      0.029005115904278234,
                      -0.10925547664111837,
                      -0.14084665404868543,
                      -0.0148604838558552,
                      -0.05185990292899574
                    ],
                    "coloraxis": "coloraxis",
                    "opacity": 1,
                    "size": [
                      0.023090905683713442,
                      0.12296535052377115,
                      0.1175158817907539,
                      0.051822423776774165,
                      0.09971328448550495,
                      0.05184491126810711,
                      0.01115379570114125,
                      0.04398553304724248,
                      0.1462511477990368,
                      0.07228978880497725,
                      0.07786668665554786,
                      0.035773850795495,
                      0.1024267751063471,
                      0.10840469988568857,
                      0.0505181492794633,
                      0.03126510878323935,
                      0.07649869759946029,
                      0.025834379626332865,
                      0.15042257744129828,
                      0.038112549894121384,
                      0.031733598186009015,
                      0.09836403500552818,
                      0.05224219028165583,
                      0.008005546914528788,
                      0.0631823548151341,
                      0.14214718063077414,
                      0.0230421827858254,
                      0.04543972415343964,
                      0.033997338980192277,
                      0.07917470906808088,
                      0.08193317467158892,
                      0.14216217229166275,
                      0.003826621441822997,
                      0.10114124018514702,
                      0.20708730768510014,
                      0.04779716282817682,
                      0.06872177351348313,
                      0.06322732979779996,
                      0.10249048966512378,
                      0.019391713359443813,
                      0.07141652455821448,
                      0.1230665442347694,
                      0.002511103198845649,
                      0.09885126398440866,
                      0.07365402994584261,
                      0.1517305998538313,
                      0.06405561906189683,
                      0.0025260948597342625,
                      0.03720555441035922,
                      0.04083728426063002,
                      0.039525513932874845,
                      0.043569514457582975,
                      0.0422577441298278,
                      0.029005115904278234,
                      0.10925547664111837,
                      0.14084665404868543,
                      0.0148604838558552,
                      0.05185990292899574
                    ],
                    "sizemode": "area",
                    "sizeref": 0.0005177182692127503,
                    "symbol": "circle"
                  },
                  "mode": "markers",
                  "name": "",
                  "showlegend": false,
                  "type": "scattergeo"
                }
              ],
              "layout": {
                "coloraxis": {
                  "colorbar": {
                    "title": {
                      "text": "pct_ch_1"
                    }
                  },
                  "colorscale": [
                    [
                      0,
                      "rgb(41, 24, 107)"
                    ],
                    [
                      0.09090909090909091,
                      "rgb(42, 35, 160)"
                    ],
                    [
                      0.18181818181818182,
                      "rgb(15, 71, 153)"
                    ],
                    [
                      0.2727272727272727,
                      "rgb(18, 95, 142)"
                    ],
                    [
                      0.36363636363636365,
                      "rgb(38, 116, 137)"
                    ],
                    [
                      0.45454545454545453,
                      "rgb(53, 136, 136)"
                    ],
                    [
                      0.5454545454545454,
                      "rgb(65, 157, 133)"
                    ],
                    [
                      0.6363636363636364,
                      "rgb(81, 178, 124)"
                    ],
                    [
                      0.7272727272727273,
                      "rgb(111, 198, 107)"
                    ],
                    [
                      0.8181818181818182,
                      "rgb(160, 214, 91)"
                    ],
                    [
                      0.9090909090909091,
                      "rgb(212, 225, 112)"
                    ],
                    [
                      1,
                      "rgb(253, 238, 153)"
                    ]
                  ]
                },
                "geo": {
                  "center": {
                    "lat": 37.83800610344828,
                    "lon": -120.74952093103452
                  },
                  "domain": {
                    "x": [
                      0,
                      1
                    ],
                    "y": [
                      0,
                      1
                    ]
                  },
                  "landcolor": "lightsteelblue",
                  "lataxis": {
                    "range": [
                      42.749903,
                      31.023604
                    ]
                  },
                  "lonaxis": {
                    "range": [
                      -114.355395,
                      -125.980998
                    ]
                  },
                  "resolution": 50,
                  "scope": "usa",
                  "showland": true,
                  "showsubunits": true,
                  "subunitcolor": "black",
                  "subunitwidth": 1.5
                },
                "height": 1080,
                "legend": {
                  "itemsizing": "constant",
                  "tracegroupgap": 0
                },
                "margin": {
                  "t": 60
                },
                "template": {
                  "data": {
                    "bar": [
                      {
                        "error_x": {
                          "color": "#2a3f5f"
                        },
                        "error_y": {
                          "color": "#2a3f5f"
                        },
                        "marker": {
                          "line": {
                            "color": "#E5ECF6",
                            "width": 0.5
                          }
                        },
                        "type": "bar"
                      }
                    ],
                    "barpolar": [
                      {
                        "marker": {
                          "line": {
                            "color": "#E5ECF6",
                            "width": 0.5
                          }
                        },
                        "type": "barpolar"
                      }
                    ],
                    "carpet": [
                      {
                        "aaxis": {
                          "endlinecolor": "#2a3f5f",
                          "gridcolor": "white",
                          "linecolor": "white",
                          "minorgridcolor": "white",
                          "startlinecolor": "#2a3f5f"
                        },
                        "baxis": {
                          "endlinecolor": "#2a3f5f",
                          "gridcolor": "white",
                          "linecolor": "white",
                          "minorgridcolor": "white",
                          "startlinecolor": "#2a3f5f"
                        },
                        "type": "carpet"
                      }
                    ],
                    "choropleth": [
                      {
                        "colorbar": {
                          "outlinewidth": 0,
                          "ticks": ""
                        },
                        "type": "choropleth"
                      }
                    ],
                    "contour": [
                      {
                        "colorbar": {
                          "outlinewidth": 0,
                          "ticks": ""
                        },
                        "colorscale": [
                          [
                            0,
                            "#0d0887"
                          ],
                          [
                            0.1111111111111111,
                            "#46039f"
                          ],
                          [
                            0.2222222222222222,
                            "#7201a8"
                          ],
                          [
                            0.3333333333333333,
                            "#9c179e"
                          ],
                          [
                            0.4444444444444444,
                            "#bd3786"
                          ],
                          [
                            0.5555555555555556,
                            "#d8576b"
                          ],
                          [
                            0.6666666666666666,
                            "#ed7953"
                          ],
                          [
                            0.7777777777777778,
                            "#fb9f3a"
                          ],
                          [
                            0.8888888888888888,
                            "#fdca26"
                          ],
                          [
                            1,
                            "#f0f921"
                          ]
                        ],
                        "type": "contour"
                      }
                    ],
                    "contourcarpet": [
                      {
                        "colorbar": {
                          "outlinewidth": 0,
                          "ticks": ""
                        },
                        "type": "contourcarpet"
                      }
                    ],
                    "heatmap": [
                      {
                        "colorbar": {
                          "outlinewidth": 0,
                          "ticks": ""
                        },
                        "colorscale": [
                          [
                            0,
                            "#0d0887"
                          ],
                          [
                            0.1111111111111111,
                            "#46039f"
                          ],
                          [
                            0.2222222222222222,
                            "#7201a8"
                          ],
                          [
                            0.3333333333333333,
                            "#9c179e"
                          ],
                          [
                            0.4444444444444444,
                            "#bd3786"
                          ],
                          [
                            0.5555555555555556,
                            "#d8576b"
                          ],
                          [
                            0.6666666666666666,
                            "#ed7953"
                          ],
                          [
                            0.7777777777777778,
                            "#fb9f3a"
                          ],
                          [
                            0.8888888888888888,
                            "#fdca26"
                          ],
                          [
                            1,
                            "#f0f921"
                          ]
                        ],
                        "type": "heatmap"
                      }
                    ],
                    "heatmapgl": [
                      {
                        "colorbar": {
                          "outlinewidth": 0,
                          "ticks": ""
                        },
                        "colorscale": [
                          [
                            0,
                            "#0d0887"
                          ],
                          [
                            0.1111111111111111,
                            "#46039f"
                          ],
                          [
                            0.2222222222222222,
                            "#7201a8"
                          ],
                          [
                            0.3333333333333333,
                            "#9c179e"
                          ],
                          [
                            0.4444444444444444,
                            "#bd3786"
                          ],
                          [
                            0.5555555555555556,
                            "#d8576b"
                          ],
                          [
                            0.6666666666666666,
                            "#ed7953"
                          ],
                          [
                            0.7777777777777778,
                            "#fb9f3a"
                          ],
                          [
                            0.8888888888888888,
                            "#fdca26"
                          ],
                          [
                            1,
                            "#f0f921"
                          ]
                        ],
                        "type": "heatmapgl"
                      }
                    ],
                    "histogram": [
                      {
                        "marker": {
                          "colorbar": {
                            "outlinewidth": 0,
                            "ticks": ""
                          }
                        },
                        "type": "histogram"
                      }
                    ],
                    "histogram2d": [
                      {
                        "colorbar": {
                          "outlinewidth": 0,
                          "ticks": ""
                        },
                        "colorscale": [
                          [
                            0,
                            "#0d0887"
                          ],
                          [
                            0.1111111111111111,
                            "#46039f"
                          ],
                          [
                            0.2222222222222222,
                            "#7201a8"
                          ],
                          [
                            0.3333333333333333,
                            "#9c179e"
                          ],
                          [
                            0.4444444444444444,
                            "#bd3786"
                          ],
                          [
                            0.5555555555555556,
                            "#d8576b"
                          ],
                          [
                            0.6666666666666666,
                            "#ed7953"
                          ],
                          [
                            0.7777777777777778,
                            "#fb9f3a"
                          ],
                          [
                            0.8888888888888888,
                            "#fdca26"
                          ],
                          [
                            1,
                            "#f0f921"
                          ]
                        ],
                        "type": "histogram2d"
                      }
                    ],
                    "histogram2dcontour": [
                      {
                        "colorbar": {
                          "outlinewidth": 0,
                          "ticks": ""
                        },
                        "colorscale": [
                          [
                            0,
                            "#0d0887"
                          ],
                          [
                            0.1111111111111111,
                            "#46039f"
                          ],
                          [
                            0.2222222222222222,
                            "#7201a8"
                          ],
                          [
                            0.3333333333333333,
                            "#9c179e"
                          ],
                          [
                            0.4444444444444444,
                            "#bd3786"
                          ],
                          [
                            0.5555555555555556,
                            "#d8576b"
                          ],
                          [
                            0.6666666666666666,
                            "#ed7953"
                          ],
                          [
                            0.7777777777777778,
                            "#fb9f3a"
                          ],
                          [
                            0.8888888888888888,
                            "#fdca26"
                          ],
                          [
                            1,
                            "#f0f921"
                          ]
                        ],
                        "type": "histogram2dcontour"
                      }
                    ],
                    "mesh3d": [
                      {
                        "colorbar": {
                          "outlinewidth": 0,
                          "ticks": ""
                        },
                        "type": "mesh3d"
                      }
                    ],
                    "parcoords": [
                      {
                        "line": {
                          "colorbar": {
                            "outlinewidth": 0,
                            "ticks": ""
                          }
                        },
                        "type": "parcoords"
                      }
                    ],
                    "pie": [
                      {
                        "automargin": true,
                        "type": "pie"
                      }
                    ],
                    "scatter": [
                      {
                        "marker": {
                          "colorbar": {
                            "outlinewidth": 0,
                            "ticks": ""
                          }
                        },
                        "type": "scatter"
                      }
                    ],
                    "scatter3d": [
                      {
                        "line": {
                          "colorbar": {
                            "outlinewidth": 0,
                            "ticks": ""
                          }
                        },
                        "marker": {
                          "colorbar": {
                            "outlinewidth": 0,
                            "ticks": ""
                          }
                        },
                        "type": "scatter3d"
                      }
                    ],
                    "scattercarpet": [
                      {
                        "marker": {
                          "colorbar": {
                            "outlinewidth": 0,
                            "ticks": ""
                          }
                        },
                        "type": "scattercarpet"
                      }
                    ],
                    "scattergeo": [
                      {
                        "marker": {
                          "colorbar": {
                            "outlinewidth": 0,
                            "ticks": ""
                          }
                        },
                        "type": "scattergeo"
                      }
                    ],
                    "scattergl": [
                      {
                        "marker": {
                          "colorbar": {
                            "outlinewidth": 0,
                            "ticks": ""
                          }
                        },
                        "type": "scattergl"
                      }
                    ],
                    "scattermapbox": [
                      {
                        "marker": {
                          "colorbar": {
                            "outlinewidth": 0,
                            "ticks": ""
                          }
                        },
                        "type": "scattermapbox"
                      }
                    ],
                    "scatterpolar": [
                      {
                        "marker": {
                          "colorbar": {
                            "outlinewidth": 0,
                            "ticks": ""
                          }
                        },
                        "type": "scatterpolar"
                      }
                    ],
                    "scatterpolargl": [
                      {
                        "marker": {
                          "colorbar": {
                            "outlinewidth": 0,
                            "ticks": ""
                          }
                        },
                        "type": "scatterpolargl"
                      }
                    ],
                    "scatterternary": [
                      {
                        "marker": {
                          "colorbar": {
                            "outlinewidth": 0,
                            "ticks": ""
                          }
                        },
                        "type": "scatterternary"
                      }
                    ],
                    "surface": [
                      {
                        "colorbar": {
                          "outlinewidth": 0,
                          "ticks": ""
                        },
                        "colorscale": [
                          [
                            0,
                            "#0d0887"
                          ],
                          [
                            0.1111111111111111,
                            "#46039f"
                          ],
                          [
                            0.2222222222222222,
                            "#7201a8"
                          ],
                          [
                            0.3333333333333333,
                            "#9c179e"
                          ],
                          [
                            0.4444444444444444,
                            "#bd3786"
                          ],
                          [
                            0.5555555555555556,
                            "#d8576b"
                          ],
                          [
                            0.6666666666666666,
                            "#ed7953"
                          ],
                          [
                            0.7777777777777778,
                            "#fb9f3a"
                          ],
                          [
                            0.8888888888888888,
                            "#fdca26"
                          ],
                          [
                            1,
                            "#f0f921"
                          ]
                        ],
                        "type": "surface"
                      }
                    ],
                    "table": [
                      {
                        "cells": {
                          "fill": {
                            "color": "#EBF0F8"
                          },
                          "line": {
                            "color": "white"
                          }
                        },
                        "header": {
                          "fill": {
                            "color": "#C8D4E3"
                          },
                          "line": {
                            "color": "white"
                          }
                        },
                        "type": "table"
                      }
                    ]
                  },
                  "layout": {
                    "annotationdefaults": {
                      "arrowcolor": "#2a3f5f",
                      "arrowhead": 0,
                      "arrowwidth": 1
                    },
                    "autotypenumbers": "strict",
                    "coloraxis": {
                      "colorbar": {
                        "outlinewidth": 0,
                        "ticks": ""
                      }
                    },
                    "colorscale": {
                      "diverging": [
                        [
                          0,
                          "#8e0152"
                        ],
                        [
                          0.1,
                          "#c51b7d"
                        ],
                        [
                          0.2,
                          "#de77ae"
                        ],
                        [
                          0.3,
                          "#f1b6da"
                        ],
                        [
                          0.4,
                          "#fde0ef"
                        ],
                        [
                          0.5,
                          "#f7f7f7"
                        ],
                        [
                          0.6,
                          "#e6f5d0"
                        ],
                        [
                          0.7,
                          "#b8e186"
                        ],
                        [
                          0.8,
                          "#7fbc41"
                        ],
                        [
                          0.9,
                          "#4d9221"
                        ],
                        [
                          1,
                          "#276419"
                        ]
                      ],
                      "sequential": [
                        [
                          0,
                          "#0d0887"
                        ],
                        [
                          0.1111111111111111,
                          "#46039f"
                        ],
                        [
                          0.2222222222222222,
                          "#7201a8"
                        ],
                        [
                          0.3333333333333333,
                          "#9c179e"
                        ],
                        [
                          0.4444444444444444,
                          "#bd3786"
                        ],
                        [
                          0.5555555555555556,
                          "#d8576b"
                        ],
                        [
                          0.6666666666666666,
                          "#ed7953"
                        ],
                        [
                          0.7777777777777778,
                          "#fb9f3a"
                        ],
                        [
                          0.8888888888888888,
                          "#fdca26"
                        ],
                        [
                          1,
                          "#f0f921"
                        ]
                      ],
                      "sequentialminus": [
                        [
                          0,
                          "#0d0887"
                        ],
                        [
                          0.1111111111111111,
                          "#46039f"
                        ],
                        [
                          0.2222222222222222,
                          "#7201a8"
                        ],
                        [
                          0.3333333333333333,
                          "#9c179e"
                        ],
                        [
                          0.4444444444444444,
                          "#bd3786"
                        ],
                        [
                          0.5555555555555556,
                          "#d8576b"
                        ],
                        [
                          0.6666666666666666,
                          "#ed7953"
                        ],
                        [
                          0.7777777777777778,
                          "#fb9f3a"
                        ],
                        [
                          0.8888888888888888,
                          "#fdca26"
                        ],
                        [
                          1,
                          "#f0f921"
                        ]
                      ]
                    },
                    "colorway": [
                      "#636efa",
                      "#EF553B",
                      "#00cc96",
                      "#ab63fa",
                      "#FFA15A",
                      "#19d3f3",
                      "#FF6692",
                      "#B6E880",
                      "#FF97FF",
                      "#FECB52"
                    ],
                    "font": {
                      "color": "#2a3f5f"
                    },
                    "geo": {
                      "bgcolor": "white",
                      "lakecolor": "white",
                      "landcolor": "#E5ECF6",
                      "showlakes": true,
                      "showland": true,
                      "subunitcolor": "white"
                    },
                    "hoverlabel": {
                      "align": "left"
                    },
                    "hovermode": "closest",
                    "mapbox": {
                      "style": "light"
                    },
                    "paper_bgcolor": "white",
                    "plot_bgcolor": "#E5ECF6",
                    "polar": {
                      "angularaxis": {
                        "gridcolor": "white",
                        "linecolor": "white",
                        "ticks": ""
                      },
                      "bgcolor": "#E5ECF6",
                      "radialaxis": {
                        "gridcolor": "white",
                        "linecolor": "white",
                        "ticks": ""
                      }
                    },
                    "scene": {
                      "xaxis": {
                        "backgroundcolor": "#E5ECF6",
                        "gridcolor": "white",
                        "gridwidth": 2,
                        "linecolor": "white",
                        "showbackground": true,
                        "ticks": "",
                        "zerolinecolor": "white"
                      },
                      "yaxis": {
                        "backgroundcolor": "#E5ECF6",
                        "gridcolor": "white",
                        "gridwidth": 2,
                        "linecolor": "white",
                        "showbackground": true,
                        "ticks": "",
                        "zerolinecolor": "white"
                      },
                      "zaxis": {
                        "backgroundcolor": "#E5ECF6",
                        "gridcolor": "white",
                        "gridwidth": 2,
                        "linecolor": "white",
                        "showbackground": true,
                        "ticks": "",
                        "zerolinecolor": "white"
                      }
                    },
                    "shapedefaults": {
                      "line": {
                        "color": "#2a3f5f"
                      }
                    },
                    "ternary": {
                      "aaxis": {
                        "gridcolor": "white",
                        "linecolor": "white",
                        "ticks": ""
                      },
                      "baxis": {
                        "gridcolor": "white",
                        "linecolor": "white",
                        "ticks": ""
                      },
                      "bgcolor": "#E5ECF6",
                      "caxis": {
                        "gridcolor": "white",
                        "linecolor": "white",
                        "ticks": ""
                      }
                    },
                    "title": {
                      "x": 0.05
                    },
                    "xaxis": {
                      "automargin": true,
                      "gridcolor": "white",
                      "linecolor": "white",
                      "ticks": "",
                      "title": {
                        "standoff": 15
                      },
                      "zerolinecolor": "white",
                      "zerolinewidth": 2
                    },
                    "yaxis": {
                      "automargin": true,
                      "gridcolor": "white",
                      "linecolor": "white",
                      "ticks": "",
                      "title": {
                        "standoff": 15
                      },
                      "zerolinecolor": "white",
                      "zerolinewidth": 2
                    }
                  }
                },
                "width": 1080
              }
            },
            "text/html": [
              "<div>                            <div id=\"a2c664cd-d37b-4269-bacc-8781639b5ed4\" class=\"plotly-graph-div\" style=\"height:1080px; width:1080px;\"></div>            <script type=\"text/javascript\">                require([\"plotly\"], function(Plotly) {                    window.PLOTLYENV=window.PLOTLYENV || {};                                    if (document.getElementById(\"a2c664cd-d37b-4269-bacc-8781639b5ed4\")) {                    Plotly.newPlot(                        \"a2c664cd-d37b-4269-bacc-8781639b5ed4\",                        [{\"customdata\": [[6001, \"CA\", -0.023090905683713442], [6003, \"CA\", -0.12296535052377115], [6005, \"CA\", -0.1175158817907539], [6007, \"CA\", -0.051822423776774165], [6009, \"CA\", -0.09971328448550495], [6011, \"CA\", -0.05184491126810711], [6013, \"CA\", 0.01115379570114125], [6015, \"CA\", 0.04398553304724248], [6017, \"CA\", -0.1462511477990368], [6019, \"CA\", -0.07228978880497725], [6021, \"CA\", -0.07786668665554786], [6023, \"CA\", 0.035773850795495], [6025, \"CA\", -0.1024267751063471], [6027, \"CA\", 0.10840469988568857], [6029, \"CA\", -0.0505181492794633], [6031, \"CA\", -0.03126510878323935], [6033, \"CA\", -0.07649869759946029], [6035, \"CA\", -0.025834379626332865], [6037, \"CA\", -0.15042257744129828], [6039, \"CA\", -0.038112549894121384], [6041, \"CA\", 0.031733598186009015], [6043, \"CA\", -0.09836403500552818], [6045, \"CA\", 0.05224219028165583], [6047, \"CA\", -0.008005546914528788], [6049, \"CA\", 0.0631823548151341], [6051, \"CA\", -0.14214718063077414], [6053, \"CA\", -0.0230421827858254], [6055, \"CA\", 0.04543972415343964], [6057, \"CA\", -0.033997338980192277], [6059, \"CA\", -0.07917470906808088], [6061, \"CA\", -0.08193317467158892], [6063, \"CA\", -0.14216217229166275], [6065, \"CA\", -0.003826621441822997], [6067, \"CA\", -0.10114124018514702], [6069, \"CA\", 0.20708730768510014], [6071, \"CA\", -0.04779716282817682], [6073, \"CA\", 0.06872177351348313], [6075, \"CA\", 0.06322732979779996], [6077, \"CA\", -0.10249048966512378], [6079, \"CA\", 0.019391713359443813], [6081, \"CA\", 0.07141652455821448], [6083, \"CA\", -0.1230665442347694], [6085, \"CA\", -0.002511103198845649], [6087, \"CA\", 0.09885126398440866], [6089, \"CA\", -0.07365402994584261], [6091, \"CA\", -0.1517305998538313], [6093, \"CA\", -0.06405561906189683], [6095, \"CA\", -0.0025260948597342625], [6097, \"CA\", 0.03720555441035922], [6099, \"CA\", -0.04083728426063002], [6101, \"CA\", -0.039525513932874845], [6103, \"CA\", -0.043569514457582975], [6105, \"CA\", -0.0422577441298278], [6107, \"CA\", 0.029005115904278234], [6109, \"CA\", -0.10925547664111837], [6111, \"CA\", -0.14084665404868543], [6113, \"CA\", -0.0148604838558552], [6115, \"CA\", -0.05185990292899574]], \"geo\": \"geo\", \"hovertemplate\": \"<b>%{hovertext}</b><br><br>size_1=%{marker.size}<br>lat=%{lat}<br>lon=%{lon}<br>fips=%{customdata[0]}<br>State=%{customdata[1]}<br>pct_ch_1=%{marker.color}<extra></extra>\", \"hovertext\": [\"Alameda\", \"Alpine\", \"Amador\", \"Butte\", \"Calaveras\", \"Colusa\", \"Contra Costa\", \"Del Norte\", \"El Dorado\", \"Fresno\", \"Glenn\", \"Humboldt\", \"Imperial\", \"Inyo\", \"Kern\", \"Kings\", \"Lake\", \"Lassen\", \"Los Angeles\", \"Madera\", \"Marin\", \"Mariposa\", \"Mendocino\", \"Merced\", \"Modoc\", \"Mono\", \"Monterey\", \"Napa\", \"Nevada\", \"Orange\", \"Placer\", \"Plumas\", \"Riverside\", \"Sacramento\", \"San Benito\", \"San Bernardino\", \"San Diego\", \"San Francisco\", \"San Joaquin\", \"San Luis Obispo\", \"San Mateo\", \"Santa Barbara\", \"Santa Clara\", \"Santa Cruz\", \"Shasta\", \"Sierra\", \"Siskiyou\", \"Solano\", \"Sonoma\", \"Stanislaus\", \"Sutter\", \"Tehama\", \"Trinity\", \"Tulare\", \"Tuolumne\", \"Ventura\", \"Yolo\", \"Yuba\"], \"lat\": [37.648081, 38.61761, 38.44355, 39.665959, 38.187844, 39.177739, 37.919478999999995, 41.749903, 38.785532, 36.761006, 39.602546000000004, 40.706672999999995, 33.040816, 36.561977, 35.346629, 36.072478000000004, 39.094802, 40.721089, 34.196397999999995, 37.210039, 38.051817, 37.570034, 39.432388, 37.194806, 41.592919, 37.915836, 36.240107, 38.507351, 39.295190999999996, 33.675686999999996, 39.062032, 39.99517, 33.729828000000005, 38.450010999999996, 36.610702, 34.85722, 33.023604, 37.727239000000004, 37.935034, 35.385227, 37.414664, 34.537378000000004, 37.220777000000005, 37.012488, 40.760521999999995, 39.576925, 41.587986, 38.267226, 38.532574, 37.562384, 39.035257, 40.126156, 40.647724, 36.230453000000004, 38.021451, 34.358742, 38.679268, 39.270026], \"legendgroup\": \"\", \"lon\": [-121.91330400000001, -119.798999, -120.653856, -121.601919, -120.55511499999999, -122.237563, -121.95154299999999, -123.980998, -120.534398, -119.655019, -122.4017, -123.92581799999999, -115.355395, -117.403927, -118.729506, -119.81553000000001, -122.746757, -120.629931, -118.26186200000001, -119.749852, -122.745974, -119.91286000000001, -123.442881, -120.722802, -120.71837, -118.87516699999999, -121.315573, -122.32599499999999, -120.77344599999999, -117.777207, -120.722718, -120.829516, -116.00223899999999, -121.340441, -121.085296, -116.181197, -116.776117, -123.032229, -121.27223700000002, -120.44753999999999, -122.37154199999999, -120.03848500000001, -121.69062199999999, -122.007205, -122.04355, -120.521993, -122.53328700000002, -121.939594, -122.945194, -121.002656, -121.702758, -122.232276, -123.11440400000001, -118.780542, -119.964708, -119.13314299999999, -121.903178, -121.34428], \"marker\": {\"color\": [-0.023090905683713442, -0.12296535052377115, -0.1175158817907539, -0.051822423776774165, -0.09971328448550495, -0.05184491126810711, 0.01115379570114125, 0.04398553304724248, -0.1462511477990368, -0.07228978880497725, -0.07786668665554786, 0.035773850795495, -0.1024267751063471, 0.10840469988568857, -0.0505181492794633, -0.03126510878323935, -0.07649869759946029, -0.025834379626332865, -0.15042257744129828, -0.038112549894121384, 0.031733598186009015, -0.09836403500552818, 0.05224219028165583, -0.008005546914528788, 0.0631823548151341, -0.14214718063077414, -0.0230421827858254, 0.04543972415343964, -0.033997338980192277, -0.07917470906808088, -0.08193317467158892, -0.14216217229166275, -0.003826621441822997, -0.10114124018514702, 0.20708730768510014, -0.04779716282817682, 0.06872177351348313, 0.06322732979779996, -0.10249048966512378, 0.019391713359443813, 0.07141652455821448, -0.1230665442347694, -0.002511103198845649, 0.09885126398440866, -0.07365402994584261, -0.1517305998538313, -0.06405561906189683, -0.0025260948597342625, 0.03720555441035922, -0.04083728426063002, -0.039525513932874845, -0.043569514457582975, -0.0422577441298278, 0.029005115904278234, -0.10925547664111837, -0.14084665404868543, -0.0148604838558552, -0.05185990292899574], \"coloraxis\": \"coloraxis\", \"opacity\": 1, \"size\": [0.023090905683713442, 0.12296535052377115, 0.1175158817907539, 0.051822423776774165, 0.09971328448550495, 0.05184491126810711, 0.01115379570114125, 0.04398553304724248, 0.1462511477990368, 0.07228978880497725, 0.07786668665554786, 0.035773850795495, 0.1024267751063471, 0.10840469988568857, 0.0505181492794633, 0.03126510878323935, 0.07649869759946029, 0.025834379626332865, 0.15042257744129828, 0.038112549894121384, 0.031733598186009015, 0.09836403500552818, 0.05224219028165583, 0.008005546914528788, 0.0631823548151341, 0.14214718063077414, 0.0230421827858254, 0.04543972415343964, 0.033997338980192277, 0.07917470906808088, 0.08193317467158892, 0.14216217229166275, 0.003826621441822997, 0.10114124018514702, 0.20708730768510014, 0.04779716282817682, 0.06872177351348313, 0.06322732979779996, 0.10249048966512378, 0.019391713359443813, 0.07141652455821448, 0.1230665442347694, 0.002511103198845649, 0.09885126398440866, 0.07365402994584261, 0.1517305998538313, 0.06405561906189683, 0.0025260948597342625, 0.03720555441035922, 0.04083728426063002, 0.039525513932874845, 0.043569514457582975, 0.0422577441298278, 0.029005115904278234, 0.10925547664111837, 0.14084665404868543, 0.0148604838558552, 0.05185990292899574], \"sizemode\": \"area\", \"sizeref\": 0.0005177182692127503, \"symbol\": \"circle\"}, \"mode\": \"markers\", \"name\": \"\", \"showlegend\": false, \"type\": \"scattergeo\"}],                        {\"coloraxis\": {\"colorbar\": {\"title\": {\"text\": \"pct_ch_1\"}}, \"colorscale\": [[0.0, \"rgb(41, 24, 107)\"], [0.09090909090909091, \"rgb(42, 35, 160)\"], [0.18181818181818182, \"rgb(15, 71, 153)\"], [0.2727272727272727, \"rgb(18, 95, 142)\"], [0.36363636363636365, \"rgb(38, 116, 137)\"], [0.45454545454545453, \"rgb(53, 136, 136)\"], [0.5454545454545454, \"rgb(65, 157, 133)\"], [0.6363636363636364, \"rgb(81, 178, 124)\"], [0.7272727272727273, \"rgb(111, 198, 107)\"], [0.8181818181818182, \"rgb(160, 214, 91)\"], [0.9090909090909091, \"rgb(212, 225, 112)\"], [1.0, \"rgb(253, 238, 153)\"]]}, \"geo\": {\"center\": {\"lat\": 37.83800610344828, \"lon\": -120.74952093103452}, \"domain\": {\"x\": [0.0, 1.0], \"y\": [0.0, 1.0]}, \"landcolor\": \"lightsteelblue\", \"lataxis\": {\"range\": [42.749903, 31.023604]}, \"lonaxis\": {\"range\": [-114.355395, -125.980998]}, \"resolution\": 50, \"scope\": \"usa\", \"showland\": true, \"showsubunits\": true, \"subunitcolor\": \"black\", \"subunitwidth\": 1.5}, \"height\": 1080, \"legend\": {\"itemsizing\": \"constant\", \"tracegroupgap\": 0}, \"margin\": {\"t\": 60}, \"template\": {\"data\": {\"bar\": [{\"error_x\": {\"color\": \"#2a3f5f\"}, \"error_y\": {\"color\": \"#2a3f5f\"}, \"marker\": {\"line\": {\"color\": \"#E5ECF6\", \"width\": 0.5}}, \"type\": \"bar\"}], \"barpolar\": [{\"marker\": {\"line\": {\"color\": \"#E5ECF6\", \"width\": 0.5}}, \"type\": \"barpolar\"}], \"carpet\": [{\"aaxis\": {\"endlinecolor\": \"#2a3f5f\", \"gridcolor\": \"white\", \"linecolor\": \"white\", \"minorgridcolor\": \"white\", \"startlinecolor\": \"#2a3f5f\"}, \"baxis\": {\"endlinecolor\": \"#2a3f5f\", \"gridcolor\": \"white\", \"linecolor\": \"white\", \"minorgridcolor\": \"white\", \"startlinecolor\": \"#2a3f5f\"}, \"type\": \"carpet\"}], \"choropleth\": [{\"colorbar\": {\"outlinewidth\": 0, \"ticks\": \"\"}, \"type\": \"choropleth\"}], \"contour\": [{\"colorbar\": {\"outlinewidth\": 0, \"ticks\": \"\"}, \"colorscale\": [[0.0, \"#0d0887\"], [0.1111111111111111, \"#46039f\"], [0.2222222222222222, \"#7201a8\"], [0.3333333333333333, \"#9c179e\"], [0.4444444444444444, \"#bd3786\"], [0.5555555555555556, \"#d8576b\"], [0.6666666666666666, \"#ed7953\"], [0.7777777777777778, \"#fb9f3a\"], [0.8888888888888888, \"#fdca26\"], [1.0, \"#f0f921\"]], \"type\": \"contour\"}], \"contourcarpet\": [{\"colorbar\": {\"outlinewidth\": 0, \"ticks\": \"\"}, \"type\": \"contourcarpet\"}], \"heatmap\": [{\"colorbar\": {\"outlinewidth\": 0, \"ticks\": \"\"}, \"colorscale\": [[0.0, \"#0d0887\"], [0.1111111111111111, \"#46039f\"], [0.2222222222222222, \"#7201a8\"], [0.3333333333333333, \"#9c179e\"], [0.4444444444444444, \"#bd3786\"], [0.5555555555555556, \"#d8576b\"], [0.6666666666666666, \"#ed7953\"], [0.7777777777777778, \"#fb9f3a\"], [0.8888888888888888, \"#fdca26\"], [1.0, \"#f0f921\"]], \"type\": \"heatmap\"}], \"heatmapgl\": [{\"colorbar\": {\"outlinewidth\": 0, \"ticks\": \"\"}, \"colorscale\": [[0.0, \"#0d0887\"], [0.1111111111111111, \"#46039f\"], [0.2222222222222222, \"#7201a8\"], [0.3333333333333333, \"#9c179e\"], [0.4444444444444444, \"#bd3786\"], [0.5555555555555556, \"#d8576b\"], [0.6666666666666666, \"#ed7953\"], [0.7777777777777778, \"#fb9f3a\"], [0.8888888888888888, \"#fdca26\"], [1.0, \"#f0f921\"]], \"type\": \"heatmapgl\"}], \"histogram\": [{\"marker\": {\"colorbar\": {\"outlinewidth\": 0, \"ticks\": \"\"}}, \"type\": \"histogram\"}], \"histogram2d\": [{\"colorbar\": {\"outlinewidth\": 0, \"ticks\": \"\"}, \"colorscale\": [[0.0, \"#0d0887\"], [0.1111111111111111, \"#46039f\"], [0.2222222222222222, \"#7201a8\"], [0.3333333333333333, \"#9c179e\"], [0.4444444444444444, \"#bd3786\"], [0.5555555555555556, \"#d8576b\"], [0.6666666666666666, \"#ed7953\"], [0.7777777777777778, \"#fb9f3a\"], [0.8888888888888888, \"#fdca26\"], [1.0, \"#f0f921\"]], \"type\": \"histogram2d\"}], \"histogram2dcontour\": [{\"colorbar\": {\"outlinewidth\": 0, \"ticks\": \"\"}, \"colorscale\": [[0.0, \"#0d0887\"], [0.1111111111111111, \"#46039f\"], [0.2222222222222222, \"#7201a8\"], [0.3333333333333333, \"#9c179e\"], [0.4444444444444444, \"#bd3786\"], [0.5555555555555556, \"#d8576b\"], [0.6666666666666666, \"#ed7953\"], [0.7777777777777778, \"#fb9f3a\"], [0.8888888888888888, \"#fdca26\"], [1.0, \"#f0f921\"]], \"type\": \"histogram2dcontour\"}], \"mesh3d\": [{\"colorbar\": {\"outlinewidth\": 0, \"ticks\": \"\"}, \"type\": \"mesh3d\"}], \"parcoords\": [{\"line\": {\"colorbar\": {\"outlinewidth\": 0, \"ticks\": \"\"}}, \"type\": \"parcoords\"}], \"pie\": [{\"automargin\": true, \"type\": \"pie\"}], \"scatter\": [{\"marker\": {\"colorbar\": {\"outlinewidth\": 0, \"ticks\": \"\"}}, \"type\": \"scatter\"}], \"scatter3d\": [{\"line\": {\"colorbar\": {\"outlinewidth\": 0, \"ticks\": \"\"}}, \"marker\": {\"colorbar\": {\"outlinewidth\": 0, \"ticks\": \"\"}}, \"type\": \"scatter3d\"}], \"scattercarpet\": [{\"marker\": {\"colorbar\": {\"outlinewidth\": 0, \"ticks\": \"\"}}, \"type\": \"scattercarpet\"}], \"scattergeo\": [{\"marker\": {\"colorbar\": {\"outlinewidth\": 0, \"ticks\": \"\"}}, \"type\": \"scattergeo\"}], \"scattergl\": [{\"marker\": {\"colorbar\": {\"outlinewidth\": 0, \"ticks\": \"\"}}, \"type\": \"scattergl\"}], \"scattermapbox\": [{\"marker\": {\"colorbar\": {\"outlinewidth\": 0, \"ticks\": \"\"}}, \"type\": \"scattermapbox\"}], \"scatterpolar\": [{\"marker\": {\"colorbar\": {\"outlinewidth\": 0, \"ticks\": \"\"}}, \"type\": \"scatterpolar\"}], \"scatterpolargl\": [{\"marker\": {\"colorbar\": {\"outlinewidth\": 0, \"ticks\": \"\"}}, \"type\": \"scatterpolargl\"}], \"scatterternary\": [{\"marker\": {\"colorbar\": {\"outlinewidth\": 0, \"ticks\": \"\"}}, \"type\": \"scatterternary\"}], \"surface\": [{\"colorbar\": {\"outlinewidth\": 0, \"ticks\": \"\"}, \"colorscale\": [[0.0, \"#0d0887\"], [0.1111111111111111, \"#46039f\"], [0.2222222222222222, \"#7201a8\"], [0.3333333333333333, \"#9c179e\"], [0.4444444444444444, \"#bd3786\"], [0.5555555555555556, \"#d8576b\"], [0.6666666666666666, \"#ed7953\"], [0.7777777777777778, \"#fb9f3a\"], [0.8888888888888888, \"#fdca26\"], [1.0, \"#f0f921\"]], \"type\": \"surface\"}], \"table\": [{\"cells\": {\"fill\": {\"color\": \"#EBF0F8\"}, \"line\": {\"color\": \"white\"}}, \"header\": {\"fill\": {\"color\": \"#C8D4E3\"}, \"line\": {\"color\": \"white\"}}, \"type\": \"table\"}]}, \"layout\": {\"annotationdefaults\": {\"arrowcolor\": \"#2a3f5f\", \"arrowhead\": 0, \"arrowwidth\": 1}, \"autotypenumbers\": \"strict\", \"coloraxis\": {\"colorbar\": {\"outlinewidth\": 0, \"ticks\": \"\"}}, \"colorscale\": {\"diverging\": [[0, \"#8e0152\"], [0.1, \"#c51b7d\"], [0.2, \"#de77ae\"], [0.3, \"#f1b6da\"], [0.4, \"#fde0ef\"], [0.5, \"#f7f7f7\"], [0.6, \"#e6f5d0\"], [0.7, \"#b8e186\"], [0.8, \"#7fbc41\"], [0.9, \"#4d9221\"], [1, \"#276419\"]], \"sequential\": [[0.0, \"#0d0887\"], [0.1111111111111111, \"#46039f\"], [0.2222222222222222, \"#7201a8\"], [0.3333333333333333, \"#9c179e\"], [0.4444444444444444, \"#bd3786\"], [0.5555555555555556, \"#d8576b\"], [0.6666666666666666, \"#ed7953\"], [0.7777777777777778, \"#fb9f3a\"], [0.8888888888888888, \"#fdca26\"], [1.0, \"#f0f921\"]], \"sequentialminus\": [[0.0, \"#0d0887\"], [0.1111111111111111, \"#46039f\"], [0.2222222222222222, \"#7201a8\"], [0.3333333333333333, \"#9c179e\"], [0.4444444444444444, \"#bd3786\"], [0.5555555555555556, \"#d8576b\"], [0.6666666666666666, \"#ed7953\"], [0.7777777777777778, \"#fb9f3a\"], [0.8888888888888888, \"#fdca26\"], [1.0, \"#f0f921\"]]}, \"colorway\": [\"#636efa\", \"#EF553B\", \"#00cc96\", \"#ab63fa\", \"#FFA15A\", \"#19d3f3\", \"#FF6692\", \"#B6E880\", \"#FF97FF\", \"#FECB52\"], \"font\": {\"color\": \"#2a3f5f\"}, \"geo\": {\"bgcolor\": \"white\", \"lakecolor\": \"white\", \"landcolor\": \"#E5ECF6\", \"showlakes\": true, \"showland\": true, \"subunitcolor\": \"white\"}, \"hoverlabel\": {\"align\": \"left\"}, \"hovermode\": \"closest\", \"mapbox\": {\"style\": \"light\"}, \"paper_bgcolor\": \"white\", \"plot_bgcolor\": \"#E5ECF6\", \"polar\": {\"angularaxis\": {\"gridcolor\": \"white\", \"linecolor\": \"white\", \"ticks\": \"\"}, \"bgcolor\": \"#E5ECF6\", \"radialaxis\": {\"gridcolor\": \"white\", \"linecolor\": \"white\", \"ticks\": \"\"}}, \"scene\": {\"xaxis\": {\"backgroundcolor\": \"#E5ECF6\", \"gridcolor\": \"white\", \"gridwidth\": 2, \"linecolor\": \"white\", \"showbackground\": true, \"ticks\": \"\", \"zerolinecolor\": \"white\"}, \"yaxis\": {\"backgroundcolor\": \"#E5ECF6\", \"gridcolor\": \"white\", \"gridwidth\": 2, \"linecolor\": \"white\", \"showbackground\": true, \"ticks\": \"\", \"zerolinecolor\": \"white\"}, \"zaxis\": {\"backgroundcolor\": \"#E5ECF6\", \"gridcolor\": \"white\", \"gridwidth\": 2, \"linecolor\": \"white\", \"showbackground\": true, \"ticks\": \"\", \"zerolinecolor\": \"white\"}}, \"shapedefaults\": {\"line\": {\"color\": \"#2a3f5f\"}}, \"ternary\": {\"aaxis\": {\"gridcolor\": \"white\", \"linecolor\": \"white\", \"ticks\": \"\"}, \"baxis\": {\"gridcolor\": \"white\", \"linecolor\": \"white\", \"ticks\": \"\"}, \"bgcolor\": \"#E5ECF6\", \"caxis\": {\"gridcolor\": \"white\", \"linecolor\": \"white\", \"ticks\": \"\"}}, \"title\": {\"x\": 0.05}, \"xaxis\": {\"automargin\": true, \"gridcolor\": \"white\", \"linecolor\": \"white\", \"ticks\": \"\", \"title\": {\"standoff\": 15}, \"zerolinecolor\": \"white\", \"zerolinewidth\": 2}, \"yaxis\": {\"automargin\": true, \"gridcolor\": \"white\", \"linecolor\": \"white\", \"ticks\": \"\", \"title\": {\"standoff\": 15}, \"zerolinecolor\": \"white\", \"zerolinewidth\": 2}}}, \"width\": 1080},                        {\"responsive\": true}                    ).then(function(){\n",
              "                            \n",
              "var gd = document.getElementById('a2c664cd-d37b-4269-bacc-8781639b5ed4');\n",
              "var x = new MutationObserver(function (mutations, observer) {{\n",
              "        var display = window.getComputedStyle(gd).display;\n",
              "        if (!display || display === 'none') {{\n",
              "            console.log([gd, 'removed!']);\n",
              "            Plotly.purge(gd);\n",
              "            observer.disconnect();\n",
              "        }}\n",
              "}});\n",
              "\n",
              "// Listen for the removal of the full notebook cells\n",
              "var notebookContainer = gd.closest('#notebook-container');\n",
              "if (notebookContainer) {{\n",
              "    x.observe(notebookContainer, {childList: true});\n",
              "}}\n",
              "\n",
              "// Listen for the clearing of the current output cell\n",
              "var outputEl = gd.closest('.output');\n",
              "if (outputEl) {{\n",
              "    x.observe(outputEl, {childList: true});\n",
              "}}\n",
              "\n",
              "                        })                };                });            </script>        </div>"
            ]
          },
          "metadata": {},
          "output_type": "display_data"
        }
      ],
      "source": [
        "# plot 1\n",
        "fig1 = px.scatter_geo(final_df_fips, lat = \"lat\" , lon = \"lon\",hover_name='Name',center={'lat':lat1,'lon':lon1},height=1080,width=1080,opacity=1,color_continuous_scale = py.express.colors.sequential.haline, scope = 'usa',hover_data = ['fips','State','pct_ch_1'],color='pct_ch_1',size='size_1')\n",
        "fig1.update_geos(\n",
        "    resolution=50,\n",
        "    showland=True, landcolor=\"lightsteelblue\",\n",
        "    showsubunits=True, subunitcolor=\"black\", subunitwidth =1.5,\n",
        "    lonaxis_range=[lonr1,lonr2],lataxis_range=[latr1,latr2]\n",
        "    )\n",
        "fig1.show()"
      ]
    },
    {
      "cell_type": "code",
      "execution_count": null,
      "metadata": {
        "id": "1K_mSIHhcRaJ",
        "outputId": "10d867be-ae76-42b9-bb83-ac09e4aa2909"
      },
      "outputs": [
        {
          "data": {
            "application/vnd.plotly.v1+json": {
              "config": {
                "plotlyServerURL": "https://plot.ly"
              },
              "data": [
                {
                  "customdata": [
                    [
                      6001,
                      "CA",
                      -0.07786293874032571
                    ],
                    [
                      6003,
                      "CA",
                      -0.08054269812416845
                    ],
                    [
                      6005,
                      "CA",
                      -0.09290332252684444
                    ],
                    [
                      6007,
                      "CA",
                      -0.04909019357982122
                    ],
                    [
                      6009,
                      "CA",
                      -0.09700354177988495
                    ],
                    [
                      6011,
                      "CA",
                      -0.013440023986657418
                    ],
                    [
                      6013,
                      "CA",
                      -0.14359762382174918
                    ],
                    [
                      6015,
                      "CA",
                      0.09594662968723647
                    ],
                    [
                      6017,
                      "CA",
                      0.06182186158949082
                    ],
                    [
                      6019,
                      "CA",
                      -0.0011805932949796871
                    ],
                    [
                      6021,
                      "CA",
                      0.027629631017746376
                    ],
                    [
                      6023,
                      "CA",
                      -0.04096471337818339
                    ],
                    [
                      6025,
                      "CA",
                      -0.009189888124730594
                    ],
                    [
                      6027,
                      "CA",
                      -0.11620036354777656
                    ],
                    [
                      6029,
                      "CA",
                      0.016629499840713602
                    ],
                    [
                      6031,
                      "CA",
                      0.028952645091168017
                    ],
                    [
                      6033,
                      "CA",
                      0.05226092985776662
                    ],
                    [
                      6035,
                      "CA",
                      -0.17496017840076455
                    ],
                    [
                      6037,
                      "CA",
                      0.012533028502895255
                    ],
                    [
                      6039,
                      "CA",
                      -0.12157112606112849
                    ],
                    [
                      6041,
                      "CA",
                      -0.12167981560257107
                    ],
                    [
                      6043,
                      "CA",
                      -0.053149185765417994
                    ],
                    [
                      6045,
                      "CA",
                      -0.04779341491295466
                    ],
                    [
                      6047,
                      "CA",
                      -0.06410059404456273
                    ],
                    [
                      6049,
                      "CA",
                      -0.24058992185596764
                    ],
                    [
                      6051,
                      "CA",
                      -0.1476041451942357
                    ],
                    [
                      6053,
                      "CA",
                      -0.12031932237692783
                    ],
                    [
                      6055,
                      "CA",
                      -0.09156906470775632
                    ],
                    [
                      6057,
                      "CA",
                      -0.0531754211719731
                    ],
                    [
                      6059,
                      "CA",
                      0.007046080617656408
                    ],
                    [
                      6061,
                      "CA",
                      -0.0011281224818694702
                    ],
                    [
                      6063,
                      "CA",
                      -0.06682532841107136
                    ],
                    [
                      6065,
                      "CA",
                      -0.22694376253209153
                    ],
                    [
                      6067,
                      "CA",
                      -0.1477015909900118
                    ],
                    [
                      6069,
                      "CA",
                      -0.12990274159998502
                    ],
                    [
                      6071,
                      "CA",
                      -0.08179450180836909
                    ],
                    [
                      6073,
                      "CA",
                      -0.07104173303599873
                    ],
                    [
                      6075,
                      "CA",
                      -0.175065120026985
                    ],
                    [
                      6077,
                      "CA",
                      -0.08742761838727207
                    ],
                    [
                      6079,
                      "CA",
                      -0.018945711448007052
                    ],
                    [
                      6081,
                      "CA",
                      -0.07235350336375393
                    ],
                    [
                      6083,
                      "CA",
                      0.005681839476791045
                    ],
                    [
                      6085,
                      "CA",
                      -0.04500121807244721
                    ],
                    [
                      6087,
                      "CA",
                      -0.07784419916421492
                    ],
                    [
                      6089,
                      "CA",
                      -0.03814253321589865
                    ],
                    [
                      6091,
                      "CA",
                      -0.07366902160673125
                    ],
                    [
                      6093,
                      "CA",
                      -0.06966250023424471
                    ],
                    [
                      6095,
                      "CA",
                      -0.1258025223469445
                    ],
                    [
                      6097,
                      "CA",
                      -0.09295204542473248
                    ],
                    [
                      6099,
                      "CA",
                      -0.04769222120195643
                    ],
                    [
                      6101,
                      "CA",
                      -0.04085227592151866
                    ],
                    [
                      6103,
                      "CA",
                      -0.005310795869797422
                    ],
                    [
                      6105,
                      "CA",
                      0.034390870078518834
                    ],
                    [
                      6107,
                      "CA",
                      -0.1189250979142852
                    ],
                    [
                      6109,
                      "CA",
                      -0.016265952064164313
                    ],
                    [
                      6111,
                      "CA",
                      -0.0025298427749564367
                    ],
                    [
                      6113,
                      "CA",
                      -0.12715551974214345
                    ],
                    [
                      6115,
                      "CA",
                      -0.0394767910349868
                    ]
                  ],
                  "geo": "geo",
                  "hovertemplate": "<b>%{hovertext}</b><br><br>size_2=%{marker.size}<br>lat=%{lat}<br>lon=%{lon}<br>fips=%{customdata[0]}<br>State=%{customdata[1]}<br>pct_ch_2=%{marker.color}<extra></extra>",
                  "hovertext": [
                    "Alameda",
                    "Alpine",
                    "Amador",
                    "Butte",
                    "Calaveras",
                    "Colusa",
                    "Contra Costa",
                    "Del Norte",
                    "El Dorado",
                    "Fresno",
                    "Glenn",
                    "Humboldt",
                    "Imperial",
                    "Inyo",
                    "Kern",
                    "Kings",
                    "Lake",
                    "Lassen",
                    "Los Angeles",
                    "Madera",
                    "Marin",
                    "Mariposa",
                    "Mendocino",
                    "Merced",
                    "Modoc",
                    "Mono",
                    "Monterey",
                    "Napa",
                    "Nevada",
                    "Orange",
                    "Placer",
                    "Plumas",
                    "Riverside",
                    "Sacramento",
                    "San Benito",
                    "San Bernardino",
                    "San Diego",
                    "San Francisco",
                    "San Joaquin",
                    "San Luis Obispo",
                    "San Mateo",
                    "Santa Barbara",
                    "Santa Clara",
                    "Santa Cruz",
                    "Shasta",
                    "Sierra",
                    "Siskiyou",
                    "Solano",
                    "Sonoma",
                    "Stanislaus",
                    "Sutter",
                    "Tehama",
                    "Trinity",
                    "Tulare",
                    "Tuolumne",
                    "Ventura",
                    "Yolo",
                    "Yuba"
                  ],
                  "lat": [
                    37.648081,
                    38.61761,
                    38.44355,
                    39.665959,
                    38.187844,
                    39.177739,
                    37.919478999999995,
                    41.749903,
                    38.785532,
                    36.761006,
                    39.602546000000004,
                    40.706672999999995,
                    33.040816,
                    36.561977,
                    35.346629,
                    36.072478000000004,
                    39.094802,
                    40.721089,
                    34.196397999999995,
                    37.210039,
                    38.051817,
                    37.570034,
                    39.432388,
                    37.194806,
                    41.592919,
                    37.915836,
                    36.240107,
                    38.507351,
                    39.295190999999996,
                    33.675686999999996,
                    39.062032,
                    39.99517,
                    33.729828000000005,
                    38.450010999999996,
                    36.610702,
                    34.85722,
                    33.023604,
                    37.727239000000004,
                    37.935034,
                    35.385227,
                    37.414664,
                    34.537378000000004,
                    37.220777000000005,
                    37.012488,
                    40.760521999999995,
                    39.576925,
                    41.587986,
                    38.267226,
                    38.532574,
                    37.562384,
                    39.035257,
                    40.126156,
                    40.647724,
                    36.230453000000004,
                    38.021451,
                    34.358742,
                    38.679268,
                    39.270026
                  ],
                  "legendgroup": "",
                  "lon": [
                    -121.91330400000001,
                    -119.798999,
                    -120.653856,
                    -121.601919,
                    -120.55511499999999,
                    -122.237563,
                    -121.95154299999999,
                    -123.980998,
                    -120.534398,
                    -119.655019,
                    -122.4017,
                    -123.92581799999999,
                    -115.355395,
                    -117.403927,
                    -118.729506,
                    -119.81553000000001,
                    -122.746757,
                    -120.629931,
                    -118.26186200000001,
                    -119.749852,
                    -122.745974,
                    -119.91286000000001,
                    -123.442881,
                    -120.722802,
                    -120.71837,
                    -118.87516699999999,
                    -121.315573,
                    -122.32599499999999,
                    -120.77344599999999,
                    -117.777207,
                    -120.722718,
                    -120.829516,
                    -116.00223899999999,
                    -121.340441,
                    -121.085296,
                    -116.181197,
                    -116.776117,
                    -123.032229,
                    -121.27223700000002,
                    -120.44753999999999,
                    -122.37154199999999,
                    -120.03848500000001,
                    -121.69062199999999,
                    -122.007205,
                    -122.04355,
                    -120.521993,
                    -122.53328700000002,
                    -121.939594,
                    -122.945194,
                    -121.002656,
                    -121.702758,
                    -122.232276,
                    -123.11440400000001,
                    -118.780542,
                    -119.964708,
                    -119.13314299999999,
                    -121.903178,
                    -121.34428
                  ],
                  "marker": {
                    "color": [
                      -0.07786293874032571,
                      -0.08054269812416845,
                      -0.09290332252684444,
                      -0.04909019357982122,
                      -0.09700354177988495,
                      -0.013440023986657418,
                      -0.14359762382174918,
                      0.09594662968723647,
                      0.06182186158949082,
                      -0.0011805932949796871,
                      0.027629631017746376,
                      -0.04096471337818339,
                      -0.009189888124730594,
                      -0.11620036354777656,
                      0.016629499840713602,
                      0.028952645091168017,
                      0.05226092985776662,
                      -0.17496017840076455,
                      0.012533028502895255,
                      -0.12157112606112849,
                      -0.12167981560257107,
                      -0.053149185765417994,
                      -0.04779341491295466,
                      -0.06410059404456273,
                      -0.24058992185596764,
                      -0.1476041451942357,
                      -0.12031932237692783,
                      -0.09156906470775632,
                      -0.0531754211719731,
                      0.007046080617656408,
                      -0.0011281224818694702,
                      -0.06682532841107136,
                      -0.22694376253209153,
                      -0.1477015909900118,
                      -0.12990274159998502,
                      -0.08179450180836909,
                      -0.07104173303599873,
                      -0.175065120026985,
                      -0.08742761838727207,
                      -0.018945711448007052,
                      -0.07235350336375393,
                      0.005681839476791045,
                      -0.04500121807244721,
                      -0.07784419916421492,
                      -0.03814253321589865,
                      -0.07366902160673125,
                      -0.06966250023424471,
                      -0.1258025223469445,
                      -0.09295204542473248,
                      -0.04769222120195643,
                      -0.04085227592151866,
                      -0.005310795869797422,
                      0.034390870078518834,
                      -0.1189250979142852,
                      -0.016265952064164313,
                      -0.0025298427749564367,
                      -0.12715551974214345,
                      -0.0394767910349868
                    ],
                    "coloraxis": "coloraxis",
                    "opacity": 1,
                    "size": [
                      0.07786293874032571,
                      0.08054269812416845,
                      0.09290332252684444,
                      0.04909019357982122,
                      0.09700354177988495,
                      0.013440023986657418,
                      0.14359762382174918,
                      0.09594662968723647,
                      0.06182186158949082,
                      0.0011805932949796871,
                      0.027629631017746376,
                      0.04096471337818339,
                      0.009189888124730594,
                      0.11620036354777656,
                      0.016629499840713602,
                      0.028952645091168017,
                      0.05226092985776662,
                      0.17496017840076455,
                      0.012533028502895255,
                      0.12157112606112849,
                      0.12167981560257107,
                      0.053149185765417994,
                      0.04779341491295466,
                      0.06410059404456273,
                      0.24058992185596764,
                      0.1476041451942357,
                      0.12031932237692783,
                      0.09156906470775632,
                      0.0531754211719731,
                      0.007046080617656408,
                      0.0011281224818694702,
                      0.06682532841107136,
                      0.22694376253209153,
                      0.1477015909900118,
                      0.12990274159998502,
                      0.08179450180836909,
                      0.07104173303599873,
                      0.175065120026985,
                      0.08742761838727207,
                      0.018945711448007052,
                      0.07235350336375393,
                      0.005681839476791045,
                      0.04500121807244721,
                      0.07784419916421492,
                      0.03814253321589865,
                      0.07366902160673125,
                      0.06966250023424471,
                      0.1258025223469445,
                      0.09295204542473248,
                      0.04769222120195643,
                      0.04085227592151866,
                      0.005310795869797422,
                      0.034390870078518834,
                      0.1189250979142852,
                      0.016265952064164313,
                      0.0025298427749564367,
                      0.12715551974214345,
                      0.0394767910349868
                    ],
                    "sizemode": "area",
                    "sizeref": 0.0006014748046399191,
                    "symbol": "circle"
                  },
                  "mode": "markers",
                  "name": "",
                  "showlegend": false,
                  "type": "scattergeo"
                }
              ],
              "layout": {
                "coloraxis": {
                  "colorbar": {
                    "title": {
                      "text": "pct_ch_2"
                    }
                  },
                  "colorscale": [
                    [
                      0,
                      "rgb(36, 86, 104)"
                    ],
                    [
                      0.16666666666666666,
                      "rgb(15, 114, 121)"
                    ],
                    [
                      0.3333333333333333,
                      "rgb(13, 143, 129)"
                    ],
                    [
                      0.5,
                      "rgb(57, 171, 126)"
                    ],
                    [
                      0.6666666666666666,
                      "rgb(110, 197, 116)"
                    ],
                    [
                      0.8333333333333334,
                      "rgb(169, 220, 103)"
                    ],
                    [
                      1,
                      "rgb(237, 239, 93)"
                    ]
                  ]
                },
                "geo": {
                  "center": {
                    "lat": 37.83800610344828,
                    "lon": -120.74952093103452
                  },
                  "domain": {
                    "x": [
                      0,
                      1
                    ],
                    "y": [
                      0,
                      1
                    ]
                  },
                  "lataxis": {
                    "range": [
                      42.749903,
                      31.023604
                    ]
                  },
                  "lonaxis": {
                    "range": [
                      -114.355395,
                      -125.980998
                    ]
                  },
                  "resolution": 50,
                  "scope": "usa",
                  "showsubunits": true,
                  "subunitcolor": "white",
                  "subunitwidth": 1.5
                },
                "height": 1080,
                "legend": {
                  "itemsizing": "constant",
                  "tracegroupgap": 0
                },
                "margin": {
                  "t": 60
                },
                "template": {
                  "data": {
                    "bar": [
                      {
                        "error_x": {
                          "color": "#f2f5fa"
                        },
                        "error_y": {
                          "color": "#f2f5fa"
                        },
                        "marker": {
                          "line": {
                            "color": "rgb(17,17,17)",
                            "width": 0.5
                          }
                        },
                        "type": "bar"
                      }
                    ],
                    "barpolar": [
                      {
                        "marker": {
                          "line": {
                            "color": "rgb(17,17,17)",
                            "width": 0.5
                          }
                        },
                        "type": "barpolar"
                      }
                    ],
                    "carpet": [
                      {
                        "aaxis": {
                          "endlinecolor": "#A2B1C6",
                          "gridcolor": "#506784",
                          "linecolor": "#506784",
                          "minorgridcolor": "#506784",
                          "startlinecolor": "#A2B1C6"
                        },
                        "baxis": {
                          "endlinecolor": "#A2B1C6",
                          "gridcolor": "#506784",
                          "linecolor": "#506784",
                          "minorgridcolor": "#506784",
                          "startlinecolor": "#A2B1C6"
                        },
                        "type": "carpet"
                      }
                    ],
                    "choropleth": [
                      {
                        "colorbar": {
                          "outlinewidth": 0,
                          "ticks": ""
                        },
                        "type": "choropleth"
                      }
                    ],
                    "contour": [
                      {
                        "colorbar": {
                          "outlinewidth": 0,
                          "ticks": ""
                        },
                        "colorscale": [
                          [
                            0,
                            "#0d0887"
                          ],
                          [
                            0.1111111111111111,
                            "#46039f"
                          ],
                          [
                            0.2222222222222222,
                            "#7201a8"
                          ],
                          [
                            0.3333333333333333,
                            "#9c179e"
                          ],
                          [
                            0.4444444444444444,
                            "#bd3786"
                          ],
                          [
                            0.5555555555555556,
                            "#d8576b"
                          ],
                          [
                            0.6666666666666666,
                            "#ed7953"
                          ],
                          [
                            0.7777777777777778,
                            "#fb9f3a"
                          ],
                          [
                            0.8888888888888888,
                            "#fdca26"
                          ],
                          [
                            1,
                            "#f0f921"
                          ]
                        ],
                        "type": "contour"
                      }
                    ],
                    "contourcarpet": [
                      {
                        "colorbar": {
                          "outlinewidth": 0,
                          "ticks": ""
                        },
                        "type": "contourcarpet"
                      }
                    ],
                    "heatmap": [
                      {
                        "colorbar": {
                          "outlinewidth": 0,
                          "ticks": ""
                        },
                        "colorscale": [
                          [
                            0,
                            "#0d0887"
                          ],
                          [
                            0.1111111111111111,
                            "#46039f"
                          ],
                          [
                            0.2222222222222222,
                            "#7201a8"
                          ],
                          [
                            0.3333333333333333,
                            "#9c179e"
                          ],
                          [
                            0.4444444444444444,
                            "#bd3786"
                          ],
                          [
                            0.5555555555555556,
                            "#d8576b"
                          ],
                          [
                            0.6666666666666666,
                            "#ed7953"
                          ],
                          [
                            0.7777777777777778,
                            "#fb9f3a"
                          ],
                          [
                            0.8888888888888888,
                            "#fdca26"
                          ],
                          [
                            1,
                            "#f0f921"
                          ]
                        ],
                        "type": "heatmap"
                      }
                    ],
                    "heatmapgl": [
                      {
                        "colorbar": {
                          "outlinewidth": 0,
                          "ticks": ""
                        },
                        "colorscale": [
                          [
                            0,
                            "#0d0887"
                          ],
                          [
                            0.1111111111111111,
                            "#46039f"
                          ],
                          [
                            0.2222222222222222,
                            "#7201a8"
                          ],
                          [
                            0.3333333333333333,
                            "#9c179e"
                          ],
                          [
                            0.4444444444444444,
                            "#bd3786"
                          ],
                          [
                            0.5555555555555556,
                            "#d8576b"
                          ],
                          [
                            0.6666666666666666,
                            "#ed7953"
                          ],
                          [
                            0.7777777777777778,
                            "#fb9f3a"
                          ],
                          [
                            0.8888888888888888,
                            "#fdca26"
                          ],
                          [
                            1,
                            "#f0f921"
                          ]
                        ],
                        "type": "heatmapgl"
                      }
                    ],
                    "histogram": [
                      {
                        "marker": {
                          "colorbar": {
                            "outlinewidth": 0,
                            "ticks": ""
                          }
                        },
                        "type": "histogram"
                      }
                    ],
                    "histogram2d": [
                      {
                        "colorbar": {
                          "outlinewidth": 0,
                          "ticks": ""
                        },
                        "colorscale": [
                          [
                            0,
                            "#0d0887"
                          ],
                          [
                            0.1111111111111111,
                            "#46039f"
                          ],
                          [
                            0.2222222222222222,
                            "#7201a8"
                          ],
                          [
                            0.3333333333333333,
                            "#9c179e"
                          ],
                          [
                            0.4444444444444444,
                            "#bd3786"
                          ],
                          [
                            0.5555555555555556,
                            "#d8576b"
                          ],
                          [
                            0.6666666666666666,
                            "#ed7953"
                          ],
                          [
                            0.7777777777777778,
                            "#fb9f3a"
                          ],
                          [
                            0.8888888888888888,
                            "#fdca26"
                          ],
                          [
                            1,
                            "#f0f921"
                          ]
                        ],
                        "type": "histogram2d"
                      }
                    ],
                    "histogram2dcontour": [
                      {
                        "colorbar": {
                          "outlinewidth": 0,
                          "ticks": ""
                        },
                        "colorscale": [
                          [
                            0,
                            "#0d0887"
                          ],
                          [
                            0.1111111111111111,
                            "#46039f"
                          ],
                          [
                            0.2222222222222222,
                            "#7201a8"
                          ],
                          [
                            0.3333333333333333,
                            "#9c179e"
                          ],
                          [
                            0.4444444444444444,
                            "#bd3786"
                          ],
                          [
                            0.5555555555555556,
                            "#d8576b"
                          ],
                          [
                            0.6666666666666666,
                            "#ed7953"
                          ],
                          [
                            0.7777777777777778,
                            "#fb9f3a"
                          ],
                          [
                            0.8888888888888888,
                            "#fdca26"
                          ],
                          [
                            1,
                            "#f0f921"
                          ]
                        ],
                        "type": "histogram2dcontour"
                      }
                    ],
                    "mesh3d": [
                      {
                        "colorbar": {
                          "outlinewidth": 0,
                          "ticks": ""
                        },
                        "type": "mesh3d"
                      }
                    ],
                    "parcoords": [
                      {
                        "line": {
                          "colorbar": {
                            "outlinewidth": 0,
                            "ticks": ""
                          }
                        },
                        "type": "parcoords"
                      }
                    ],
                    "pie": [
                      {
                        "automargin": true,
                        "type": "pie"
                      }
                    ],
                    "scatter": [
                      {
                        "marker": {
                          "line": {
                            "color": "#283442"
                          }
                        },
                        "type": "scatter"
                      }
                    ],
                    "scatter3d": [
                      {
                        "line": {
                          "colorbar": {
                            "outlinewidth": 0,
                            "ticks": ""
                          }
                        },
                        "marker": {
                          "colorbar": {
                            "outlinewidth": 0,
                            "ticks": ""
                          }
                        },
                        "type": "scatter3d"
                      }
                    ],
                    "scattercarpet": [
                      {
                        "marker": {
                          "colorbar": {
                            "outlinewidth": 0,
                            "ticks": ""
                          }
                        },
                        "type": "scattercarpet"
                      }
                    ],
                    "scattergeo": [
                      {
                        "marker": {
                          "colorbar": {
                            "outlinewidth": 0,
                            "ticks": ""
                          }
                        },
                        "type": "scattergeo"
                      }
                    ],
                    "scattergl": [
                      {
                        "marker": {
                          "line": {
                            "color": "#283442"
                          }
                        },
                        "type": "scattergl"
                      }
                    ],
                    "scattermapbox": [
                      {
                        "marker": {
                          "colorbar": {
                            "outlinewidth": 0,
                            "ticks": ""
                          }
                        },
                        "type": "scattermapbox"
                      }
                    ],
                    "scatterpolar": [
                      {
                        "marker": {
                          "colorbar": {
                            "outlinewidth": 0,
                            "ticks": ""
                          }
                        },
                        "type": "scatterpolar"
                      }
                    ],
                    "scatterpolargl": [
                      {
                        "marker": {
                          "colorbar": {
                            "outlinewidth": 0,
                            "ticks": ""
                          }
                        },
                        "type": "scatterpolargl"
                      }
                    ],
                    "scatterternary": [
                      {
                        "marker": {
                          "colorbar": {
                            "outlinewidth": 0,
                            "ticks": ""
                          }
                        },
                        "type": "scatterternary"
                      }
                    ],
                    "surface": [
                      {
                        "colorbar": {
                          "outlinewidth": 0,
                          "ticks": ""
                        },
                        "colorscale": [
                          [
                            0,
                            "#0d0887"
                          ],
                          [
                            0.1111111111111111,
                            "#46039f"
                          ],
                          [
                            0.2222222222222222,
                            "#7201a8"
                          ],
                          [
                            0.3333333333333333,
                            "#9c179e"
                          ],
                          [
                            0.4444444444444444,
                            "#bd3786"
                          ],
                          [
                            0.5555555555555556,
                            "#d8576b"
                          ],
                          [
                            0.6666666666666666,
                            "#ed7953"
                          ],
                          [
                            0.7777777777777778,
                            "#fb9f3a"
                          ],
                          [
                            0.8888888888888888,
                            "#fdca26"
                          ],
                          [
                            1,
                            "#f0f921"
                          ]
                        ],
                        "type": "surface"
                      }
                    ],
                    "table": [
                      {
                        "cells": {
                          "fill": {
                            "color": "#506784"
                          },
                          "line": {
                            "color": "rgb(17,17,17)"
                          }
                        },
                        "header": {
                          "fill": {
                            "color": "#2a3f5f"
                          },
                          "line": {
                            "color": "rgb(17,17,17)"
                          }
                        },
                        "type": "table"
                      }
                    ]
                  },
                  "layout": {
                    "annotationdefaults": {
                      "arrowcolor": "#f2f5fa",
                      "arrowhead": 0,
                      "arrowwidth": 1
                    },
                    "autotypenumbers": "strict",
                    "coloraxis": {
                      "colorbar": {
                        "outlinewidth": 0,
                        "ticks": ""
                      }
                    },
                    "colorscale": {
                      "diverging": [
                        [
                          0,
                          "#8e0152"
                        ],
                        [
                          0.1,
                          "#c51b7d"
                        ],
                        [
                          0.2,
                          "#de77ae"
                        ],
                        [
                          0.3,
                          "#f1b6da"
                        ],
                        [
                          0.4,
                          "#fde0ef"
                        ],
                        [
                          0.5,
                          "#f7f7f7"
                        ],
                        [
                          0.6,
                          "#e6f5d0"
                        ],
                        [
                          0.7,
                          "#b8e186"
                        ],
                        [
                          0.8,
                          "#7fbc41"
                        ],
                        [
                          0.9,
                          "#4d9221"
                        ],
                        [
                          1,
                          "#276419"
                        ]
                      ],
                      "sequential": [
                        [
                          0,
                          "#0d0887"
                        ],
                        [
                          0.1111111111111111,
                          "#46039f"
                        ],
                        [
                          0.2222222222222222,
                          "#7201a8"
                        ],
                        [
                          0.3333333333333333,
                          "#9c179e"
                        ],
                        [
                          0.4444444444444444,
                          "#bd3786"
                        ],
                        [
                          0.5555555555555556,
                          "#d8576b"
                        ],
                        [
                          0.6666666666666666,
                          "#ed7953"
                        ],
                        [
                          0.7777777777777778,
                          "#fb9f3a"
                        ],
                        [
                          0.8888888888888888,
                          "#fdca26"
                        ],
                        [
                          1,
                          "#f0f921"
                        ]
                      ],
                      "sequentialminus": [
                        [
                          0,
                          "#0d0887"
                        ],
                        [
                          0.1111111111111111,
                          "#46039f"
                        ],
                        [
                          0.2222222222222222,
                          "#7201a8"
                        ],
                        [
                          0.3333333333333333,
                          "#9c179e"
                        ],
                        [
                          0.4444444444444444,
                          "#bd3786"
                        ],
                        [
                          0.5555555555555556,
                          "#d8576b"
                        ],
                        [
                          0.6666666666666666,
                          "#ed7953"
                        ],
                        [
                          0.7777777777777778,
                          "#fb9f3a"
                        ],
                        [
                          0.8888888888888888,
                          "#fdca26"
                        ],
                        [
                          1,
                          "#f0f921"
                        ]
                      ]
                    },
                    "colorway": [
                      "#636efa",
                      "#EF553B",
                      "#00cc96",
                      "#ab63fa",
                      "#FFA15A",
                      "#19d3f3",
                      "#FF6692",
                      "#B6E880",
                      "#FF97FF",
                      "#FECB52"
                    ],
                    "font": {
                      "color": "#f2f5fa"
                    },
                    "geo": {
                      "bgcolor": "rgb(17,17,17)",
                      "lakecolor": "rgb(17,17,17)",
                      "landcolor": "rgb(17,17,17)",
                      "showlakes": true,
                      "showland": true,
                      "subunitcolor": "#506784"
                    },
                    "hoverlabel": {
                      "align": "left"
                    },
                    "hovermode": "closest",
                    "mapbox": {
                      "style": "dark"
                    },
                    "paper_bgcolor": "rgb(17,17,17)",
                    "plot_bgcolor": "rgb(17,17,17)",
                    "polar": {
                      "angularaxis": {
                        "gridcolor": "#506784",
                        "linecolor": "#506784",
                        "ticks": ""
                      },
                      "bgcolor": "rgb(17,17,17)",
                      "radialaxis": {
                        "gridcolor": "#506784",
                        "linecolor": "#506784",
                        "ticks": ""
                      }
                    },
                    "scene": {
                      "xaxis": {
                        "backgroundcolor": "rgb(17,17,17)",
                        "gridcolor": "#506784",
                        "gridwidth": 2,
                        "linecolor": "#506784",
                        "showbackground": true,
                        "ticks": "",
                        "zerolinecolor": "#C8D4E3"
                      },
                      "yaxis": {
                        "backgroundcolor": "rgb(17,17,17)",
                        "gridcolor": "#506784",
                        "gridwidth": 2,
                        "linecolor": "#506784",
                        "showbackground": true,
                        "ticks": "",
                        "zerolinecolor": "#C8D4E3"
                      },
                      "zaxis": {
                        "backgroundcolor": "rgb(17,17,17)",
                        "gridcolor": "#506784",
                        "gridwidth": 2,
                        "linecolor": "#506784",
                        "showbackground": true,
                        "ticks": "",
                        "zerolinecolor": "#C8D4E3"
                      }
                    },
                    "shapedefaults": {
                      "line": {
                        "color": "#f2f5fa"
                      }
                    },
                    "sliderdefaults": {
                      "bgcolor": "#C8D4E3",
                      "bordercolor": "rgb(17,17,17)",
                      "borderwidth": 1,
                      "tickwidth": 0
                    },
                    "ternary": {
                      "aaxis": {
                        "gridcolor": "#506784",
                        "linecolor": "#506784",
                        "ticks": ""
                      },
                      "baxis": {
                        "gridcolor": "#506784",
                        "linecolor": "#506784",
                        "ticks": ""
                      },
                      "bgcolor": "rgb(17,17,17)",
                      "caxis": {
                        "gridcolor": "#506784",
                        "linecolor": "#506784",
                        "ticks": ""
                      }
                    },
                    "title": {
                      "x": 0.05
                    },
                    "updatemenudefaults": {
                      "bgcolor": "#506784",
                      "borderwidth": 0
                    },
                    "xaxis": {
                      "automargin": true,
                      "gridcolor": "#283442",
                      "linecolor": "#506784",
                      "ticks": "",
                      "title": {
                        "standoff": 15
                      },
                      "zerolinecolor": "#283442",
                      "zerolinewidth": 2
                    },
                    "yaxis": {
                      "automargin": true,
                      "gridcolor": "#283442",
                      "linecolor": "#506784",
                      "ticks": "",
                      "title": {
                        "standoff": 15
                      },
                      "zerolinecolor": "#283442",
                      "zerolinewidth": 2
                    }
                  }
                },
                "width": 1080
              }
            },
            "text/html": [
              "<div>                            <div id=\"0483fcd6-3942-46ce-a78a-2abd7a9f939c\" class=\"plotly-graph-div\" style=\"height:1080px; width:1080px;\"></div>            <script type=\"text/javascript\">                require([\"plotly\"], function(Plotly) {                    window.PLOTLYENV=window.PLOTLYENV || {};                                    if (document.getElementById(\"0483fcd6-3942-46ce-a78a-2abd7a9f939c\")) {                    Plotly.newPlot(                        \"0483fcd6-3942-46ce-a78a-2abd7a9f939c\",                        [{\"customdata\": [[6001, \"CA\", -0.07786293874032571], [6003, \"CA\", -0.08054269812416845], [6005, \"CA\", -0.09290332252684444], [6007, \"CA\", -0.04909019357982122], [6009, \"CA\", -0.09700354177988495], [6011, \"CA\", -0.013440023986657418], [6013, \"CA\", -0.14359762382174918], [6015, \"CA\", 0.09594662968723647], [6017, \"CA\", 0.06182186158949082], [6019, \"CA\", -0.0011805932949796871], [6021, \"CA\", 0.027629631017746376], [6023, \"CA\", -0.04096471337818339], [6025, \"CA\", -0.009189888124730594], [6027, \"CA\", -0.11620036354777656], [6029, \"CA\", 0.016629499840713602], [6031, \"CA\", 0.028952645091168017], [6033, \"CA\", 0.05226092985776662], [6035, \"CA\", -0.17496017840076455], [6037, \"CA\", 0.012533028502895255], [6039, \"CA\", -0.12157112606112849], [6041, \"CA\", -0.12167981560257107], [6043, \"CA\", -0.053149185765417994], [6045, \"CA\", -0.04779341491295466], [6047, \"CA\", -0.06410059404456273], [6049, \"CA\", -0.24058992185596764], [6051, \"CA\", -0.1476041451942357], [6053, \"CA\", -0.12031932237692783], [6055, \"CA\", -0.09156906470775632], [6057, \"CA\", -0.0531754211719731], [6059, \"CA\", 0.007046080617656408], [6061, \"CA\", -0.0011281224818694702], [6063, \"CA\", -0.06682532841107136], [6065, \"CA\", -0.22694376253209153], [6067, \"CA\", -0.1477015909900118], [6069, \"CA\", -0.12990274159998502], [6071, \"CA\", -0.08179450180836909], [6073, \"CA\", -0.07104173303599873], [6075, \"CA\", -0.175065120026985], [6077, \"CA\", -0.08742761838727207], [6079, \"CA\", -0.018945711448007052], [6081, \"CA\", -0.07235350336375393], [6083, \"CA\", 0.005681839476791045], [6085, \"CA\", -0.04500121807244721], [6087, \"CA\", -0.07784419916421492], [6089, \"CA\", -0.03814253321589865], [6091, \"CA\", -0.07366902160673125], [6093, \"CA\", -0.06966250023424471], [6095, \"CA\", -0.1258025223469445], [6097, \"CA\", -0.09295204542473248], [6099, \"CA\", -0.04769222120195643], [6101, \"CA\", -0.04085227592151866], [6103, \"CA\", -0.005310795869797422], [6105, \"CA\", 0.034390870078518834], [6107, \"CA\", -0.1189250979142852], [6109, \"CA\", -0.016265952064164313], [6111, \"CA\", -0.0025298427749564367], [6113, \"CA\", -0.12715551974214345], [6115, \"CA\", -0.0394767910349868]], \"geo\": \"geo\", \"hovertemplate\": \"<b>%{hovertext}</b><br><br>size_2=%{marker.size}<br>lat=%{lat}<br>lon=%{lon}<br>fips=%{customdata[0]}<br>State=%{customdata[1]}<br>pct_ch_2=%{marker.color}<extra></extra>\", \"hovertext\": [\"Alameda\", \"Alpine\", \"Amador\", \"Butte\", \"Calaveras\", \"Colusa\", \"Contra Costa\", \"Del Norte\", \"El Dorado\", \"Fresno\", \"Glenn\", \"Humboldt\", \"Imperial\", \"Inyo\", \"Kern\", \"Kings\", \"Lake\", \"Lassen\", \"Los Angeles\", \"Madera\", \"Marin\", \"Mariposa\", \"Mendocino\", \"Merced\", \"Modoc\", \"Mono\", \"Monterey\", \"Napa\", \"Nevada\", \"Orange\", \"Placer\", \"Plumas\", \"Riverside\", \"Sacramento\", \"San Benito\", \"San Bernardino\", \"San Diego\", \"San Francisco\", \"San Joaquin\", \"San Luis Obispo\", \"San Mateo\", \"Santa Barbara\", \"Santa Clara\", \"Santa Cruz\", \"Shasta\", \"Sierra\", \"Siskiyou\", \"Solano\", \"Sonoma\", \"Stanislaus\", \"Sutter\", \"Tehama\", \"Trinity\", \"Tulare\", \"Tuolumne\", \"Ventura\", \"Yolo\", \"Yuba\"], \"lat\": [37.648081, 38.61761, 38.44355, 39.665959, 38.187844, 39.177739, 37.919478999999995, 41.749903, 38.785532, 36.761006, 39.602546000000004, 40.706672999999995, 33.040816, 36.561977, 35.346629, 36.072478000000004, 39.094802, 40.721089, 34.196397999999995, 37.210039, 38.051817, 37.570034, 39.432388, 37.194806, 41.592919, 37.915836, 36.240107, 38.507351, 39.295190999999996, 33.675686999999996, 39.062032, 39.99517, 33.729828000000005, 38.450010999999996, 36.610702, 34.85722, 33.023604, 37.727239000000004, 37.935034, 35.385227, 37.414664, 34.537378000000004, 37.220777000000005, 37.012488, 40.760521999999995, 39.576925, 41.587986, 38.267226, 38.532574, 37.562384, 39.035257, 40.126156, 40.647724, 36.230453000000004, 38.021451, 34.358742, 38.679268, 39.270026], \"legendgroup\": \"\", \"lon\": [-121.91330400000001, -119.798999, -120.653856, -121.601919, -120.55511499999999, -122.237563, -121.95154299999999, -123.980998, -120.534398, -119.655019, -122.4017, -123.92581799999999, -115.355395, -117.403927, -118.729506, -119.81553000000001, -122.746757, -120.629931, -118.26186200000001, -119.749852, -122.745974, -119.91286000000001, -123.442881, -120.722802, -120.71837, -118.87516699999999, -121.315573, -122.32599499999999, -120.77344599999999, -117.777207, -120.722718, -120.829516, -116.00223899999999, -121.340441, -121.085296, -116.181197, -116.776117, -123.032229, -121.27223700000002, -120.44753999999999, -122.37154199999999, -120.03848500000001, -121.69062199999999, -122.007205, -122.04355, -120.521993, -122.53328700000002, -121.939594, -122.945194, -121.002656, -121.702758, -122.232276, -123.11440400000001, -118.780542, -119.964708, -119.13314299999999, -121.903178, -121.34428], \"marker\": {\"color\": [-0.07786293874032571, -0.08054269812416845, -0.09290332252684444, -0.04909019357982122, -0.09700354177988495, -0.013440023986657418, -0.14359762382174918, 0.09594662968723647, 0.06182186158949082, -0.0011805932949796871, 0.027629631017746376, -0.04096471337818339, -0.009189888124730594, -0.11620036354777656, 0.016629499840713602, 0.028952645091168017, 0.05226092985776662, -0.17496017840076455, 0.012533028502895255, -0.12157112606112849, -0.12167981560257107, -0.053149185765417994, -0.04779341491295466, -0.06410059404456273, -0.24058992185596764, -0.1476041451942357, -0.12031932237692783, -0.09156906470775632, -0.0531754211719731, 0.007046080617656408, -0.0011281224818694702, -0.06682532841107136, -0.22694376253209153, -0.1477015909900118, -0.12990274159998502, -0.08179450180836909, -0.07104173303599873, -0.175065120026985, -0.08742761838727207, -0.018945711448007052, -0.07235350336375393, 0.005681839476791045, -0.04500121807244721, -0.07784419916421492, -0.03814253321589865, -0.07366902160673125, -0.06966250023424471, -0.1258025223469445, -0.09295204542473248, -0.04769222120195643, -0.04085227592151866, -0.005310795869797422, 0.034390870078518834, -0.1189250979142852, -0.016265952064164313, -0.0025298427749564367, -0.12715551974214345, -0.0394767910349868], \"coloraxis\": \"coloraxis\", \"opacity\": 1, \"size\": [0.07786293874032571, 0.08054269812416845, 0.09290332252684444, 0.04909019357982122, 0.09700354177988495, 0.013440023986657418, 0.14359762382174918, 0.09594662968723647, 0.06182186158949082, 0.0011805932949796871, 0.027629631017746376, 0.04096471337818339, 0.009189888124730594, 0.11620036354777656, 0.016629499840713602, 0.028952645091168017, 0.05226092985776662, 0.17496017840076455, 0.012533028502895255, 0.12157112606112849, 0.12167981560257107, 0.053149185765417994, 0.04779341491295466, 0.06410059404456273, 0.24058992185596764, 0.1476041451942357, 0.12031932237692783, 0.09156906470775632, 0.0531754211719731, 0.007046080617656408, 0.0011281224818694702, 0.06682532841107136, 0.22694376253209153, 0.1477015909900118, 0.12990274159998502, 0.08179450180836909, 0.07104173303599873, 0.175065120026985, 0.08742761838727207, 0.018945711448007052, 0.07235350336375393, 0.005681839476791045, 0.04500121807244721, 0.07784419916421492, 0.03814253321589865, 0.07366902160673125, 0.06966250023424471, 0.1258025223469445, 0.09295204542473248, 0.04769222120195643, 0.04085227592151866, 0.005310795869797422, 0.034390870078518834, 0.1189250979142852, 0.016265952064164313, 0.0025298427749564367, 0.12715551974214345, 0.0394767910349868], \"sizemode\": \"area\", \"sizeref\": 0.0006014748046399191, \"symbol\": \"circle\"}, \"mode\": \"markers\", \"name\": \"\", \"showlegend\": false, \"type\": \"scattergeo\"}],                        {\"coloraxis\": {\"colorbar\": {\"title\": {\"text\": \"pct_ch_2\"}}, \"colorscale\": [[0.0, \"rgb(36, 86, 104)\"], [0.16666666666666666, \"rgb(15, 114, 121)\"], [0.3333333333333333, \"rgb(13, 143, 129)\"], [0.5, \"rgb(57, 171, 126)\"], [0.6666666666666666, \"rgb(110, 197, 116)\"], [0.8333333333333334, \"rgb(169, 220, 103)\"], [1.0, \"rgb(237, 239, 93)\"]]}, \"geo\": {\"center\": {\"lat\": 37.83800610344828, \"lon\": -120.74952093103452}, \"domain\": {\"x\": [0.0, 1.0], \"y\": [0.0, 1.0]}, \"lataxis\": {\"range\": [42.749903, 31.023604]}, \"lonaxis\": {\"range\": [-114.355395, -125.980998]}, \"resolution\": 50, \"scope\": \"usa\", \"showsubunits\": true, \"subunitcolor\": \"white\", \"subunitwidth\": 1.5}, \"height\": 1080, \"legend\": {\"itemsizing\": \"constant\", \"tracegroupgap\": 0}, \"margin\": {\"t\": 60}, \"template\": {\"data\": {\"bar\": [{\"error_x\": {\"color\": \"#f2f5fa\"}, \"error_y\": {\"color\": \"#f2f5fa\"}, \"marker\": {\"line\": {\"color\": \"rgb(17,17,17)\", \"width\": 0.5}}, \"type\": \"bar\"}], \"barpolar\": [{\"marker\": {\"line\": {\"color\": \"rgb(17,17,17)\", \"width\": 0.5}}, \"type\": \"barpolar\"}], \"carpet\": [{\"aaxis\": {\"endlinecolor\": \"#A2B1C6\", \"gridcolor\": \"#506784\", \"linecolor\": \"#506784\", \"minorgridcolor\": \"#506784\", \"startlinecolor\": \"#A2B1C6\"}, \"baxis\": {\"endlinecolor\": \"#A2B1C6\", \"gridcolor\": \"#506784\", \"linecolor\": \"#506784\", \"minorgridcolor\": \"#506784\", \"startlinecolor\": \"#A2B1C6\"}, \"type\": \"carpet\"}], \"choropleth\": [{\"colorbar\": {\"outlinewidth\": 0, \"ticks\": \"\"}, \"type\": \"choropleth\"}], \"contour\": [{\"colorbar\": {\"outlinewidth\": 0, \"ticks\": \"\"}, \"colorscale\": [[0.0, \"#0d0887\"], [0.1111111111111111, \"#46039f\"], [0.2222222222222222, \"#7201a8\"], [0.3333333333333333, \"#9c179e\"], [0.4444444444444444, \"#bd3786\"], [0.5555555555555556, \"#d8576b\"], [0.6666666666666666, \"#ed7953\"], [0.7777777777777778, \"#fb9f3a\"], [0.8888888888888888, \"#fdca26\"], [1.0, \"#f0f921\"]], \"type\": \"contour\"}], \"contourcarpet\": [{\"colorbar\": {\"outlinewidth\": 0, \"ticks\": \"\"}, \"type\": \"contourcarpet\"}], \"heatmap\": [{\"colorbar\": {\"outlinewidth\": 0, \"ticks\": \"\"}, \"colorscale\": [[0.0, \"#0d0887\"], [0.1111111111111111, \"#46039f\"], [0.2222222222222222, \"#7201a8\"], [0.3333333333333333, \"#9c179e\"], [0.4444444444444444, \"#bd3786\"], [0.5555555555555556, \"#d8576b\"], [0.6666666666666666, \"#ed7953\"], [0.7777777777777778, \"#fb9f3a\"], [0.8888888888888888, \"#fdca26\"], [1.0, \"#f0f921\"]], \"type\": \"heatmap\"}], \"heatmapgl\": [{\"colorbar\": {\"outlinewidth\": 0, \"ticks\": \"\"}, \"colorscale\": [[0.0, \"#0d0887\"], [0.1111111111111111, \"#46039f\"], [0.2222222222222222, \"#7201a8\"], [0.3333333333333333, \"#9c179e\"], [0.4444444444444444, \"#bd3786\"], [0.5555555555555556, \"#d8576b\"], [0.6666666666666666, \"#ed7953\"], [0.7777777777777778, \"#fb9f3a\"], [0.8888888888888888, \"#fdca26\"], [1.0, \"#f0f921\"]], \"type\": \"heatmapgl\"}], \"histogram\": [{\"marker\": {\"colorbar\": {\"outlinewidth\": 0, \"ticks\": \"\"}}, \"type\": \"histogram\"}], \"histogram2d\": [{\"colorbar\": {\"outlinewidth\": 0, \"ticks\": \"\"}, \"colorscale\": [[0.0, \"#0d0887\"], [0.1111111111111111, \"#46039f\"], [0.2222222222222222, \"#7201a8\"], [0.3333333333333333, \"#9c179e\"], [0.4444444444444444, \"#bd3786\"], [0.5555555555555556, \"#d8576b\"], [0.6666666666666666, \"#ed7953\"], [0.7777777777777778, \"#fb9f3a\"], [0.8888888888888888, \"#fdca26\"], [1.0, \"#f0f921\"]], \"type\": \"histogram2d\"}], \"histogram2dcontour\": [{\"colorbar\": {\"outlinewidth\": 0, \"ticks\": \"\"}, \"colorscale\": [[0.0, \"#0d0887\"], [0.1111111111111111, \"#46039f\"], [0.2222222222222222, \"#7201a8\"], [0.3333333333333333, \"#9c179e\"], [0.4444444444444444, \"#bd3786\"], [0.5555555555555556, \"#d8576b\"], [0.6666666666666666, \"#ed7953\"], [0.7777777777777778, \"#fb9f3a\"], [0.8888888888888888, \"#fdca26\"], [1.0, \"#f0f921\"]], \"type\": \"histogram2dcontour\"}], \"mesh3d\": [{\"colorbar\": {\"outlinewidth\": 0, \"ticks\": \"\"}, \"type\": \"mesh3d\"}], \"parcoords\": [{\"line\": {\"colorbar\": {\"outlinewidth\": 0, \"ticks\": \"\"}}, \"type\": \"parcoords\"}], \"pie\": [{\"automargin\": true, \"type\": \"pie\"}], \"scatter\": [{\"marker\": {\"line\": {\"color\": \"#283442\"}}, \"type\": \"scatter\"}], \"scatter3d\": [{\"line\": {\"colorbar\": {\"outlinewidth\": 0, \"ticks\": \"\"}}, \"marker\": {\"colorbar\": {\"outlinewidth\": 0, \"ticks\": \"\"}}, \"type\": \"scatter3d\"}], \"scattercarpet\": [{\"marker\": {\"colorbar\": {\"outlinewidth\": 0, \"ticks\": \"\"}}, \"type\": \"scattercarpet\"}], \"scattergeo\": [{\"marker\": {\"colorbar\": {\"outlinewidth\": 0, \"ticks\": \"\"}}, \"type\": \"scattergeo\"}], \"scattergl\": [{\"marker\": {\"line\": {\"color\": \"#283442\"}}, \"type\": \"scattergl\"}], \"scattermapbox\": [{\"marker\": {\"colorbar\": {\"outlinewidth\": 0, \"ticks\": \"\"}}, \"type\": \"scattermapbox\"}], \"scatterpolar\": [{\"marker\": {\"colorbar\": {\"outlinewidth\": 0, \"ticks\": \"\"}}, \"type\": \"scatterpolar\"}], \"scatterpolargl\": [{\"marker\": {\"colorbar\": {\"outlinewidth\": 0, \"ticks\": \"\"}}, \"type\": \"scatterpolargl\"}], \"scatterternary\": [{\"marker\": {\"colorbar\": {\"outlinewidth\": 0, \"ticks\": \"\"}}, \"type\": \"scatterternary\"}], \"surface\": [{\"colorbar\": {\"outlinewidth\": 0, \"ticks\": \"\"}, \"colorscale\": [[0.0, \"#0d0887\"], [0.1111111111111111, \"#46039f\"], [0.2222222222222222, \"#7201a8\"], [0.3333333333333333, \"#9c179e\"], [0.4444444444444444, \"#bd3786\"], [0.5555555555555556, \"#d8576b\"], [0.6666666666666666, \"#ed7953\"], [0.7777777777777778, \"#fb9f3a\"], [0.8888888888888888, \"#fdca26\"], [1.0, \"#f0f921\"]], \"type\": \"surface\"}], \"table\": [{\"cells\": {\"fill\": {\"color\": \"#506784\"}, \"line\": {\"color\": \"rgb(17,17,17)\"}}, \"header\": {\"fill\": {\"color\": \"#2a3f5f\"}, \"line\": {\"color\": \"rgb(17,17,17)\"}}, \"type\": \"table\"}]}, \"layout\": {\"annotationdefaults\": {\"arrowcolor\": \"#f2f5fa\", \"arrowhead\": 0, \"arrowwidth\": 1}, \"autotypenumbers\": \"strict\", \"coloraxis\": {\"colorbar\": {\"outlinewidth\": 0, \"ticks\": \"\"}}, \"colorscale\": {\"diverging\": [[0, \"#8e0152\"], [0.1, \"#c51b7d\"], [0.2, \"#de77ae\"], [0.3, \"#f1b6da\"], [0.4, \"#fde0ef\"], [0.5, \"#f7f7f7\"], [0.6, \"#e6f5d0\"], [0.7, \"#b8e186\"], [0.8, \"#7fbc41\"], [0.9, \"#4d9221\"], [1, \"#276419\"]], \"sequential\": [[0.0, \"#0d0887\"], [0.1111111111111111, \"#46039f\"], [0.2222222222222222, \"#7201a8\"], [0.3333333333333333, \"#9c179e\"], [0.4444444444444444, \"#bd3786\"], [0.5555555555555556, \"#d8576b\"], [0.6666666666666666, \"#ed7953\"], [0.7777777777777778, \"#fb9f3a\"], [0.8888888888888888, \"#fdca26\"], [1.0, \"#f0f921\"]], \"sequentialminus\": [[0.0, \"#0d0887\"], [0.1111111111111111, \"#46039f\"], [0.2222222222222222, \"#7201a8\"], [0.3333333333333333, \"#9c179e\"], [0.4444444444444444, \"#bd3786\"], [0.5555555555555556, \"#d8576b\"], [0.6666666666666666, \"#ed7953\"], [0.7777777777777778, \"#fb9f3a\"], [0.8888888888888888, \"#fdca26\"], [1.0, \"#f0f921\"]]}, \"colorway\": [\"#636efa\", \"#EF553B\", \"#00cc96\", \"#ab63fa\", \"#FFA15A\", \"#19d3f3\", \"#FF6692\", \"#B6E880\", \"#FF97FF\", \"#FECB52\"], \"font\": {\"color\": \"#f2f5fa\"}, \"geo\": {\"bgcolor\": \"rgb(17,17,17)\", \"lakecolor\": \"rgb(17,17,17)\", \"landcolor\": \"rgb(17,17,17)\", \"showlakes\": true, \"showland\": true, \"subunitcolor\": \"#506784\"}, \"hoverlabel\": {\"align\": \"left\"}, \"hovermode\": \"closest\", \"mapbox\": {\"style\": \"dark\"}, \"paper_bgcolor\": \"rgb(17,17,17)\", \"plot_bgcolor\": \"rgb(17,17,17)\", \"polar\": {\"angularaxis\": {\"gridcolor\": \"#506784\", \"linecolor\": \"#506784\", \"ticks\": \"\"}, \"bgcolor\": \"rgb(17,17,17)\", \"radialaxis\": {\"gridcolor\": \"#506784\", \"linecolor\": \"#506784\", \"ticks\": \"\"}}, \"scene\": {\"xaxis\": {\"backgroundcolor\": \"rgb(17,17,17)\", \"gridcolor\": \"#506784\", \"gridwidth\": 2, \"linecolor\": \"#506784\", \"showbackground\": true, \"ticks\": \"\", \"zerolinecolor\": \"#C8D4E3\"}, \"yaxis\": {\"backgroundcolor\": \"rgb(17,17,17)\", \"gridcolor\": \"#506784\", \"gridwidth\": 2, \"linecolor\": \"#506784\", \"showbackground\": true, \"ticks\": \"\", \"zerolinecolor\": \"#C8D4E3\"}, \"zaxis\": {\"backgroundcolor\": \"rgb(17,17,17)\", \"gridcolor\": \"#506784\", \"gridwidth\": 2, \"linecolor\": \"#506784\", \"showbackground\": true, \"ticks\": \"\", \"zerolinecolor\": \"#C8D4E3\"}}, \"shapedefaults\": {\"line\": {\"color\": \"#f2f5fa\"}}, \"sliderdefaults\": {\"bgcolor\": \"#C8D4E3\", \"bordercolor\": \"rgb(17,17,17)\", \"borderwidth\": 1, \"tickwidth\": 0}, \"ternary\": {\"aaxis\": {\"gridcolor\": \"#506784\", \"linecolor\": \"#506784\", \"ticks\": \"\"}, \"baxis\": {\"gridcolor\": \"#506784\", \"linecolor\": \"#506784\", \"ticks\": \"\"}, \"bgcolor\": \"rgb(17,17,17)\", \"caxis\": {\"gridcolor\": \"#506784\", \"linecolor\": \"#506784\", \"ticks\": \"\"}}, \"title\": {\"x\": 0.05}, \"updatemenudefaults\": {\"bgcolor\": \"#506784\", \"borderwidth\": 0}, \"xaxis\": {\"automargin\": true, \"gridcolor\": \"#283442\", \"linecolor\": \"#506784\", \"ticks\": \"\", \"title\": {\"standoff\": 15}, \"zerolinecolor\": \"#283442\", \"zerolinewidth\": 2}, \"yaxis\": {\"automargin\": true, \"gridcolor\": \"#283442\", \"linecolor\": \"#506784\", \"ticks\": \"\", \"title\": {\"standoff\": 15}, \"zerolinecolor\": \"#283442\", \"zerolinewidth\": 2}}}, \"width\": 1080},                        {\"responsive\": true}                    ).then(function(){\n",
              "                            \n",
              "var gd = document.getElementById('0483fcd6-3942-46ce-a78a-2abd7a9f939c');\n",
              "var x = new MutationObserver(function (mutations, observer) {{\n",
              "        var display = window.getComputedStyle(gd).display;\n",
              "        if (!display || display === 'none') {{\n",
              "            console.log([gd, 'removed!']);\n",
              "            Plotly.purge(gd);\n",
              "            observer.disconnect();\n",
              "        }}\n",
              "}});\n",
              "\n",
              "// Listen for the removal of the full notebook cells\n",
              "var notebookContainer = gd.closest('#notebook-container');\n",
              "if (notebookContainer) {{\n",
              "    x.observe(notebookContainer, {childList: true});\n",
              "}}\n",
              "\n",
              "// Listen for the clearing of the current output cell\n",
              "var outputEl = gd.closest('.output');\n",
              "if (outputEl) {{\n",
              "    x.observe(outputEl, {childList: true});\n",
              "}}\n",
              "\n",
              "                        })                };                });            </script>        </div>"
            ]
          },
          "metadata": {},
          "output_type": "display_data"
        }
      ],
      "source": [
        "# plot 2\n",
        "fig2 = px.scatter_geo(final_df_fips, lat = \"lat\" , lon = \"lon\",hover_name='Name',height=1080,width=1080,center={'lat':lat1,'lon':lon1},template='plotly_dark',opacity=1,color_continuous_scale = py.express.colors.sequential.Aggrnyl, scope = 'usa',hover_data = ['fips','State','pct_ch_2'],color='pct_ch_2',size='size_2')\n",
        "fig2.update_geos(\n",
        "    resolution=50,\n",
        "#     showland=True, landcolor=\"pink\",\n",
        "    showsubunits=True, subunitcolor=\"white\", subunitwidth =1.5,\n",
        "    lonaxis_range=[lonr1,lonr2],lataxis_range=[latr1,latr2]\n",
        "    )\n",
        "fig2.show()"
      ]
    },
    {
      "cell_type": "code",
      "execution_count": null,
      "metadata": {
        "id": "79mvodUAcRaJ",
        "outputId": "9d1ff651-9514-49b6-8232-4bc25713c8c0"
      },
      "outputs": [
        {
          "data": {
            "application/vnd.plotly.v1+json": {
              "config": {
                "plotlyServerURL": "https://plot.ly"
              },
              "data": [
                {
                  "customdata": [
                    [
                      6001,
                      "CA",
                      0.04674025073552837
                    ],
                    [
                      6003,
                      "CA",
                      -0.024477634315911767
                    ],
                    [
                      6005,
                      "CA",
                      0.016565785281936918
                    ],
                    [
                      6007,
                      "CA",
                      -0.05187489458988437
                    ],
                    [
                      6009,
                      "CA",
                      -0.07521691059348237
                    ],
                    [
                      6011,
                      "CA",
                      -0.04230271911249367
                    ],
                    [
                      6013,
                      "CA",
                      0.0946948260030358
                    ],
                    [
                      6015,
                      "CA",
                      0.23020444877536872
                    ],
                    [
                      6017,
                      "CA",
                      -0.0615070367108296
                    ],
                    [
                      6019,
                      "CA",
                      -0.1709574049435002
                    ],
                    [
                      6021,
                      "CA",
                      -0.05187489458988437
                    ],
                    [
                      6023,
                      "CA",
                      0.1713247006352716
                    ],
                    [
                      6025,
                      "CA",
                      0.27000356051946106
                    ],
                    [
                      6027,
                      "CA",
                      -0.16946573468508142
                    ],
                    [
                      6029,
                      "CA",
                      -0.22569195884789087
                    ],
                    [
                      6031,
                      "CA",
                      -0.18602027622135187
                    ],
                    [
                      6033,
                      "CA",
                      -0.006712516162884388
                    ],
                    [
                      6035,
                      "CA",
                      -0.12300657759121489
                    ],
                    [
                      6037,
                      "CA",
                      0.013878530067649858
                    ],
                    [
                      6039,
                      "CA",
                      -0.058774806513876655
                    ],
                    [
                      6041,
                      "CA",
                      0.20693739107621384
                    ],
                    [
                      6043,
                      "CA",
                      -0.0984764724621929
                    ],
                    [
                      6045,
                      "CA",
                      0.14397991117440923
                    ],
                    [
                      6047,
                      "CA",
                      -0.11351685624871166
                    ],
                    [
                      6049,
                      "CA",
                      -0.12441579371474618
                    ],
                    [
                      6051,
                      "CA",
                      -0.1819200569683114
                    ],
                    [
                      6053,
                      "CA",
                      -0.09985195734872478
                    ],
                    [
                      6055,
                      "CA",
                      -0.012188220302456754
                    ],
                    [
                      6057,
                      "CA",
                      0.005599385341903573
                    ],
                    [
                      6059,
                      "CA",
                      0.005666847815902404
                    ],
                    [
                      6061,
                      "CA",
                      -0.050555628431684874
                    ],
                    [
                      6063,
                      "CA",
                      -0.046421677941644965
                    ],
                    [
                      6065,
                      "CA",
                      0.4247699717032401
                    ],
                    [
                      6067,
                      "CA",
                      0.07687348912167608
                    ],
                    [
                      6069,
                      "CA",
                      -0.14362385922830426
                    ],
                    [
                      6071,
                      "CA",
                      0.29468358225736935
                    ],
                    [
                      6073,
                      "CA",
                      -0.01351873020632273
                    ],
                    [
                      6075,
                      "CA",
                      0.22472124880535202
                    ],
                    [
                      6077,
                      "CA",
                      -0.07243970541386353
                    ],
                    [
                      6079,
                      "CA",
                      -0.0628975132582501
                    ],
                    [
                      6081,
                      "CA",
                      -0.013597436425988041
                    ],
                    [
                      6083,
                      "CA",
                      0.0713453141689935
                    ],
                    [
                      6085,
                      "CA",
                      -0.008054269812416845
                    ],
                    [
                      6087,
                      "CA",
                      -0.0656334913704252
                    ],
                    [
                      6089,
                      "CA",
                      -0.03139253790079268
                    ],
                    [
                      6091,
                      "CA",
                      -0.03272679571988081
                    ],
                    [
                      6093,
                      "CA",
                      0.22200026235406556
                    ],
                    [
                      6095,
                      "CA",
                      0.053591439761632595
                    ],
                    [
                      6097,
                      "CA",
                      0.15219908925660103
                    ],
                    [
                      6099,
                      "CA",
                      -0.09983321777261397
                    ],
                    [
                      6101,
                      "CA",
                      -0.0587185877855443
                    ],
                    [
                      6103,
                      "CA",
                      -0.05869610029421135
                    ],
                    [
                      6105,
                      "CA",
                      0.10698798793171299
                    ],
                    [
                      6107,
                      "CA",
                      -0.17642561325262823
                    ],
                    [
                      6109,
                      "CA",
                      -0.10531641774263066
                    ],
                    [
                      6111,
                      "CA",
                      0.027539681052414583
                    ],
                    [
                      6113,
                      "CA",
                      0.031669883627232345
                    ],
                    [
                      6115,
                      "CA",
                      -0.017626445289807557
                    ]
                  ],
                  "geo": "geo",
                  "hovertemplate": "<b>%{hovertext}</b><br><br>size_3=%{marker.size}<br>lat=%{lat}<br>lon=%{lon}<br>fips=%{customdata[0]}<br>State=%{customdata[1]}<br>pct_ch_3=%{marker.color}<extra></extra>",
                  "hovertext": [
                    "Alameda",
                    "Alpine",
                    "Amador",
                    "Butte",
                    "Calaveras",
                    "Colusa",
                    "Contra Costa",
                    "Del Norte",
                    "El Dorado",
                    "Fresno",
                    "Glenn",
                    "Humboldt",
                    "Imperial",
                    "Inyo",
                    "Kern",
                    "Kings",
                    "Lake",
                    "Lassen",
                    "Los Angeles",
                    "Madera",
                    "Marin",
                    "Mariposa",
                    "Mendocino",
                    "Merced",
                    "Modoc",
                    "Mono",
                    "Monterey",
                    "Napa",
                    "Nevada",
                    "Orange",
                    "Placer",
                    "Plumas",
                    "Riverside",
                    "Sacramento",
                    "San Benito",
                    "San Bernardino",
                    "San Diego",
                    "San Francisco",
                    "San Joaquin",
                    "San Luis Obispo",
                    "San Mateo",
                    "Santa Barbara",
                    "Santa Clara",
                    "Santa Cruz",
                    "Shasta",
                    "Sierra",
                    "Siskiyou",
                    "Solano",
                    "Sonoma",
                    "Stanislaus",
                    "Sutter",
                    "Tehama",
                    "Trinity",
                    "Tulare",
                    "Tuolumne",
                    "Ventura",
                    "Yolo",
                    "Yuba"
                  ],
                  "lat": [
                    37.648081,
                    38.61761,
                    38.44355,
                    39.665959,
                    38.187844,
                    39.177739,
                    37.919478999999995,
                    41.749903,
                    38.785532,
                    36.761006,
                    39.602546000000004,
                    40.706672999999995,
                    33.040816,
                    36.561977,
                    35.346629,
                    36.072478000000004,
                    39.094802,
                    40.721089,
                    34.196397999999995,
                    37.210039,
                    38.051817,
                    37.570034,
                    39.432388,
                    37.194806,
                    41.592919,
                    37.915836,
                    36.240107,
                    38.507351,
                    39.295190999999996,
                    33.675686999999996,
                    39.062032,
                    39.99517,
                    33.729828000000005,
                    38.450010999999996,
                    36.610702,
                    34.85722,
                    33.023604,
                    37.727239000000004,
                    37.935034,
                    35.385227,
                    37.414664,
                    34.537378000000004,
                    37.220777000000005,
                    37.012488,
                    40.760521999999995,
                    39.576925,
                    41.587986,
                    38.267226,
                    38.532574,
                    37.562384,
                    39.035257,
                    40.126156,
                    40.647724,
                    36.230453000000004,
                    38.021451,
                    34.358742,
                    38.679268,
                    39.270026
                  ],
                  "legendgroup": "",
                  "lon": [
                    -121.91330400000001,
                    -119.798999,
                    -120.653856,
                    -121.601919,
                    -120.55511499999999,
                    -122.237563,
                    -121.95154299999999,
                    -123.980998,
                    -120.534398,
                    -119.655019,
                    -122.4017,
                    -123.92581799999999,
                    -115.355395,
                    -117.403927,
                    -118.729506,
                    -119.81553000000001,
                    -122.746757,
                    -120.629931,
                    -118.26186200000001,
                    -119.749852,
                    -122.745974,
                    -119.91286000000001,
                    -123.442881,
                    -120.722802,
                    -120.71837,
                    -118.87516699999999,
                    -121.315573,
                    -122.32599499999999,
                    -120.77344599999999,
                    -117.777207,
                    -120.722718,
                    -120.829516,
                    -116.00223899999999,
                    -121.340441,
                    -121.085296,
                    -116.181197,
                    -116.776117,
                    -123.032229,
                    -121.27223700000002,
                    -120.44753999999999,
                    -122.37154199999999,
                    -120.03848500000001,
                    -121.69062199999999,
                    -122.007205,
                    -122.04355,
                    -120.521993,
                    -122.53328700000002,
                    -121.939594,
                    -122.945194,
                    -121.002656,
                    -121.702758,
                    -122.232276,
                    -123.11440400000001,
                    -118.780542,
                    -119.964708,
                    -119.13314299999999,
                    -121.903178,
                    -121.34428
                  ],
                  "marker": {
                    "color": [
                      0.04674025073552837,
                      -0.024477634315911767,
                      0.016565785281936918,
                      -0.05187489458988437,
                      -0.07521691059348237,
                      -0.04230271911249367,
                      0.0946948260030358,
                      0.23020444877536872,
                      -0.0615070367108296,
                      -0.1709574049435002,
                      -0.05187489458988437,
                      0.1713247006352716,
                      0.27000356051946106,
                      -0.16946573468508142,
                      -0.22569195884789087,
                      -0.18602027622135187,
                      -0.006712516162884388,
                      -0.12300657759121489,
                      0.013878530067649858,
                      -0.058774806513876655,
                      0.20693739107621384,
                      -0.0984764724621929,
                      0.14397991117440923,
                      -0.11351685624871166,
                      -0.12441579371474618,
                      -0.1819200569683114,
                      -0.09985195734872478,
                      -0.012188220302456754,
                      0.005599385341903573,
                      0.005666847815902404,
                      -0.050555628431684874,
                      -0.046421677941644965,
                      0.4247699717032401,
                      0.07687348912167608,
                      -0.14362385922830426,
                      0.29468358225736935,
                      -0.01351873020632273,
                      0.22472124880535202,
                      -0.07243970541386353,
                      -0.0628975132582501,
                      -0.013597436425988041,
                      0.0713453141689935,
                      -0.008054269812416845,
                      -0.0656334913704252,
                      -0.03139253790079268,
                      -0.03272679571988081,
                      0.22200026235406556,
                      0.053591439761632595,
                      0.15219908925660103,
                      -0.09983321777261397,
                      -0.0587185877855443,
                      -0.05869610029421135,
                      0.10698798793171299,
                      -0.17642561325262823,
                      -0.10531641774263066,
                      0.027539681052414583,
                      0.031669883627232345,
                      -0.017626445289807557
                    ],
                    "coloraxis": "coloraxis",
                    "opacity": 1,
                    "size": [
                      0.04674025073552837,
                      0.024477634315911767,
                      0.016565785281936918,
                      0.05187489458988437,
                      0.07521691059348237,
                      0.04230271911249367,
                      0.0946948260030358,
                      0.23020444877536872,
                      0.0615070367108296,
                      0.1709574049435002,
                      0.05187489458988437,
                      0.1713247006352716,
                      0.27000356051946106,
                      0.16946573468508142,
                      0.22569195884789087,
                      0.18602027622135187,
                      0.006712516162884388,
                      0.12300657759121489,
                      0.013878530067649858,
                      0.058774806513876655,
                      0.20693739107621384,
                      0.0984764724621929,
                      0.14397991117440923,
                      0.11351685624871166,
                      0.12441579371474618,
                      0.1819200569683114,
                      0.09985195734872478,
                      0.012188220302456754,
                      0.005599385341903573,
                      0.005666847815902404,
                      0.050555628431684874,
                      0.046421677941644965,
                      0.4247699717032401,
                      0.07687348912167608,
                      0.14362385922830426,
                      0.29468358225736935,
                      0.01351873020632273,
                      0.22472124880535202,
                      0.07243970541386353,
                      0.0628975132582501,
                      0.013597436425988041,
                      0.0713453141689935,
                      0.008054269812416845,
                      0.0656334913704252,
                      0.03139253790079268,
                      0.03272679571988081,
                      0.22200026235406556,
                      0.053591439761632595,
                      0.15219908925660103,
                      0.09983321777261397,
                      0.0587185877855443,
                      0.05869610029421135,
                      0.10698798793171299,
                      0.17642561325262823,
                      0.10531641774263066,
                      0.027539681052414583,
                      0.031669883627232345,
                      0.017626445289807557
                    ],
                    "sizemode": "area",
                    "sizeref": 0.0010619249292581003,
                    "symbol": "circle"
                  },
                  "mode": "markers",
                  "name": "",
                  "showlegend": false,
                  "type": "scattergeo"
                }
              ],
              "layout": {
                "coloraxis": {
                  "colorbar": {
                    "title": {
                      "text": "pct_ch_3"
                    }
                  },
                  "colorscale": [
                    [
                      0,
                      "green"
                    ],
                    [
                      0.5,
                      "orange"
                    ],
                    [
                      1,
                      "yellow"
                    ]
                  ]
                },
                "geo": {
                  "center": {
                    "lat": 37.83800610344828,
                    "lon": -120.74952093103452
                  },
                  "domain": {
                    "x": [
                      0,
                      1
                    ],
                    "y": [
                      0,
                      1
                    ]
                  },
                  "lataxis": {
                    "range": [
                      42.749903,
                      31.023604
                    ]
                  },
                  "lonaxis": {
                    "range": [
                      -114.355395,
                      -125.980998
                    ]
                  },
                  "resolution": 50,
                  "scope": "usa",
                  "showsubunits": true,
                  "subunitcolor": "white",
                  "subunitwidth": 1.5
                },
                "height": 1080,
                "legend": {
                  "itemsizing": "constant",
                  "tracegroupgap": 0
                },
                "margin": {
                  "t": 60
                },
                "template": {
                  "data": {
                    "bar": [
                      {
                        "error_x": {
                          "color": "#f2f5fa"
                        },
                        "error_y": {
                          "color": "#f2f5fa"
                        },
                        "marker": {
                          "line": {
                            "color": "rgb(17,17,17)",
                            "width": 0.5
                          }
                        },
                        "type": "bar"
                      }
                    ],
                    "barpolar": [
                      {
                        "marker": {
                          "line": {
                            "color": "rgb(17,17,17)",
                            "width": 0.5
                          }
                        },
                        "type": "barpolar"
                      }
                    ],
                    "carpet": [
                      {
                        "aaxis": {
                          "endlinecolor": "#A2B1C6",
                          "gridcolor": "#506784",
                          "linecolor": "#506784",
                          "minorgridcolor": "#506784",
                          "startlinecolor": "#A2B1C6"
                        },
                        "baxis": {
                          "endlinecolor": "#A2B1C6",
                          "gridcolor": "#506784",
                          "linecolor": "#506784",
                          "minorgridcolor": "#506784",
                          "startlinecolor": "#A2B1C6"
                        },
                        "type": "carpet"
                      }
                    ],
                    "choropleth": [
                      {
                        "colorbar": {
                          "outlinewidth": 0,
                          "ticks": ""
                        },
                        "type": "choropleth"
                      }
                    ],
                    "contour": [
                      {
                        "colorbar": {
                          "outlinewidth": 0,
                          "ticks": ""
                        },
                        "colorscale": [
                          [
                            0,
                            "#0d0887"
                          ],
                          [
                            0.1111111111111111,
                            "#46039f"
                          ],
                          [
                            0.2222222222222222,
                            "#7201a8"
                          ],
                          [
                            0.3333333333333333,
                            "#9c179e"
                          ],
                          [
                            0.4444444444444444,
                            "#bd3786"
                          ],
                          [
                            0.5555555555555556,
                            "#d8576b"
                          ],
                          [
                            0.6666666666666666,
                            "#ed7953"
                          ],
                          [
                            0.7777777777777778,
                            "#fb9f3a"
                          ],
                          [
                            0.8888888888888888,
                            "#fdca26"
                          ],
                          [
                            1,
                            "#f0f921"
                          ]
                        ],
                        "type": "contour"
                      }
                    ],
                    "contourcarpet": [
                      {
                        "colorbar": {
                          "outlinewidth": 0,
                          "ticks": ""
                        },
                        "type": "contourcarpet"
                      }
                    ],
                    "heatmap": [
                      {
                        "colorbar": {
                          "outlinewidth": 0,
                          "ticks": ""
                        },
                        "colorscale": [
                          [
                            0,
                            "#0d0887"
                          ],
                          [
                            0.1111111111111111,
                            "#46039f"
                          ],
                          [
                            0.2222222222222222,
                            "#7201a8"
                          ],
                          [
                            0.3333333333333333,
                            "#9c179e"
                          ],
                          [
                            0.4444444444444444,
                            "#bd3786"
                          ],
                          [
                            0.5555555555555556,
                            "#d8576b"
                          ],
                          [
                            0.6666666666666666,
                            "#ed7953"
                          ],
                          [
                            0.7777777777777778,
                            "#fb9f3a"
                          ],
                          [
                            0.8888888888888888,
                            "#fdca26"
                          ],
                          [
                            1,
                            "#f0f921"
                          ]
                        ],
                        "type": "heatmap"
                      }
                    ],
                    "heatmapgl": [
                      {
                        "colorbar": {
                          "outlinewidth": 0,
                          "ticks": ""
                        },
                        "colorscale": [
                          [
                            0,
                            "#0d0887"
                          ],
                          [
                            0.1111111111111111,
                            "#46039f"
                          ],
                          [
                            0.2222222222222222,
                            "#7201a8"
                          ],
                          [
                            0.3333333333333333,
                            "#9c179e"
                          ],
                          [
                            0.4444444444444444,
                            "#bd3786"
                          ],
                          [
                            0.5555555555555556,
                            "#d8576b"
                          ],
                          [
                            0.6666666666666666,
                            "#ed7953"
                          ],
                          [
                            0.7777777777777778,
                            "#fb9f3a"
                          ],
                          [
                            0.8888888888888888,
                            "#fdca26"
                          ],
                          [
                            1,
                            "#f0f921"
                          ]
                        ],
                        "type": "heatmapgl"
                      }
                    ],
                    "histogram": [
                      {
                        "marker": {
                          "colorbar": {
                            "outlinewidth": 0,
                            "ticks": ""
                          }
                        },
                        "type": "histogram"
                      }
                    ],
                    "histogram2d": [
                      {
                        "colorbar": {
                          "outlinewidth": 0,
                          "ticks": ""
                        },
                        "colorscale": [
                          [
                            0,
                            "#0d0887"
                          ],
                          [
                            0.1111111111111111,
                            "#46039f"
                          ],
                          [
                            0.2222222222222222,
                            "#7201a8"
                          ],
                          [
                            0.3333333333333333,
                            "#9c179e"
                          ],
                          [
                            0.4444444444444444,
                            "#bd3786"
                          ],
                          [
                            0.5555555555555556,
                            "#d8576b"
                          ],
                          [
                            0.6666666666666666,
                            "#ed7953"
                          ],
                          [
                            0.7777777777777778,
                            "#fb9f3a"
                          ],
                          [
                            0.8888888888888888,
                            "#fdca26"
                          ],
                          [
                            1,
                            "#f0f921"
                          ]
                        ],
                        "type": "histogram2d"
                      }
                    ],
                    "histogram2dcontour": [
                      {
                        "colorbar": {
                          "outlinewidth": 0,
                          "ticks": ""
                        },
                        "colorscale": [
                          [
                            0,
                            "#0d0887"
                          ],
                          [
                            0.1111111111111111,
                            "#46039f"
                          ],
                          [
                            0.2222222222222222,
                            "#7201a8"
                          ],
                          [
                            0.3333333333333333,
                            "#9c179e"
                          ],
                          [
                            0.4444444444444444,
                            "#bd3786"
                          ],
                          [
                            0.5555555555555556,
                            "#d8576b"
                          ],
                          [
                            0.6666666666666666,
                            "#ed7953"
                          ],
                          [
                            0.7777777777777778,
                            "#fb9f3a"
                          ],
                          [
                            0.8888888888888888,
                            "#fdca26"
                          ],
                          [
                            1,
                            "#f0f921"
                          ]
                        ],
                        "type": "histogram2dcontour"
                      }
                    ],
                    "mesh3d": [
                      {
                        "colorbar": {
                          "outlinewidth": 0,
                          "ticks": ""
                        },
                        "type": "mesh3d"
                      }
                    ],
                    "parcoords": [
                      {
                        "line": {
                          "colorbar": {
                            "outlinewidth": 0,
                            "ticks": ""
                          }
                        },
                        "type": "parcoords"
                      }
                    ],
                    "pie": [
                      {
                        "automargin": true,
                        "type": "pie"
                      }
                    ],
                    "scatter": [
                      {
                        "marker": {
                          "line": {
                            "color": "#283442"
                          }
                        },
                        "type": "scatter"
                      }
                    ],
                    "scatter3d": [
                      {
                        "line": {
                          "colorbar": {
                            "outlinewidth": 0,
                            "ticks": ""
                          }
                        },
                        "marker": {
                          "colorbar": {
                            "outlinewidth": 0,
                            "ticks": ""
                          }
                        },
                        "type": "scatter3d"
                      }
                    ],
                    "scattercarpet": [
                      {
                        "marker": {
                          "colorbar": {
                            "outlinewidth": 0,
                            "ticks": ""
                          }
                        },
                        "type": "scattercarpet"
                      }
                    ],
                    "scattergeo": [
                      {
                        "marker": {
                          "colorbar": {
                            "outlinewidth": 0,
                            "ticks": ""
                          }
                        },
                        "type": "scattergeo"
                      }
                    ],
                    "scattergl": [
                      {
                        "marker": {
                          "line": {
                            "color": "#283442"
                          }
                        },
                        "type": "scattergl"
                      }
                    ],
                    "scattermapbox": [
                      {
                        "marker": {
                          "colorbar": {
                            "outlinewidth": 0,
                            "ticks": ""
                          }
                        },
                        "type": "scattermapbox"
                      }
                    ],
                    "scatterpolar": [
                      {
                        "marker": {
                          "colorbar": {
                            "outlinewidth": 0,
                            "ticks": ""
                          }
                        },
                        "type": "scatterpolar"
                      }
                    ],
                    "scatterpolargl": [
                      {
                        "marker": {
                          "colorbar": {
                            "outlinewidth": 0,
                            "ticks": ""
                          }
                        },
                        "type": "scatterpolargl"
                      }
                    ],
                    "scatterternary": [
                      {
                        "marker": {
                          "colorbar": {
                            "outlinewidth": 0,
                            "ticks": ""
                          }
                        },
                        "type": "scatterternary"
                      }
                    ],
                    "surface": [
                      {
                        "colorbar": {
                          "outlinewidth": 0,
                          "ticks": ""
                        },
                        "colorscale": [
                          [
                            0,
                            "#0d0887"
                          ],
                          [
                            0.1111111111111111,
                            "#46039f"
                          ],
                          [
                            0.2222222222222222,
                            "#7201a8"
                          ],
                          [
                            0.3333333333333333,
                            "#9c179e"
                          ],
                          [
                            0.4444444444444444,
                            "#bd3786"
                          ],
                          [
                            0.5555555555555556,
                            "#d8576b"
                          ],
                          [
                            0.6666666666666666,
                            "#ed7953"
                          ],
                          [
                            0.7777777777777778,
                            "#fb9f3a"
                          ],
                          [
                            0.8888888888888888,
                            "#fdca26"
                          ],
                          [
                            1,
                            "#f0f921"
                          ]
                        ],
                        "type": "surface"
                      }
                    ],
                    "table": [
                      {
                        "cells": {
                          "fill": {
                            "color": "#506784"
                          },
                          "line": {
                            "color": "rgb(17,17,17)"
                          }
                        },
                        "header": {
                          "fill": {
                            "color": "#2a3f5f"
                          },
                          "line": {
                            "color": "rgb(17,17,17)"
                          }
                        },
                        "type": "table"
                      }
                    ]
                  },
                  "layout": {
                    "annotationdefaults": {
                      "arrowcolor": "#f2f5fa",
                      "arrowhead": 0,
                      "arrowwidth": 1
                    },
                    "autotypenumbers": "strict",
                    "coloraxis": {
                      "colorbar": {
                        "outlinewidth": 0,
                        "ticks": ""
                      }
                    },
                    "colorscale": {
                      "diverging": [
                        [
                          0,
                          "#8e0152"
                        ],
                        [
                          0.1,
                          "#c51b7d"
                        ],
                        [
                          0.2,
                          "#de77ae"
                        ],
                        [
                          0.3,
                          "#f1b6da"
                        ],
                        [
                          0.4,
                          "#fde0ef"
                        ],
                        [
                          0.5,
                          "#f7f7f7"
                        ],
                        [
                          0.6,
                          "#e6f5d0"
                        ],
                        [
                          0.7,
                          "#b8e186"
                        ],
                        [
                          0.8,
                          "#7fbc41"
                        ],
                        [
                          0.9,
                          "#4d9221"
                        ],
                        [
                          1,
                          "#276419"
                        ]
                      ],
                      "sequential": [
                        [
                          0,
                          "#0d0887"
                        ],
                        [
                          0.1111111111111111,
                          "#46039f"
                        ],
                        [
                          0.2222222222222222,
                          "#7201a8"
                        ],
                        [
                          0.3333333333333333,
                          "#9c179e"
                        ],
                        [
                          0.4444444444444444,
                          "#bd3786"
                        ],
                        [
                          0.5555555555555556,
                          "#d8576b"
                        ],
                        [
                          0.6666666666666666,
                          "#ed7953"
                        ],
                        [
                          0.7777777777777778,
                          "#fb9f3a"
                        ],
                        [
                          0.8888888888888888,
                          "#fdca26"
                        ],
                        [
                          1,
                          "#f0f921"
                        ]
                      ],
                      "sequentialminus": [
                        [
                          0,
                          "#0d0887"
                        ],
                        [
                          0.1111111111111111,
                          "#46039f"
                        ],
                        [
                          0.2222222222222222,
                          "#7201a8"
                        ],
                        [
                          0.3333333333333333,
                          "#9c179e"
                        ],
                        [
                          0.4444444444444444,
                          "#bd3786"
                        ],
                        [
                          0.5555555555555556,
                          "#d8576b"
                        ],
                        [
                          0.6666666666666666,
                          "#ed7953"
                        ],
                        [
                          0.7777777777777778,
                          "#fb9f3a"
                        ],
                        [
                          0.8888888888888888,
                          "#fdca26"
                        ],
                        [
                          1,
                          "#f0f921"
                        ]
                      ]
                    },
                    "colorway": [
                      "#636efa",
                      "#EF553B",
                      "#00cc96",
                      "#ab63fa",
                      "#FFA15A",
                      "#19d3f3",
                      "#FF6692",
                      "#B6E880",
                      "#FF97FF",
                      "#FECB52"
                    ],
                    "font": {
                      "color": "#f2f5fa"
                    },
                    "geo": {
                      "bgcolor": "rgb(17,17,17)",
                      "lakecolor": "rgb(17,17,17)",
                      "landcolor": "rgb(17,17,17)",
                      "showlakes": true,
                      "showland": true,
                      "subunitcolor": "#506784"
                    },
                    "hoverlabel": {
                      "align": "left"
                    },
                    "hovermode": "closest",
                    "mapbox": {
                      "style": "dark"
                    },
                    "paper_bgcolor": "rgb(17,17,17)",
                    "plot_bgcolor": "rgb(17,17,17)",
                    "polar": {
                      "angularaxis": {
                        "gridcolor": "#506784",
                        "linecolor": "#506784",
                        "ticks": ""
                      },
                      "bgcolor": "rgb(17,17,17)",
                      "radialaxis": {
                        "gridcolor": "#506784",
                        "linecolor": "#506784",
                        "ticks": ""
                      }
                    },
                    "scene": {
                      "xaxis": {
                        "backgroundcolor": "rgb(17,17,17)",
                        "gridcolor": "#506784",
                        "gridwidth": 2,
                        "linecolor": "#506784",
                        "showbackground": true,
                        "ticks": "",
                        "zerolinecolor": "#C8D4E3"
                      },
                      "yaxis": {
                        "backgroundcolor": "rgb(17,17,17)",
                        "gridcolor": "#506784",
                        "gridwidth": 2,
                        "linecolor": "#506784",
                        "showbackground": true,
                        "ticks": "",
                        "zerolinecolor": "#C8D4E3"
                      },
                      "zaxis": {
                        "backgroundcolor": "rgb(17,17,17)",
                        "gridcolor": "#506784",
                        "gridwidth": 2,
                        "linecolor": "#506784",
                        "showbackground": true,
                        "ticks": "",
                        "zerolinecolor": "#C8D4E3"
                      }
                    },
                    "shapedefaults": {
                      "line": {
                        "color": "#f2f5fa"
                      }
                    },
                    "sliderdefaults": {
                      "bgcolor": "#C8D4E3",
                      "bordercolor": "rgb(17,17,17)",
                      "borderwidth": 1,
                      "tickwidth": 0
                    },
                    "ternary": {
                      "aaxis": {
                        "gridcolor": "#506784",
                        "linecolor": "#506784",
                        "ticks": ""
                      },
                      "baxis": {
                        "gridcolor": "#506784",
                        "linecolor": "#506784",
                        "ticks": ""
                      },
                      "bgcolor": "rgb(17,17,17)",
                      "caxis": {
                        "gridcolor": "#506784",
                        "linecolor": "#506784",
                        "ticks": ""
                      }
                    },
                    "title": {
                      "x": 0.05
                    },
                    "updatemenudefaults": {
                      "bgcolor": "#506784",
                      "borderwidth": 0
                    },
                    "xaxis": {
                      "automargin": true,
                      "gridcolor": "#283442",
                      "linecolor": "#506784",
                      "ticks": "",
                      "title": {
                        "standoff": 15
                      },
                      "zerolinecolor": "#283442",
                      "zerolinewidth": 2
                    },
                    "yaxis": {
                      "automargin": true,
                      "gridcolor": "#283442",
                      "linecolor": "#506784",
                      "ticks": "",
                      "title": {
                        "standoff": 15
                      },
                      "zerolinecolor": "#283442",
                      "zerolinewidth": 2
                    }
                  }
                },
                "width": 1080
              }
            },
            "text/html": [
              "<div>                            <div id=\"f1771315-37c9-4b2e-a2f2-6c59896c524f\" class=\"plotly-graph-div\" style=\"height:1080px; width:1080px;\"></div>            <script type=\"text/javascript\">                require([\"plotly\"], function(Plotly) {                    window.PLOTLYENV=window.PLOTLYENV || {};                                    if (document.getElementById(\"f1771315-37c9-4b2e-a2f2-6c59896c524f\")) {                    Plotly.newPlot(                        \"f1771315-37c9-4b2e-a2f2-6c59896c524f\",                        [{\"customdata\": [[6001, \"CA\", 0.04674025073552837], [6003, \"CA\", -0.024477634315911767], [6005, \"CA\", 0.016565785281936918], [6007, \"CA\", -0.05187489458988437], [6009, \"CA\", -0.07521691059348237], [6011, \"CA\", -0.04230271911249367], [6013, \"CA\", 0.0946948260030358], [6015, \"CA\", 0.23020444877536872], [6017, \"CA\", -0.0615070367108296], [6019, \"CA\", -0.1709574049435002], [6021, \"CA\", -0.05187489458988437], [6023, \"CA\", 0.1713247006352716], [6025, \"CA\", 0.27000356051946106], [6027, \"CA\", -0.16946573468508142], [6029, \"CA\", -0.22569195884789087], [6031, \"CA\", -0.18602027622135187], [6033, \"CA\", -0.006712516162884388], [6035, \"CA\", -0.12300657759121489], [6037, \"CA\", 0.013878530067649858], [6039, \"CA\", -0.058774806513876655], [6041, \"CA\", 0.20693739107621384], [6043, \"CA\", -0.0984764724621929], [6045, \"CA\", 0.14397991117440923], [6047, \"CA\", -0.11351685624871166], [6049, \"CA\", -0.12441579371474618], [6051, \"CA\", -0.1819200569683114], [6053, \"CA\", -0.09985195734872478], [6055, \"CA\", -0.012188220302456754], [6057, \"CA\", 0.005599385341903573], [6059, \"CA\", 0.005666847815902404], [6061, \"CA\", -0.050555628431684874], [6063, \"CA\", -0.046421677941644965], [6065, \"CA\", 0.4247699717032401], [6067, \"CA\", 0.07687348912167608], [6069, \"CA\", -0.14362385922830426], [6071, \"CA\", 0.29468358225736935], [6073, \"CA\", -0.01351873020632273], [6075, \"CA\", 0.22472124880535202], [6077, \"CA\", -0.07243970541386353], [6079, \"CA\", -0.0628975132582501], [6081, \"CA\", -0.013597436425988041], [6083, \"CA\", 0.0713453141689935], [6085, \"CA\", -0.008054269812416845], [6087, \"CA\", -0.0656334913704252], [6089, \"CA\", -0.03139253790079268], [6091, \"CA\", -0.03272679571988081], [6093, \"CA\", 0.22200026235406556], [6095, \"CA\", 0.053591439761632595], [6097, \"CA\", 0.15219908925660103], [6099, \"CA\", -0.09983321777261397], [6101, \"CA\", -0.0587185877855443], [6103, \"CA\", -0.05869610029421135], [6105, \"CA\", 0.10698798793171299], [6107, \"CA\", -0.17642561325262823], [6109, \"CA\", -0.10531641774263066], [6111, \"CA\", 0.027539681052414583], [6113, \"CA\", 0.031669883627232345], [6115, \"CA\", -0.017626445289807557]], \"geo\": \"geo\", \"hovertemplate\": \"<b>%{hovertext}</b><br><br>size_3=%{marker.size}<br>lat=%{lat}<br>lon=%{lon}<br>fips=%{customdata[0]}<br>State=%{customdata[1]}<br>pct_ch_3=%{marker.color}<extra></extra>\", \"hovertext\": [\"Alameda\", \"Alpine\", \"Amador\", \"Butte\", \"Calaveras\", \"Colusa\", \"Contra Costa\", \"Del Norte\", \"El Dorado\", \"Fresno\", \"Glenn\", \"Humboldt\", \"Imperial\", \"Inyo\", \"Kern\", \"Kings\", \"Lake\", \"Lassen\", \"Los Angeles\", \"Madera\", \"Marin\", \"Mariposa\", \"Mendocino\", \"Merced\", \"Modoc\", \"Mono\", \"Monterey\", \"Napa\", \"Nevada\", \"Orange\", \"Placer\", \"Plumas\", \"Riverside\", \"Sacramento\", \"San Benito\", \"San Bernardino\", \"San Diego\", \"San Francisco\", \"San Joaquin\", \"San Luis Obispo\", \"San Mateo\", \"Santa Barbara\", \"Santa Clara\", \"Santa Cruz\", \"Shasta\", \"Sierra\", \"Siskiyou\", \"Solano\", \"Sonoma\", \"Stanislaus\", \"Sutter\", \"Tehama\", \"Trinity\", \"Tulare\", \"Tuolumne\", \"Ventura\", \"Yolo\", \"Yuba\"], \"lat\": [37.648081, 38.61761, 38.44355, 39.665959, 38.187844, 39.177739, 37.919478999999995, 41.749903, 38.785532, 36.761006, 39.602546000000004, 40.706672999999995, 33.040816, 36.561977, 35.346629, 36.072478000000004, 39.094802, 40.721089, 34.196397999999995, 37.210039, 38.051817, 37.570034, 39.432388, 37.194806, 41.592919, 37.915836, 36.240107, 38.507351, 39.295190999999996, 33.675686999999996, 39.062032, 39.99517, 33.729828000000005, 38.450010999999996, 36.610702, 34.85722, 33.023604, 37.727239000000004, 37.935034, 35.385227, 37.414664, 34.537378000000004, 37.220777000000005, 37.012488, 40.760521999999995, 39.576925, 41.587986, 38.267226, 38.532574, 37.562384, 39.035257, 40.126156, 40.647724, 36.230453000000004, 38.021451, 34.358742, 38.679268, 39.270026], \"legendgroup\": \"\", \"lon\": [-121.91330400000001, -119.798999, -120.653856, -121.601919, -120.55511499999999, -122.237563, -121.95154299999999, -123.980998, -120.534398, -119.655019, -122.4017, -123.92581799999999, -115.355395, -117.403927, -118.729506, -119.81553000000001, -122.746757, -120.629931, -118.26186200000001, -119.749852, -122.745974, -119.91286000000001, -123.442881, -120.722802, -120.71837, -118.87516699999999, -121.315573, -122.32599499999999, -120.77344599999999, -117.777207, -120.722718, -120.829516, -116.00223899999999, -121.340441, -121.085296, -116.181197, -116.776117, -123.032229, -121.27223700000002, -120.44753999999999, -122.37154199999999, -120.03848500000001, -121.69062199999999, -122.007205, -122.04355, -120.521993, -122.53328700000002, -121.939594, -122.945194, -121.002656, -121.702758, -122.232276, -123.11440400000001, -118.780542, -119.964708, -119.13314299999999, -121.903178, -121.34428], \"marker\": {\"color\": [0.04674025073552837, -0.024477634315911767, 0.016565785281936918, -0.05187489458988437, -0.07521691059348237, -0.04230271911249367, 0.0946948260030358, 0.23020444877536872, -0.0615070367108296, -0.1709574049435002, -0.05187489458988437, 0.1713247006352716, 0.27000356051946106, -0.16946573468508142, -0.22569195884789087, -0.18602027622135187, -0.006712516162884388, -0.12300657759121489, 0.013878530067649858, -0.058774806513876655, 0.20693739107621384, -0.0984764724621929, 0.14397991117440923, -0.11351685624871166, -0.12441579371474618, -0.1819200569683114, -0.09985195734872478, -0.012188220302456754, 0.005599385341903573, 0.005666847815902404, -0.050555628431684874, -0.046421677941644965, 0.4247699717032401, 0.07687348912167608, -0.14362385922830426, 0.29468358225736935, -0.01351873020632273, 0.22472124880535202, -0.07243970541386353, -0.0628975132582501, -0.013597436425988041, 0.0713453141689935, -0.008054269812416845, -0.0656334913704252, -0.03139253790079268, -0.03272679571988081, 0.22200026235406556, 0.053591439761632595, 0.15219908925660103, -0.09983321777261397, -0.0587185877855443, -0.05869610029421135, 0.10698798793171299, -0.17642561325262823, -0.10531641774263066, 0.027539681052414583, 0.031669883627232345, -0.017626445289807557], \"coloraxis\": \"coloraxis\", \"opacity\": 1, \"size\": [0.04674025073552837, 0.024477634315911767, 0.016565785281936918, 0.05187489458988437, 0.07521691059348237, 0.04230271911249367, 0.0946948260030358, 0.23020444877536872, 0.0615070367108296, 0.1709574049435002, 0.05187489458988437, 0.1713247006352716, 0.27000356051946106, 0.16946573468508142, 0.22569195884789087, 0.18602027622135187, 0.006712516162884388, 0.12300657759121489, 0.013878530067649858, 0.058774806513876655, 0.20693739107621384, 0.0984764724621929, 0.14397991117440923, 0.11351685624871166, 0.12441579371474618, 0.1819200569683114, 0.09985195734872478, 0.012188220302456754, 0.005599385341903573, 0.005666847815902404, 0.050555628431684874, 0.046421677941644965, 0.4247699717032401, 0.07687348912167608, 0.14362385922830426, 0.29468358225736935, 0.01351873020632273, 0.22472124880535202, 0.07243970541386353, 0.0628975132582501, 0.013597436425988041, 0.0713453141689935, 0.008054269812416845, 0.0656334913704252, 0.03139253790079268, 0.03272679571988081, 0.22200026235406556, 0.053591439761632595, 0.15219908925660103, 0.09983321777261397, 0.0587185877855443, 0.05869610029421135, 0.10698798793171299, 0.17642561325262823, 0.10531641774263066, 0.027539681052414583, 0.031669883627232345, 0.017626445289807557], \"sizemode\": \"area\", \"sizeref\": 0.0010619249292581003, \"symbol\": \"circle\"}, \"mode\": \"markers\", \"name\": \"\", \"showlegend\": false, \"type\": \"scattergeo\"}],                        {\"coloraxis\": {\"colorbar\": {\"title\": {\"text\": \"pct_ch_3\"}}, \"colorscale\": [[0.0, \"green\"], [0.5, \"orange\"], [1.0, \"yellow\"]]}, \"geo\": {\"center\": {\"lat\": 37.83800610344828, \"lon\": -120.74952093103452}, \"domain\": {\"x\": [0.0, 1.0], \"y\": [0.0, 1.0]}, \"lataxis\": {\"range\": [42.749903, 31.023604]}, \"lonaxis\": {\"range\": [-114.355395, -125.980998]}, \"resolution\": 50, \"scope\": \"usa\", \"showsubunits\": true, \"subunitcolor\": \"white\", \"subunitwidth\": 1.5}, \"height\": 1080, \"legend\": {\"itemsizing\": \"constant\", \"tracegroupgap\": 0}, \"margin\": {\"t\": 60}, \"template\": {\"data\": {\"bar\": [{\"error_x\": {\"color\": \"#f2f5fa\"}, \"error_y\": {\"color\": \"#f2f5fa\"}, \"marker\": {\"line\": {\"color\": \"rgb(17,17,17)\", \"width\": 0.5}}, \"type\": \"bar\"}], \"barpolar\": [{\"marker\": {\"line\": {\"color\": \"rgb(17,17,17)\", \"width\": 0.5}}, \"type\": \"barpolar\"}], \"carpet\": [{\"aaxis\": {\"endlinecolor\": \"#A2B1C6\", \"gridcolor\": \"#506784\", \"linecolor\": \"#506784\", \"minorgridcolor\": \"#506784\", \"startlinecolor\": \"#A2B1C6\"}, \"baxis\": {\"endlinecolor\": \"#A2B1C6\", \"gridcolor\": \"#506784\", \"linecolor\": \"#506784\", \"minorgridcolor\": \"#506784\", \"startlinecolor\": \"#A2B1C6\"}, \"type\": \"carpet\"}], \"choropleth\": [{\"colorbar\": {\"outlinewidth\": 0, \"ticks\": \"\"}, \"type\": \"choropleth\"}], \"contour\": [{\"colorbar\": {\"outlinewidth\": 0, \"ticks\": \"\"}, \"colorscale\": [[0.0, \"#0d0887\"], [0.1111111111111111, \"#46039f\"], [0.2222222222222222, \"#7201a8\"], [0.3333333333333333, \"#9c179e\"], [0.4444444444444444, \"#bd3786\"], [0.5555555555555556, \"#d8576b\"], [0.6666666666666666, \"#ed7953\"], [0.7777777777777778, \"#fb9f3a\"], [0.8888888888888888, \"#fdca26\"], [1.0, \"#f0f921\"]], \"type\": \"contour\"}], \"contourcarpet\": [{\"colorbar\": {\"outlinewidth\": 0, \"ticks\": \"\"}, \"type\": \"contourcarpet\"}], \"heatmap\": [{\"colorbar\": {\"outlinewidth\": 0, \"ticks\": \"\"}, \"colorscale\": [[0.0, \"#0d0887\"], [0.1111111111111111, \"#46039f\"], [0.2222222222222222, \"#7201a8\"], [0.3333333333333333, \"#9c179e\"], [0.4444444444444444, \"#bd3786\"], [0.5555555555555556, \"#d8576b\"], [0.6666666666666666, \"#ed7953\"], [0.7777777777777778, \"#fb9f3a\"], [0.8888888888888888, \"#fdca26\"], [1.0, \"#f0f921\"]], \"type\": \"heatmap\"}], \"heatmapgl\": [{\"colorbar\": {\"outlinewidth\": 0, \"ticks\": \"\"}, \"colorscale\": [[0.0, \"#0d0887\"], [0.1111111111111111, \"#46039f\"], [0.2222222222222222, \"#7201a8\"], [0.3333333333333333, \"#9c179e\"], [0.4444444444444444, \"#bd3786\"], [0.5555555555555556, \"#d8576b\"], [0.6666666666666666, \"#ed7953\"], [0.7777777777777778, \"#fb9f3a\"], [0.8888888888888888, \"#fdca26\"], [1.0, \"#f0f921\"]], \"type\": \"heatmapgl\"}], \"histogram\": [{\"marker\": {\"colorbar\": {\"outlinewidth\": 0, \"ticks\": \"\"}}, \"type\": \"histogram\"}], \"histogram2d\": [{\"colorbar\": {\"outlinewidth\": 0, \"ticks\": \"\"}, \"colorscale\": [[0.0, \"#0d0887\"], [0.1111111111111111, \"#46039f\"], [0.2222222222222222, \"#7201a8\"], [0.3333333333333333, \"#9c179e\"], [0.4444444444444444, \"#bd3786\"], [0.5555555555555556, \"#d8576b\"], [0.6666666666666666, \"#ed7953\"], [0.7777777777777778, \"#fb9f3a\"], [0.8888888888888888, \"#fdca26\"], [1.0, \"#f0f921\"]], \"type\": \"histogram2d\"}], \"histogram2dcontour\": [{\"colorbar\": {\"outlinewidth\": 0, \"ticks\": \"\"}, \"colorscale\": [[0.0, \"#0d0887\"], [0.1111111111111111, \"#46039f\"], [0.2222222222222222, \"#7201a8\"], [0.3333333333333333, \"#9c179e\"], [0.4444444444444444, \"#bd3786\"], [0.5555555555555556, \"#d8576b\"], [0.6666666666666666, \"#ed7953\"], [0.7777777777777778, \"#fb9f3a\"], [0.8888888888888888, \"#fdca26\"], [1.0, \"#f0f921\"]], \"type\": \"histogram2dcontour\"}], \"mesh3d\": [{\"colorbar\": {\"outlinewidth\": 0, \"ticks\": \"\"}, \"type\": \"mesh3d\"}], \"parcoords\": [{\"line\": {\"colorbar\": {\"outlinewidth\": 0, \"ticks\": \"\"}}, \"type\": \"parcoords\"}], \"pie\": [{\"automargin\": true, \"type\": \"pie\"}], \"scatter\": [{\"marker\": {\"line\": {\"color\": \"#283442\"}}, \"type\": \"scatter\"}], \"scatter3d\": [{\"line\": {\"colorbar\": {\"outlinewidth\": 0, \"ticks\": \"\"}}, \"marker\": {\"colorbar\": {\"outlinewidth\": 0, \"ticks\": \"\"}}, \"type\": \"scatter3d\"}], \"scattercarpet\": [{\"marker\": {\"colorbar\": {\"outlinewidth\": 0, \"ticks\": \"\"}}, \"type\": \"scattercarpet\"}], \"scattergeo\": [{\"marker\": {\"colorbar\": {\"outlinewidth\": 0, \"ticks\": \"\"}}, \"type\": \"scattergeo\"}], \"scattergl\": [{\"marker\": {\"line\": {\"color\": \"#283442\"}}, \"type\": \"scattergl\"}], \"scattermapbox\": [{\"marker\": {\"colorbar\": {\"outlinewidth\": 0, \"ticks\": \"\"}}, \"type\": \"scattermapbox\"}], \"scatterpolar\": [{\"marker\": {\"colorbar\": {\"outlinewidth\": 0, \"ticks\": \"\"}}, \"type\": \"scatterpolar\"}], \"scatterpolargl\": [{\"marker\": {\"colorbar\": {\"outlinewidth\": 0, \"ticks\": \"\"}}, \"type\": \"scatterpolargl\"}], \"scatterternary\": [{\"marker\": {\"colorbar\": {\"outlinewidth\": 0, \"ticks\": \"\"}}, \"type\": \"scatterternary\"}], \"surface\": [{\"colorbar\": {\"outlinewidth\": 0, \"ticks\": \"\"}, \"colorscale\": [[0.0, \"#0d0887\"], [0.1111111111111111, \"#46039f\"], [0.2222222222222222, \"#7201a8\"], [0.3333333333333333, \"#9c179e\"], [0.4444444444444444, \"#bd3786\"], [0.5555555555555556, \"#d8576b\"], [0.6666666666666666, \"#ed7953\"], [0.7777777777777778, \"#fb9f3a\"], [0.8888888888888888, \"#fdca26\"], [1.0, \"#f0f921\"]], \"type\": \"surface\"}], \"table\": [{\"cells\": {\"fill\": {\"color\": \"#506784\"}, \"line\": {\"color\": \"rgb(17,17,17)\"}}, \"header\": {\"fill\": {\"color\": \"#2a3f5f\"}, \"line\": {\"color\": \"rgb(17,17,17)\"}}, \"type\": \"table\"}]}, \"layout\": {\"annotationdefaults\": {\"arrowcolor\": \"#f2f5fa\", \"arrowhead\": 0, \"arrowwidth\": 1}, \"autotypenumbers\": \"strict\", \"coloraxis\": {\"colorbar\": {\"outlinewidth\": 0, \"ticks\": \"\"}}, \"colorscale\": {\"diverging\": [[0, \"#8e0152\"], [0.1, \"#c51b7d\"], [0.2, \"#de77ae\"], [0.3, \"#f1b6da\"], [0.4, \"#fde0ef\"], [0.5, \"#f7f7f7\"], [0.6, \"#e6f5d0\"], [0.7, \"#b8e186\"], [0.8, \"#7fbc41\"], [0.9, \"#4d9221\"], [1, \"#276419\"]], \"sequential\": [[0.0, \"#0d0887\"], [0.1111111111111111, \"#46039f\"], [0.2222222222222222, \"#7201a8\"], [0.3333333333333333, \"#9c179e\"], [0.4444444444444444, \"#bd3786\"], [0.5555555555555556, \"#d8576b\"], [0.6666666666666666, \"#ed7953\"], [0.7777777777777778, \"#fb9f3a\"], [0.8888888888888888, \"#fdca26\"], [1.0, \"#f0f921\"]], \"sequentialminus\": [[0.0, \"#0d0887\"], [0.1111111111111111, \"#46039f\"], [0.2222222222222222, \"#7201a8\"], [0.3333333333333333, \"#9c179e\"], [0.4444444444444444, \"#bd3786\"], [0.5555555555555556, \"#d8576b\"], [0.6666666666666666, \"#ed7953\"], [0.7777777777777778, \"#fb9f3a\"], [0.8888888888888888, \"#fdca26\"], [1.0, \"#f0f921\"]]}, \"colorway\": [\"#636efa\", \"#EF553B\", \"#00cc96\", \"#ab63fa\", \"#FFA15A\", \"#19d3f3\", \"#FF6692\", \"#B6E880\", \"#FF97FF\", \"#FECB52\"], \"font\": {\"color\": \"#f2f5fa\"}, \"geo\": {\"bgcolor\": \"rgb(17,17,17)\", \"lakecolor\": \"rgb(17,17,17)\", \"landcolor\": \"rgb(17,17,17)\", \"showlakes\": true, \"showland\": true, \"subunitcolor\": \"#506784\"}, \"hoverlabel\": {\"align\": \"left\"}, \"hovermode\": \"closest\", \"mapbox\": {\"style\": \"dark\"}, \"paper_bgcolor\": \"rgb(17,17,17)\", \"plot_bgcolor\": \"rgb(17,17,17)\", \"polar\": {\"angularaxis\": {\"gridcolor\": \"#506784\", \"linecolor\": \"#506784\", \"ticks\": \"\"}, \"bgcolor\": \"rgb(17,17,17)\", \"radialaxis\": {\"gridcolor\": \"#506784\", \"linecolor\": \"#506784\", \"ticks\": \"\"}}, \"scene\": {\"xaxis\": {\"backgroundcolor\": \"rgb(17,17,17)\", \"gridcolor\": \"#506784\", \"gridwidth\": 2, \"linecolor\": \"#506784\", \"showbackground\": true, \"ticks\": \"\", \"zerolinecolor\": \"#C8D4E3\"}, \"yaxis\": {\"backgroundcolor\": \"rgb(17,17,17)\", \"gridcolor\": \"#506784\", \"gridwidth\": 2, \"linecolor\": \"#506784\", \"showbackground\": true, \"ticks\": \"\", \"zerolinecolor\": \"#C8D4E3\"}, \"zaxis\": {\"backgroundcolor\": \"rgb(17,17,17)\", \"gridcolor\": \"#506784\", \"gridwidth\": 2, \"linecolor\": \"#506784\", \"showbackground\": true, \"ticks\": \"\", \"zerolinecolor\": \"#C8D4E3\"}}, \"shapedefaults\": {\"line\": {\"color\": \"#f2f5fa\"}}, \"sliderdefaults\": {\"bgcolor\": \"#C8D4E3\", \"bordercolor\": \"rgb(17,17,17)\", \"borderwidth\": 1, \"tickwidth\": 0}, \"ternary\": {\"aaxis\": {\"gridcolor\": \"#506784\", \"linecolor\": \"#506784\", \"ticks\": \"\"}, \"baxis\": {\"gridcolor\": \"#506784\", \"linecolor\": \"#506784\", \"ticks\": \"\"}, \"bgcolor\": \"rgb(17,17,17)\", \"caxis\": {\"gridcolor\": \"#506784\", \"linecolor\": \"#506784\", \"ticks\": \"\"}}, \"title\": {\"x\": 0.05}, \"updatemenudefaults\": {\"bgcolor\": \"#506784\", \"borderwidth\": 0}, \"xaxis\": {\"automargin\": true, \"gridcolor\": \"#283442\", \"linecolor\": \"#506784\", \"ticks\": \"\", \"title\": {\"standoff\": 15}, \"zerolinecolor\": \"#283442\", \"zerolinewidth\": 2}, \"yaxis\": {\"automargin\": true, \"gridcolor\": \"#283442\", \"linecolor\": \"#506784\", \"ticks\": \"\", \"title\": {\"standoff\": 15}, \"zerolinecolor\": \"#283442\", \"zerolinewidth\": 2}}}, \"width\": 1080},                        {\"responsive\": true}                    ).then(function(){\n",
              "                            \n",
              "var gd = document.getElementById('f1771315-37c9-4b2e-a2f2-6c59896c524f');\n",
              "var x = new MutationObserver(function (mutations, observer) {{\n",
              "        var display = window.getComputedStyle(gd).display;\n",
              "        if (!display || display === 'none') {{\n",
              "            console.log([gd, 'removed!']);\n",
              "            Plotly.purge(gd);\n",
              "            observer.disconnect();\n",
              "        }}\n",
              "}});\n",
              "\n",
              "// Listen for the removal of the full notebook cells\n",
              "var notebookContainer = gd.closest('#notebook-container');\n",
              "if (notebookContainer) {{\n",
              "    x.observe(notebookContainer, {childList: true});\n",
              "}}\n",
              "\n",
              "// Listen for the clearing of the current output cell\n",
              "var outputEl = gd.closest('.output');\n",
              "if (outputEl) {{\n",
              "    x.observe(outputEl, {childList: true});\n",
              "}}\n",
              "\n",
              "                        })                };                });            </script>        </div>"
            ]
          },
          "metadata": {},
          "output_type": "display_data"
        }
      ],
      "source": [
        "# plot 3\n",
        "fig3 = px.scatter_geo(final_df_fips, lat = \"lat\" , lon = \"lon\",hover_name='Name',height=1080,width=1080,opacity=1,center={'lat':lat1,'lon':lon1},template=\"plotly_dark\",color_continuous_scale = [[0.0,'green' ],[0.5,'orange'], [1.0, 'yellow']], scope = 'usa',hover_data = ['fips','State','pct_ch_3'],color='pct_ch_3',size='size_3')\n",
        "fig3.update_geos(\n",
        "    resolution=50,\n",
        "#     showland=True, landcolor=\"pink\",\n",
        "    showsubunits=True, subunitcolor=\"white\", subunitwidth =1.5,\n",
        "    lonaxis_range=[lonr1,lonr2],lataxis_range=[latr1,latr2]\n",
        "    )\n",
        "fig3.show()"
      ]
    },
    {
      "cell_type": "code",
      "execution_count": null,
      "metadata": {
        "id": "0pNUuacncRaK",
        "outputId": "2dc29e76-ddd4-4ba1-bce5-7c0d17ad846e"
      },
      "outputs": [
        {
          "data": {
            "application/vnd.plotly.v1+json": {
              "config": {
                "plotlyServerURL": "https://plot.ly"
              },
              "data": [
                {
                  "customdata": [
                    [
                      6001,
                      "CA",
                      0.19452054794520549
                    ],
                    [
                      6003,
                      "CA",
                      0.08085002717238536
                    ],
                    [
                      6005,
                      "CA",
                      0.08083503551149673
                    ],
                    [
                      6007,
                      "CA",
                      0.12878211494855987
                    ],
                    [
                      6009,
                      "CA",
                      0.16850626838820904
                    ],
                    [
                      6011,
                      "CA",
                      0.2986413807319679
                    ],
                    [
                      6013,
                      "CA",
                      0.21643835616438356
                    ],
                    [
                      6015,
                      "CA",
                      -0.02461630717913161
                    ],
                    [
                      6017,
                      "CA",
                      0.06851938609148661
                    ],
                    [
                      6019,
                      "CA",
                      0.012341884826565223
                    ],
                    [
                      6021,
                      "CA",
                      0.2972733916758803
                    ],
                    [
                      6023,
                      "CA",
                      0.09315068493150686
                    ],
                    [
                      6025,
                      "CA",
                      -0.006720011993328709
                    ],
                    [
                      6027,
                      "CA",
                      0.31235500252984283
                    ],
                    [
                      6029,
                      "CA",
                      -0.0068099619586604945
                    ],
                    [
                      6031,
                      "CA",
                      -0.015029140040852276
                    ],
                    [
                      6033,
                      "CA",
                      0.26165320540449377
                    ],
                    [
                      6035,
                      "CA",
                      0.04527481588366471
                    ],
                    [
                      6037,
                      "CA",
                      0.012409347300564061
                    ],
                    [
                      6039,
                      "CA",
                      0.11645147386766112
                    ],
                    [
                      6041,
                      "CA",
                      0.12876712328767123
                    ],
                    [
                      6043,
                      "CA",
                      0.11371174784026385
                    ],
                    [
                      6045,
                      "CA",
                      0.09315818076195116
                    ],
                    [
                      6047,
                      "CA",
                      0.10549256975807207
                    ],
                    [
                      6049,
                      "CA",
                      0.24114086539362478
                    ],
                    [
                      6051,
                      "CA",
                      0.25205479452054796
                    ],
                    [
                      6053,
                      "CA",
                      0.27945205479452057
                    ],
                    [
                      6055,
                      "CA",
                      0.26438918351666885
                    ],
                    [
                      6057,
                      "CA",
                      0.06305117778235857
                    ],
                    [
                      6059,
                      "CA",
                      0.024728744635796343
                    ],
                    [
                      6061,
                      "CA",
                      0.07127035586455034
                    ],
                    [
                      6063,
                      "CA",
                      0.1082622791072466
                    ],
                    [
                      6065,
                      "CA",
                      -0.08481532147742818
                    ],
                    [
                      6067,
                      "CA",
                      0.0972733916758803
                    ],
                    [
                      6069,
                      "CA",
                      0.010958904109589041
                    ],
                    [
                      6071,
                      "CA",
                      -0.09164402301219947
                    ],
                    [
                      6073,
                      "CA",
                      0.35624308978130914
                    ],
                    [
                      6075,
                      "CA",
                      0.049315068493150684
                    ],
                    [
                      6077,
                      "CA",
                      0.15754736427862004
                    ],
                    [
                      6079,
                      "CA",
                      -0.057433052864344206
                    ],
                    [
                      6081,
                      "CA",
                      0.17534246575342466
                    ],
                    [
                      6083,
                      "CA",
                      -0.05195360080954969
                    ],
                    [
                      6085,
                      "CA",
                      0.19452054794520549
                    ],
                    [
                      6087,
                      "CA",
                      0.17534246575342466
                    ],
                    [
                      6089,
                      "CA",
                      0.23154245450967897
                    ],
                    [
                      6091,
                      "CA",
                      0.10964151190900062
                    ],
                    [
                      6093,
                      "CA",
                      0.124696887356408
                    ],
                    [
                      6095,
                      "CA",
                      0.29315068493150687
                    ],
                    [
                      6097,
                      "CA",
                      0.08767123287671233
                    ],
                    [
                      6099,
                      "CA",
                      0.15754736427862004
                    ],
                    [
                      6101,
                      "CA",
                      0.12329891497854317
                    ],
                    [
                      6103,
                      "CA",
                      0.283574761538894
                    ],
                    [
                      6105,
                      "CA",
                      0.13972602739726028
                    ],
                    [
                      6107,
                      "CA",
                      0.015081610853962483
                    ],
                    [
                      6109,
                      "CA",
                      0.15754736427862004
                    ],
                    [
                      6111,
                      "CA",
                      0.03568764874538538
                    ],
                    [
                      6113,
                      "CA",
                      0.13425781908813222
                    ],
                    [
                      6115,
                      "CA",
                      0.08494275059498155
                    ]
                  ],
                  "geo": "geo",
                  "hovertemplate": "<b>%{hovertext}</b><br><br>size_4=%{marker.size}<br>lat=%{lat}<br>lon=%{lon}<br>fips=%{customdata[0]}<br>State=%{customdata[1]}<br>pct_ch_4=%{marker.color}<extra></extra>",
                  "hovertext": [
                    "Alameda",
                    "Alpine",
                    "Amador",
                    "Butte",
                    "Calaveras",
                    "Colusa",
                    "Contra Costa",
                    "Del Norte",
                    "El Dorado",
                    "Fresno",
                    "Glenn",
                    "Humboldt",
                    "Imperial",
                    "Inyo",
                    "Kern",
                    "Kings",
                    "Lake",
                    "Lassen",
                    "Los Angeles",
                    "Madera",
                    "Marin",
                    "Mariposa",
                    "Mendocino",
                    "Merced",
                    "Modoc",
                    "Mono",
                    "Monterey",
                    "Napa",
                    "Nevada",
                    "Orange",
                    "Placer",
                    "Plumas",
                    "Riverside",
                    "Sacramento",
                    "San Benito",
                    "San Bernardino",
                    "San Diego",
                    "San Francisco",
                    "San Joaquin",
                    "San Luis Obispo",
                    "San Mateo",
                    "Santa Barbara",
                    "Santa Clara",
                    "Santa Cruz",
                    "Shasta",
                    "Sierra",
                    "Siskiyou",
                    "Solano",
                    "Sonoma",
                    "Stanislaus",
                    "Sutter",
                    "Tehama",
                    "Trinity",
                    "Tulare",
                    "Tuolumne",
                    "Ventura",
                    "Yolo",
                    "Yuba"
                  ],
                  "lat": [
                    37.648081,
                    38.61761,
                    38.44355,
                    39.665959,
                    38.187844,
                    39.177739,
                    37.919478999999995,
                    41.749903,
                    38.785532,
                    36.761006,
                    39.602546000000004,
                    40.706672999999995,
                    33.040816,
                    36.561977,
                    35.346629,
                    36.072478000000004,
                    39.094802,
                    40.721089,
                    34.196397999999995,
                    37.210039,
                    38.051817,
                    37.570034,
                    39.432388,
                    37.194806,
                    41.592919,
                    37.915836,
                    36.240107,
                    38.507351,
                    39.295190999999996,
                    33.675686999999996,
                    39.062032,
                    39.99517,
                    33.729828000000005,
                    38.450010999999996,
                    36.610702,
                    34.85722,
                    33.023604,
                    37.727239000000004,
                    37.935034,
                    35.385227,
                    37.414664,
                    34.537378000000004,
                    37.220777000000005,
                    37.012488,
                    40.760521999999995,
                    39.576925,
                    41.587986,
                    38.267226,
                    38.532574,
                    37.562384,
                    39.035257,
                    40.126156,
                    40.647724,
                    36.230453000000004,
                    38.021451,
                    34.358742,
                    38.679268,
                    39.270026
                  ],
                  "legendgroup": "",
                  "lon": [
                    -121.91330400000001,
                    -119.798999,
                    -120.653856,
                    -121.601919,
                    -120.55511499999999,
                    -122.237563,
                    -121.95154299999999,
                    -123.980998,
                    -120.534398,
                    -119.655019,
                    -122.4017,
                    -123.92581799999999,
                    -115.355395,
                    -117.403927,
                    -118.729506,
                    -119.81553000000001,
                    -122.746757,
                    -120.629931,
                    -118.26186200000001,
                    -119.749852,
                    -122.745974,
                    -119.91286000000001,
                    -123.442881,
                    -120.722802,
                    -120.71837,
                    -118.87516699999999,
                    -121.315573,
                    -122.32599499999999,
                    -120.77344599999999,
                    -117.777207,
                    -120.722718,
                    -120.829516,
                    -116.00223899999999,
                    -121.340441,
                    -121.085296,
                    -116.181197,
                    -116.776117,
                    -123.032229,
                    -121.27223700000002,
                    -120.44753999999999,
                    -122.37154199999999,
                    -120.03848500000001,
                    -121.69062199999999,
                    -122.007205,
                    -122.04355,
                    -120.521993,
                    -122.53328700000002,
                    -121.939594,
                    -122.945194,
                    -121.002656,
                    -121.702758,
                    -122.232276,
                    -123.11440400000001,
                    -118.780542,
                    -119.964708,
                    -119.13314299999999,
                    -121.903178,
                    -121.34428
                  ],
                  "marker": {
                    "color": [
                      0.19452054794520549,
                      0.08085002717238536,
                      0.08083503551149673,
                      0.12878211494855987,
                      0.16850626838820904,
                      0.2986413807319679,
                      0.21643835616438356,
                      -0.02461630717913161,
                      0.06851938609148661,
                      0.012341884826565223,
                      0.2972733916758803,
                      0.09315068493150686,
                      -0.006720011993328709,
                      0.31235500252984283,
                      -0.0068099619586604945,
                      -0.015029140040852276,
                      0.26165320540449377,
                      0.04527481588366471,
                      0.012409347300564061,
                      0.11645147386766112,
                      0.12876712328767123,
                      0.11371174784026385,
                      0.09315818076195116,
                      0.10549256975807207,
                      0.24114086539362478,
                      0.25205479452054796,
                      0.27945205479452057,
                      0.26438918351666885,
                      0.06305117778235857,
                      0.024728744635796343,
                      0.07127035586455034,
                      0.1082622791072466,
                      -0.08481532147742818,
                      0.0972733916758803,
                      0.010958904109589041,
                      -0.09164402301219947,
                      0.35624308978130914,
                      0.049315068493150684,
                      0.15754736427862004,
                      -0.057433052864344206,
                      0.17534246575342466,
                      -0.05195360080954969,
                      0.19452054794520549,
                      0.17534246575342466,
                      0.23154245450967897,
                      0.10964151190900062,
                      0.124696887356408,
                      0.29315068493150687,
                      0.08767123287671233,
                      0.15754736427862004,
                      0.12329891497854317,
                      0.283574761538894,
                      0.13972602739726028,
                      0.015081610853962483,
                      0.15754736427862004,
                      0.03568764874538538,
                      0.13425781908813222,
                      0.08494275059498155
                    ],
                    "coloraxis": "coloraxis",
                    "opacity": 1,
                    "size": [
                      0.19452054794520549,
                      0.08085002717238536,
                      0.08083503551149673,
                      0.12878211494855987,
                      0.16850626838820904,
                      0.2986413807319679,
                      0.21643835616438356,
                      0.02461630717913161,
                      0.06851938609148661,
                      0.012341884826565223,
                      0.2972733916758803,
                      0.09315068493150686,
                      0.006720011993328709,
                      0.31235500252984283,
                      0.0068099619586604945,
                      0.015029140040852276,
                      0.26165320540449377,
                      0.04527481588366471,
                      0.012409347300564061,
                      0.11645147386766112,
                      0.12876712328767123,
                      0.11371174784026385,
                      0.09315818076195116,
                      0.10549256975807207,
                      0.24114086539362478,
                      0.25205479452054796,
                      0.27945205479452057,
                      0.26438918351666885,
                      0.06305117778235857,
                      0.024728744635796343,
                      0.07127035586455034,
                      0.1082622791072466,
                      0.08481532147742818,
                      0.0972733916758803,
                      0.010958904109589041,
                      0.09164402301219947,
                      0.35624308978130914,
                      0.049315068493150684,
                      0.15754736427862004,
                      0.057433052864344206,
                      0.17534246575342466,
                      0.05195360080954969,
                      0.19452054794520549,
                      0.17534246575342466,
                      0.23154245450967897,
                      0.10964151190900062,
                      0.124696887356408,
                      0.29315068493150687,
                      0.08767123287671233,
                      0.15754736427862004,
                      0.12329891497854317,
                      0.283574761538894,
                      0.13972602739726028,
                      0.015081610853962483,
                      0.15754736427862004,
                      0.03568764874538538,
                      0.13425781908813222,
                      0.08494275059498155
                    ],
                    "sizemode": "area",
                    "sizeref": 0.0008906077244532728,
                    "symbol": "circle"
                  },
                  "mode": "markers",
                  "name": "",
                  "showlegend": false,
                  "type": "scattergeo"
                }
              ],
              "layout": {
                "coloraxis": {
                  "colorbar": {
                    "title": {
                      "text": "pct_ch_4"
                    }
                  },
                  "colorscale": [
                    [
                      0,
                      "rgb(255,255,204)"
                    ],
                    [
                      0.125,
                      "rgb(255,237,160)"
                    ],
                    [
                      0.25,
                      "rgb(254,217,118)"
                    ],
                    [
                      0.375,
                      "rgb(254,178,76)"
                    ],
                    [
                      0.5,
                      "rgb(253,141,60)"
                    ],
                    [
                      0.625,
                      "rgb(252,78,42)"
                    ],
                    [
                      0.75,
                      "rgb(227,26,28)"
                    ],
                    [
                      0.875,
                      "rgb(189,0,38)"
                    ],
                    [
                      1,
                      "rgb(128,0,38)"
                    ]
                  ]
                },
                "geo": {
                  "center": {
                    "lat": 37.83800610344828,
                    "lon": -120.74952093103452
                  },
                  "domain": {
                    "x": [
                      0,
                      1
                    ],
                    "y": [
                      0,
                      1
                    ]
                  },
                  "lataxis": {
                    "range": [
                      42.749903,
                      31.023604
                    ]
                  },
                  "lonaxis": {
                    "range": [
                      -114.355395,
                      -125.980998
                    ]
                  },
                  "resolution": 50,
                  "scope": "usa",
                  "showsubunits": true,
                  "subunitcolor": "white",
                  "subunitwidth": 1.5
                },
                "height": 1080,
                "legend": {
                  "itemsizing": "constant",
                  "tracegroupgap": 0
                },
                "margin": {
                  "t": 60
                },
                "template": {
                  "data": {
                    "bar": [
                      {
                        "error_x": {
                          "color": "#f2f5fa"
                        },
                        "error_y": {
                          "color": "#f2f5fa"
                        },
                        "marker": {
                          "line": {
                            "color": "rgb(17,17,17)",
                            "width": 0.5
                          }
                        },
                        "type": "bar"
                      }
                    ],
                    "barpolar": [
                      {
                        "marker": {
                          "line": {
                            "color": "rgb(17,17,17)",
                            "width": 0.5
                          }
                        },
                        "type": "barpolar"
                      }
                    ],
                    "carpet": [
                      {
                        "aaxis": {
                          "endlinecolor": "#A2B1C6",
                          "gridcolor": "#506784",
                          "linecolor": "#506784",
                          "minorgridcolor": "#506784",
                          "startlinecolor": "#A2B1C6"
                        },
                        "baxis": {
                          "endlinecolor": "#A2B1C6",
                          "gridcolor": "#506784",
                          "linecolor": "#506784",
                          "minorgridcolor": "#506784",
                          "startlinecolor": "#A2B1C6"
                        },
                        "type": "carpet"
                      }
                    ],
                    "choropleth": [
                      {
                        "colorbar": {
                          "outlinewidth": 0,
                          "ticks": ""
                        },
                        "type": "choropleth"
                      }
                    ],
                    "contour": [
                      {
                        "colorbar": {
                          "outlinewidth": 0,
                          "ticks": ""
                        },
                        "colorscale": [
                          [
                            0,
                            "#0d0887"
                          ],
                          [
                            0.1111111111111111,
                            "#46039f"
                          ],
                          [
                            0.2222222222222222,
                            "#7201a8"
                          ],
                          [
                            0.3333333333333333,
                            "#9c179e"
                          ],
                          [
                            0.4444444444444444,
                            "#bd3786"
                          ],
                          [
                            0.5555555555555556,
                            "#d8576b"
                          ],
                          [
                            0.6666666666666666,
                            "#ed7953"
                          ],
                          [
                            0.7777777777777778,
                            "#fb9f3a"
                          ],
                          [
                            0.8888888888888888,
                            "#fdca26"
                          ],
                          [
                            1,
                            "#f0f921"
                          ]
                        ],
                        "type": "contour"
                      }
                    ],
                    "contourcarpet": [
                      {
                        "colorbar": {
                          "outlinewidth": 0,
                          "ticks": ""
                        },
                        "type": "contourcarpet"
                      }
                    ],
                    "heatmap": [
                      {
                        "colorbar": {
                          "outlinewidth": 0,
                          "ticks": ""
                        },
                        "colorscale": [
                          [
                            0,
                            "#0d0887"
                          ],
                          [
                            0.1111111111111111,
                            "#46039f"
                          ],
                          [
                            0.2222222222222222,
                            "#7201a8"
                          ],
                          [
                            0.3333333333333333,
                            "#9c179e"
                          ],
                          [
                            0.4444444444444444,
                            "#bd3786"
                          ],
                          [
                            0.5555555555555556,
                            "#d8576b"
                          ],
                          [
                            0.6666666666666666,
                            "#ed7953"
                          ],
                          [
                            0.7777777777777778,
                            "#fb9f3a"
                          ],
                          [
                            0.8888888888888888,
                            "#fdca26"
                          ],
                          [
                            1,
                            "#f0f921"
                          ]
                        ],
                        "type": "heatmap"
                      }
                    ],
                    "heatmapgl": [
                      {
                        "colorbar": {
                          "outlinewidth": 0,
                          "ticks": ""
                        },
                        "colorscale": [
                          [
                            0,
                            "#0d0887"
                          ],
                          [
                            0.1111111111111111,
                            "#46039f"
                          ],
                          [
                            0.2222222222222222,
                            "#7201a8"
                          ],
                          [
                            0.3333333333333333,
                            "#9c179e"
                          ],
                          [
                            0.4444444444444444,
                            "#bd3786"
                          ],
                          [
                            0.5555555555555556,
                            "#d8576b"
                          ],
                          [
                            0.6666666666666666,
                            "#ed7953"
                          ],
                          [
                            0.7777777777777778,
                            "#fb9f3a"
                          ],
                          [
                            0.8888888888888888,
                            "#fdca26"
                          ],
                          [
                            1,
                            "#f0f921"
                          ]
                        ],
                        "type": "heatmapgl"
                      }
                    ],
                    "histogram": [
                      {
                        "marker": {
                          "colorbar": {
                            "outlinewidth": 0,
                            "ticks": ""
                          }
                        },
                        "type": "histogram"
                      }
                    ],
                    "histogram2d": [
                      {
                        "colorbar": {
                          "outlinewidth": 0,
                          "ticks": ""
                        },
                        "colorscale": [
                          [
                            0,
                            "#0d0887"
                          ],
                          [
                            0.1111111111111111,
                            "#46039f"
                          ],
                          [
                            0.2222222222222222,
                            "#7201a8"
                          ],
                          [
                            0.3333333333333333,
                            "#9c179e"
                          ],
                          [
                            0.4444444444444444,
                            "#bd3786"
                          ],
                          [
                            0.5555555555555556,
                            "#d8576b"
                          ],
                          [
                            0.6666666666666666,
                            "#ed7953"
                          ],
                          [
                            0.7777777777777778,
                            "#fb9f3a"
                          ],
                          [
                            0.8888888888888888,
                            "#fdca26"
                          ],
                          [
                            1,
                            "#f0f921"
                          ]
                        ],
                        "type": "histogram2d"
                      }
                    ],
                    "histogram2dcontour": [
                      {
                        "colorbar": {
                          "outlinewidth": 0,
                          "ticks": ""
                        },
                        "colorscale": [
                          [
                            0,
                            "#0d0887"
                          ],
                          [
                            0.1111111111111111,
                            "#46039f"
                          ],
                          [
                            0.2222222222222222,
                            "#7201a8"
                          ],
                          [
                            0.3333333333333333,
                            "#9c179e"
                          ],
                          [
                            0.4444444444444444,
                            "#bd3786"
                          ],
                          [
                            0.5555555555555556,
                            "#d8576b"
                          ],
                          [
                            0.6666666666666666,
                            "#ed7953"
                          ],
                          [
                            0.7777777777777778,
                            "#fb9f3a"
                          ],
                          [
                            0.8888888888888888,
                            "#fdca26"
                          ],
                          [
                            1,
                            "#f0f921"
                          ]
                        ],
                        "type": "histogram2dcontour"
                      }
                    ],
                    "mesh3d": [
                      {
                        "colorbar": {
                          "outlinewidth": 0,
                          "ticks": ""
                        },
                        "type": "mesh3d"
                      }
                    ],
                    "parcoords": [
                      {
                        "line": {
                          "colorbar": {
                            "outlinewidth": 0,
                            "ticks": ""
                          }
                        },
                        "type": "parcoords"
                      }
                    ],
                    "pie": [
                      {
                        "automargin": true,
                        "type": "pie"
                      }
                    ],
                    "scatter": [
                      {
                        "marker": {
                          "line": {
                            "color": "#283442"
                          }
                        },
                        "type": "scatter"
                      }
                    ],
                    "scatter3d": [
                      {
                        "line": {
                          "colorbar": {
                            "outlinewidth": 0,
                            "ticks": ""
                          }
                        },
                        "marker": {
                          "colorbar": {
                            "outlinewidth": 0,
                            "ticks": ""
                          }
                        },
                        "type": "scatter3d"
                      }
                    ],
                    "scattercarpet": [
                      {
                        "marker": {
                          "colorbar": {
                            "outlinewidth": 0,
                            "ticks": ""
                          }
                        },
                        "type": "scattercarpet"
                      }
                    ],
                    "scattergeo": [
                      {
                        "marker": {
                          "colorbar": {
                            "outlinewidth": 0,
                            "ticks": ""
                          }
                        },
                        "type": "scattergeo"
                      }
                    ],
                    "scattergl": [
                      {
                        "marker": {
                          "line": {
                            "color": "#283442"
                          }
                        },
                        "type": "scattergl"
                      }
                    ],
                    "scattermapbox": [
                      {
                        "marker": {
                          "colorbar": {
                            "outlinewidth": 0,
                            "ticks": ""
                          }
                        },
                        "type": "scattermapbox"
                      }
                    ],
                    "scatterpolar": [
                      {
                        "marker": {
                          "colorbar": {
                            "outlinewidth": 0,
                            "ticks": ""
                          }
                        },
                        "type": "scatterpolar"
                      }
                    ],
                    "scatterpolargl": [
                      {
                        "marker": {
                          "colorbar": {
                            "outlinewidth": 0,
                            "ticks": ""
                          }
                        },
                        "type": "scatterpolargl"
                      }
                    ],
                    "scatterternary": [
                      {
                        "marker": {
                          "colorbar": {
                            "outlinewidth": 0,
                            "ticks": ""
                          }
                        },
                        "type": "scatterternary"
                      }
                    ],
                    "surface": [
                      {
                        "colorbar": {
                          "outlinewidth": 0,
                          "ticks": ""
                        },
                        "colorscale": [
                          [
                            0,
                            "#0d0887"
                          ],
                          [
                            0.1111111111111111,
                            "#46039f"
                          ],
                          [
                            0.2222222222222222,
                            "#7201a8"
                          ],
                          [
                            0.3333333333333333,
                            "#9c179e"
                          ],
                          [
                            0.4444444444444444,
                            "#bd3786"
                          ],
                          [
                            0.5555555555555556,
                            "#d8576b"
                          ],
                          [
                            0.6666666666666666,
                            "#ed7953"
                          ],
                          [
                            0.7777777777777778,
                            "#fb9f3a"
                          ],
                          [
                            0.8888888888888888,
                            "#fdca26"
                          ],
                          [
                            1,
                            "#f0f921"
                          ]
                        ],
                        "type": "surface"
                      }
                    ],
                    "table": [
                      {
                        "cells": {
                          "fill": {
                            "color": "#506784"
                          },
                          "line": {
                            "color": "rgb(17,17,17)"
                          }
                        },
                        "header": {
                          "fill": {
                            "color": "#2a3f5f"
                          },
                          "line": {
                            "color": "rgb(17,17,17)"
                          }
                        },
                        "type": "table"
                      }
                    ]
                  },
                  "layout": {
                    "annotationdefaults": {
                      "arrowcolor": "#f2f5fa",
                      "arrowhead": 0,
                      "arrowwidth": 1
                    },
                    "autotypenumbers": "strict",
                    "coloraxis": {
                      "colorbar": {
                        "outlinewidth": 0,
                        "ticks": ""
                      }
                    },
                    "colorscale": {
                      "diverging": [
                        [
                          0,
                          "#8e0152"
                        ],
                        [
                          0.1,
                          "#c51b7d"
                        ],
                        [
                          0.2,
                          "#de77ae"
                        ],
                        [
                          0.3,
                          "#f1b6da"
                        ],
                        [
                          0.4,
                          "#fde0ef"
                        ],
                        [
                          0.5,
                          "#f7f7f7"
                        ],
                        [
                          0.6,
                          "#e6f5d0"
                        ],
                        [
                          0.7,
                          "#b8e186"
                        ],
                        [
                          0.8,
                          "#7fbc41"
                        ],
                        [
                          0.9,
                          "#4d9221"
                        ],
                        [
                          1,
                          "#276419"
                        ]
                      ],
                      "sequential": [
                        [
                          0,
                          "#0d0887"
                        ],
                        [
                          0.1111111111111111,
                          "#46039f"
                        ],
                        [
                          0.2222222222222222,
                          "#7201a8"
                        ],
                        [
                          0.3333333333333333,
                          "#9c179e"
                        ],
                        [
                          0.4444444444444444,
                          "#bd3786"
                        ],
                        [
                          0.5555555555555556,
                          "#d8576b"
                        ],
                        [
                          0.6666666666666666,
                          "#ed7953"
                        ],
                        [
                          0.7777777777777778,
                          "#fb9f3a"
                        ],
                        [
                          0.8888888888888888,
                          "#fdca26"
                        ],
                        [
                          1,
                          "#f0f921"
                        ]
                      ],
                      "sequentialminus": [
                        [
                          0,
                          "#0d0887"
                        ],
                        [
                          0.1111111111111111,
                          "#46039f"
                        ],
                        [
                          0.2222222222222222,
                          "#7201a8"
                        ],
                        [
                          0.3333333333333333,
                          "#9c179e"
                        ],
                        [
                          0.4444444444444444,
                          "#bd3786"
                        ],
                        [
                          0.5555555555555556,
                          "#d8576b"
                        ],
                        [
                          0.6666666666666666,
                          "#ed7953"
                        ],
                        [
                          0.7777777777777778,
                          "#fb9f3a"
                        ],
                        [
                          0.8888888888888888,
                          "#fdca26"
                        ],
                        [
                          1,
                          "#f0f921"
                        ]
                      ]
                    },
                    "colorway": [
                      "#636efa",
                      "#EF553B",
                      "#00cc96",
                      "#ab63fa",
                      "#FFA15A",
                      "#19d3f3",
                      "#FF6692",
                      "#B6E880",
                      "#FF97FF",
                      "#FECB52"
                    ],
                    "font": {
                      "color": "#f2f5fa"
                    },
                    "geo": {
                      "bgcolor": "rgb(17,17,17)",
                      "lakecolor": "rgb(17,17,17)",
                      "landcolor": "rgb(17,17,17)",
                      "showlakes": true,
                      "showland": true,
                      "subunitcolor": "#506784"
                    },
                    "hoverlabel": {
                      "align": "left"
                    },
                    "hovermode": "closest",
                    "mapbox": {
                      "style": "dark"
                    },
                    "paper_bgcolor": "rgb(17,17,17)",
                    "plot_bgcolor": "rgb(17,17,17)",
                    "polar": {
                      "angularaxis": {
                        "gridcolor": "#506784",
                        "linecolor": "#506784",
                        "ticks": ""
                      },
                      "bgcolor": "rgb(17,17,17)",
                      "radialaxis": {
                        "gridcolor": "#506784",
                        "linecolor": "#506784",
                        "ticks": ""
                      }
                    },
                    "scene": {
                      "xaxis": {
                        "backgroundcolor": "rgb(17,17,17)",
                        "gridcolor": "#506784",
                        "gridwidth": 2,
                        "linecolor": "#506784",
                        "showbackground": true,
                        "ticks": "",
                        "zerolinecolor": "#C8D4E3"
                      },
                      "yaxis": {
                        "backgroundcolor": "rgb(17,17,17)",
                        "gridcolor": "#506784",
                        "gridwidth": 2,
                        "linecolor": "#506784",
                        "showbackground": true,
                        "ticks": "",
                        "zerolinecolor": "#C8D4E3"
                      },
                      "zaxis": {
                        "backgroundcolor": "rgb(17,17,17)",
                        "gridcolor": "#506784",
                        "gridwidth": 2,
                        "linecolor": "#506784",
                        "showbackground": true,
                        "ticks": "",
                        "zerolinecolor": "#C8D4E3"
                      }
                    },
                    "shapedefaults": {
                      "line": {
                        "color": "#f2f5fa"
                      }
                    },
                    "sliderdefaults": {
                      "bgcolor": "#C8D4E3",
                      "bordercolor": "rgb(17,17,17)",
                      "borderwidth": 1,
                      "tickwidth": 0
                    },
                    "ternary": {
                      "aaxis": {
                        "gridcolor": "#506784",
                        "linecolor": "#506784",
                        "ticks": ""
                      },
                      "baxis": {
                        "gridcolor": "#506784",
                        "linecolor": "#506784",
                        "ticks": ""
                      },
                      "bgcolor": "rgb(17,17,17)",
                      "caxis": {
                        "gridcolor": "#506784",
                        "linecolor": "#506784",
                        "ticks": ""
                      }
                    },
                    "title": {
                      "x": 0.05
                    },
                    "updatemenudefaults": {
                      "bgcolor": "#506784",
                      "borderwidth": 0
                    },
                    "xaxis": {
                      "automargin": true,
                      "gridcolor": "#283442",
                      "linecolor": "#506784",
                      "ticks": "",
                      "title": {
                        "standoff": 15
                      },
                      "zerolinecolor": "#283442",
                      "zerolinewidth": 2
                    },
                    "yaxis": {
                      "automargin": true,
                      "gridcolor": "#283442",
                      "linecolor": "#506784",
                      "ticks": "",
                      "title": {
                        "standoff": 15
                      },
                      "zerolinecolor": "#283442",
                      "zerolinewidth": 2
                    }
                  }
                },
                "width": 1080
              }
            },
            "text/html": [
              "<div>                            <div id=\"bbce6e0d-b8bb-4608-9109-6d96891dea2f\" class=\"plotly-graph-div\" style=\"height:1080px; width:1080px;\"></div>            <script type=\"text/javascript\">                require([\"plotly\"], function(Plotly) {                    window.PLOTLYENV=window.PLOTLYENV || {};                                    if (document.getElementById(\"bbce6e0d-b8bb-4608-9109-6d96891dea2f\")) {                    Plotly.newPlot(                        \"bbce6e0d-b8bb-4608-9109-6d96891dea2f\",                        [{\"customdata\": [[6001, \"CA\", 0.19452054794520549], [6003, \"CA\", 0.08085002717238536], [6005, \"CA\", 0.08083503551149673], [6007, \"CA\", 0.12878211494855987], [6009, \"CA\", 0.16850626838820904], [6011, \"CA\", 0.2986413807319679], [6013, \"CA\", 0.21643835616438356], [6015, \"CA\", -0.02461630717913161], [6017, \"CA\", 0.06851938609148661], [6019, \"CA\", 0.012341884826565223], [6021, \"CA\", 0.2972733916758803], [6023, \"CA\", 0.09315068493150686], [6025, \"CA\", -0.006720011993328709], [6027, \"CA\", 0.31235500252984283], [6029, \"CA\", -0.0068099619586604945], [6031, \"CA\", -0.015029140040852276], [6033, \"CA\", 0.26165320540449377], [6035, \"CA\", 0.04527481588366471], [6037, \"CA\", 0.012409347300564061], [6039, \"CA\", 0.11645147386766112], [6041, \"CA\", 0.12876712328767123], [6043, \"CA\", 0.11371174784026385], [6045, \"CA\", 0.09315818076195116], [6047, \"CA\", 0.10549256975807207], [6049, \"CA\", 0.24114086539362478], [6051, \"CA\", 0.25205479452054796], [6053, \"CA\", 0.27945205479452057], [6055, \"CA\", 0.26438918351666885], [6057, \"CA\", 0.06305117778235857], [6059, \"CA\", 0.024728744635796343], [6061, \"CA\", 0.07127035586455034], [6063, \"CA\", 0.1082622791072466], [6065, \"CA\", -0.08481532147742818], [6067, \"CA\", 0.0972733916758803], [6069, \"CA\", 0.010958904109589041], [6071, \"CA\", -0.09164402301219947], [6073, \"CA\", 0.35624308978130914], [6075, \"CA\", 0.049315068493150684], [6077, \"CA\", 0.15754736427862004], [6079, \"CA\", -0.057433052864344206], [6081, \"CA\", 0.17534246575342466], [6083, \"CA\", -0.05195360080954969], [6085, \"CA\", 0.19452054794520549], [6087, \"CA\", 0.17534246575342466], [6089, \"CA\", 0.23154245450967897], [6091, \"CA\", 0.10964151190900062], [6093, \"CA\", 0.124696887356408], [6095, \"CA\", 0.29315068493150687], [6097, \"CA\", 0.08767123287671233], [6099, \"CA\", 0.15754736427862004], [6101, \"CA\", 0.12329891497854317], [6103, \"CA\", 0.283574761538894], [6105, \"CA\", 0.13972602739726028], [6107, \"CA\", 0.015081610853962483], [6109, \"CA\", 0.15754736427862004], [6111, \"CA\", 0.03568764874538538], [6113, \"CA\", 0.13425781908813222], [6115, \"CA\", 0.08494275059498155]], \"geo\": \"geo\", \"hovertemplate\": \"<b>%{hovertext}</b><br><br>size_4=%{marker.size}<br>lat=%{lat}<br>lon=%{lon}<br>fips=%{customdata[0]}<br>State=%{customdata[1]}<br>pct_ch_4=%{marker.color}<extra></extra>\", \"hovertext\": [\"Alameda\", \"Alpine\", \"Amador\", \"Butte\", \"Calaveras\", \"Colusa\", \"Contra Costa\", \"Del Norte\", \"El Dorado\", \"Fresno\", \"Glenn\", \"Humboldt\", \"Imperial\", \"Inyo\", \"Kern\", \"Kings\", \"Lake\", \"Lassen\", \"Los Angeles\", \"Madera\", \"Marin\", \"Mariposa\", \"Mendocino\", \"Merced\", \"Modoc\", \"Mono\", \"Monterey\", \"Napa\", \"Nevada\", \"Orange\", \"Placer\", \"Plumas\", \"Riverside\", \"Sacramento\", \"San Benito\", \"San Bernardino\", \"San Diego\", \"San Francisco\", \"San Joaquin\", \"San Luis Obispo\", \"San Mateo\", \"Santa Barbara\", \"Santa Clara\", \"Santa Cruz\", \"Shasta\", \"Sierra\", \"Siskiyou\", \"Solano\", \"Sonoma\", \"Stanislaus\", \"Sutter\", \"Tehama\", \"Trinity\", \"Tulare\", \"Tuolumne\", \"Ventura\", \"Yolo\", \"Yuba\"], \"lat\": [37.648081, 38.61761, 38.44355, 39.665959, 38.187844, 39.177739, 37.919478999999995, 41.749903, 38.785532, 36.761006, 39.602546000000004, 40.706672999999995, 33.040816, 36.561977, 35.346629, 36.072478000000004, 39.094802, 40.721089, 34.196397999999995, 37.210039, 38.051817, 37.570034, 39.432388, 37.194806, 41.592919, 37.915836, 36.240107, 38.507351, 39.295190999999996, 33.675686999999996, 39.062032, 39.99517, 33.729828000000005, 38.450010999999996, 36.610702, 34.85722, 33.023604, 37.727239000000004, 37.935034, 35.385227, 37.414664, 34.537378000000004, 37.220777000000005, 37.012488, 40.760521999999995, 39.576925, 41.587986, 38.267226, 38.532574, 37.562384, 39.035257, 40.126156, 40.647724, 36.230453000000004, 38.021451, 34.358742, 38.679268, 39.270026], \"legendgroup\": \"\", \"lon\": [-121.91330400000001, -119.798999, -120.653856, -121.601919, -120.55511499999999, -122.237563, -121.95154299999999, -123.980998, -120.534398, -119.655019, -122.4017, -123.92581799999999, -115.355395, -117.403927, -118.729506, -119.81553000000001, -122.746757, -120.629931, -118.26186200000001, -119.749852, -122.745974, -119.91286000000001, -123.442881, -120.722802, -120.71837, -118.87516699999999, -121.315573, -122.32599499999999, -120.77344599999999, -117.777207, -120.722718, -120.829516, -116.00223899999999, -121.340441, -121.085296, -116.181197, -116.776117, -123.032229, -121.27223700000002, -120.44753999999999, -122.37154199999999, -120.03848500000001, -121.69062199999999, -122.007205, -122.04355, -120.521993, -122.53328700000002, -121.939594, -122.945194, -121.002656, -121.702758, -122.232276, -123.11440400000001, -118.780542, -119.964708, -119.13314299999999, -121.903178, -121.34428], \"marker\": {\"color\": [0.19452054794520549, 0.08085002717238536, 0.08083503551149673, 0.12878211494855987, 0.16850626838820904, 0.2986413807319679, 0.21643835616438356, -0.02461630717913161, 0.06851938609148661, 0.012341884826565223, 0.2972733916758803, 0.09315068493150686, -0.006720011993328709, 0.31235500252984283, -0.0068099619586604945, -0.015029140040852276, 0.26165320540449377, 0.04527481588366471, 0.012409347300564061, 0.11645147386766112, 0.12876712328767123, 0.11371174784026385, 0.09315818076195116, 0.10549256975807207, 0.24114086539362478, 0.25205479452054796, 0.27945205479452057, 0.26438918351666885, 0.06305117778235857, 0.024728744635796343, 0.07127035586455034, 0.1082622791072466, -0.08481532147742818, 0.0972733916758803, 0.010958904109589041, -0.09164402301219947, 0.35624308978130914, 0.049315068493150684, 0.15754736427862004, -0.057433052864344206, 0.17534246575342466, -0.05195360080954969, 0.19452054794520549, 0.17534246575342466, 0.23154245450967897, 0.10964151190900062, 0.124696887356408, 0.29315068493150687, 0.08767123287671233, 0.15754736427862004, 0.12329891497854317, 0.283574761538894, 0.13972602739726028, 0.015081610853962483, 0.15754736427862004, 0.03568764874538538, 0.13425781908813222, 0.08494275059498155], \"coloraxis\": \"coloraxis\", \"opacity\": 1, \"size\": [0.19452054794520549, 0.08085002717238536, 0.08083503551149673, 0.12878211494855987, 0.16850626838820904, 0.2986413807319679, 0.21643835616438356, 0.02461630717913161, 0.06851938609148661, 0.012341884826565223, 0.2972733916758803, 0.09315068493150686, 0.006720011993328709, 0.31235500252984283, 0.0068099619586604945, 0.015029140040852276, 0.26165320540449377, 0.04527481588366471, 0.012409347300564061, 0.11645147386766112, 0.12876712328767123, 0.11371174784026385, 0.09315818076195116, 0.10549256975807207, 0.24114086539362478, 0.25205479452054796, 0.27945205479452057, 0.26438918351666885, 0.06305117778235857, 0.024728744635796343, 0.07127035586455034, 0.1082622791072466, 0.08481532147742818, 0.0972733916758803, 0.010958904109589041, 0.09164402301219947, 0.35624308978130914, 0.049315068493150684, 0.15754736427862004, 0.057433052864344206, 0.17534246575342466, 0.05195360080954969, 0.19452054794520549, 0.17534246575342466, 0.23154245450967897, 0.10964151190900062, 0.124696887356408, 0.29315068493150687, 0.08767123287671233, 0.15754736427862004, 0.12329891497854317, 0.283574761538894, 0.13972602739726028, 0.015081610853962483, 0.15754736427862004, 0.03568764874538538, 0.13425781908813222, 0.08494275059498155], \"sizemode\": \"area\", \"sizeref\": 0.0008906077244532728, \"symbol\": \"circle\"}, \"mode\": \"markers\", \"name\": \"\", \"showlegend\": false, \"type\": \"scattergeo\"}],                        {\"coloraxis\": {\"colorbar\": {\"title\": {\"text\": \"pct_ch_4\"}}, \"colorscale\": [[0.0, \"rgb(255,255,204)\"], [0.125, \"rgb(255,237,160)\"], [0.25, \"rgb(254,217,118)\"], [0.375, \"rgb(254,178,76)\"], [0.5, \"rgb(253,141,60)\"], [0.625, \"rgb(252,78,42)\"], [0.75, \"rgb(227,26,28)\"], [0.875, \"rgb(189,0,38)\"], [1.0, \"rgb(128,0,38)\"]]}, \"geo\": {\"center\": {\"lat\": 37.83800610344828, \"lon\": -120.74952093103452}, \"domain\": {\"x\": [0.0, 1.0], \"y\": [0.0, 1.0]}, \"lataxis\": {\"range\": [42.749903, 31.023604]}, \"lonaxis\": {\"range\": [-114.355395, -125.980998]}, \"resolution\": 50, \"scope\": \"usa\", \"showsubunits\": true, \"subunitcolor\": \"white\", \"subunitwidth\": 1.5}, \"height\": 1080, \"legend\": {\"itemsizing\": \"constant\", \"tracegroupgap\": 0}, \"margin\": {\"t\": 60}, \"template\": {\"data\": {\"bar\": [{\"error_x\": {\"color\": \"#f2f5fa\"}, \"error_y\": {\"color\": \"#f2f5fa\"}, \"marker\": {\"line\": {\"color\": \"rgb(17,17,17)\", \"width\": 0.5}}, \"type\": \"bar\"}], \"barpolar\": [{\"marker\": {\"line\": {\"color\": \"rgb(17,17,17)\", \"width\": 0.5}}, \"type\": \"barpolar\"}], \"carpet\": [{\"aaxis\": {\"endlinecolor\": \"#A2B1C6\", \"gridcolor\": \"#506784\", \"linecolor\": \"#506784\", \"minorgridcolor\": \"#506784\", \"startlinecolor\": \"#A2B1C6\"}, \"baxis\": {\"endlinecolor\": \"#A2B1C6\", \"gridcolor\": \"#506784\", \"linecolor\": \"#506784\", \"minorgridcolor\": \"#506784\", \"startlinecolor\": \"#A2B1C6\"}, \"type\": \"carpet\"}], \"choropleth\": [{\"colorbar\": {\"outlinewidth\": 0, \"ticks\": \"\"}, \"type\": \"choropleth\"}], \"contour\": [{\"colorbar\": {\"outlinewidth\": 0, \"ticks\": \"\"}, \"colorscale\": [[0.0, \"#0d0887\"], [0.1111111111111111, \"#46039f\"], [0.2222222222222222, \"#7201a8\"], [0.3333333333333333, \"#9c179e\"], [0.4444444444444444, \"#bd3786\"], [0.5555555555555556, \"#d8576b\"], [0.6666666666666666, \"#ed7953\"], [0.7777777777777778, \"#fb9f3a\"], [0.8888888888888888, \"#fdca26\"], [1.0, \"#f0f921\"]], \"type\": \"contour\"}], \"contourcarpet\": [{\"colorbar\": {\"outlinewidth\": 0, \"ticks\": \"\"}, \"type\": \"contourcarpet\"}], \"heatmap\": [{\"colorbar\": {\"outlinewidth\": 0, \"ticks\": \"\"}, \"colorscale\": [[0.0, \"#0d0887\"], [0.1111111111111111, \"#46039f\"], [0.2222222222222222, \"#7201a8\"], [0.3333333333333333, \"#9c179e\"], [0.4444444444444444, \"#bd3786\"], [0.5555555555555556, \"#d8576b\"], [0.6666666666666666, \"#ed7953\"], [0.7777777777777778, \"#fb9f3a\"], [0.8888888888888888, \"#fdca26\"], [1.0, \"#f0f921\"]], \"type\": \"heatmap\"}], \"heatmapgl\": [{\"colorbar\": {\"outlinewidth\": 0, \"ticks\": \"\"}, \"colorscale\": [[0.0, \"#0d0887\"], [0.1111111111111111, \"#46039f\"], [0.2222222222222222, \"#7201a8\"], [0.3333333333333333, \"#9c179e\"], [0.4444444444444444, \"#bd3786\"], [0.5555555555555556, \"#d8576b\"], [0.6666666666666666, \"#ed7953\"], [0.7777777777777778, \"#fb9f3a\"], [0.8888888888888888, \"#fdca26\"], [1.0, \"#f0f921\"]], \"type\": \"heatmapgl\"}], \"histogram\": [{\"marker\": {\"colorbar\": {\"outlinewidth\": 0, \"ticks\": \"\"}}, \"type\": \"histogram\"}], \"histogram2d\": [{\"colorbar\": {\"outlinewidth\": 0, \"ticks\": \"\"}, \"colorscale\": [[0.0, \"#0d0887\"], [0.1111111111111111, \"#46039f\"], [0.2222222222222222, \"#7201a8\"], [0.3333333333333333, \"#9c179e\"], [0.4444444444444444, \"#bd3786\"], [0.5555555555555556, \"#d8576b\"], [0.6666666666666666, \"#ed7953\"], [0.7777777777777778, \"#fb9f3a\"], [0.8888888888888888, \"#fdca26\"], [1.0, \"#f0f921\"]], \"type\": \"histogram2d\"}], \"histogram2dcontour\": [{\"colorbar\": {\"outlinewidth\": 0, \"ticks\": \"\"}, \"colorscale\": [[0.0, \"#0d0887\"], [0.1111111111111111, \"#46039f\"], [0.2222222222222222, \"#7201a8\"], [0.3333333333333333, \"#9c179e\"], [0.4444444444444444, \"#bd3786\"], [0.5555555555555556, \"#d8576b\"], [0.6666666666666666, \"#ed7953\"], [0.7777777777777778, \"#fb9f3a\"], [0.8888888888888888, \"#fdca26\"], [1.0, \"#f0f921\"]], \"type\": \"histogram2dcontour\"}], \"mesh3d\": [{\"colorbar\": {\"outlinewidth\": 0, \"ticks\": \"\"}, \"type\": \"mesh3d\"}], \"parcoords\": [{\"line\": {\"colorbar\": {\"outlinewidth\": 0, \"ticks\": \"\"}}, \"type\": \"parcoords\"}], \"pie\": [{\"automargin\": true, \"type\": \"pie\"}], \"scatter\": [{\"marker\": {\"line\": {\"color\": \"#283442\"}}, \"type\": \"scatter\"}], \"scatter3d\": [{\"line\": {\"colorbar\": {\"outlinewidth\": 0, \"ticks\": \"\"}}, \"marker\": {\"colorbar\": {\"outlinewidth\": 0, \"ticks\": \"\"}}, \"type\": \"scatter3d\"}], \"scattercarpet\": [{\"marker\": {\"colorbar\": {\"outlinewidth\": 0, \"ticks\": \"\"}}, \"type\": \"scattercarpet\"}], \"scattergeo\": [{\"marker\": {\"colorbar\": {\"outlinewidth\": 0, \"ticks\": \"\"}}, \"type\": \"scattergeo\"}], \"scattergl\": [{\"marker\": {\"line\": {\"color\": \"#283442\"}}, \"type\": \"scattergl\"}], \"scattermapbox\": [{\"marker\": {\"colorbar\": {\"outlinewidth\": 0, \"ticks\": \"\"}}, \"type\": \"scattermapbox\"}], \"scatterpolar\": [{\"marker\": {\"colorbar\": {\"outlinewidth\": 0, \"ticks\": \"\"}}, \"type\": \"scatterpolar\"}], \"scatterpolargl\": [{\"marker\": {\"colorbar\": {\"outlinewidth\": 0, \"ticks\": \"\"}}, \"type\": \"scatterpolargl\"}], \"scatterternary\": [{\"marker\": {\"colorbar\": {\"outlinewidth\": 0, \"ticks\": \"\"}}, \"type\": \"scatterternary\"}], \"surface\": [{\"colorbar\": {\"outlinewidth\": 0, \"ticks\": \"\"}, \"colorscale\": [[0.0, \"#0d0887\"], [0.1111111111111111, \"#46039f\"], [0.2222222222222222, \"#7201a8\"], [0.3333333333333333, \"#9c179e\"], [0.4444444444444444, \"#bd3786\"], [0.5555555555555556, \"#d8576b\"], [0.6666666666666666, \"#ed7953\"], [0.7777777777777778, \"#fb9f3a\"], [0.8888888888888888, \"#fdca26\"], [1.0, \"#f0f921\"]], \"type\": \"surface\"}], \"table\": [{\"cells\": {\"fill\": {\"color\": \"#506784\"}, \"line\": {\"color\": \"rgb(17,17,17)\"}}, \"header\": {\"fill\": {\"color\": \"#2a3f5f\"}, \"line\": {\"color\": \"rgb(17,17,17)\"}}, \"type\": \"table\"}]}, \"layout\": {\"annotationdefaults\": {\"arrowcolor\": \"#f2f5fa\", \"arrowhead\": 0, \"arrowwidth\": 1}, \"autotypenumbers\": \"strict\", \"coloraxis\": {\"colorbar\": {\"outlinewidth\": 0, \"ticks\": \"\"}}, \"colorscale\": {\"diverging\": [[0, \"#8e0152\"], [0.1, \"#c51b7d\"], [0.2, \"#de77ae\"], [0.3, \"#f1b6da\"], [0.4, \"#fde0ef\"], [0.5, \"#f7f7f7\"], [0.6, \"#e6f5d0\"], [0.7, \"#b8e186\"], [0.8, \"#7fbc41\"], [0.9, \"#4d9221\"], [1, \"#276419\"]], \"sequential\": [[0.0, \"#0d0887\"], [0.1111111111111111, \"#46039f\"], [0.2222222222222222, \"#7201a8\"], [0.3333333333333333, \"#9c179e\"], [0.4444444444444444, \"#bd3786\"], [0.5555555555555556, \"#d8576b\"], [0.6666666666666666, \"#ed7953\"], [0.7777777777777778, \"#fb9f3a\"], [0.8888888888888888, \"#fdca26\"], [1.0, \"#f0f921\"]], \"sequentialminus\": [[0.0, \"#0d0887\"], [0.1111111111111111, \"#46039f\"], [0.2222222222222222, \"#7201a8\"], [0.3333333333333333, \"#9c179e\"], [0.4444444444444444, \"#bd3786\"], [0.5555555555555556, \"#d8576b\"], [0.6666666666666666, \"#ed7953\"], [0.7777777777777778, \"#fb9f3a\"], [0.8888888888888888, \"#fdca26\"], [1.0, \"#f0f921\"]]}, \"colorway\": [\"#636efa\", \"#EF553B\", \"#00cc96\", \"#ab63fa\", \"#FFA15A\", \"#19d3f3\", \"#FF6692\", \"#B6E880\", \"#FF97FF\", \"#FECB52\"], \"font\": {\"color\": \"#f2f5fa\"}, \"geo\": {\"bgcolor\": \"rgb(17,17,17)\", \"lakecolor\": \"rgb(17,17,17)\", \"landcolor\": \"rgb(17,17,17)\", \"showlakes\": true, \"showland\": true, \"subunitcolor\": \"#506784\"}, \"hoverlabel\": {\"align\": \"left\"}, \"hovermode\": \"closest\", \"mapbox\": {\"style\": \"dark\"}, \"paper_bgcolor\": \"rgb(17,17,17)\", \"plot_bgcolor\": \"rgb(17,17,17)\", \"polar\": {\"angularaxis\": {\"gridcolor\": \"#506784\", \"linecolor\": \"#506784\", \"ticks\": \"\"}, \"bgcolor\": \"rgb(17,17,17)\", \"radialaxis\": {\"gridcolor\": \"#506784\", \"linecolor\": \"#506784\", \"ticks\": \"\"}}, \"scene\": {\"xaxis\": {\"backgroundcolor\": \"rgb(17,17,17)\", \"gridcolor\": \"#506784\", \"gridwidth\": 2, \"linecolor\": \"#506784\", \"showbackground\": true, \"ticks\": \"\", \"zerolinecolor\": \"#C8D4E3\"}, \"yaxis\": {\"backgroundcolor\": \"rgb(17,17,17)\", \"gridcolor\": \"#506784\", \"gridwidth\": 2, \"linecolor\": \"#506784\", \"showbackground\": true, \"ticks\": \"\", \"zerolinecolor\": \"#C8D4E3\"}, \"zaxis\": {\"backgroundcolor\": \"rgb(17,17,17)\", \"gridcolor\": \"#506784\", \"gridwidth\": 2, \"linecolor\": \"#506784\", \"showbackground\": true, \"ticks\": \"\", \"zerolinecolor\": \"#C8D4E3\"}}, \"shapedefaults\": {\"line\": {\"color\": \"#f2f5fa\"}}, \"sliderdefaults\": {\"bgcolor\": \"#C8D4E3\", \"bordercolor\": \"rgb(17,17,17)\", \"borderwidth\": 1, \"tickwidth\": 0}, \"ternary\": {\"aaxis\": {\"gridcolor\": \"#506784\", \"linecolor\": \"#506784\", \"ticks\": \"\"}, \"baxis\": {\"gridcolor\": \"#506784\", \"linecolor\": \"#506784\", \"ticks\": \"\"}, \"bgcolor\": \"rgb(17,17,17)\", \"caxis\": {\"gridcolor\": \"#506784\", \"linecolor\": \"#506784\", \"ticks\": \"\"}}, \"title\": {\"x\": 0.05}, \"updatemenudefaults\": {\"bgcolor\": \"#506784\", \"borderwidth\": 0}, \"xaxis\": {\"automargin\": true, \"gridcolor\": \"#283442\", \"linecolor\": \"#506784\", \"ticks\": \"\", \"title\": {\"standoff\": 15}, \"zerolinecolor\": \"#283442\", \"zerolinewidth\": 2}, \"yaxis\": {\"automargin\": true, \"gridcolor\": \"#283442\", \"linecolor\": \"#506784\", \"ticks\": \"\", \"title\": {\"standoff\": 15}, \"zerolinecolor\": \"#283442\", \"zerolinewidth\": 2}}}, \"width\": 1080},                        {\"responsive\": true}                    ).then(function(){\n",
              "                            \n",
              "var gd = document.getElementById('bbce6e0d-b8bb-4608-9109-6d96891dea2f');\n",
              "var x = new MutationObserver(function (mutations, observer) {{\n",
              "        var display = window.getComputedStyle(gd).display;\n",
              "        if (!display || display === 'none') {{\n",
              "            console.log([gd, 'removed!']);\n",
              "            Plotly.purge(gd);\n",
              "            observer.disconnect();\n",
              "        }}\n",
              "}});\n",
              "\n",
              "// Listen for the removal of the full notebook cells\n",
              "var notebookContainer = gd.closest('#notebook-container');\n",
              "if (notebookContainer) {{\n",
              "    x.observe(notebookContainer, {childList: true});\n",
              "}}\n",
              "\n",
              "// Listen for the clearing of the current output cell\n",
              "var outputEl = gd.closest('.output');\n",
              "if (outputEl) {{\n",
              "    x.observe(outputEl, {childList: true});\n",
              "}}\n",
              "\n",
              "                        })                };                });            </script>        </div>"
            ]
          },
          "metadata": {},
          "output_type": "display_data"
        }
      ],
      "source": [
        "# plot 4\n",
        "fig4 = px.scatter_geo(final_df_fips, lat = \"lat\" , lon = \"lon\",hover_name='Name',height=1080,width=1080, scope = 'usa',center={'lat':lat1,'lon':lon1},template=\"plotly_dark\",opacity=1,color_continuous_scale = py.express.colors.sequential.YlOrRd,hover_data = ['fips','State','pct_ch_4'],color='pct_ch_4',size='size_4')\n",
        "fig4.update_geos(\n",
        "    resolution=50,\n",
        "#     showland=True, landcolor=\"pink\",\n",
        "    showsubunits=True, subunitcolor=\"white\", subunitwidth =1.5,\n",
        "    lonaxis_range=[lonr1,lonr2],lataxis_range=[latr1,latr2]\n",
        "    )\n",
        "fig4.show()"
      ]
    },
    {
      "cell_type": "code",
      "execution_count": null,
      "metadata": {
        "id": "o_JjihnicRaL",
        "outputId": "6fa18fb4-bc72-42b3-a56a-d51adde5d134"
      },
      "outputs": [
        {
          "data": {
            "application/vnd.plotly.v1+json": {
              "config": {
                "plotlyServerURL": "https://plot.ly"
              },
              "data": [
                {
                  "customdata": [
                    [
                      6001,
                      "CA",
                      0.11506849315068493
                    ],
                    [
                      6003,
                      "CA",
                      0.2328767123287671
                    ],
                    [
                      6005,
                      "CA",
                      0.2410958904109589
                    ],
                    [
                      6007,
                      "CA",
                      0.2219178082191781
                    ],
                    [
                      6009,
                      "CA",
                      0.2465753424657534
                    ],
                    [
                      6011,
                      "CA",
                      0.0547945205479452
                    ],
                    [
                      6013,
                      "CA",
                      0.09315068493150686
                    ],
                    [
                      6015,
                      "CA",
                      0
                    ],
                    [
                      6017,
                      "CA",
                      0.2219178082191781
                    ],
                    [
                      6019,
                      "CA",
                      0.410958904109589
                    ],
                    [
                      6021,
                      "CA",
                      0.0547945205479452
                    ],
                    [
                      6023,
                      "CA",
                      0.0547945205479452
                    ],
                    [
                      6025,
                      "CA",
                      0
                    ],
                    [
                      6027,
                      "CA",
                      0
                    ],
                    [
                      6029,
                      "CA",
                      0.4136986301369863
                    ],
                    [
                      6031,
                      "CA",
                      0.42191780821917807
                    ],
                    [
                      6033,
                      "CA",
                      0.0547945205479452
                    ],
                    [
                      6035,
                      "CA",
                      0.2136986301369863
                    ],
                    [
                      6037,
                      "CA",
                      0.36164383561643837
                    ],
                    [
                      6039,
                      "CA",
                      0.30684931506849317
                    ],
                    [
                      6041,
                      "CA",
                      0
                    ],
                    [
                      6043,
                      "CA",
                      0.30684931506849317
                    ],
                    [
                      6045,
                      "CA",
                      0.0547945205479452
                    ],
                    [
                      6047,
                      "CA",
                      0.3178082191780822
                    ],
                    [
                      6049,
                      "CA",
                      0.038356164383561646
                    ],
                    [
                      6051,
                      "CA",
                      0.17534246575342466
                    ],
                    [
                      6053,
                      "CA",
                      0.14794520547945206
                    ],
                    [
                      6055,
                      "CA",
                      0.0547945205479452
                    ],
                    [
                      6057,
                      "CA",
                      0.2054794520547945
                    ],
                    [
                      6059,
                      "CA",
                      0.3561643835616438
                    ],
                    [
                      6061,
                      "CA",
                      0.2054794520547945
                    ],
                    [
                      6063,
                      "CA",
                      0.18356164383561643
                    ],
                    [
                      6065,
                      "CA",
                      0
                    ],
                    [
                      6067,
                      "CA",
                      0.23013698630136986
                    ],
                    [
                      6069,
                      "CA",
                      0.42191780821917807
                    ],
                    [
                      6071,
                      "CA",
                      0
                    ],
                    [
                      6073,
                      "CA",
                      0
                    ],
                    [
                      6075,
                      "CA",
                      0.09315068493150686
                    ],
                    [
                      6077,
                      "CA",
                      0.26301369863013696
                    ],
                    [
                      6079,
                      "CA",
                      0.4191780821917808
                    ],
                    [
                      6081,
                      "CA",
                      0.11506849315068493
                    ],
                    [
                      6083,
                      "CA",
                      0.4136986301369863
                    ],
                    [
                      6085,
                      "CA",
                      0.11506849315068493
                    ],
                    [
                      6087,
                      "CA",
                      0.11506849315068493
                    ],
                    [
                      6089,
                      "CA",
                      0.0547945205479452
                    ],
                    [
                      6091,
                      "CA",
                      0.16712328767123288
                    ],
                    [
                      6093,
                      "CA",
                      0
                    ],
                    [
                      6095,
                      "CA",
                      0.0547945205479452
                    ],
                    [
                      6097,
                      "CA",
                      0.0547945205479452
                    ],
                    [
                      6099,
                      "CA",
                      0.26301369863013696
                    ],
                    [
                      6101,
                      "CA",
                      0.23013698630136986
                    ],
                    [
                      6103,
                      "CA",
                      0.0547945205479452
                    ],
                    [
                      6105,
                      "CA",
                      0.0547945205479452
                    ],
                    [
                      6107,
                      "CA",
                      0.410958904109589
                    ],
                    [
                      6109,
                      "CA",
                      0.26301369863013696
                    ],
                    [
                      6111,
                      "CA",
                      0.3726027397260274
                    ],
                    [
                      6113,
                      "CA",
                      0.23013698630136986
                    ],
                    [
                      6115,
                      "CA",
                      0.23013698630136986
                    ]
                  ],
                  "geo": "geo",
                  "hovertemplate": "<b>%{hovertext}</b><br><br>size_5=%{marker.size}<br>lat=%{lat}<br>lon=%{lon}<br>fips=%{customdata[0]}<br>State=%{customdata[1]}<br>pct_ch_5=%{marker.color}<extra></extra>",
                  "hovertext": [
                    "Alameda",
                    "Alpine",
                    "Amador",
                    "Butte",
                    "Calaveras",
                    "Colusa",
                    "Contra Costa",
                    "Del Norte",
                    "El Dorado",
                    "Fresno",
                    "Glenn",
                    "Humboldt",
                    "Imperial",
                    "Inyo",
                    "Kern",
                    "Kings",
                    "Lake",
                    "Lassen",
                    "Los Angeles",
                    "Madera",
                    "Marin",
                    "Mariposa",
                    "Mendocino",
                    "Merced",
                    "Modoc",
                    "Mono",
                    "Monterey",
                    "Napa",
                    "Nevada",
                    "Orange",
                    "Placer",
                    "Plumas",
                    "Riverside",
                    "Sacramento",
                    "San Benito",
                    "San Bernardino",
                    "San Diego",
                    "San Francisco",
                    "San Joaquin",
                    "San Luis Obispo",
                    "San Mateo",
                    "Santa Barbara",
                    "Santa Clara",
                    "Santa Cruz",
                    "Shasta",
                    "Sierra",
                    "Siskiyou",
                    "Solano",
                    "Sonoma",
                    "Stanislaus",
                    "Sutter",
                    "Tehama",
                    "Trinity",
                    "Tulare",
                    "Tuolumne",
                    "Ventura",
                    "Yolo",
                    "Yuba"
                  ],
                  "lat": [
                    37.648081,
                    38.61761,
                    38.44355,
                    39.665959,
                    38.187844,
                    39.177739,
                    37.919478999999995,
                    41.749903,
                    38.785532,
                    36.761006,
                    39.602546000000004,
                    40.706672999999995,
                    33.040816,
                    36.561977,
                    35.346629,
                    36.072478000000004,
                    39.094802,
                    40.721089,
                    34.196397999999995,
                    37.210039,
                    38.051817,
                    37.570034,
                    39.432388,
                    37.194806,
                    41.592919,
                    37.915836,
                    36.240107,
                    38.507351,
                    39.295190999999996,
                    33.675686999999996,
                    39.062032,
                    39.99517,
                    33.729828000000005,
                    38.450010999999996,
                    36.610702,
                    34.85722,
                    33.023604,
                    37.727239000000004,
                    37.935034,
                    35.385227,
                    37.414664,
                    34.537378000000004,
                    37.220777000000005,
                    37.012488,
                    40.760521999999995,
                    39.576925,
                    41.587986,
                    38.267226,
                    38.532574,
                    37.562384,
                    39.035257,
                    40.126156,
                    40.647724,
                    36.230453000000004,
                    38.021451,
                    34.358742,
                    38.679268,
                    39.270026
                  ],
                  "legendgroup": "",
                  "lon": [
                    -121.91330400000001,
                    -119.798999,
                    -120.653856,
                    -121.601919,
                    -120.55511499999999,
                    -122.237563,
                    -121.95154299999999,
                    -123.980998,
                    -120.534398,
                    -119.655019,
                    -122.4017,
                    -123.92581799999999,
                    -115.355395,
                    -117.403927,
                    -118.729506,
                    -119.81553000000001,
                    -122.746757,
                    -120.629931,
                    -118.26186200000001,
                    -119.749852,
                    -122.745974,
                    -119.91286000000001,
                    -123.442881,
                    -120.722802,
                    -120.71837,
                    -118.87516699999999,
                    -121.315573,
                    -122.32599499999999,
                    -120.77344599999999,
                    -117.777207,
                    -120.722718,
                    -120.829516,
                    -116.00223899999999,
                    -121.340441,
                    -121.085296,
                    -116.181197,
                    -116.776117,
                    -123.032229,
                    -121.27223700000002,
                    -120.44753999999999,
                    -122.37154199999999,
                    -120.03848500000001,
                    -121.69062199999999,
                    -122.007205,
                    -122.04355,
                    -120.521993,
                    -122.53328700000002,
                    -121.939594,
                    -122.945194,
                    -121.002656,
                    -121.702758,
                    -122.232276,
                    -123.11440400000001,
                    -118.780542,
                    -119.964708,
                    -119.13314299999999,
                    -121.903178,
                    -121.34428
                  ],
                  "marker": {
                    "color": [
                      0.11506849315068493,
                      0.2328767123287671,
                      0.2410958904109589,
                      0.2219178082191781,
                      0.2465753424657534,
                      0.0547945205479452,
                      0.09315068493150686,
                      0,
                      0.2219178082191781,
                      0.410958904109589,
                      0.0547945205479452,
                      0.0547945205479452,
                      0,
                      0,
                      0.4136986301369863,
                      0.42191780821917807,
                      0.0547945205479452,
                      0.2136986301369863,
                      0.36164383561643837,
                      0.30684931506849317,
                      0,
                      0.30684931506849317,
                      0.0547945205479452,
                      0.3178082191780822,
                      0.038356164383561646,
                      0.17534246575342466,
                      0.14794520547945206,
                      0.0547945205479452,
                      0.2054794520547945,
                      0.3561643835616438,
                      0.2054794520547945,
                      0.18356164383561643,
                      0,
                      0.23013698630136986,
                      0.42191780821917807,
                      0,
                      0,
                      0.09315068493150686,
                      0.26301369863013696,
                      0.4191780821917808,
                      0.11506849315068493,
                      0.4136986301369863,
                      0.11506849315068493,
                      0.11506849315068493,
                      0.0547945205479452,
                      0.16712328767123288,
                      0,
                      0.0547945205479452,
                      0.0547945205479452,
                      0.26301369863013696,
                      0.23013698630136986,
                      0.0547945205479452,
                      0.0547945205479452,
                      0.410958904109589,
                      0.26301369863013696,
                      0.3726027397260274,
                      0.23013698630136986,
                      0.23013698630136986
                    ],
                    "coloraxis": "coloraxis",
                    "opacity": 1,
                    "size": [
                      0.11506849315068493,
                      0.2328767123287671,
                      0.2410958904109589,
                      0.2219178082191781,
                      0.2465753424657534,
                      0.0547945205479452,
                      0.09315068493150686,
                      0,
                      0.2219178082191781,
                      0.410958904109589,
                      0.0547945205479452,
                      0.0547945205479452,
                      0,
                      0,
                      0.4136986301369863,
                      0.42191780821917807,
                      0.0547945205479452,
                      0.2136986301369863,
                      0.36164383561643837,
                      0.30684931506849317,
                      0,
                      0.30684931506849317,
                      0.0547945205479452,
                      0.3178082191780822,
                      0.038356164383561646,
                      0.17534246575342466,
                      0.14794520547945206,
                      0.0547945205479452,
                      0.2054794520547945,
                      0.3561643835616438,
                      0.2054794520547945,
                      0.18356164383561643,
                      0,
                      0.23013698630136986,
                      0.42191780821917807,
                      0,
                      0,
                      0.09315068493150686,
                      0.26301369863013696,
                      0.4191780821917808,
                      0.11506849315068493,
                      0.4136986301369863,
                      0.11506849315068493,
                      0.11506849315068493,
                      0.0547945205479452,
                      0.16712328767123288,
                      0,
                      0.0547945205479452,
                      0.0547945205479452,
                      0.26301369863013696,
                      0.23013698630136986,
                      0.0547945205479452,
                      0.0547945205479452,
                      0.410958904109589,
                      0.26301369863013696,
                      0.3726027397260274,
                      0.23013698630136986,
                      0.23013698630136986
                    ],
                    "sizemode": "area",
                    "sizeref": 0.0010547945205479452,
                    "symbol": "circle"
                  },
                  "mode": "markers",
                  "name": "",
                  "showlegend": false,
                  "type": "scattergeo"
                }
              ],
              "layout": {
                "coloraxis": {
                  "colorbar": {
                    "title": {
                      "text": "pct_ch_5"
                    }
                  },
                  "colorscale": [
                    [
                      0,
                      "rgb(255,245,240)"
                    ],
                    [
                      0.125,
                      "rgb(254,224,210)"
                    ],
                    [
                      0.25,
                      "rgb(252,187,161)"
                    ],
                    [
                      0.375,
                      "rgb(252,146,114)"
                    ],
                    [
                      0.5,
                      "rgb(251,106,74)"
                    ],
                    [
                      0.625,
                      "rgb(239,59,44)"
                    ],
                    [
                      0.75,
                      "rgb(203,24,29)"
                    ],
                    [
                      0.875,
                      "rgb(165,15,21)"
                    ],
                    [
                      1,
                      "rgb(103,0,13)"
                    ]
                  ]
                },
                "geo": {
                  "center": {
                    "lat": 37.83800610344828,
                    "lon": -120.74952093103452
                  },
                  "domain": {
                    "x": [
                      0,
                      1
                    ],
                    "y": [
                      0,
                      1
                    ]
                  },
                  "lataxis": {
                    "range": [
                      42.749903,
                      31.023604
                    ]
                  },
                  "lonaxis": {
                    "range": [
                      -114.355395,
                      -125.980998
                    ]
                  },
                  "resolution": 50,
                  "scope": "usa",
                  "showsubunits": true,
                  "subunitcolor": "white",
                  "subunitwidth": 1.5
                },
                "height": 1080,
                "legend": {
                  "itemsizing": "constant",
                  "tracegroupgap": 0
                },
                "margin": {
                  "t": 60
                },
                "template": {
                  "data": {
                    "bar": [
                      {
                        "error_x": {
                          "color": "#f2f5fa"
                        },
                        "error_y": {
                          "color": "#f2f5fa"
                        },
                        "marker": {
                          "line": {
                            "color": "rgb(17,17,17)",
                            "width": 0.5
                          }
                        },
                        "type": "bar"
                      }
                    ],
                    "barpolar": [
                      {
                        "marker": {
                          "line": {
                            "color": "rgb(17,17,17)",
                            "width": 0.5
                          }
                        },
                        "type": "barpolar"
                      }
                    ],
                    "carpet": [
                      {
                        "aaxis": {
                          "endlinecolor": "#A2B1C6",
                          "gridcolor": "#506784",
                          "linecolor": "#506784",
                          "minorgridcolor": "#506784",
                          "startlinecolor": "#A2B1C6"
                        },
                        "baxis": {
                          "endlinecolor": "#A2B1C6",
                          "gridcolor": "#506784",
                          "linecolor": "#506784",
                          "minorgridcolor": "#506784",
                          "startlinecolor": "#A2B1C6"
                        },
                        "type": "carpet"
                      }
                    ],
                    "choropleth": [
                      {
                        "colorbar": {
                          "outlinewidth": 0,
                          "ticks": ""
                        },
                        "type": "choropleth"
                      }
                    ],
                    "contour": [
                      {
                        "colorbar": {
                          "outlinewidth": 0,
                          "ticks": ""
                        },
                        "colorscale": [
                          [
                            0,
                            "#0d0887"
                          ],
                          [
                            0.1111111111111111,
                            "#46039f"
                          ],
                          [
                            0.2222222222222222,
                            "#7201a8"
                          ],
                          [
                            0.3333333333333333,
                            "#9c179e"
                          ],
                          [
                            0.4444444444444444,
                            "#bd3786"
                          ],
                          [
                            0.5555555555555556,
                            "#d8576b"
                          ],
                          [
                            0.6666666666666666,
                            "#ed7953"
                          ],
                          [
                            0.7777777777777778,
                            "#fb9f3a"
                          ],
                          [
                            0.8888888888888888,
                            "#fdca26"
                          ],
                          [
                            1,
                            "#f0f921"
                          ]
                        ],
                        "type": "contour"
                      }
                    ],
                    "contourcarpet": [
                      {
                        "colorbar": {
                          "outlinewidth": 0,
                          "ticks": ""
                        },
                        "type": "contourcarpet"
                      }
                    ],
                    "heatmap": [
                      {
                        "colorbar": {
                          "outlinewidth": 0,
                          "ticks": ""
                        },
                        "colorscale": [
                          [
                            0,
                            "#0d0887"
                          ],
                          [
                            0.1111111111111111,
                            "#46039f"
                          ],
                          [
                            0.2222222222222222,
                            "#7201a8"
                          ],
                          [
                            0.3333333333333333,
                            "#9c179e"
                          ],
                          [
                            0.4444444444444444,
                            "#bd3786"
                          ],
                          [
                            0.5555555555555556,
                            "#d8576b"
                          ],
                          [
                            0.6666666666666666,
                            "#ed7953"
                          ],
                          [
                            0.7777777777777778,
                            "#fb9f3a"
                          ],
                          [
                            0.8888888888888888,
                            "#fdca26"
                          ],
                          [
                            1,
                            "#f0f921"
                          ]
                        ],
                        "type": "heatmap"
                      }
                    ],
                    "heatmapgl": [
                      {
                        "colorbar": {
                          "outlinewidth": 0,
                          "ticks": ""
                        },
                        "colorscale": [
                          [
                            0,
                            "#0d0887"
                          ],
                          [
                            0.1111111111111111,
                            "#46039f"
                          ],
                          [
                            0.2222222222222222,
                            "#7201a8"
                          ],
                          [
                            0.3333333333333333,
                            "#9c179e"
                          ],
                          [
                            0.4444444444444444,
                            "#bd3786"
                          ],
                          [
                            0.5555555555555556,
                            "#d8576b"
                          ],
                          [
                            0.6666666666666666,
                            "#ed7953"
                          ],
                          [
                            0.7777777777777778,
                            "#fb9f3a"
                          ],
                          [
                            0.8888888888888888,
                            "#fdca26"
                          ],
                          [
                            1,
                            "#f0f921"
                          ]
                        ],
                        "type": "heatmapgl"
                      }
                    ],
                    "histogram": [
                      {
                        "marker": {
                          "colorbar": {
                            "outlinewidth": 0,
                            "ticks": ""
                          }
                        },
                        "type": "histogram"
                      }
                    ],
                    "histogram2d": [
                      {
                        "colorbar": {
                          "outlinewidth": 0,
                          "ticks": ""
                        },
                        "colorscale": [
                          [
                            0,
                            "#0d0887"
                          ],
                          [
                            0.1111111111111111,
                            "#46039f"
                          ],
                          [
                            0.2222222222222222,
                            "#7201a8"
                          ],
                          [
                            0.3333333333333333,
                            "#9c179e"
                          ],
                          [
                            0.4444444444444444,
                            "#bd3786"
                          ],
                          [
                            0.5555555555555556,
                            "#d8576b"
                          ],
                          [
                            0.6666666666666666,
                            "#ed7953"
                          ],
                          [
                            0.7777777777777778,
                            "#fb9f3a"
                          ],
                          [
                            0.8888888888888888,
                            "#fdca26"
                          ],
                          [
                            1,
                            "#f0f921"
                          ]
                        ],
                        "type": "histogram2d"
                      }
                    ],
                    "histogram2dcontour": [
                      {
                        "colorbar": {
                          "outlinewidth": 0,
                          "ticks": ""
                        },
                        "colorscale": [
                          [
                            0,
                            "#0d0887"
                          ],
                          [
                            0.1111111111111111,
                            "#46039f"
                          ],
                          [
                            0.2222222222222222,
                            "#7201a8"
                          ],
                          [
                            0.3333333333333333,
                            "#9c179e"
                          ],
                          [
                            0.4444444444444444,
                            "#bd3786"
                          ],
                          [
                            0.5555555555555556,
                            "#d8576b"
                          ],
                          [
                            0.6666666666666666,
                            "#ed7953"
                          ],
                          [
                            0.7777777777777778,
                            "#fb9f3a"
                          ],
                          [
                            0.8888888888888888,
                            "#fdca26"
                          ],
                          [
                            1,
                            "#f0f921"
                          ]
                        ],
                        "type": "histogram2dcontour"
                      }
                    ],
                    "mesh3d": [
                      {
                        "colorbar": {
                          "outlinewidth": 0,
                          "ticks": ""
                        },
                        "type": "mesh3d"
                      }
                    ],
                    "parcoords": [
                      {
                        "line": {
                          "colorbar": {
                            "outlinewidth": 0,
                            "ticks": ""
                          }
                        },
                        "type": "parcoords"
                      }
                    ],
                    "pie": [
                      {
                        "automargin": true,
                        "type": "pie"
                      }
                    ],
                    "scatter": [
                      {
                        "marker": {
                          "line": {
                            "color": "#283442"
                          }
                        },
                        "type": "scatter"
                      }
                    ],
                    "scatter3d": [
                      {
                        "line": {
                          "colorbar": {
                            "outlinewidth": 0,
                            "ticks": ""
                          }
                        },
                        "marker": {
                          "colorbar": {
                            "outlinewidth": 0,
                            "ticks": ""
                          }
                        },
                        "type": "scatter3d"
                      }
                    ],
                    "scattercarpet": [
                      {
                        "marker": {
                          "colorbar": {
                            "outlinewidth": 0,
                            "ticks": ""
                          }
                        },
                        "type": "scattercarpet"
                      }
                    ],
                    "scattergeo": [
                      {
                        "marker": {
                          "colorbar": {
                            "outlinewidth": 0,
                            "ticks": ""
                          }
                        },
                        "type": "scattergeo"
                      }
                    ],
                    "scattergl": [
                      {
                        "marker": {
                          "line": {
                            "color": "#283442"
                          }
                        },
                        "type": "scattergl"
                      }
                    ],
                    "scattermapbox": [
                      {
                        "marker": {
                          "colorbar": {
                            "outlinewidth": 0,
                            "ticks": ""
                          }
                        },
                        "type": "scattermapbox"
                      }
                    ],
                    "scatterpolar": [
                      {
                        "marker": {
                          "colorbar": {
                            "outlinewidth": 0,
                            "ticks": ""
                          }
                        },
                        "type": "scatterpolar"
                      }
                    ],
                    "scatterpolargl": [
                      {
                        "marker": {
                          "colorbar": {
                            "outlinewidth": 0,
                            "ticks": ""
                          }
                        },
                        "type": "scatterpolargl"
                      }
                    ],
                    "scatterternary": [
                      {
                        "marker": {
                          "colorbar": {
                            "outlinewidth": 0,
                            "ticks": ""
                          }
                        },
                        "type": "scatterternary"
                      }
                    ],
                    "surface": [
                      {
                        "colorbar": {
                          "outlinewidth": 0,
                          "ticks": ""
                        },
                        "colorscale": [
                          [
                            0,
                            "#0d0887"
                          ],
                          [
                            0.1111111111111111,
                            "#46039f"
                          ],
                          [
                            0.2222222222222222,
                            "#7201a8"
                          ],
                          [
                            0.3333333333333333,
                            "#9c179e"
                          ],
                          [
                            0.4444444444444444,
                            "#bd3786"
                          ],
                          [
                            0.5555555555555556,
                            "#d8576b"
                          ],
                          [
                            0.6666666666666666,
                            "#ed7953"
                          ],
                          [
                            0.7777777777777778,
                            "#fb9f3a"
                          ],
                          [
                            0.8888888888888888,
                            "#fdca26"
                          ],
                          [
                            1,
                            "#f0f921"
                          ]
                        ],
                        "type": "surface"
                      }
                    ],
                    "table": [
                      {
                        "cells": {
                          "fill": {
                            "color": "#506784"
                          },
                          "line": {
                            "color": "rgb(17,17,17)"
                          }
                        },
                        "header": {
                          "fill": {
                            "color": "#2a3f5f"
                          },
                          "line": {
                            "color": "rgb(17,17,17)"
                          }
                        },
                        "type": "table"
                      }
                    ]
                  },
                  "layout": {
                    "annotationdefaults": {
                      "arrowcolor": "#f2f5fa",
                      "arrowhead": 0,
                      "arrowwidth": 1
                    },
                    "autotypenumbers": "strict",
                    "coloraxis": {
                      "colorbar": {
                        "outlinewidth": 0,
                        "ticks": ""
                      }
                    },
                    "colorscale": {
                      "diverging": [
                        [
                          0,
                          "#8e0152"
                        ],
                        [
                          0.1,
                          "#c51b7d"
                        ],
                        [
                          0.2,
                          "#de77ae"
                        ],
                        [
                          0.3,
                          "#f1b6da"
                        ],
                        [
                          0.4,
                          "#fde0ef"
                        ],
                        [
                          0.5,
                          "#f7f7f7"
                        ],
                        [
                          0.6,
                          "#e6f5d0"
                        ],
                        [
                          0.7,
                          "#b8e186"
                        ],
                        [
                          0.8,
                          "#7fbc41"
                        ],
                        [
                          0.9,
                          "#4d9221"
                        ],
                        [
                          1,
                          "#276419"
                        ]
                      ],
                      "sequential": [
                        [
                          0,
                          "#0d0887"
                        ],
                        [
                          0.1111111111111111,
                          "#46039f"
                        ],
                        [
                          0.2222222222222222,
                          "#7201a8"
                        ],
                        [
                          0.3333333333333333,
                          "#9c179e"
                        ],
                        [
                          0.4444444444444444,
                          "#bd3786"
                        ],
                        [
                          0.5555555555555556,
                          "#d8576b"
                        ],
                        [
                          0.6666666666666666,
                          "#ed7953"
                        ],
                        [
                          0.7777777777777778,
                          "#fb9f3a"
                        ],
                        [
                          0.8888888888888888,
                          "#fdca26"
                        ],
                        [
                          1,
                          "#f0f921"
                        ]
                      ],
                      "sequentialminus": [
                        [
                          0,
                          "#0d0887"
                        ],
                        [
                          0.1111111111111111,
                          "#46039f"
                        ],
                        [
                          0.2222222222222222,
                          "#7201a8"
                        ],
                        [
                          0.3333333333333333,
                          "#9c179e"
                        ],
                        [
                          0.4444444444444444,
                          "#bd3786"
                        ],
                        [
                          0.5555555555555556,
                          "#d8576b"
                        ],
                        [
                          0.6666666666666666,
                          "#ed7953"
                        ],
                        [
                          0.7777777777777778,
                          "#fb9f3a"
                        ],
                        [
                          0.8888888888888888,
                          "#fdca26"
                        ],
                        [
                          1,
                          "#f0f921"
                        ]
                      ]
                    },
                    "colorway": [
                      "#636efa",
                      "#EF553B",
                      "#00cc96",
                      "#ab63fa",
                      "#FFA15A",
                      "#19d3f3",
                      "#FF6692",
                      "#B6E880",
                      "#FF97FF",
                      "#FECB52"
                    ],
                    "font": {
                      "color": "#f2f5fa"
                    },
                    "geo": {
                      "bgcolor": "rgb(17,17,17)",
                      "lakecolor": "rgb(17,17,17)",
                      "landcolor": "rgb(17,17,17)",
                      "showlakes": true,
                      "showland": true,
                      "subunitcolor": "#506784"
                    },
                    "hoverlabel": {
                      "align": "left"
                    },
                    "hovermode": "closest",
                    "mapbox": {
                      "style": "dark"
                    },
                    "paper_bgcolor": "rgb(17,17,17)",
                    "plot_bgcolor": "rgb(17,17,17)",
                    "polar": {
                      "angularaxis": {
                        "gridcolor": "#506784",
                        "linecolor": "#506784",
                        "ticks": ""
                      },
                      "bgcolor": "rgb(17,17,17)",
                      "radialaxis": {
                        "gridcolor": "#506784",
                        "linecolor": "#506784",
                        "ticks": ""
                      }
                    },
                    "scene": {
                      "xaxis": {
                        "backgroundcolor": "rgb(17,17,17)",
                        "gridcolor": "#506784",
                        "gridwidth": 2,
                        "linecolor": "#506784",
                        "showbackground": true,
                        "ticks": "",
                        "zerolinecolor": "#C8D4E3"
                      },
                      "yaxis": {
                        "backgroundcolor": "rgb(17,17,17)",
                        "gridcolor": "#506784",
                        "gridwidth": 2,
                        "linecolor": "#506784",
                        "showbackground": true,
                        "ticks": "",
                        "zerolinecolor": "#C8D4E3"
                      },
                      "zaxis": {
                        "backgroundcolor": "rgb(17,17,17)",
                        "gridcolor": "#506784",
                        "gridwidth": 2,
                        "linecolor": "#506784",
                        "showbackground": true,
                        "ticks": "",
                        "zerolinecolor": "#C8D4E3"
                      }
                    },
                    "shapedefaults": {
                      "line": {
                        "color": "#f2f5fa"
                      }
                    },
                    "sliderdefaults": {
                      "bgcolor": "#C8D4E3",
                      "bordercolor": "rgb(17,17,17)",
                      "borderwidth": 1,
                      "tickwidth": 0
                    },
                    "ternary": {
                      "aaxis": {
                        "gridcolor": "#506784",
                        "linecolor": "#506784",
                        "ticks": ""
                      },
                      "baxis": {
                        "gridcolor": "#506784",
                        "linecolor": "#506784",
                        "ticks": ""
                      },
                      "bgcolor": "rgb(17,17,17)",
                      "caxis": {
                        "gridcolor": "#506784",
                        "linecolor": "#506784",
                        "ticks": ""
                      }
                    },
                    "title": {
                      "x": 0.05
                    },
                    "updatemenudefaults": {
                      "bgcolor": "#506784",
                      "borderwidth": 0
                    },
                    "xaxis": {
                      "automargin": true,
                      "gridcolor": "#283442",
                      "linecolor": "#506784",
                      "ticks": "",
                      "title": {
                        "standoff": 15
                      },
                      "zerolinecolor": "#283442",
                      "zerolinewidth": 2
                    },
                    "yaxis": {
                      "automargin": true,
                      "gridcolor": "#283442",
                      "linecolor": "#506784",
                      "ticks": "",
                      "title": {
                        "standoff": 15
                      },
                      "zerolinecolor": "#283442",
                      "zerolinewidth": 2
                    }
                  }
                },
                "width": 1080
              }
            },
            "text/html": [
              "<div>                            <div id=\"04ac24a7-efd7-45c5-bdc8-0f8d760bfbe3\" class=\"plotly-graph-div\" style=\"height:1080px; width:1080px;\"></div>            <script type=\"text/javascript\">                require([\"plotly\"], function(Plotly) {                    window.PLOTLYENV=window.PLOTLYENV || {};                                    if (document.getElementById(\"04ac24a7-efd7-45c5-bdc8-0f8d760bfbe3\")) {                    Plotly.newPlot(                        \"04ac24a7-efd7-45c5-bdc8-0f8d760bfbe3\",                        [{\"customdata\": [[6001, \"CA\", 0.11506849315068493], [6003, \"CA\", 0.2328767123287671], [6005, \"CA\", 0.2410958904109589], [6007, \"CA\", 0.2219178082191781], [6009, \"CA\", 0.2465753424657534], [6011, \"CA\", 0.0547945205479452], [6013, \"CA\", 0.09315068493150686], [6015, \"CA\", 0.0], [6017, \"CA\", 0.2219178082191781], [6019, \"CA\", 0.410958904109589], [6021, \"CA\", 0.0547945205479452], [6023, \"CA\", 0.0547945205479452], [6025, \"CA\", 0.0], [6027, \"CA\", 0.0], [6029, \"CA\", 0.4136986301369863], [6031, \"CA\", 0.42191780821917807], [6033, \"CA\", 0.0547945205479452], [6035, \"CA\", 0.2136986301369863], [6037, \"CA\", 0.36164383561643837], [6039, \"CA\", 0.30684931506849317], [6041, \"CA\", 0.0], [6043, \"CA\", 0.30684931506849317], [6045, \"CA\", 0.0547945205479452], [6047, \"CA\", 0.3178082191780822], [6049, \"CA\", 0.038356164383561646], [6051, \"CA\", 0.17534246575342466], [6053, \"CA\", 0.14794520547945206], [6055, \"CA\", 0.0547945205479452], [6057, \"CA\", 0.2054794520547945], [6059, \"CA\", 0.3561643835616438], [6061, \"CA\", 0.2054794520547945], [6063, \"CA\", 0.18356164383561643], [6065, \"CA\", 0.0], [6067, \"CA\", 0.23013698630136986], [6069, \"CA\", 0.42191780821917807], [6071, \"CA\", 0.0], [6073, \"CA\", 0.0], [6075, \"CA\", 0.09315068493150686], [6077, \"CA\", 0.26301369863013696], [6079, \"CA\", 0.4191780821917808], [6081, \"CA\", 0.11506849315068493], [6083, \"CA\", 0.4136986301369863], [6085, \"CA\", 0.11506849315068493], [6087, \"CA\", 0.11506849315068493], [6089, \"CA\", 0.0547945205479452], [6091, \"CA\", 0.16712328767123288], [6093, \"CA\", 0.0], [6095, \"CA\", 0.0547945205479452], [6097, \"CA\", 0.0547945205479452], [6099, \"CA\", 0.26301369863013696], [6101, \"CA\", 0.23013698630136986], [6103, \"CA\", 0.0547945205479452], [6105, \"CA\", 0.0547945205479452], [6107, \"CA\", 0.410958904109589], [6109, \"CA\", 0.26301369863013696], [6111, \"CA\", 0.3726027397260274], [6113, \"CA\", 0.23013698630136986], [6115, \"CA\", 0.23013698630136986]], \"geo\": \"geo\", \"hovertemplate\": \"<b>%{hovertext}</b><br><br>size_5=%{marker.size}<br>lat=%{lat}<br>lon=%{lon}<br>fips=%{customdata[0]}<br>State=%{customdata[1]}<br>pct_ch_5=%{marker.color}<extra></extra>\", \"hovertext\": [\"Alameda\", \"Alpine\", \"Amador\", \"Butte\", \"Calaveras\", \"Colusa\", \"Contra Costa\", \"Del Norte\", \"El Dorado\", \"Fresno\", \"Glenn\", \"Humboldt\", \"Imperial\", \"Inyo\", \"Kern\", \"Kings\", \"Lake\", \"Lassen\", \"Los Angeles\", \"Madera\", \"Marin\", \"Mariposa\", \"Mendocino\", \"Merced\", \"Modoc\", \"Mono\", \"Monterey\", \"Napa\", \"Nevada\", \"Orange\", \"Placer\", \"Plumas\", \"Riverside\", \"Sacramento\", \"San Benito\", \"San Bernardino\", \"San Diego\", \"San Francisco\", \"San Joaquin\", \"San Luis Obispo\", \"San Mateo\", \"Santa Barbara\", \"Santa Clara\", \"Santa Cruz\", \"Shasta\", \"Sierra\", \"Siskiyou\", \"Solano\", \"Sonoma\", \"Stanislaus\", \"Sutter\", \"Tehama\", \"Trinity\", \"Tulare\", \"Tuolumne\", \"Ventura\", \"Yolo\", \"Yuba\"], \"lat\": [37.648081, 38.61761, 38.44355, 39.665959, 38.187844, 39.177739, 37.919478999999995, 41.749903, 38.785532, 36.761006, 39.602546000000004, 40.706672999999995, 33.040816, 36.561977, 35.346629, 36.072478000000004, 39.094802, 40.721089, 34.196397999999995, 37.210039, 38.051817, 37.570034, 39.432388, 37.194806, 41.592919, 37.915836, 36.240107, 38.507351, 39.295190999999996, 33.675686999999996, 39.062032, 39.99517, 33.729828000000005, 38.450010999999996, 36.610702, 34.85722, 33.023604, 37.727239000000004, 37.935034, 35.385227, 37.414664, 34.537378000000004, 37.220777000000005, 37.012488, 40.760521999999995, 39.576925, 41.587986, 38.267226, 38.532574, 37.562384, 39.035257, 40.126156, 40.647724, 36.230453000000004, 38.021451, 34.358742, 38.679268, 39.270026], \"legendgroup\": \"\", \"lon\": [-121.91330400000001, -119.798999, -120.653856, -121.601919, -120.55511499999999, -122.237563, -121.95154299999999, -123.980998, -120.534398, -119.655019, -122.4017, -123.92581799999999, -115.355395, -117.403927, -118.729506, -119.81553000000001, -122.746757, -120.629931, -118.26186200000001, -119.749852, -122.745974, -119.91286000000001, -123.442881, -120.722802, -120.71837, -118.87516699999999, -121.315573, -122.32599499999999, -120.77344599999999, -117.777207, -120.722718, -120.829516, -116.00223899999999, -121.340441, -121.085296, -116.181197, -116.776117, -123.032229, -121.27223700000002, -120.44753999999999, -122.37154199999999, -120.03848500000001, -121.69062199999999, -122.007205, -122.04355, -120.521993, -122.53328700000002, -121.939594, -122.945194, -121.002656, -121.702758, -122.232276, -123.11440400000001, -118.780542, -119.964708, -119.13314299999999, -121.903178, -121.34428], \"marker\": {\"color\": [0.11506849315068493, 0.2328767123287671, 0.2410958904109589, 0.2219178082191781, 0.2465753424657534, 0.0547945205479452, 0.09315068493150686, 0.0, 0.2219178082191781, 0.410958904109589, 0.0547945205479452, 0.0547945205479452, 0.0, 0.0, 0.4136986301369863, 0.42191780821917807, 0.0547945205479452, 0.2136986301369863, 0.36164383561643837, 0.30684931506849317, 0.0, 0.30684931506849317, 0.0547945205479452, 0.3178082191780822, 0.038356164383561646, 0.17534246575342466, 0.14794520547945206, 0.0547945205479452, 0.2054794520547945, 0.3561643835616438, 0.2054794520547945, 0.18356164383561643, 0.0, 0.23013698630136986, 0.42191780821917807, 0.0, 0.0, 0.09315068493150686, 0.26301369863013696, 0.4191780821917808, 0.11506849315068493, 0.4136986301369863, 0.11506849315068493, 0.11506849315068493, 0.0547945205479452, 0.16712328767123288, 0.0, 0.0547945205479452, 0.0547945205479452, 0.26301369863013696, 0.23013698630136986, 0.0547945205479452, 0.0547945205479452, 0.410958904109589, 0.26301369863013696, 0.3726027397260274, 0.23013698630136986, 0.23013698630136986], \"coloraxis\": \"coloraxis\", \"opacity\": 1, \"size\": [0.11506849315068493, 0.2328767123287671, 0.2410958904109589, 0.2219178082191781, 0.2465753424657534, 0.0547945205479452, 0.09315068493150686, 0.0, 0.2219178082191781, 0.410958904109589, 0.0547945205479452, 0.0547945205479452, 0.0, 0.0, 0.4136986301369863, 0.42191780821917807, 0.0547945205479452, 0.2136986301369863, 0.36164383561643837, 0.30684931506849317, 0.0, 0.30684931506849317, 0.0547945205479452, 0.3178082191780822, 0.038356164383561646, 0.17534246575342466, 0.14794520547945206, 0.0547945205479452, 0.2054794520547945, 0.3561643835616438, 0.2054794520547945, 0.18356164383561643, 0.0, 0.23013698630136986, 0.42191780821917807, 0.0, 0.0, 0.09315068493150686, 0.26301369863013696, 0.4191780821917808, 0.11506849315068493, 0.4136986301369863, 0.11506849315068493, 0.11506849315068493, 0.0547945205479452, 0.16712328767123288, 0.0, 0.0547945205479452, 0.0547945205479452, 0.26301369863013696, 0.23013698630136986, 0.0547945205479452, 0.0547945205479452, 0.410958904109589, 0.26301369863013696, 0.3726027397260274, 0.23013698630136986, 0.23013698630136986], \"sizemode\": \"area\", \"sizeref\": 0.0010547945205479452, \"symbol\": \"circle\"}, \"mode\": \"markers\", \"name\": \"\", \"showlegend\": false, \"type\": \"scattergeo\"}],                        {\"coloraxis\": {\"colorbar\": {\"title\": {\"text\": \"pct_ch_5\"}}, \"colorscale\": [[0.0, \"rgb(255,245,240)\"], [0.125, \"rgb(254,224,210)\"], [0.25, \"rgb(252,187,161)\"], [0.375, \"rgb(252,146,114)\"], [0.5, \"rgb(251,106,74)\"], [0.625, \"rgb(239,59,44)\"], [0.75, \"rgb(203,24,29)\"], [0.875, \"rgb(165,15,21)\"], [1.0, \"rgb(103,0,13)\"]]}, \"geo\": {\"center\": {\"lat\": 37.83800610344828, \"lon\": -120.74952093103452}, \"domain\": {\"x\": [0.0, 1.0], \"y\": [0.0, 1.0]}, \"lataxis\": {\"range\": [42.749903, 31.023604]}, \"lonaxis\": {\"range\": [-114.355395, -125.980998]}, \"resolution\": 50, \"scope\": \"usa\", \"showsubunits\": true, \"subunitcolor\": \"white\", \"subunitwidth\": 1.5}, \"height\": 1080, \"legend\": {\"itemsizing\": \"constant\", \"tracegroupgap\": 0}, \"margin\": {\"t\": 60}, \"template\": {\"data\": {\"bar\": [{\"error_x\": {\"color\": \"#f2f5fa\"}, \"error_y\": {\"color\": \"#f2f5fa\"}, \"marker\": {\"line\": {\"color\": \"rgb(17,17,17)\", \"width\": 0.5}}, \"type\": \"bar\"}], \"barpolar\": [{\"marker\": {\"line\": {\"color\": \"rgb(17,17,17)\", \"width\": 0.5}}, \"type\": \"barpolar\"}], \"carpet\": [{\"aaxis\": {\"endlinecolor\": \"#A2B1C6\", \"gridcolor\": \"#506784\", \"linecolor\": \"#506784\", \"minorgridcolor\": \"#506784\", \"startlinecolor\": \"#A2B1C6\"}, \"baxis\": {\"endlinecolor\": \"#A2B1C6\", \"gridcolor\": \"#506784\", \"linecolor\": \"#506784\", \"minorgridcolor\": \"#506784\", \"startlinecolor\": \"#A2B1C6\"}, \"type\": \"carpet\"}], \"choropleth\": [{\"colorbar\": {\"outlinewidth\": 0, \"ticks\": \"\"}, \"type\": \"choropleth\"}], \"contour\": [{\"colorbar\": {\"outlinewidth\": 0, \"ticks\": \"\"}, \"colorscale\": [[0.0, \"#0d0887\"], [0.1111111111111111, \"#46039f\"], [0.2222222222222222, \"#7201a8\"], [0.3333333333333333, \"#9c179e\"], [0.4444444444444444, \"#bd3786\"], [0.5555555555555556, \"#d8576b\"], [0.6666666666666666, \"#ed7953\"], [0.7777777777777778, \"#fb9f3a\"], [0.8888888888888888, \"#fdca26\"], [1.0, \"#f0f921\"]], \"type\": \"contour\"}], \"contourcarpet\": [{\"colorbar\": {\"outlinewidth\": 0, \"ticks\": \"\"}, \"type\": \"contourcarpet\"}], \"heatmap\": [{\"colorbar\": {\"outlinewidth\": 0, \"ticks\": \"\"}, \"colorscale\": [[0.0, \"#0d0887\"], [0.1111111111111111, \"#46039f\"], [0.2222222222222222, \"#7201a8\"], [0.3333333333333333, \"#9c179e\"], [0.4444444444444444, \"#bd3786\"], [0.5555555555555556, \"#d8576b\"], [0.6666666666666666, \"#ed7953\"], [0.7777777777777778, \"#fb9f3a\"], [0.8888888888888888, \"#fdca26\"], [1.0, \"#f0f921\"]], \"type\": \"heatmap\"}], \"heatmapgl\": [{\"colorbar\": {\"outlinewidth\": 0, \"ticks\": \"\"}, \"colorscale\": [[0.0, \"#0d0887\"], [0.1111111111111111, \"#46039f\"], [0.2222222222222222, \"#7201a8\"], [0.3333333333333333, \"#9c179e\"], [0.4444444444444444, \"#bd3786\"], [0.5555555555555556, \"#d8576b\"], [0.6666666666666666, \"#ed7953\"], [0.7777777777777778, \"#fb9f3a\"], [0.8888888888888888, \"#fdca26\"], [1.0, \"#f0f921\"]], \"type\": \"heatmapgl\"}], \"histogram\": [{\"marker\": {\"colorbar\": {\"outlinewidth\": 0, \"ticks\": \"\"}}, \"type\": \"histogram\"}], \"histogram2d\": [{\"colorbar\": {\"outlinewidth\": 0, \"ticks\": \"\"}, \"colorscale\": [[0.0, \"#0d0887\"], [0.1111111111111111, \"#46039f\"], [0.2222222222222222, \"#7201a8\"], [0.3333333333333333, \"#9c179e\"], [0.4444444444444444, \"#bd3786\"], [0.5555555555555556, \"#d8576b\"], [0.6666666666666666, \"#ed7953\"], [0.7777777777777778, \"#fb9f3a\"], [0.8888888888888888, \"#fdca26\"], [1.0, \"#f0f921\"]], \"type\": \"histogram2d\"}], \"histogram2dcontour\": [{\"colorbar\": {\"outlinewidth\": 0, \"ticks\": \"\"}, \"colorscale\": [[0.0, \"#0d0887\"], [0.1111111111111111, \"#46039f\"], [0.2222222222222222, \"#7201a8\"], [0.3333333333333333, \"#9c179e\"], [0.4444444444444444, \"#bd3786\"], [0.5555555555555556, \"#d8576b\"], [0.6666666666666666, \"#ed7953\"], [0.7777777777777778, \"#fb9f3a\"], [0.8888888888888888, \"#fdca26\"], [1.0, \"#f0f921\"]], \"type\": \"histogram2dcontour\"}], \"mesh3d\": [{\"colorbar\": {\"outlinewidth\": 0, \"ticks\": \"\"}, \"type\": \"mesh3d\"}], \"parcoords\": [{\"line\": {\"colorbar\": {\"outlinewidth\": 0, \"ticks\": \"\"}}, \"type\": \"parcoords\"}], \"pie\": [{\"automargin\": true, \"type\": \"pie\"}], \"scatter\": [{\"marker\": {\"line\": {\"color\": \"#283442\"}}, \"type\": \"scatter\"}], \"scatter3d\": [{\"line\": {\"colorbar\": {\"outlinewidth\": 0, \"ticks\": \"\"}}, \"marker\": {\"colorbar\": {\"outlinewidth\": 0, \"ticks\": \"\"}}, \"type\": \"scatter3d\"}], \"scattercarpet\": [{\"marker\": {\"colorbar\": {\"outlinewidth\": 0, \"ticks\": \"\"}}, \"type\": \"scattercarpet\"}], \"scattergeo\": [{\"marker\": {\"colorbar\": {\"outlinewidth\": 0, \"ticks\": \"\"}}, \"type\": \"scattergeo\"}], \"scattergl\": [{\"marker\": {\"line\": {\"color\": \"#283442\"}}, \"type\": \"scattergl\"}], \"scattermapbox\": [{\"marker\": {\"colorbar\": {\"outlinewidth\": 0, \"ticks\": \"\"}}, \"type\": \"scattermapbox\"}], \"scatterpolar\": [{\"marker\": {\"colorbar\": {\"outlinewidth\": 0, \"ticks\": \"\"}}, \"type\": \"scatterpolar\"}], \"scatterpolargl\": [{\"marker\": {\"colorbar\": {\"outlinewidth\": 0, \"ticks\": \"\"}}, \"type\": \"scatterpolargl\"}], \"scatterternary\": [{\"marker\": {\"colorbar\": {\"outlinewidth\": 0, \"ticks\": \"\"}}, \"type\": \"scatterternary\"}], \"surface\": [{\"colorbar\": {\"outlinewidth\": 0, \"ticks\": \"\"}, \"colorscale\": [[0.0, \"#0d0887\"], [0.1111111111111111, \"#46039f\"], [0.2222222222222222, \"#7201a8\"], [0.3333333333333333, \"#9c179e\"], [0.4444444444444444, \"#bd3786\"], [0.5555555555555556, \"#d8576b\"], [0.6666666666666666, \"#ed7953\"], [0.7777777777777778, \"#fb9f3a\"], [0.8888888888888888, \"#fdca26\"], [1.0, \"#f0f921\"]], \"type\": \"surface\"}], \"table\": [{\"cells\": {\"fill\": {\"color\": \"#506784\"}, \"line\": {\"color\": \"rgb(17,17,17)\"}}, \"header\": {\"fill\": {\"color\": \"#2a3f5f\"}, \"line\": {\"color\": \"rgb(17,17,17)\"}}, \"type\": \"table\"}]}, \"layout\": {\"annotationdefaults\": {\"arrowcolor\": \"#f2f5fa\", \"arrowhead\": 0, \"arrowwidth\": 1}, \"autotypenumbers\": \"strict\", \"coloraxis\": {\"colorbar\": {\"outlinewidth\": 0, \"ticks\": \"\"}}, \"colorscale\": {\"diverging\": [[0, \"#8e0152\"], [0.1, \"#c51b7d\"], [0.2, \"#de77ae\"], [0.3, \"#f1b6da\"], [0.4, \"#fde0ef\"], [0.5, \"#f7f7f7\"], [0.6, \"#e6f5d0\"], [0.7, \"#b8e186\"], [0.8, \"#7fbc41\"], [0.9, \"#4d9221\"], [1, \"#276419\"]], \"sequential\": [[0.0, \"#0d0887\"], [0.1111111111111111, \"#46039f\"], [0.2222222222222222, \"#7201a8\"], [0.3333333333333333, \"#9c179e\"], [0.4444444444444444, \"#bd3786\"], [0.5555555555555556, \"#d8576b\"], [0.6666666666666666, \"#ed7953\"], [0.7777777777777778, \"#fb9f3a\"], [0.8888888888888888, \"#fdca26\"], [1.0, \"#f0f921\"]], \"sequentialminus\": [[0.0, \"#0d0887\"], [0.1111111111111111, \"#46039f\"], [0.2222222222222222, \"#7201a8\"], [0.3333333333333333, \"#9c179e\"], [0.4444444444444444, \"#bd3786\"], [0.5555555555555556, \"#d8576b\"], [0.6666666666666666, \"#ed7953\"], [0.7777777777777778, \"#fb9f3a\"], [0.8888888888888888, \"#fdca26\"], [1.0, \"#f0f921\"]]}, \"colorway\": [\"#636efa\", \"#EF553B\", \"#00cc96\", \"#ab63fa\", \"#FFA15A\", \"#19d3f3\", \"#FF6692\", \"#B6E880\", \"#FF97FF\", \"#FECB52\"], \"font\": {\"color\": \"#f2f5fa\"}, \"geo\": {\"bgcolor\": \"rgb(17,17,17)\", \"lakecolor\": \"rgb(17,17,17)\", \"landcolor\": \"rgb(17,17,17)\", \"showlakes\": true, \"showland\": true, \"subunitcolor\": \"#506784\"}, \"hoverlabel\": {\"align\": \"left\"}, \"hovermode\": \"closest\", \"mapbox\": {\"style\": \"dark\"}, \"paper_bgcolor\": \"rgb(17,17,17)\", \"plot_bgcolor\": \"rgb(17,17,17)\", \"polar\": {\"angularaxis\": {\"gridcolor\": \"#506784\", \"linecolor\": \"#506784\", \"ticks\": \"\"}, \"bgcolor\": \"rgb(17,17,17)\", \"radialaxis\": {\"gridcolor\": \"#506784\", \"linecolor\": \"#506784\", \"ticks\": \"\"}}, \"scene\": {\"xaxis\": {\"backgroundcolor\": \"rgb(17,17,17)\", \"gridcolor\": \"#506784\", \"gridwidth\": 2, \"linecolor\": \"#506784\", \"showbackground\": true, \"ticks\": \"\", \"zerolinecolor\": \"#C8D4E3\"}, \"yaxis\": {\"backgroundcolor\": \"rgb(17,17,17)\", \"gridcolor\": \"#506784\", \"gridwidth\": 2, \"linecolor\": \"#506784\", \"showbackground\": true, \"ticks\": \"\", \"zerolinecolor\": \"#C8D4E3\"}, \"zaxis\": {\"backgroundcolor\": \"rgb(17,17,17)\", \"gridcolor\": \"#506784\", \"gridwidth\": 2, \"linecolor\": \"#506784\", \"showbackground\": true, \"ticks\": \"\", \"zerolinecolor\": \"#C8D4E3\"}}, \"shapedefaults\": {\"line\": {\"color\": \"#f2f5fa\"}}, \"sliderdefaults\": {\"bgcolor\": \"#C8D4E3\", \"bordercolor\": \"rgb(17,17,17)\", \"borderwidth\": 1, \"tickwidth\": 0}, \"ternary\": {\"aaxis\": {\"gridcolor\": \"#506784\", \"linecolor\": \"#506784\", \"ticks\": \"\"}, \"baxis\": {\"gridcolor\": \"#506784\", \"linecolor\": \"#506784\", \"ticks\": \"\"}, \"bgcolor\": \"rgb(17,17,17)\", \"caxis\": {\"gridcolor\": \"#506784\", \"linecolor\": \"#506784\", \"ticks\": \"\"}}, \"title\": {\"x\": 0.05}, \"updatemenudefaults\": {\"bgcolor\": \"#506784\", \"borderwidth\": 0}, \"xaxis\": {\"automargin\": true, \"gridcolor\": \"#283442\", \"linecolor\": \"#506784\", \"ticks\": \"\", \"title\": {\"standoff\": 15}, \"zerolinecolor\": \"#283442\", \"zerolinewidth\": 2}, \"yaxis\": {\"automargin\": true, \"gridcolor\": \"#283442\", \"linecolor\": \"#506784\", \"ticks\": \"\", \"title\": {\"standoff\": 15}, \"zerolinecolor\": \"#283442\", \"zerolinewidth\": 2}}}, \"width\": 1080},                        {\"responsive\": true}                    ).then(function(){\n",
              "                            \n",
              "var gd = document.getElementById('04ac24a7-efd7-45c5-bdc8-0f8d760bfbe3');\n",
              "var x = new MutationObserver(function (mutations, observer) {{\n",
              "        var display = window.getComputedStyle(gd).display;\n",
              "        if (!display || display === 'none') {{\n",
              "            console.log([gd, 'removed!']);\n",
              "            Plotly.purge(gd);\n",
              "            observer.disconnect();\n",
              "        }}\n",
              "}});\n",
              "\n",
              "// Listen for the removal of the full notebook cells\n",
              "var notebookContainer = gd.closest('#notebook-container');\n",
              "if (notebookContainer) {{\n",
              "    x.observe(notebookContainer, {childList: true});\n",
              "}}\n",
              "\n",
              "// Listen for the clearing of the current output cell\n",
              "var outputEl = gd.closest('.output');\n",
              "if (outputEl) {{\n",
              "    x.observe(outputEl, {childList: true});\n",
              "}}\n",
              "\n",
              "                        })                };                });            </script>        </div>"
            ]
          },
          "metadata": {},
          "output_type": "display_data"
        }
      ],
      "source": [
        "# plot 5\n",
        "fig5 = px.scatter_geo(final_df_fips, lat = \"lat\" , lon = \"lon\",hover_name='Name',height=1080,width=1080, scope = 'usa',center={'lat':lat1,'lon':lon1},opacity=1,template='plotly_dark',color_continuous_scale = py.express.colors.sequential.Reds,hover_data = ['fips','State','pct_ch_5'],color='pct_ch_5',size='size_5')\n",
        "fig5.update_geos(\n",
        "    resolution=50,\n",
        "#     showland=True, landcolor=\"pink\",\n",
        "    showsubunits=True, subunitcolor=\"white\", subunitwidth =1.5,\n",
        "    lonaxis_range=[lonr1,lonr2],lataxis_range=[latr1,latr2]\n",
        "    )\n",
        "fig5.show()"
      ]
    },
    {
      "cell_type": "markdown",
      "metadata": {
        "id": "3F4sYeYfcRaL"
      },
      "source": [
        "https://geoffboeing.com/2014/09/using-geopandas-windows/\n",
        "\n",
        "https://plotly.com/python/county-choropleth/#single-state\n",
        "\n",
        "https://plotly.com/python/bubble-maps/\n",
        "\n",
        "https://plotly.com/python/maps/\n",
        "\n",
        "https://levelup.gitconnected.com/using-python-for-geographical-plotting-d9328fb8cfab\n",
        "\n",
        "https://machinelearningmastery.com/principal-components-analysis-for-dimensionality-reduction-in-python/\n",
        "\n"
      ]
    }
  ],
  "metadata": {
    "kernelspec": {
      "display_name": "Python 3",
      "language": "python",
      "name": "python3"
    },
    "language_info": {
      "codemirror_mode": {
        "name": "ipython",
        "version": 3
      },
      "file_extension": ".py",
      "mimetype": "text/x-python",
      "name": "python",
      "nbconvert_exporter": "python",
      "pygments_lexer": "ipython3",
      "version": "3.8.3"
    },
    "colab": {
      "name": "geo_map.ipynb",
      "provenance": [],
      "include_colab_link": true
    }
  },
  "nbformat": 4,
  "nbformat_minor": 0
}