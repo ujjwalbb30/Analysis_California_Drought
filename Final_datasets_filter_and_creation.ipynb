{
 "cells": [
  {
   "cell_type": "code",
   "execution_count": null,
   "metadata": {},
   "outputs": [],
   "source": [
    "# import pandas\n",
    "import pandas as pd"
   ]
  },
  {
   "cell_type": "code",
   "execution_count": null,
   "metadata": {},
   "outputs": [],
   "source": [
    "# laod 'fips codes and US county' dataset\n",
    "fips = pd.read_excel('drought dataset/fips.xlsx')\n",
    "\n",
    "# view first 5 rows of the dataset\n",
    "fips.head()"
   ]
  },
  {
   "cell_type": "code",
   "execution_count": null,
   "metadata": {},
   "outputs": [],
   "source": [
    "# groupby US state to count the number of counties in each US state\n",
    "fips.groupby('State').agg('count')"
   ]
  },
  {
   "cell_type": "code",
   "execution_count": null,
   "metadata": {},
   "outputs": [],
   "source": [
    "# load validation dataset\n",
    "df_validation = pd.read_csv('drought dataset/validation_timeseries/validation_timeseries.csv')\n",
    "\n",
    "# view first 5 rows of validation dataset\n",
    "df_validation.head()"
   ]
  },
  {
   "cell_type": "code",
   "execution_count": null,
   "metadata": {},
   "outputs": [],
   "source": [
    "# load test dataset\n",
    "df_test = pd.read_csv('drought dataset/test_timeseries/test_timeseries.csv')\n",
    "\n",
    "# view first 5 rows of dataset\n",
    "df_test.head()"
   ]
  },
  {
   "cell_type": "code",
   "execution_count": null,
   "metadata": {},
   "outputs": [],
   "source": [
    "# load train dataset\n",
    "df_train = pd.read_csv('drought dataset/train_timeseries/train_timeseries.csv')\n",
    "\n",
    "# view first 5 rows of train dataset\n",
    "df_train.head()"
   ]
  },
  {
   "cell_type": "code",
   "execution_count": null,
   "metadata": {},
   "outputs": [],
   "source": [
    "# merge train, validation and test datasets to form the full dataset\n",
    "frames = [df_train,df_validation,df_test]\n",
    "full_dataset = pd.concat(frames)\n",
    "\n",
    "# view summary statistics of the newly created full dataset\n",
    "full_dataset.info()"
   ]
  },
  {
   "cell_type": "code",
   "execution_count": null,
   "metadata": {},
   "outputs": [],
   "source": [
    "# sort the dataset according to fips codes and dates\n",
    "full_dataset_sorted = full_dataset.sort_values(by=['fips','date'],ascending=(True,True)).reset_index(drop=True)\n",
    "\n",
    "# verif the sorted dataset, 7671 records for each county should be present\n",
    "print(full_dataset_sorted.head(7672))\n",
    "print(len(full_dataset_sorted[full_dataset_sorted['fips']==1001]))"
   ]
  },
  {
   "cell_type": "code",
   "execution_count": null,
   "metadata": {},
   "outputs": [],
   "source": [
    "# exporting the full drought dataset to a .csv file\n",
    "full_dataset_sorted.to_csv('drought dataset/full_dataset_sorted.csv')"
   ]
  },
  {
   "cell_type": "code",
   "execution_count": null,
   "metadata": {},
   "outputs": [],
   "source": [
    "# retrieve fips code data for California or 'CA' counties for filtering the full drought dataset\n",
    "fips_CA = fips[fips['State']=='CA']\n",
    "print(fips_CA)\n",
    "\n",
    "# view summary statistics\n",
    "print('\\n',fips_CA.info())"
   ]
  },
  {
   "cell_type": "code",
   "execution_count": null,
   "metadata": {},
   "outputs": [],
   "source": [
    "# retrieve data pertaining to California or 'CA' counties from full dataset\n",
    "full_dataset_CA = full_dataset.loc[full_dataset['fips'].isin(fips_CA['FIPS'])]\n",
    "\n",
    "# view the first 5 rows of new dataset containing data pertaining to CA counties\n",
    "print(full_dataset_CA.head())\n",
    "\n",
    "# view summary statistics of new dataset containing data pertaining to CA counties\n",
    "print(full_dataset_CA.info())"
   ]
  },
  {
   "cell_type": "code",
   "execution_count": null,
   "metadata": {},
   "outputs": [],
   "source": [
    "full_dataset_CA.describe()"
   ]
  },
  {
   "cell_type": "code",
   "execution_count": null,
   "metadata": {},
   "outputs": [],
   "source": [
    "# sorting newly created CA counties drought dataset\n",
    "full_dataset_CA_sorted = full_dataset_CA.sort_values(by=['fips','date'],ascending=(True,True)).reset_index(drop=True)\n",
    "\n",
    "# verify the sorting, each county should have 7671 rows of data\n",
    "print(full_dataset_CA_sorted.head(7672))\n",
    "print('\\n',len(full_dataset_CA_sorted[full_dataset_CA_sorted['fips']==6001]))"
   ]
  },
  {
   "cell_type": "code",
   "execution_count": null,
   "metadata": {},
   "outputs": [],
   "source": [
    "# exporting the final CA counties drought dataset to a .csv file\n",
    "full_dataset_CA_sorted.to_csv('drought dataset/full_dataset_CA_sorted.csv')"
   ]
  },
  {
   "cell_type": "code",
   "execution_count": null,
   "metadata": {},
   "outputs": [],
   "source": [
    "# importing California drought dataset\n",
    "cal_drought_data = pd.read_csv('drought dataset/full_dataset_CA_sorted.csv')\n",
    "\n",
    "# drop the unnecessary column\n",
    "cal_drought_data = cal_drought_data.drop(columns=['Unnamed: 0'])\n",
    "\n",
    "# view first 5 and last 5 rows of the dataset\n",
    "print(cal_drought_data.head())\n",
    "print(cal_drought_data.tail())"
   ]
  },
  {
   "cell_type": "code",
   "execution_count": null,
   "metadata": {},
   "outputs": [],
   "source": [
    "# import datetime\n",
    "import datetime"
   ]
  },
  {
   "cell_type": "code",
   "execution_count": null,
   "metadata": {},
   "outputs": [],
   "source": [
    "# convert the 'date' column to 'datetime' type\n",
    "cal_drought_data['date'] = pd.to_datetime(cal_drought_data['date'])"
   ]
  },
  {
   "cell_type": "code",
   "execution_count": null,
   "metadata": {},
   "outputs": [],
   "source": [
    "# get the list of all unique fips codes from california drought dataset\n",
    "fips_code = list(cal_drought_data.fips.unique())\n",
    "\n",
    "# view all the fips codes associated with california\n",
    "print(fips_code)\n",
    "\n",
    "# check the total number of california counties, should be 58\n",
    "print(len(fips_code))"
   ]
  },
  {
   "cell_type": "code",
   "execution_count": null,
   "metadata": {},
   "outputs": [],
   "source": [
    "# Analyze the index values of rows with drought intensity value present\n",
    "y = cal_drought_data[cal_drought_data.score.notnull()].score\n",
    "print(y)\n",
    "\n",
    "# get the list of all those indexes\n",
    "l = list(y.index)\n",
    "print(l)"
   ]
  },
  {
   "cell_type": "code",
   "execution_count": null,
   "metadata": {},
   "outputs": [],
   "source": [
    "# get total number of row entries for each county, with drought intensity value present\n",
    "r = round(len(cal_drought_data[cal_drought_data['fips']==6001])/7)\n",
    "print(r)"
   ]
  },
  {
   "cell_type": "code",
   "execution_count": null,
   "metadata": {},
   "outputs": [],
   "source": [
    "# aggregate the last 90 days of readings for each drought reading\n",
    "# define an empty dataframe\n",
    "df3 = pd.DataFrame([])\n",
    "\n",
    "# run a loop using fips codes\n",
    "for fips in fips_code:\n",
    "    df1 = cal_drought_data[cal_drought_data['fips']==fips].reset_index(drop=True)\n",
    "    df2 = df1.drop(columns = ['date','score'])\n",
    "    for i in range(r):\n",
    "        if ((7*(i+1))+3-90)<0:\n",
    "            agg_data = pd.DataFrame(df2[0:((7*(i+1))+3)].agg(\"mean\",axis=\"rows\"))\n",
    "            df3 = df3.append(agg_data.transpose())\n",
    "        else:\n",
    "            agg_data = pd.DataFrame(df2[((7*(i+1))+3-90):((7*(i+1)+3))].agg(\"mean\",axis=\"rows\"))\n",
    "            df3 = df3.append(agg_data.transpose())"
   ]
  },
  {
   "cell_type": "code",
   "execution_count": null,
   "metadata": {},
   "outputs": [],
   "source": [
    "# view the new 90 days aggregated dataframe\n",
    "print(df3)\n",
    "\n",
    "# view the total number of entries in new dataset\n",
    "print(len(df3))"
   ]
  },
  {
   "cell_type": "code",
   "execution_count": null,
   "metadata": {},
   "outputs": [],
   "source": [
    "# add the drought intensity score column to the 90 days aggregated dataframe\n",
    "df_score = list(y)\n",
    "df3['score'] = df_score\n",
    "\n",
    "# drop unnecessary columns\n",
    "df4 = df3.drop(columns=['Unnamed: 0'])\n",
    "print(df4)"
   ]
  },
  {
   "cell_type": "code",
   "execution_count": null,
   "metadata": {},
   "outputs": [],
   "source": [
    "# export the 90 days aggregated data\n",
    "df4.to_csv('drought dataset/ninety_days_aggregated_data_ca_drought.csv')"
   ]
  },
  {
   "cell_type": "code",
   "execution_count": null,
   "metadata": {},
   "outputs": [],
   "source": [
    "# retrieve data for finding correlations\n",
    "# drop the 'fips' column\n",
    "data = df4.drop(columns=['fips'])\n",
    "\n",
    "# find the correlation matrix\n",
    "data_corr = data.corr()\n",
    "print(data_corr)"
   ]
  },
  {
   "cell_type": "code",
   "execution_count": null,
   "metadata": {},
   "outputs": [],
   "source": [
    "# plot the correlation matrix heatmap\n",
    "ax = sns.heatmap(data_corr,vmin=-1,vmax=1,center=0,cmap=sns.diverging_palette(20,220,n=200),square=True)"
   ]
  }
 ],
 "metadata": {
  "kernelspec": {
   "display_name": "Python 3",
   "language": "python",
   "name": "python3"
  },
  "language_info": {
   "codemirror_mode": {
    "name": "ipython",
    "version": 3
   },
   "file_extension": ".py",
   "mimetype": "text/x-python",
   "name": "python",
   "nbconvert_exporter": "python",
   "pygments_lexer": "ipython3",
   "version": "3.8.3"
  }
 },
 "nbformat": 4,
 "nbformat_minor": 4
}
